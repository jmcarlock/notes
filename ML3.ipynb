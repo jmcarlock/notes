{
 "cells": [
  {
   "cell_type": "markdown",
   "metadata": {
    "slideshow": {
     "slide_type": "slide"
    }
   },
   "source": [
    "# Chapter 3 Slides\n",
    "## Ethem Alpaydin - Introduction to Machine Learning\n",
    "\n",
    "Open source notebooks/slides for Ethem Alpaydin's Introduction to Machine Learning with examples in Python 3.6."
   ]
  },
  {
   "cell_type": "code",
   "execution_count": 1,
   "metadata": {
    "slideshow": {
     "slide_type": "skip"
    }
   },
   "outputs": [],
   "source": [
    "import numpy as np\n",
    "from support import basic_plot, np_map\n",
    "\n",
    "from bokeh.plotting import Figure, output_notebook, show\n",
    "from bokeh.models import Range1d, FixedTicker\n",
    "from bokeh.layouts import gridplot\n",
    "# from bokeh.palettes import Colorblind3 as colors\n",
    "colors = ['#f55385', '#519aba', '#8dc149']\n",
    "\n",
    "from scipy.stats import norm"
   ]
  },
  {
   "cell_type": "code",
   "execution_count": 2,
   "metadata": {
    "slideshow": {
     "slide_type": "subslide"
    }
   },
   "outputs": [
    {
     "data": {
      "text/html": [
       "\n",
       "    <div class=\"bk-root\">\n",
       "        <a href=\"https://bokeh.pydata.org\" target=\"_blank\" class=\"bk-logo bk-logo-small bk-logo-notebook\"></a>\n",
       "        <span id=\"c2bfb3d3-a1ce-4c73-bebb-97c162feceaf\">Loading BokehJS ...</span>\n",
       "    </div>"
      ]
     },
     "metadata": {},
     "output_type": "display_data"
    },
    {
     "data": {
      "application/javascript": [
       "\n",
       "(function(root) {\n",
       "  function now() {\n",
       "    return new Date();\n",
       "  }\n",
       "\n",
       "  var force = true;\n",
       "\n",
       "  if (typeof (root._bokeh_onload_callbacks) === \"undefined\" || force === true) {\n",
       "    root._bokeh_onload_callbacks = [];\n",
       "    root._bokeh_is_loading = undefined;\n",
       "  }\n",
       "\n",
       "  var JS_MIME_TYPE = 'application/javascript';\n",
       "  var HTML_MIME_TYPE = 'text/html';\n",
       "  var EXEC_MIME_TYPE = 'application/vnd.bokehjs_exec.v0+json';\n",
       "  var CLASS_NAME = 'output_bokeh rendered_html';\n",
       "\n",
       "  /**\n",
       "   * Render data to the DOM node\n",
       "   */\n",
       "  function render(props, node) {\n",
       "    var script = document.createElement(\"script\");\n",
       "    node.appendChild(script);\n",
       "  }\n",
       "\n",
       "  /**\n",
       "   * Handle when an output is cleared or removed\n",
       "   */\n",
       "  function handleClearOutput(event, handle) {\n",
       "    var cell = handle.cell;\n",
       "\n",
       "    var id = cell.output_area._bokeh_element_id;\n",
       "    var server_id = cell.output_area._bokeh_server_id;\n",
       "    // Clean up Bokeh references\n",
       "    if (id !== undefined) {\n",
       "      Bokeh.index[id].model.document.clear();\n",
       "      delete Bokeh.index[id];\n",
       "    }\n",
       "\n",
       "    if (server_id !== undefined) {\n",
       "      // Clean up Bokeh references\n",
       "      var cmd = \"from bokeh.io.state import curstate; print(curstate().uuid_to_server['\" + server_id + \"'].get_sessions()[0].document.roots[0]._id)\";\n",
       "      cell.notebook.kernel.execute(cmd, {\n",
       "        iopub: {\n",
       "          output: function(msg) {\n",
       "            var element_id = msg.content.text.trim();\n",
       "            Bokeh.index[element_id].model.document.clear();\n",
       "            delete Bokeh.index[element_id];\n",
       "          }\n",
       "        }\n",
       "      });\n",
       "      // Destroy server and session\n",
       "      var cmd = \"import bokeh.io.notebook as ion; ion.destroy_server('\" + server_id + \"')\";\n",
       "      cell.notebook.kernel.execute(cmd);\n",
       "    }\n",
       "  }\n",
       "\n",
       "  /**\n",
       "   * Handle when a new output is added\n",
       "   */\n",
       "  function handleAddOutput(event, handle) {\n",
       "    var output_area = handle.output_area;\n",
       "    var output = handle.output;\n",
       "\n",
       "    // limit handleAddOutput to display_data with EXEC_MIME_TYPE content only\n",
       "    if ((output.output_type != \"display_data\") || (!output.data.hasOwnProperty(EXEC_MIME_TYPE))) {\n",
       "      return\n",
       "    }\n",
       "\n",
       "    var toinsert = output_area.element.find(\".\" + CLASS_NAME.split(' ')[0]);\n",
       "\n",
       "    if (output.metadata[EXEC_MIME_TYPE][\"id\"] !== undefined) {\n",
       "      toinsert[0].firstChild.textContent = output.data[JS_MIME_TYPE];\n",
       "      // store reference to embed id on output_area\n",
       "      output_area._bokeh_element_id = output.metadata[EXEC_MIME_TYPE][\"id\"];\n",
       "    }\n",
       "    if (output.metadata[EXEC_MIME_TYPE][\"server_id\"] !== undefined) {\n",
       "      var bk_div = document.createElement(\"div\");\n",
       "      bk_div.innerHTML = output.data[HTML_MIME_TYPE];\n",
       "      var script_attrs = bk_div.children[0].attributes;\n",
       "      for (var i = 0; i < script_attrs.length; i++) {\n",
       "        toinsert[0].firstChild.setAttribute(script_attrs[i].name, script_attrs[i].value);\n",
       "      }\n",
       "      // store reference to server id on output_area\n",
       "      output_area._bokeh_server_id = output.metadata[EXEC_MIME_TYPE][\"server_id\"];\n",
       "    }\n",
       "  }\n",
       "\n",
       "  function register_renderer(events, OutputArea) {\n",
       "\n",
       "    function append_mime(data, metadata, element) {\n",
       "      // create a DOM node to render to\n",
       "      var toinsert = this.create_output_subarea(\n",
       "        metadata,\n",
       "        CLASS_NAME,\n",
       "        EXEC_MIME_TYPE\n",
       "      );\n",
       "      this.keyboard_manager.register_events(toinsert);\n",
       "      // Render to node\n",
       "      var props = {data: data, metadata: metadata[EXEC_MIME_TYPE]};\n",
       "      render(props, toinsert[0]);\n",
       "      element.append(toinsert);\n",
       "      return toinsert\n",
       "    }\n",
       "\n",
       "    /* Handle when an output is cleared or removed */\n",
       "    events.on('clear_output.CodeCell', handleClearOutput);\n",
       "    events.on('delete.Cell', handleClearOutput);\n",
       "\n",
       "    /* Handle when a new output is added */\n",
       "    events.on('output_added.OutputArea', handleAddOutput);\n",
       "\n",
       "    /**\n",
       "     * Register the mime type and append_mime function with output_area\n",
       "     */\n",
       "    OutputArea.prototype.register_mime_type(EXEC_MIME_TYPE, append_mime, {\n",
       "      /* Is output safe? */\n",
       "      safe: true,\n",
       "      /* Index of renderer in `output_area.display_order` */\n",
       "      index: 0\n",
       "    });\n",
       "  }\n",
       "\n",
       "  // register the mime type if in Jupyter Notebook environment and previously unregistered\n",
       "  if (root.Jupyter !== undefined) {\n",
       "    var events = require('base/js/events');\n",
       "    var OutputArea = require('notebook/js/outputarea').OutputArea;\n",
       "\n",
       "    if (OutputArea.prototype.mime_types().indexOf(EXEC_MIME_TYPE) == -1) {\n",
       "      register_renderer(events, OutputArea);\n",
       "    }\n",
       "  }\n",
       "\n",
       "  \n",
       "  if (typeof (root._bokeh_timeout) === \"undefined\" || force === true) {\n",
       "    root._bokeh_timeout = Date.now() + 5000;\n",
       "    root._bokeh_failed_load = false;\n",
       "  }\n",
       "\n",
       "  var NB_LOAD_WARNING = {'data': {'text/html':\n",
       "     \"<div style='background-color: #fdd'>\\n\"+\n",
       "     \"<p>\\n\"+\n",
       "     \"BokehJS does not appear to have successfully loaded. If loading BokehJS from CDN, this \\n\"+\n",
       "     \"may be due to a slow or bad network connection. Possible fixes:\\n\"+\n",
       "     \"</p>\\n\"+\n",
       "     \"<ul>\\n\"+\n",
       "     \"<li>re-rerun `output_notebook()` to attempt to load from CDN again, or</li>\\n\"+\n",
       "     \"<li>use INLINE resources instead, as so:</li>\\n\"+\n",
       "     \"</ul>\\n\"+\n",
       "     \"<code>\\n\"+\n",
       "     \"from bokeh.resources import INLINE\\n\"+\n",
       "     \"output_notebook(resources=INLINE)\\n\"+\n",
       "     \"</code>\\n\"+\n",
       "     \"</div>\"}};\n",
       "\n",
       "  function display_loaded() {\n",
       "    var el = document.getElementById(\"c2bfb3d3-a1ce-4c73-bebb-97c162feceaf\");\n",
       "    if (el != null) {\n",
       "      el.textContent = \"BokehJS is loading...\";\n",
       "    }\n",
       "    if (root.Bokeh !== undefined) {\n",
       "      if (el != null) {\n",
       "        el.textContent = \"BokehJS \" + root.Bokeh.version + \" successfully loaded.\";\n",
       "      }\n",
       "    } else if (Date.now() < root._bokeh_timeout) {\n",
       "      setTimeout(display_loaded, 100)\n",
       "    }\n",
       "  }\n",
       "\n",
       "\n",
       "  function run_callbacks() {\n",
       "    try {\n",
       "      root._bokeh_onload_callbacks.forEach(function(callback) { callback() });\n",
       "    }\n",
       "    finally {\n",
       "      delete root._bokeh_onload_callbacks\n",
       "    }\n",
       "    console.info(\"Bokeh: all callbacks have finished\");\n",
       "  }\n",
       "\n",
       "  function load_libs(js_urls, callback) {\n",
       "    root._bokeh_onload_callbacks.push(callback);\n",
       "    if (root._bokeh_is_loading > 0) {\n",
       "      console.log(\"Bokeh: BokehJS is being loaded, scheduling callback at\", now());\n",
       "      return null;\n",
       "    }\n",
       "    if (js_urls == null || js_urls.length === 0) {\n",
       "      run_callbacks();\n",
       "      return null;\n",
       "    }\n",
       "    console.log(\"Bokeh: BokehJS not loaded, scheduling load and callback at\", now());\n",
       "    root._bokeh_is_loading = js_urls.length;\n",
       "    for (var i = 0; i < js_urls.length; i++) {\n",
       "      var url = js_urls[i];\n",
       "      var s = document.createElement('script');\n",
       "      s.src = url;\n",
       "      s.async = false;\n",
       "      s.onreadystatechange = s.onload = function() {\n",
       "        root._bokeh_is_loading--;\n",
       "        if (root._bokeh_is_loading === 0) {\n",
       "          console.log(\"Bokeh: all BokehJS libraries loaded\");\n",
       "          run_callbacks()\n",
       "        }\n",
       "      };\n",
       "      s.onerror = function() {\n",
       "        console.warn(\"failed to load library \" + url);\n",
       "      };\n",
       "      console.log(\"Bokeh: injecting script tag for BokehJS library: \", url);\n",
       "      document.getElementsByTagName(\"head\")[0].appendChild(s);\n",
       "    }\n",
       "  };var element = document.getElementById(\"c2bfb3d3-a1ce-4c73-bebb-97c162feceaf\");\n",
       "  if (element == null) {\n",
       "    console.log(\"Bokeh: ERROR: autoload.js configured with elementid 'c2bfb3d3-a1ce-4c73-bebb-97c162feceaf' but no matching script tag was found. \")\n",
       "    return false;\n",
       "  }\n",
       "\n",
       "  var js_urls = [\"https://cdn.pydata.org/bokeh/release/bokeh-0.12.13.min.js\", \"https://cdn.pydata.org/bokeh/release/bokeh-widgets-0.12.13.min.js\", \"https://cdn.pydata.org/bokeh/release/bokeh-tables-0.12.13.min.js\", \"https://cdn.pydata.org/bokeh/release/bokeh-gl-0.12.13.min.js\"];\n",
       "\n",
       "  var inline_js = [\n",
       "    function(Bokeh) {\n",
       "      Bokeh.set_log_level(\"info\");\n",
       "    },\n",
       "    \n",
       "    function(Bokeh) {\n",
       "      \n",
       "    },\n",
       "    function(Bokeh) {\n",
       "      console.log(\"Bokeh: injecting CSS: https://cdn.pydata.org/bokeh/release/bokeh-0.12.13.min.css\");\n",
       "      Bokeh.embed.inject_css(\"https://cdn.pydata.org/bokeh/release/bokeh-0.12.13.min.css\");\n",
       "      console.log(\"Bokeh: injecting CSS: https://cdn.pydata.org/bokeh/release/bokeh-widgets-0.12.13.min.css\");\n",
       "      Bokeh.embed.inject_css(\"https://cdn.pydata.org/bokeh/release/bokeh-widgets-0.12.13.min.css\");\n",
       "      console.log(\"Bokeh: injecting CSS: https://cdn.pydata.org/bokeh/release/bokeh-tables-0.12.13.min.css\");\n",
       "      Bokeh.embed.inject_css(\"https://cdn.pydata.org/bokeh/release/bokeh-tables-0.12.13.min.css\");\n",
       "    }\n",
       "  ];\n",
       "\n",
       "  function run_inline_js() {\n",
       "    \n",
       "    if ((root.Bokeh !== undefined) || (force === true)) {\n",
       "      for (var i = 0; i < inline_js.length; i++) {\n",
       "        inline_js[i].call(root, root.Bokeh);\n",
       "      }if (force === true) {\n",
       "        display_loaded();\n",
       "      }} else if (Date.now() < root._bokeh_timeout) {\n",
       "      setTimeout(run_inline_js, 100);\n",
       "    } else if (!root._bokeh_failed_load) {\n",
       "      console.log(\"Bokeh: BokehJS failed to load within specified timeout.\");\n",
       "      root._bokeh_failed_load = true;\n",
       "    } else if (force !== true) {\n",
       "      var cell = $(document.getElementById(\"c2bfb3d3-a1ce-4c73-bebb-97c162feceaf\")).parents('.cell').data().cell;\n",
       "      cell.output_area.append_execute_result(NB_LOAD_WARNING)\n",
       "    }\n",
       "\n",
       "  }\n",
       "\n",
       "  if (root._bokeh_is_loading === 0) {\n",
       "    console.log(\"Bokeh: BokehJS loaded, going straight to plotting\");\n",
       "    run_inline_js();\n",
       "  } else {\n",
       "    load_libs(js_urls, function() {\n",
       "      console.log(\"Bokeh: BokehJS plotting callback run at\", now());\n",
       "      run_inline_js();\n",
       "    });\n",
       "  }\n",
       "}(window));"
      ],
      "application/vnd.bokehjs_load.v0+json": "\n(function(root) {\n  function now() {\n    return new Date();\n  }\n\n  var force = true;\n\n  if (typeof (root._bokeh_onload_callbacks) === \"undefined\" || force === true) {\n    root._bokeh_onload_callbacks = [];\n    root._bokeh_is_loading = undefined;\n  }\n\n  \n\n  \n  if (typeof (root._bokeh_timeout) === \"undefined\" || force === true) {\n    root._bokeh_timeout = Date.now() + 5000;\n    root._bokeh_failed_load = false;\n  }\n\n  var NB_LOAD_WARNING = {'data': {'text/html':\n     \"<div style='background-color: #fdd'>\\n\"+\n     \"<p>\\n\"+\n     \"BokehJS does not appear to have successfully loaded. If loading BokehJS from CDN, this \\n\"+\n     \"may be due to a slow or bad network connection. Possible fixes:\\n\"+\n     \"</p>\\n\"+\n     \"<ul>\\n\"+\n     \"<li>re-rerun `output_notebook()` to attempt to load from CDN again, or</li>\\n\"+\n     \"<li>use INLINE resources instead, as so:</li>\\n\"+\n     \"</ul>\\n\"+\n     \"<code>\\n\"+\n     \"from bokeh.resources import INLINE\\n\"+\n     \"output_notebook(resources=INLINE)\\n\"+\n     \"</code>\\n\"+\n     \"</div>\"}};\n\n  function display_loaded() {\n    var el = document.getElementById(\"c2bfb3d3-a1ce-4c73-bebb-97c162feceaf\");\n    if (el != null) {\n      el.textContent = \"BokehJS is loading...\";\n    }\n    if (root.Bokeh !== undefined) {\n      if (el != null) {\n        el.textContent = \"BokehJS \" + root.Bokeh.version + \" successfully loaded.\";\n      }\n    } else if (Date.now() < root._bokeh_timeout) {\n      setTimeout(display_loaded, 100)\n    }\n  }\n\n\n  function run_callbacks() {\n    try {\n      root._bokeh_onload_callbacks.forEach(function(callback) { callback() });\n    }\n    finally {\n      delete root._bokeh_onload_callbacks\n    }\n    console.info(\"Bokeh: all callbacks have finished\");\n  }\n\n  function load_libs(js_urls, callback) {\n    root._bokeh_onload_callbacks.push(callback);\n    if (root._bokeh_is_loading > 0) {\n      console.log(\"Bokeh: BokehJS is being loaded, scheduling callback at\", now());\n      return null;\n    }\n    if (js_urls == null || js_urls.length === 0) {\n      run_callbacks();\n      return null;\n    }\n    console.log(\"Bokeh: BokehJS not loaded, scheduling load and callback at\", now());\n    root._bokeh_is_loading = js_urls.length;\n    for (var i = 0; i < js_urls.length; i++) {\n      var url = js_urls[i];\n      var s = document.createElement('script');\n      s.src = url;\n      s.async = false;\n      s.onreadystatechange = s.onload = function() {\n        root._bokeh_is_loading--;\n        if (root._bokeh_is_loading === 0) {\n          console.log(\"Bokeh: all BokehJS libraries loaded\");\n          run_callbacks()\n        }\n      };\n      s.onerror = function() {\n        console.warn(\"failed to load library \" + url);\n      };\n      console.log(\"Bokeh: injecting script tag for BokehJS library: \", url);\n      document.getElementsByTagName(\"head\")[0].appendChild(s);\n    }\n  };var element = document.getElementById(\"c2bfb3d3-a1ce-4c73-bebb-97c162feceaf\");\n  if (element == null) {\n    console.log(\"Bokeh: ERROR: autoload.js configured with elementid 'c2bfb3d3-a1ce-4c73-bebb-97c162feceaf' but no matching script tag was found. \")\n    return false;\n  }\n\n  var js_urls = [\"https://cdn.pydata.org/bokeh/release/bokeh-0.12.13.min.js\", \"https://cdn.pydata.org/bokeh/release/bokeh-widgets-0.12.13.min.js\", \"https://cdn.pydata.org/bokeh/release/bokeh-tables-0.12.13.min.js\", \"https://cdn.pydata.org/bokeh/release/bokeh-gl-0.12.13.min.js\"];\n\n  var inline_js = [\n    function(Bokeh) {\n      Bokeh.set_log_level(\"info\");\n    },\n    \n    function(Bokeh) {\n      \n    },\n    function(Bokeh) {\n      console.log(\"Bokeh: injecting CSS: https://cdn.pydata.org/bokeh/release/bokeh-0.12.13.min.css\");\n      Bokeh.embed.inject_css(\"https://cdn.pydata.org/bokeh/release/bokeh-0.12.13.min.css\");\n      console.log(\"Bokeh: injecting CSS: https://cdn.pydata.org/bokeh/release/bokeh-widgets-0.12.13.min.css\");\n      Bokeh.embed.inject_css(\"https://cdn.pydata.org/bokeh/release/bokeh-widgets-0.12.13.min.css\");\n      console.log(\"Bokeh: injecting CSS: https://cdn.pydata.org/bokeh/release/bokeh-tables-0.12.13.min.css\");\n      Bokeh.embed.inject_css(\"https://cdn.pydata.org/bokeh/release/bokeh-tables-0.12.13.min.css\");\n    }\n  ];\n\n  function run_inline_js() {\n    \n    if ((root.Bokeh !== undefined) || (force === true)) {\n      for (var i = 0; i < inline_js.length; i++) {\n        inline_js[i].call(root, root.Bokeh);\n      }if (force === true) {\n        display_loaded();\n      }} else if (Date.now() < root._bokeh_timeout) {\n      setTimeout(run_inline_js, 100);\n    } else if (!root._bokeh_failed_load) {\n      console.log(\"Bokeh: BokehJS failed to load within specified timeout.\");\n      root._bokeh_failed_load = true;\n    } else if (force !== true) {\n      var cell = $(document.getElementById(\"c2bfb3d3-a1ce-4c73-bebb-97c162feceaf\")).parents('.cell').data().cell;\n      cell.output_area.append_execute_result(NB_LOAD_WARNING)\n    }\n\n  }\n\n  if (root._bokeh_is_loading === 0) {\n    console.log(\"Bokeh: BokehJS loaded, going straight to plotting\");\n    run_inline_js();\n  } else {\n    load_libs(js_urls, function() {\n      console.log(\"Bokeh: BokehJS plotting callback run at\", now());\n      run_inline_js();\n    });\n  }\n}(window));"
     },
     "metadata": {},
     "output_type": "display_data"
    }
   ],
   "source": [
    "import sys\n",
    "sys.path.insert(0, '/home/vagrant/notebooks')\n",
    "from custom_theme import output_notebook_themed\n",
    "output_notebook_themed()\n",
    "\n",
    "# output_notebook()"
   ]
  },
  {
   "cell_type": "markdown",
   "metadata": {
    "slideshow": {
     "slide_type": "slide"
    }
   },
   "source": [
    "# Bayesian Decision Theory\n",
    "\n",
    "Probability theory is a framework for making decisions under uncertainty.\n",
    "\n",
    "In coin tossing, for instance, the only observed variable is the toss.\n",
    "\n",
    "\\\\[x = f({\\mathbf{z}})\\\\]\n",
    "\n",
    "The coin toss can't be modelled deterministically, so a random variable is used instead.\n",
    "\n",
    "\\\\[P (X = x)\\\\]"
   ]
  },
  {
   "cell_type": "markdown",
   "metadata": {
    "slideshow": {
     "slide_type": "subslide"
    }
   },
   "source": [
    "Let us say \\\\(X = 1\\\\) denotes that the outcome of a toss is heads and \\\\(X = 0\\\\) denotes tails. Then the outcome is a Bernoulli random variable: \n",
    "\n",
    "\\\\[P(X = 1) = {p_0}{\\text{ and }}P(X = 0) = 1 - P(X = 1) = 1 - {p_0}\\\\]\n",
    "\n",
    "If \\\\(p_0 > 0.5\\\\), then we predict heads will be flipped, because it is the more probably choice. "
   ]
  },
  {
   "cell_type": "markdown",
   "metadata": {
    "slideshow": {
     "slide_type": "subslide"
    }
   },
   "source": [
    "We can estimate the value of \\\\(p_0\\\\) from a sample.\n",
    "\n",
    "\\\\[{\\hat p_0}{\\text{  =  }}\\frac{{{\\text{# \\{tosses with outcome heads\\} }}}}{{{\\text{# \\{tosses\\} }}}}\\\\]"
   ]
  },
  {
   "cell_type": "code",
   "execution_count": 3,
   "metadata": {
    "slideshow": {
     "slide_type": "subslide"
    }
   },
   "outputs": [
    {
     "name": "stdout",
     "output_type": "stream",
     "text": [
      "[0 1 0 0 0 1 0 0 1 0 1 1 0 0 1 1 1 0 1 0 0 1 1 1 1 0 1 0 0 1 1 1 1 0 0 1 0\n",
      " 0 1 1 1 0 0 0 0 1 1 1 1 0 0 1 0 0 1 1 1 0 1 1 1 1 0 0 1 0 1 0 1 0 1 1 1 1\n",
      " 0 0 1 0 0 1 1 0 0 1 0 1 1 1 0 1 0 0 0 1 1 1 0 0 1 0]\n"
     ]
    }
   ],
   "source": [
    "# Draw a sample of 1000 coin flips:\n",
    "\n",
    "nobs = 100\n",
    "p_0 = 0.5\n",
    "outcomes = np.random.binomial(1, p_0, nobs)\n",
    "\n",
    "print(outcomes)"
   ]
  },
  {
   "cell_type": "code",
   "execution_count": 4,
   "metadata": {
    "slideshow": {
     "slide_type": "skip"
    }
   },
   "outputs": [],
   "source": [
    "def bernoulli_trials(p_0 = 0.5, nobs=100, show_action=False):\n",
    "    outcomes = np.random.binomial(1, p_0, nobs)\n",
    "\n",
    "    plot = basic_plot(width=550, height=200, title='Coin Flips, p̂ = ' + str(outcomes.sum()/len(outcomes)))\n",
    "    plot.scatter(x=range(len(outcomes)), y=list(outcomes), size=5, alpha=1,\n",
    "                 line_color=None, color=colors[0])\n",
    "    plot.yaxis.ticker = FixedTicker(ticks=[0, 1])\n",
    "\n",
    "    plot_binary = basic_plot(width=50, height=200)\n",
    "    plot_binary.vbar(x=[0,1], top=[outcomes.sum(), len(outcomes)-outcomes.sum()], width=0.75, color=colors[1])\n",
    "    plot_binary.xaxis.ticker = FixedTicker(ticks=[0, 1])\n",
    "    plot_binary.y_range = Range1d(0,(max([outcomes.sum(), len(outcomes)-outcomes.sum()])+5))\n",
    "\n",
    "    if show_action:\n",
    "        plot.title.text = 'Coin Flips, p̂ = ' + str(outcomes.sum()/len(outcomes)) + ' predict: class = ' + \\\n",
    "                        str(np.argmax(np.array([outcomes.sum()/len(outcomes), 1-outcomes.sum()/len(outcomes)])))\n",
    "    \n",
    "    return(gridplot([[plot, plot_binary]], \n",
    "                    toolbar_location=None))"
   ]
  },
  {
   "cell_type": "code",
   "execution_count": 5,
   "metadata": {
    "slideshow": {
     "slide_type": "subslide"
    }
   },
   "outputs": [
    {
     "data": {
      "text/html": [
       "\n",
       "<div class=\"bk-root\">\n",
       "    <div class=\"bk-plotdiv\" id=\"ae4419aa-bf2a-4b9a-8e65-812e09fad37a\"></div>\n",
       "</div>"
      ]
     },
     "metadata": {},
     "output_type": "display_data"
    },
    {
     "data": {
      "application/javascript": [
       "(function(root) {\n",
       "  function embed_document(root) {\n",
       "    \n",
       "  var docs_json = {\"b8399c7d-565e-4c6d-b97f-e494bfea9328\":{\"roots\":{\"references\":[{\"attributes\":{\"axis_label\":null,\"axis_label_text_color\":{\"value\":\"white\"},\"axis_line_color\":{\"value\":null},\"formatter\":{\"id\":\"43943704-fe2b-4ec8-8eb5-8d62220722cf\",\"type\":\"BasicTickFormatter\"},\"major_label_text_color\":{\"value\":\"white\"},\"major_tick_line_color\":{\"value\":null},\"minor_tick_line_color\":{\"value\":null},\"plot\":{\"id\":\"18ce918e-4073-43c5-9ba1-00e015a9f822\",\"subtype\":\"Figure\",\"type\":\"Plot\"},\"ticker\":{\"id\":\"51c5d441-2c59-410c-958b-36d9042aee1a\",\"type\":\"BasicTicker\"}},\"id\":\"5eba8682-c87b-4998-bd29-91081c2e900a\",\"type\":\"LinearAxis\"},{\"attributes\":{\"active_drag\":\"auto\",\"active_inspect\":\"auto\",\"active_scroll\":\"auto\",\"active_tap\":\"auto\",\"tools\":[{\"id\":\"5b2c530d-1103-48ce-baa4-86d8916c0b98\",\"type\":\"PanTool\"},{\"id\":\"90ed5952-d43b-454a-bdd5-651e6aba88cb\",\"type\":\"WheelZoomTool\"},{\"id\":\"1ce55a30-b2ab-4491-98a9-d8dc2804c61b\",\"type\":\"BoxZoomTool\"},{\"id\":\"cc813680-2211-4cb7-8c45-47f0081952ea\",\"type\":\"SaveTool\"},{\"id\":\"35b4e1c6-94af-4621-a4fc-e20fcb869fe6\",\"type\":\"ResetTool\"},{\"id\":\"9a657c96-81e0-4606-afd9-40bd570c7e21\",\"type\":\"HelpTool\"}]},\"id\":\"6a185445-8104-46cb-94a3-9409a413cd08\",\"type\":\"Toolbar\"},{\"attributes\":{},\"id\":\"51c5d441-2c59-410c-958b-36d9042aee1a\",\"type\":\"BasicTicker\"},{\"attributes\":{},\"id\":\"c74aa473-f5df-46b7-b64b-790aaa0cdb18\",\"type\":\"LinearScale\"},{\"attributes\":{\"grid_line_alpha\":{\"value\":0},\"grid_line_color\":{\"value\":null},\"plot\":{\"id\":\"18ce918e-4073-43c5-9ba1-00e015a9f822\",\"subtype\":\"Figure\",\"type\":\"Plot\"},\"ticker\":{\"id\":\"51c5d441-2c59-410c-958b-36d9042aee1a\",\"type\":\"BasicTicker\"}},\"id\":\"c03cc2a3-dc31-4515-8072-b91ecb40ef9d\",\"type\":\"Grid\"},{\"attributes\":{\"source\":{\"id\":\"042050b6-a3e1-4e3f-a106-de87b9e2a6d2\",\"type\":\"ColumnDataSource\"}},\"id\":\"d259039d-b438-45c7-829b-ce161417c95e\",\"type\":\"CDSView\"},{\"attributes\":{\"axis_label\":null,\"axis_label_text_color\":{\"value\":\"white\"},\"axis_line_color\":{\"value\":null},\"formatter\":{\"id\":\"75faeb45-b783-4646-8c2c-2911e2df9b95\",\"type\":\"BasicTickFormatter\"},\"major_label_text_color\":{\"value\":\"white\"},\"major_tick_line_color\":{\"value\":null},\"minor_tick_line_color\":{\"value\":null},\"plot\":{\"id\":\"18ce918e-4073-43c5-9ba1-00e015a9f822\",\"subtype\":\"Figure\",\"type\":\"Plot\"},\"ticker\":{\"id\":\"8179ce8f-1515-4288-9d5a-5b1729454bad\",\"type\":\"FixedTicker\"}},\"id\":\"25f0ea37-44db-4281-ad65-b7cefe55f575\",\"type\":\"LinearAxis\"},{\"attributes\":{\"dimension\":1,\"grid_line_alpha\":{\"value\":0},\"grid_line_color\":{\"value\":null},\"plot\":{\"id\":\"18ce918e-4073-43c5-9ba1-00e015a9f822\",\"subtype\":\"Figure\",\"type\":\"Plot\"},\"ticker\":{\"id\":\"d5ada3b9-59dc-4897-8589-2c950d6cebae\",\"type\":\"BasicTicker\"}},\"id\":\"bd00436c-cb8a-446a-98f2-0f1b5131bd5c\",\"type\":\"Grid\"},{\"attributes\":{\"callback\":null,\"end\":59},\"id\":\"28e0e79a-5cb1-41db-98d9-a6bd6c0b1c29\",\"type\":\"Range1d\"},{\"attributes\":{\"ticks\":[0,1]},\"id\":\"8179ce8f-1515-4288-9d5a-5b1729454bad\",\"type\":\"FixedTicker\"},{\"attributes\":{\"bottom_units\":\"screen\",\"fill_alpha\":{\"value\":0.5},\"fill_color\":{\"value\":\"lightgrey\"},\"left_units\":\"screen\",\"level\":\"overlay\",\"line_alpha\":{\"value\":1.0},\"line_color\":{\"value\":\"black\"},\"line_dash\":[4,4],\"line_width\":{\"value\":2},\"plot\":null,\"render_mode\":\"css\",\"right_units\":\"screen\",\"top_units\":\"screen\"},\"id\":\"e5f7a9a3-8732-4033-be9f-3c3413169d70\",\"type\":\"BoxAnnotation\"},{\"attributes\":{\"callback\":null},\"id\":\"0ad80caa-c49d-48f6-bc95-2d8f064e11b1\",\"type\":\"DataRange1d\"},{\"attributes\":{},\"id\":\"43943704-fe2b-4ec8-8eb5-8d62220722cf\",\"type\":\"BasicTickFormatter\"},{\"attributes\":{},\"id\":\"b140c763-3029-49ef-9232-023453454272\",\"type\":\"LinearScale\"},{\"attributes\":{},\"id\":\"35b4e1c6-94af-4621-a4fc-e20fcb869fe6\",\"type\":\"ResetTool\"},{\"attributes\":{\"active_drag\":\"auto\",\"active_inspect\":\"auto\",\"active_scroll\":\"auto\",\"active_tap\":\"auto\",\"tools\":[{\"id\":\"9bf7078e-4273-4bab-9632-56bd276581ae\",\"type\":\"PanTool\"},{\"id\":\"7493ee2d-aaf3-4ee1-ad7f-02d9632b8ee7\",\"type\":\"WheelZoomTool\"},{\"id\":\"074d7efc-60f5-4e09-abd7-4dc87b38fd35\",\"type\":\"BoxZoomTool\"},{\"id\":\"9996d95c-11a9-4b36-82e5-efaad9c1002a\",\"type\":\"SaveTool\"},{\"id\":\"d0b34874-9885-431b-9700-96875d561f2f\",\"type\":\"ResetTool\"},{\"id\":\"b4b61575-3c12-420b-8f72-31d1fcb45159\",\"type\":\"HelpTool\"}]},\"id\":\"54cc288d-29f9-45f0-b9a7-49db287a0b0f\",\"type\":\"Toolbar\"},{\"attributes\":{},\"id\":\"9a657c96-81e0-4606-afd9-40bd570c7e21\",\"type\":\"HelpTool\"},{\"attributes\":{},\"id\":\"ffb12a88-beb6-45c6-bd06-faac2ae06e3c\",\"type\":\"LinearScale\"},{\"attributes\":{\"fill_color\":{\"value\":\"#519aba\"},\"line_color\":{\"value\":\"#519aba\"},\"top\":{\"field\":\"top\"},\"width\":{\"value\":0.75},\"x\":{\"field\":\"x\"}},\"id\":\"70858aeb-d718-4e0b-bbe6-4bb9b86b9622\",\"type\":\"VBar\"},{\"attributes\":{},\"id\":\"9bf7078e-4273-4bab-9632-56bd276581ae\",\"type\":\"PanTool\"},{\"attributes\":{},\"id\":\"680d4d80-4977-4ff8-82fa-53713ac5f03c\",\"type\":\"LinearScale\"},{\"attributes\":{\"callback\":null},\"id\":\"8229e30e-0f14-493f-99fa-5b7226ed7757\",\"type\":\"DataRange1d\"},{\"attributes\":{},\"id\":\"9996d95c-11a9-4b36-82e5-efaad9c1002a\",\"type\":\"SaveTool\"},{\"attributes\":{\"axis_label\":null,\"axis_label_text_color\":{\"value\":\"white\"},\"axis_line_color\":{\"value\":null},\"formatter\":{\"id\":\"683f2297-ce5b-441f-b454-71dd7f212e8e\",\"type\":\"BasicTickFormatter\"},\"major_label_text_color\":{\"value\":\"white\"},\"major_tick_line_color\":{\"value\":null},\"minor_tick_line_color\":{\"value\":null},\"plot\":{\"id\":\"1d40ea54-b081-4d6c-98e8-96b85a62026f\",\"subtype\":\"Figure\",\"type\":\"Plot\"},\"ticker\":{\"id\":\"bbd97a90-ca98-4e90-9f14-8c59801dc1cb\",\"type\":\"BasicTicker\"}},\"id\":\"1951db15-fbb5-438b-88cb-2cc761b17793\",\"type\":\"LinearAxis\"},{\"attributes\":{},\"id\":\"b4b61575-3c12-420b-8f72-31d1fcb45159\",\"type\":\"HelpTool\"},{\"attributes\":{},\"id\":\"bbd97a90-ca98-4e90-9f14-8c59801dc1cb\",\"type\":\"BasicTicker\"},{\"attributes\":{},\"id\":\"d0b34874-9885-431b-9700-96875d561f2f\",\"type\":\"ResetTool\"},{\"attributes\":{\"data_source\":{\"id\":\"2b5e0d87-b857-440f-9bfe-df67bd60c4e6\",\"type\":\"ColumnDataSource\"},\"glyph\":{\"id\":\"bdc27336-1b73-432c-85e9-ca89c4318d76\",\"type\":\"Circle\"},\"hover_glyph\":null,\"muted_glyph\":null,\"nonselection_glyph\":{\"id\":\"7e95c657-a282-4717-87a3-3f5f146aeb88\",\"type\":\"Circle\"},\"selection_glyph\":null,\"view\":{\"id\":\"c18a951b-4fe0-4e6d-b3cb-42c882bc5149\",\"type\":\"CDSView\"}},\"id\":\"ac32023e-35a8-489d-bab8-4227fc22988d\",\"type\":\"GlyphRenderer\"},{\"attributes\":{\"dimension\":1,\"grid_line_alpha\":{\"value\":0},\"grid_line_color\":{\"value\":null},\"plot\":{\"id\":\"1d40ea54-b081-4d6c-98e8-96b85a62026f\",\"subtype\":\"Figure\",\"type\":\"Plot\"},\"ticker\":{\"id\":\"bbd97a90-ca98-4e90-9f14-8c59801dc1cb\",\"type\":\"BasicTicker\"}},\"id\":\"19015c9d-2963-43e2-87bc-647875f67836\",\"type\":\"Grid\"},{\"attributes\":{\"grid_line_alpha\":{\"value\":0},\"grid_line_color\":{\"value\":null},\"plot\":{\"id\":\"1d40ea54-b081-4d6c-98e8-96b85a62026f\",\"subtype\":\"Figure\",\"type\":\"Plot\"},\"ticker\":{\"id\":\"47729672-2cf1-49b5-b639-1265cb5d7df0\",\"type\":\"BasicTicker\"}},\"id\":\"52d5e65a-c8a4-4297-8e3a-b804017627f0\",\"type\":\"Grid\"},{\"attributes\":{},\"id\":\"7493ee2d-aaf3-4ee1-ad7f-02d9632b8ee7\",\"type\":\"WheelZoomTool\"},{\"attributes\":{},\"id\":\"47729672-2cf1-49b5-b639-1265cb5d7df0\",\"type\":\"BasicTicker\"},{\"attributes\":{\"fill_color\":{\"value\":\"#f55385\"},\"line_color\":{\"value\":null},\"size\":{\"units\":\"screen\",\"value\":5},\"x\":{\"field\":\"x\"},\"y\":{\"field\":\"y\"}},\"id\":\"bdc27336-1b73-432c-85e9-ca89c4318d76\",\"type\":\"Circle\"},{\"attributes\":{\"axis_label\":null,\"axis_label_text_color\":{\"value\":\"white\"},\"axis_line_color\":{\"value\":null},\"formatter\":{\"id\":\"e9c8adf7-4b84-46de-b310-931ff5671bfe\",\"type\":\"BasicTickFormatter\"},\"major_label_text_color\":{\"value\":\"white\"},\"major_tick_line_color\":{\"value\":null},\"minor_tick_line_color\":{\"value\":null},\"plot\":{\"id\":\"1d40ea54-b081-4d6c-98e8-96b85a62026f\",\"subtype\":\"Figure\",\"type\":\"Plot\"},\"ticker\":{\"id\":\"e30821dd-37cb-42fe-b415-36c813deefcc\",\"type\":\"FixedTicker\"}},\"id\":\"4acd9139-d726-4284-8e6e-5e0485ae5230\",\"type\":\"LinearAxis\"},{\"attributes\":{\"fill_alpha\":{\"value\":0.1},\"fill_color\":{\"value\":\"#1f77b4\"},\"line_alpha\":{\"value\":0.1},\"line_color\":{\"value\":\"#1f77b4\"},\"size\":{\"units\":\"screen\",\"value\":5},\"x\":{\"field\":\"x\"},\"y\":{\"field\":\"y\"}},\"id\":\"7e95c657-a282-4717-87a3-3f5f146aeb88\",\"type\":\"Circle\"},{\"attributes\":{},\"id\":\"d5ada3b9-59dc-4897-8589-2c950d6cebae\",\"type\":\"BasicTicker\"},{\"attributes\":{\"callback\":null,\"column_names\":[\"x\",\"y\"],\"data\":{\"x\":[0,1,2,3,4,5,6,7,8,9,10,11,12,13,14,15,16,17,18,19,20,21,22,23,24,25,26,27,28,29,30,31,32,33,34,35,36,37,38,39,40,41,42,43,44,45,46,47,48,49,50,51,52,53,54,55,56,57,58,59,60,61,62,63,64,65,66,67,68,69,70,71,72,73,74,75,76,77,78,79,80,81,82,83,84,85,86,87,88,89,90,91,92,93,94,95,96,97,98,99],\"y\":[1,1,1,0,0,0,1,0,1,1,0,1,0,1,0,0,0,0,0,1,1,0,1,1,1,1,0,0,0,1,0,0,1,0,1,1,1,0,0,0,1,1,0,0,1,0,1,0,1,0,0,0,1,0,0,0,1,0,1,1,1,0,0,0,1,1,1,0,1,0,0,0,0,1,1,1,0,1,1,1,0,1,0,0,1,1,0,0,0,0,0,1,0,1,0,0,0,1,1,0]}},\"id\":\"2b5e0d87-b857-440f-9bfe-df67bd60c4e6\",\"type\":\"ColumnDataSource\"},{\"attributes\":{\"overlay\":{\"id\":\"e5f7a9a3-8732-4033-be9f-3c3413169d70\",\"type\":\"BoxAnnotation\"}},\"id\":\"074d7efc-60f5-4e09-abd7-4dc87b38fd35\",\"type\":\"BoxZoomTool\"},{\"attributes\":{\"fill_alpha\":{\"value\":0.1},\"fill_color\":{\"value\":\"#1f77b4\"},\"line_alpha\":{\"value\":0.1},\"line_color\":{\"value\":\"#1f77b4\"},\"top\":{\"field\":\"top\"},\"width\":{\"value\":0.75},\"x\":{\"field\":\"x\"}},\"id\":\"a46dd51a-c050-4977-a177-5ec4825527d5\",\"type\":\"VBar\"},{\"attributes\":{\"plot\":null,\"text\":\"\",\"text_color\":{\"value\":\"white\"}},\"id\":\"c951aa60-40e9-45c1-bbb4-556b9387405e\",\"type\":\"Title\"},{\"attributes\":{\"background_fill_alpha\":{\"value\":0},\"below\":[{\"id\":\"5eba8682-c87b-4998-bd29-91081c2e900a\",\"type\":\"LinearAxis\"}],\"border_fill_alpha\":{\"value\":0},\"left\":[{\"id\":\"25f0ea37-44db-4281-ad65-b7cefe55f575\",\"type\":\"LinearAxis\"}],\"outline_line_color\":{\"value\":\"#333333\"},\"plot_height\":200,\"plot_width\":550,\"renderers\":[{\"id\":\"5eba8682-c87b-4998-bd29-91081c2e900a\",\"type\":\"LinearAxis\"},{\"id\":\"c03cc2a3-dc31-4515-8072-b91ecb40ef9d\",\"type\":\"Grid\"},{\"id\":\"25f0ea37-44db-4281-ad65-b7cefe55f575\",\"type\":\"LinearAxis\"},{\"id\":\"bd00436c-cb8a-446a-98f2-0f1b5131bd5c\",\"type\":\"Grid\"},{\"id\":\"e5f7a9a3-8732-4033-be9f-3c3413169d70\",\"type\":\"BoxAnnotation\"},{\"id\":\"ac32023e-35a8-489d-bab8-4227fc22988d\",\"type\":\"GlyphRenderer\"}],\"title\":{\"id\":\"bed356b0-76c8-4096-85e7-b71b060d8339\",\"type\":\"Title\"},\"toolbar\":{\"id\":\"54cc288d-29f9-45f0-b9a7-49db287a0b0f\",\"type\":\"Toolbar\"},\"toolbar_location\":null,\"x_range\":{\"id\":\"684d7b8b-f252-4bec-ab29-1d8ac79116a7\",\"type\":\"DataRange1d\"},\"x_scale\":{\"id\":\"ffb12a88-beb6-45c6-bd06-faac2ae06e3c\",\"type\":\"LinearScale\"},\"y_range\":{\"id\":\"8229e30e-0f14-493f-99fa-5b7226ed7757\",\"type\":\"DataRange1d\"},\"y_scale\":{\"id\":\"b140c763-3029-49ef-9232-023453454272\",\"type\":\"LinearScale\"}},\"id\":\"18ce918e-4073-43c5-9ba1-00e015a9f822\",\"subtype\":\"Figure\",\"type\":\"Plot\"},{\"attributes\":{},\"id\":\"cc813680-2211-4cb7-8c45-47f0081952ea\",\"type\":\"SaveTool\"},{\"attributes\":{\"ticks\":[0,1]},\"id\":\"e30821dd-37cb-42fe-b415-36c813deefcc\",\"type\":\"FixedTicker\"},{\"attributes\":{\"background_fill_alpha\":{\"value\":0},\"below\":[{\"id\":\"4acd9139-d726-4284-8e6e-5e0485ae5230\",\"type\":\"LinearAxis\"}],\"border_fill_alpha\":{\"value\":0},\"left\":[{\"id\":\"1951db15-fbb5-438b-88cb-2cc761b17793\",\"type\":\"LinearAxis\"}],\"outline_line_color\":{\"value\":\"#333333\"},\"plot_height\":200,\"plot_width\":50,\"renderers\":[{\"id\":\"4acd9139-d726-4284-8e6e-5e0485ae5230\",\"type\":\"LinearAxis\"},{\"id\":\"52d5e65a-c8a4-4297-8e3a-b804017627f0\",\"type\":\"Grid\"},{\"id\":\"1951db15-fbb5-438b-88cb-2cc761b17793\",\"type\":\"LinearAxis\"},{\"id\":\"19015c9d-2963-43e2-87bc-647875f67836\",\"type\":\"Grid\"},{\"id\":\"51a003e2-37b3-430d-afb1-3b8de3d942f4\",\"type\":\"BoxAnnotation\"},{\"id\":\"a5978d57-eb72-4bb5-a051-ca15d54f2063\",\"type\":\"GlyphRenderer\"}],\"title\":{\"id\":\"c951aa60-40e9-45c1-bbb4-556b9387405e\",\"type\":\"Title\"},\"toolbar\":{\"id\":\"6a185445-8104-46cb-94a3-9409a413cd08\",\"type\":\"Toolbar\"},\"toolbar_location\":null,\"x_range\":{\"id\":\"0ad80caa-c49d-48f6-bc95-2d8f064e11b1\",\"type\":\"DataRange1d\"},\"x_scale\":{\"id\":\"c74aa473-f5df-46b7-b64b-790aaa0cdb18\",\"type\":\"LinearScale\"},\"y_range\":{\"id\":\"28e0e79a-5cb1-41db-98d9-a6bd6c0b1c29\",\"type\":\"Range1d\"},\"y_scale\":{\"id\":\"680d4d80-4977-4ff8-82fa-53713ac5f03c\",\"type\":\"LinearScale\"}},\"id\":\"1d40ea54-b081-4d6c-98e8-96b85a62026f\",\"subtype\":\"Figure\",\"type\":\"Plot\"},{\"attributes\":{\"data_source\":{\"id\":\"042050b6-a3e1-4e3f-a106-de87b9e2a6d2\",\"type\":\"ColumnDataSource\"},\"glyph\":{\"id\":\"70858aeb-d718-4e0b-bbe6-4bb9b86b9622\",\"type\":\"VBar\"},\"hover_glyph\":null,\"muted_glyph\":null,\"nonselection_glyph\":{\"id\":\"a46dd51a-c050-4977-a177-5ec4825527d5\",\"type\":\"VBar\"},\"selection_glyph\":null,\"view\":{\"id\":\"d259039d-b438-45c7-829b-ce161417c95e\",\"type\":\"CDSView\"}},\"id\":\"a5978d57-eb72-4bb5-a051-ca15d54f2063\",\"type\":\"GlyphRenderer\"},{\"attributes\":{},\"id\":\"90ed5952-d43b-454a-bdd5-651e6aba88cb\",\"type\":\"WheelZoomTool\"},{\"attributes\":{\"overlay\":{\"id\":\"51a003e2-37b3-430d-afb1-3b8de3d942f4\",\"type\":\"BoxAnnotation\"}},\"id\":\"1ce55a30-b2ab-4491-98a9-d8dc2804c61b\",\"type\":\"BoxZoomTool\"},{\"attributes\":{\"callback\":null,\"column_names\":[\"x\",\"top\"],\"data\":{\"top\":[46,54],\"x\":[0,1]}},\"id\":\"042050b6-a3e1-4e3f-a106-de87b9e2a6d2\",\"type\":\"ColumnDataSource\"},{\"attributes\":{},\"id\":\"e9c8adf7-4b84-46de-b310-931ff5671bfe\",\"type\":\"BasicTickFormatter\"},{\"attributes\":{},\"id\":\"5b2c530d-1103-48ce-baa4-86d8916c0b98\",\"type\":\"PanTool\"},{\"attributes\":{},\"id\":\"683f2297-ce5b-441f-b454-71dd7f212e8e\",\"type\":\"BasicTickFormatter\"},{\"attributes\":{\"bottom_units\":\"screen\",\"fill_alpha\":{\"value\":0.5},\"fill_color\":{\"value\":\"lightgrey\"},\"left_units\":\"screen\",\"level\":\"overlay\",\"line_alpha\":{\"value\":1.0},\"line_color\":{\"value\":\"black\"},\"line_dash\":[4,4],\"line_width\":{\"value\":2},\"plot\":null,\"render_mode\":\"css\",\"right_units\":\"screen\",\"top_units\":\"screen\"},\"id\":\"51a003e2-37b3-430d-afb1-3b8de3d942f4\",\"type\":\"BoxAnnotation\"},{\"attributes\":{\"source\":{\"id\":\"2b5e0d87-b857-440f-9bfe-df67bd60c4e6\",\"type\":\"ColumnDataSource\"}},\"id\":\"c18a951b-4fe0-4e6d-b3cb-42c882bc5149\",\"type\":\"CDSView\"},{\"attributes\":{\"callback\":null},\"id\":\"684d7b8b-f252-4bec-ab29-1d8ac79116a7\",\"type\":\"DataRange1d\"},{\"attributes\":{\"children\":[{\"id\":\"18ce918e-4073-43c5-9ba1-00e015a9f822\",\"subtype\":\"Figure\",\"type\":\"Plot\"},{\"id\":\"1d40ea54-b081-4d6c-98e8-96b85a62026f\",\"subtype\":\"Figure\",\"type\":\"Plot\"}]},\"id\":\"065f2daf-cde0-489b-8f3e-5397051547c0\",\"type\":\"Row\"},{\"attributes\":{},\"id\":\"75faeb45-b783-4646-8c2c-2911e2df9b95\",\"type\":\"BasicTickFormatter\"},{\"attributes\":{\"plot\":null,\"text\":\"Coin Flips, p\\u0302 = 0.46\",\"text_color\":{\"value\":\"white\"}},\"id\":\"bed356b0-76c8-4096-85e7-b71b060d8339\",\"type\":\"Title\"},{\"attributes\":{\"children\":[{\"id\":\"065f2daf-cde0-489b-8f3e-5397051547c0\",\"type\":\"Row\"}]},\"id\":\"f319f3f0-fda0-45aa-9ea9-b16211147066\",\"type\":\"Column\"}],\"root_ids\":[\"f319f3f0-fda0-45aa-9ea9-b16211147066\"]},\"title\":\"Bokeh Application\",\"version\":\"0.12.13\"}};\n",
       "  var render_items = [{\"docid\":\"b8399c7d-565e-4c6d-b97f-e494bfea9328\",\"elementid\":\"ae4419aa-bf2a-4b9a-8e65-812e09fad37a\",\"modelid\":\"f319f3f0-fda0-45aa-9ea9-b16211147066\"}];\n",
       "  root.Bokeh.embed.embed_items_notebook(docs_json, render_items);\n",
       "\n",
       "  }\n",
       "  if (root.Bokeh !== undefined) {\n",
       "    embed_document(root);\n",
       "  } else {\n",
       "    var attempts = 0;\n",
       "    var timer = setInterval(function(root) {\n",
       "      if (root.Bokeh !== undefined) {\n",
       "        embed_document(root);\n",
       "        clearInterval(timer);\n",
       "      }\n",
       "      attempts++;\n",
       "      if (attempts > 100) {\n",
       "        console.log(\"Bokeh: ERROR: Unable to run BokehJS code because BokehJS library is missing\")\n",
       "        clearInterval(timer);\n",
       "      }\n",
       "    }, 10, root)\n",
       "  }\n",
       "})(window);"
      ],
      "application/vnd.bokehjs_exec.v0+json": ""
     },
     "metadata": {
      "application/vnd.bokehjs_exec.v0+json": {
       "id": "f319f3f0-fda0-45aa-9ea9-b16211147066"
      }
     },
     "output_type": "display_data"
    }
   ],
   "source": [
    "show(bernoulli_trials(p_0=0.5))"
   ]
  },
  {
   "cell_type": "markdown",
   "metadata": {
    "slideshow": {
     "slide_type": "slide"
    }
   },
   "source": [
    "# Losses and Risk\n",
    "\n",
    "\n",
    "If the risk of taking all actions is equal, then the loss function is:\n",
    "\n",
    "\\\\[{\\lambda _{ik}} = \\left\\{ \\begin{gathered}\n",
    "  0{\\text{ if }}i = k \\hfill \\\\\n",
    "  1{\\text{ if }}i \\ne k \\hfill \\\\ \n",
    "\\end{gathered}  \\right.\\\\]\n",
    "\n",
    "\n",
    "\n",
    "And the risk of an action can be calculated as:\n",
    "\n",
    "\\\\[\\begin{gathered}\n",
    "  R({\\alpha _i}|{\\mathbf{x}}) = \\sum\\limits_{k = 1}^K {{\\lambda _{ik}}P({C_k}|{\\mathbf{x}})}  \\hfill \\\\\n",
    "   = \\sum\\limits_{k = 1}^K {P({C_k}|{\\mathbf{x}})}  \\hfill \\\\\n",
    "   = 1 - P({C_i}|{\\mathbf{x}}) \\hfill \\\\ \n",
    "\\end{gathered} \\\\]\n",
    "\n",
    "For minimum risk, choose the most probable class."
   ]
  },
  {
   "cell_type": "code",
   "execution_count": 6,
   "metadata": {
    "slideshow": {
     "slide_type": "subslide"
    }
   },
   "outputs": [
    {
     "data": {
      "text/html": [
       "\n",
       "<div class=\"bk-root\">\n",
       "    <div class=\"bk-plotdiv\" id=\"160565cb-e57c-4496-bd67-5dc632afc11f\"></div>\n",
       "</div>"
      ]
     },
     "metadata": {},
     "output_type": "display_data"
    },
    {
     "data": {
      "application/javascript": [
       "(function(root) {\n",
       "  function embed_document(root) {\n",
       "    \n",
       "  var docs_json = {\"e8fbfba2-f78b-4a97-9408-ea20d7bb5f40\":{\"roots\":{\"references\":[{\"attributes\":{\"dimension\":1,\"grid_line_alpha\":{\"value\":0},\"grid_line_color\":{\"value\":null},\"plot\":{\"id\":\"4fb08af4-8368-4572-aeab-699cf93026b7\",\"subtype\":\"Figure\",\"type\":\"Plot\"},\"ticker\":{\"id\":\"50bf56ac-9b1e-47ce-908c-8cf25bee5f2e\",\"type\":\"BasicTicker\"}},\"id\":\"c87d51e1-7126-48ee-b42f-de50e7e43397\",\"type\":\"Grid\"},{\"attributes\":{\"ticks\":[0,1]},\"id\":\"1e2ec265-3e5d-4391-8341-03ae1095b017\",\"type\":\"FixedTicker\"},{\"attributes\":{},\"id\":\"c591750d-8cc0-4ba9-be14-2c2414721716\",\"type\":\"LinearScale\"},{\"attributes\":{\"axis_label\":null,\"axis_label_text_color\":{\"value\":\"white\"},\"axis_line_color\":{\"value\":null},\"formatter\":{\"id\":\"7519f6ea-856b-4455-81a9-c6f539a0622a\",\"type\":\"BasicTickFormatter\"},\"major_label_text_color\":{\"value\":\"white\"},\"major_tick_line_color\":{\"value\":null},\"minor_tick_line_color\":{\"value\":null},\"plot\":{\"id\":\"110d74e1-0d30-4941-9c7b-75948bb240b7\",\"subtype\":\"Figure\",\"type\":\"Plot\"},\"ticker\":{\"id\":\"335f1be9-121e-4029-9727-fa404e292e71\",\"type\":\"BasicTicker\"}},\"id\":\"5a05daac-4fb4-4c10-a5b9-4b766763485f\",\"type\":\"LinearAxis\"},{\"attributes\":{\"fill_color\":{\"value\":\"#519aba\"},\"line_color\":{\"value\":\"#519aba\"},\"top\":{\"field\":\"top\"},\"width\":{\"value\":0.75},\"x\":{\"field\":\"x\"}},\"id\":\"4d73fd67-5d1b-4f18-b875-0822b902aa9a\",\"type\":\"VBar\"},{\"attributes\":{},\"id\":\"a2ec253e-6204-4824-8bb4-ad2998fe82b8\",\"type\":\"LinearScale\"},{\"attributes\":{\"bottom_units\":\"screen\",\"fill_alpha\":{\"value\":0.5},\"fill_color\":{\"value\":\"lightgrey\"},\"left_units\":\"screen\",\"level\":\"overlay\",\"line_alpha\":{\"value\":1.0},\"line_color\":{\"value\":\"black\"},\"line_dash\":[4,4],\"line_width\":{\"value\":2},\"plot\":null,\"render_mode\":\"css\",\"right_units\":\"screen\",\"top_units\":\"screen\"},\"id\":\"96932481-e89c-425f-99d1-be74efafc893\",\"type\":\"BoxAnnotation\"},{\"attributes\":{\"background_fill_alpha\":{\"value\":0},\"below\":[{\"id\":\"140e9f7b-f4e2-4eaf-8db9-c210fb60d308\",\"type\":\"LinearAxis\"}],\"border_fill_alpha\":{\"value\":0},\"left\":[{\"id\":\"8555c904-8fb3-44e7-929e-a140ae78df60\",\"type\":\"LinearAxis\"}],\"outline_line_color\":{\"value\":\"#333333\"},\"plot_height\":200,\"plot_width\":550,\"renderers\":[{\"id\":\"140e9f7b-f4e2-4eaf-8db9-c210fb60d308\",\"type\":\"LinearAxis\"},{\"id\":\"d8c2c56a-ac2e-4e8c-bbb1-0bc938690960\",\"type\":\"Grid\"},{\"id\":\"8555c904-8fb3-44e7-929e-a140ae78df60\",\"type\":\"LinearAxis\"},{\"id\":\"c87d51e1-7126-48ee-b42f-de50e7e43397\",\"type\":\"Grid\"},{\"id\":\"055d87c6-149f-4734-8c72-a721873fe49a\",\"type\":\"BoxAnnotation\"},{\"id\":\"b17d1254-863b-49f2-92dc-2f8390a41fd3\",\"type\":\"GlyphRenderer\"}],\"title\":{\"id\":\"fd9c8b38-56a5-4b7e-abec-76a8bc6d0345\",\"type\":\"Title\"},\"toolbar\":{\"id\":\"da5aea27-b8e6-49a9-9663-169f04a64cdd\",\"type\":\"Toolbar\"},\"toolbar_location\":null,\"x_range\":{\"id\":\"5b0a607b-cccd-40b8-84b0-10a4db8388aa\",\"type\":\"DataRange1d\"},\"x_scale\":{\"id\":\"a2ec253e-6204-4824-8bb4-ad2998fe82b8\",\"type\":\"LinearScale\"},\"y_range\":{\"id\":\"d9175898-8eb5-454c-b631-8cd7b1cb5a61\",\"type\":\"DataRange1d\"},\"y_scale\":{\"id\":\"c591750d-8cc0-4ba9-be14-2c2414721716\",\"type\":\"LinearScale\"}},\"id\":\"4fb08af4-8368-4572-aeab-699cf93026b7\",\"subtype\":\"Figure\",\"type\":\"Plot\"},{\"attributes\":{},\"id\":\"be830bd3-37b6-4a7c-b057-495d90cfe857\",\"type\":\"PanTool\"},{\"attributes\":{\"active_drag\":\"auto\",\"active_inspect\":\"auto\",\"active_scroll\":\"auto\",\"active_tap\":\"auto\",\"tools\":[{\"id\":\"4b2256e5-513d-45a9-9c24-f7c2020bc221\",\"type\":\"PanTool\"},{\"id\":\"1fe7f318-67d7-440c-a0ea-dd5670513e94\",\"type\":\"WheelZoomTool\"},{\"id\":\"7cf846e5-848f-4684-83a5-e781ae9f9c57\",\"type\":\"BoxZoomTool\"},{\"id\":\"da9d4fac-1e14-46e7-a4e4-c0eff7fb86e7\",\"type\":\"SaveTool\"},{\"id\":\"61e58036-8622-47d8-aa1c-46709a93f262\",\"type\":\"ResetTool\"},{\"id\":\"e88fd57f-c271-4a6b-9cb7-3c0f2da6edb8\",\"type\":\"HelpTool\"}]},\"id\":\"da5aea27-b8e6-49a9-9663-169f04a64cdd\",\"type\":\"Toolbar\"},{\"attributes\":{\"callback\":null,\"end\":78},\"id\":\"b621b87c-adc9-4bbf-9d0f-852cb7e2c9ad\",\"type\":\"Range1d\"},{\"attributes\":{\"dimension\":1,\"grid_line_alpha\":{\"value\":0},\"grid_line_color\":{\"value\":null},\"plot\":{\"id\":\"110d74e1-0d30-4941-9c7b-75948bb240b7\",\"subtype\":\"Figure\",\"type\":\"Plot\"},\"ticker\":{\"id\":\"335f1be9-121e-4029-9727-fa404e292e71\",\"type\":\"BasicTicker\"}},\"id\":\"0074c4d5-e468-44f1-8b8e-6dfc6461c642\",\"type\":\"Grid\"},{\"attributes\":{},\"id\":\"9fe30ecf-9955-4119-9c6e-f4397c382adf\",\"type\":\"HelpTool\"},{\"attributes\":{\"plot\":null,\"text\":\"Coin Flips, p\\u0302 = 0.27 predict: class = 1\",\"text_color\":{\"value\":\"white\"}},\"id\":\"fd9c8b38-56a5-4b7e-abec-76a8bc6d0345\",\"type\":\"Title\"},{\"attributes\":{},\"id\":\"10948077-9544-45e6-9a1e-53a78d261f67\",\"type\":\"ResetTool\"},{\"attributes\":{\"data_source\":{\"id\":\"2b2b7051-3810-4955-b610-75ebb6abd6a1\",\"type\":\"ColumnDataSource\"},\"glyph\":{\"id\":\"d4de2d74-7c6d-4d22-afb1-2889fc09eb0a\",\"type\":\"Circle\"},\"hover_glyph\":null,\"muted_glyph\":null,\"nonselection_glyph\":{\"id\":\"d845c83f-fb65-4d97-8c82-da3ba298fa4c\",\"type\":\"Circle\"},\"selection_glyph\":null,\"view\":{\"id\":\"320bb671-3f97-4cea-aade-5679c9281d3e\",\"type\":\"CDSView\"}},\"id\":\"b17d1254-863b-49f2-92dc-2f8390a41fd3\",\"type\":\"GlyphRenderer\"},{\"attributes\":{},\"id\":\"5d68731d-c0ba-432d-b309-8d8cf3e6df7e\",\"type\":\"SaveTool\"},{\"attributes\":{\"callback\":null,\"column_names\":[\"x\",\"y\"],\"data\":{\"x\":[0,1,2,3,4,5,6,7,8,9,10,11,12,13,14,15,16,17,18,19,20,21,22,23,24,25,26,27,28,29,30,31,32,33,34,35,36,37,38,39,40,41,42,43,44,45,46,47,48,49,50,51,52,53,54,55,56,57,58,59,60,61,62,63,64,65,66,67,68,69,70,71,72,73,74,75,76,77,78,79,80,81,82,83,84,85,86,87,88,89,90,91,92,93,94,95,96,97,98,99],\"y\":[1,1,1,1,1,0,0,0,0,0,0,0,0,1,1,0,0,0,0,0,0,0,0,0,0,0,1,0,0,0,0,0,0,1,1,0,1,0,0,1,1,1,0,0,0,1,1,0,0,0,0,0,0,1,0,0,0,0,1,0,0,0,0,0,0,1,0,0,0,0,0,0,1,0,0,1,1,0,1,0,0,0,0,0,0,0,0,0,1,0,0,0,0,1,0,1,0,0,0,1]}},\"id\":\"2b2b7051-3810-4955-b610-75ebb6abd6a1\",\"type\":\"ColumnDataSource\"},{\"attributes\":{\"overlay\":{\"id\":\"96932481-e89c-425f-99d1-be74efafc893\",\"type\":\"BoxAnnotation\"}},\"id\":\"dba31ec9-d399-4968-887b-66ce00bbb212\",\"type\":\"BoxZoomTool\"},{\"attributes\":{},\"id\":\"50bf56ac-9b1e-47ce-908c-8cf25bee5f2e\",\"type\":\"BasicTicker\"},{\"attributes\":{},\"id\":\"edb1af63-58ff-47f2-bc6e-6081aac372e4\",\"type\":\"WheelZoomTool\"},{\"attributes\":{\"axis_label\":null,\"axis_label_text_color\":{\"value\":\"white\"},\"axis_line_color\":{\"value\":null},\"formatter\":{\"id\":\"3c796715-fe2a-462b-a056-3b4f0ab67e0b\",\"type\":\"BasicTickFormatter\"},\"major_label_text_color\":{\"value\":\"white\"},\"major_tick_line_color\":{\"value\":null},\"minor_tick_line_color\":{\"value\":null},\"plot\":{\"id\":\"4fb08af4-8368-4572-aeab-699cf93026b7\",\"subtype\":\"Figure\",\"type\":\"Plot\"},\"ticker\":{\"id\":\"d7b8507c-5595-4f5f-9afd-17f4837db266\",\"type\":\"FixedTicker\"}},\"id\":\"8555c904-8fb3-44e7-929e-a140ae78df60\",\"type\":\"LinearAxis\"},{\"attributes\":{\"data_source\":{\"id\":\"b6f65938-e4a2-4d51-b9e6-4efa4e6ed145\",\"type\":\"ColumnDataSource\"},\"glyph\":{\"id\":\"4d73fd67-5d1b-4f18-b875-0822b902aa9a\",\"type\":\"VBar\"},\"hover_glyph\":null,\"muted_glyph\":null,\"nonselection_glyph\":{\"id\":\"2532711c-b501-4feb-a7fa-560718d02882\",\"type\":\"VBar\"},\"selection_glyph\":null,\"view\":{\"id\":\"92ba629d-a890-4e86-8046-cc2e82f5a92c\",\"type\":\"CDSView\"}},\"id\":\"6c111127-e4a6-44e7-ac19-52cd6808a9a9\",\"type\":\"GlyphRenderer\"},{\"attributes\":{},\"id\":\"760c6ab6-725e-4472-9484-f39d5898bd04\",\"type\":\"BasicTicker\"},{\"attributes\":{},\"id\":\"335f1be9-121e-4029-9727-fa404e292e71\",\"type\":\"BasicTicker\"},{\"attributes\":{\"axis_label\":null,\"axis_label_text_color\":{\"value\":\"white\"},\"axis_line_color\":{\"value\":null},\"formatter\":{\"id\":\"3bfbf3ac-d536-4768-b440-8af9336d920c\",\"type\":\"BasicTickFormatter\"},\"major_label_text_color\":{\"value\":\"white\"},\"major_tick_line_color\":{\"value\":null},\"minor_tick_line_color\":{\"value\":null},\"plot\":{\"id\":\"4fb08af4-8368-4572-aeab-699cf93026b7\",\"subtype\":\"Figure\",\"type\":\"Plot\"},\"ticker\":{\"id\":\"760c6ab6-725e-4472-9484-f39d5898bd04\",\"type\":\"BasicTicker\"}},\"id\":\"140e9f7b-f4e2-4eaf-8db9-c210fb60d308\",\"type\":\"LinearAxis\"},{\"attributes\":{\"grid_line_alpha\":{\"value\":0},\"grid_line_color\":{\"value\":null},\"plot\":{\"id\":\"4fb08af4-8368-4572-aeab-699cf93026b7\",\"subtype\":\"Figure\",\"type\":\"Plot\"},\"ticker\":{\"id\":\"760c6ab6-725e-4472-9484-f39d5898bd04\",\"type\":\"BasicTicker\"}},\"id\":\"d8c2c56a-ac2e-4e8c-bbb1-0bc938690960\",\"type\":\"Grid\"},{\"attributes\":{},\"id\":\"7519f6ea-856b-4455-81a9-c6f539a0622a\",\"type\":\"BasicTickFormatter\"},{\"attributes\":{\"background_fill_alpha\":{\"value\":0},\"below\":[{\"id\":\"19b978c1-0566-4847-8294-e107e4c6606d\",\"type\":\"LinearAxis\"}],\"border_fill_alpha\":{\"value\":0},\"left\":[{\"id\":\"5a05daac-4fb4-4c10-a5b9-4b766763485f\",\"type\":\"LinearAxis\"}],\"outline_line_color\":{\"value\":\"#333333\"},\"plot_height\":200,\"plot_width\":50,\"renderers\":[{\"id\":\"19b978c1-0566-4847-8294-e107e4c6606d\",\"type\":\"LinearAxis\"},{\"id\":\"7bfe12f1-adbc-475a-92d4-6296eef06ea7\",\"type\":\"Grid\"},{\"id\":\"5a05daac-4fb4-4c10-a5b9-4b766763485f\",\"type\":\"LinearAxis\"},{\"id\":\"0074c4d5-e468-44f1-8b8e-6dfc6461c642\",\"type\":\"Grid\"},{\"id\":\"96932481-e89c-425f-99d1-be74efafc893\",\"type\":\"BoxAnnotation\"},{\"id\":\"6c111127-e4a6-44e7-ac19-52cd6808a9a9\",\"type\":\"GlyphRenderer\"}],\"title\":{\"id\":\"04fd8e98-882d-407e-8187-917b2c28b27c\",\"type\":\"Title\"},\"toolbar\":{\"id\":\"153077e3-275a-401b-99e3-7886e937dff2\",\"type\":\"Toolbar\"},\"toolbar_location\":null,\"x_range\":{\"id\":\"b8ed2a19-4b96-43b0-bcda-711b0800bdd5\",\"type\":\"DataRange1d\"},\"x_scale\":{\"id\":\"2876acb7-ca69-45a5-bf29-a450fff3b5b4\",\"type\":\"LinearScale\"},\"y_range\":{\"id\":\"b621b87c-adc9-4bbf-9d0f-852cb7e2c9ad\",\"type\":\"Range1d\"},\"y_scale\":{\"id\":\"aef4a780-5a75-4093-a7ba-6fe15924ecdc\",\"type\":\"LinearScale\"}},\"id\":\"110d74e1-0d30-4941-9c7b-75948bb240b7\",\"subtype\":\"Figure\",\"type\":\"Plot\"},{\"attributes\":{\"children\":[{\"id\":\"4fb08af4-8368-4572-aeab-699cf93026b7\",\"subtype\":\"Figure\",\"type\":\"Plot\"},{\"id\":\"110d74e1-0d30-4941-9c7b-75948bb240b7\",\"subtype\":\"Figure\",\"type\":\"Plot\"}]},\"id\":\"e2fdf4ac-f1cf-435e-aea9-a9c52370ac0b\",\"type\":\"Row\"},{\"attributes\":{\"ticks\":[0,1]},\"id\":\"d7b8507c-5595-4f5f-9afd-17f4837db266\",\"type\":\"FixedTicker\"},{\"attributes\":{\"fill_alpha\":{\"value\":0.1},\"fill_color\":{\"value\":\"#1f77b4\"},\"line_alpha\":{\"value\":0.1},\"line_color\":{\"value\":\"#1f77b4\"},\"size\":{\"units\":\"screen\",\"value\":5},\"x\":{\"field\":\"x\"},\"y\":{\"field\":\"y\"}},\"id\":\"d845c83f-fb65-4d97-8c82-da3ba298fa4c\",\"type\":\"Circle\"},{\"attributes\":{\"source\":{\"id\":\"b6f65938-e4a2-4d51-b9e6-4efa4e6ed145\",\"type\":\"ColumnDataSource\"}},\"id\":\"92ba629d-a890-4e86-8046-cc2e82f5a92c\",\"type\":\"CDSView\"},{\"attributes\":{},\"id\":\"4b2256e5-513d-45a9-9c24-f7c2020bc221\",\"type\":\"PanTool\"},{\"attributes\":{\"bottom_units\":\"screen\",\"fill_alpha\":{\"value\":0.5},\"fill_color\":{\"value\":\"lightgrey\"},\"left_units\":\"screen\",\"level\":\"overlay\",\"line_alpha\":{\"value\":1.0},\"line_color\":{\"value\":\"black\"},\"line_dash\":[4,4],\"line_width\":{\"value\":2},\"plot\":null,\"render_mode\":\"css\",\"right_units\":\"screen\",\"top_units\":\"screen\"},\"id\":\"055d87c6-149f-4734-8c72-a721873fe49a\",\"type\":\"BoxAnnotation\"},{\"attributes\":{\"children\":[{\"id\":\"e2fdf4ac-f1cf-435e-aea9-a9c52370ac0b\",\"type\":\"Row\"}]},\"id\":\"f488c406-d88f-47da-94f7-6d21db429b23\",\"type\":\"Column\"},{\"attributes\":{},\"id\":\"da9d4fac-1e14-46e7-a4e4-c0eff7fb86e7\",\"type\":\"SaveTool\"},{\"attributes\":{\"overlay\":{\"id\":\"055d87c6-149f-4734-8c72-a721873fe49a\",\"type\":\"BoxAnnotation\"}},\"id\":\"7cf846e5-848f-4684-83a5-e781ae9f9c57\",\"type\":\"BoxZoomTool\"},{\"attributes\":{},\"id\":\"ef03678c-3a32-41ef-b834-c193dd954b95\",\"type\":\"BasicTickFormatter\"},{\"attributes\":{},\"id\":\"1fe7f318-67d7-440c-a0ea-dd5670513e94\",\"type\":\"WheelZoomTool\"},{\"attributes\":{\"fill_alpha\":{\"value\":0.1},\"fill_color\":{\"value\":\"#1f77b4\"},\"line_alpha\":{\"value\":0.1},\"line_color\":{\"value\":\"#1f77b4\"},\"top\":{\"field\":\"top\"},\"width\":{\"value\":0.75},\"x\":{\"field\":\"x\"}},\"id\":\"2532711c-b501-4feb-a7fa-560718d02882\",\"type\":\"VBar\"},{\"attributes\":{\"source\":{\"id\":\"2b2b7051-3810-4955-b610-75ebb6abd6a1\",\"type\":\"ColumnDataSource\"}},\"id\":\"320bb671-3f97-4cea-aade-5679c9281d3e\",\"type\":\"CDSView\"},{\"attributes\":{},\"id\":\"61e58036-8622-47d8-aa1c-46709a93f262\",\"type\":\"ResetTool\"},{\"attributes\":{\"active_drag\":\"auto\",\"active_inspect\":\"auto\",\"active_scroll\":\"auto\",\"active_tap\":\"auto\",\"tools\":[{\"id\":\"be830bd3-37b6-4a7c-b057-495d90cfe857\",\"type\":\"PanTool\"},{\"id\":\"edb1af63-58ff-47f2-bc6e-6081aac372e4\",\"type\":\"WheelZoomTool\"},{\"id\":\"dba31ec9-d399-4968-887b-66ce00bbb212\",\"type\":\"BoxZoomTool\"},{\"id\":\"5d68731d-c0ba-432d-b309-8d8cf3e6df7e\",\"type\":\"SaveTool\"},{\"id\":\"10948077-9544-45e6-9a1e-53a78d261f67\",\"type\":\"ResetTool\"},{\"id\":\"9fe30ecf-9955-4119-9c6e-f4397c382adf\",\"type\":\"HelpTool\"}]},\"id\":\"153077e3-275a-401b-99e3-7886e937dff2\",\"type\":\"Toolbar\"},{\"attributes\":{},\"id\":\"e88fd57f-c271-4a6b-9cb7-3c0f2da6edb8\",\"type\":\"HelpTool\"},{\"attributes\":{},\"id\":\"3bfbf3ac-d536-4768-b440-8af9336d920c\",\"type\":\"BasicTickFormatter\"},{\"attributes\":{\"grid_line_alpha\":{\"value\":0},\"grid_line_color\":{\"value\":null},\"plot\":{\"id\":\"110d74e1-0d30-4941-9c7b-75948bb240b7\",\"subtype\":\"Figure\",\"type\":\"Plot\"},\"ticker\":{\"id\":\"8208be8f-6aaa-46d3-854a-6b6e45378155\",\"type\":\"BasicTicker\"}},\"id\":\"7bfe12f1-adbc-475a-92d4-6296eef06ea7\",\"type\":\"Grid\"},{\"attributes\":{\"callback\":null},\"id\":\"5b0a607b-cccd-40b8-84b0-10a4db8388aa\",\"type\":\"DataRange1d\"},{\"attributes\":{},\"id\":\"2876acb7-ca69-45a5-bf29-a450fff3b5b4\",\"type\":\"LinearScale\"},{\"attributes\":{\"axis_label\":null,\"axis_label_text_color\":{\"value\":\"white\"},\"axis_line_color\":{\"value\":null},\"formatter\":{\"id\":\"ef03678c-3a32-41ef-b834-c193dd954b95\",\"type\":\"BasicTickFormatter\"},\"major_label_text_color\":{\"value\":\"white\"},\"major_tick_line_color\":{\"value\":null},\"minor_tick_line_color\":{\"value\":null},\"plot\":{\"id\":\"110d74e1-0d30-4941-9c7b-75948bb240b7\",\"subtype\":\"Figure\",\"type\":\"Plot\"},\"ticker\":{\"id\":\"1e2ec265-3e5d-4391-8341-03ae1095b017\",\"type\":\"FixedTicker\"}},\"id\":\"19b978c1-0566-4847-8294-e107e4c6606d\",\"type\":\"LinearAxis\"},{\"attributes\":{\"plot\":null,\"text\":\"\",\"text_color\":{\"value\":\"white\"}},\"id\":\"04fd8e98-882d-407e-8187-917b2c28b27c\",\"type\":\"Title\"},{\"attributes\":{},\"id\":\"aef4a780-5a75-4093-a7ba-6fe15924ecdc\",\"type\":\"LinearScale\"},{\"attributes\":{\"callback\":null},\"id\":\"b8ed2a19-4b96-43b0-bcda-711b0800bdd5\",\"type\":\"DataRange1d\"},{\"attributes\":{},\"id\":\"8208be8f-6aaa-46d3-854a-6b6e45378155\",\"type\":\"BasicTicker\"},{\"attributes\":{\"callback\":null,\"column_names\":[\"x\",\"top\"],\"data\":{\"top\":[27,73],\"x\":[0,1]}},\"id\":\"b6f65938-e4a2-4d51-b9e6-4efa4e6ed145\",\"type\":\"ColumnDataSource\"},{\"attributes\":{\"fill_color\":{\"value\":\"#f55385\"},\"line_color\":{\"value\":null},\"size\":{\"units\":\"screen\",\"value\":5},\"x\":{\"field\":\"x\"},\"y\":{\"field\":\"y\"}},\"id\":\"d4de2d74-7c6d-4d22-afb1-2889fc09eb0a\",\"type\":\"Circle\"},{\"attributes\":{},\"id\":\"3c796715-fe2a-462b-a056-3b4f0ab67e0b\",\"type\":\"BasicTickFormatter\"},{\"attributes\":{\"callback\":null},\"id\":\"d9175898-8eb5-454c-b631-8cd7b1cb5a61\",\"type\":\"DataRange1d\"}],\"root_ids\":[\"f488c406-d88f-47da-94f7-6d21db429b23\"]},\"title\":\"Bokeh Application\",\"version\":\"0.12.13\"}};\n",
       "  var render_items = [{\"docid\":\"e8fbfba2-f78b-4a97-9408-ea20d7bb5f40\",\"elementid\":\"160565cb-e57c-4496-bd67-5dc632afc11f\",\"modelid\":\"f488c406-d88f-47da-94f7-6d21db429b23\"}];\n",
       "  root.Bokeh.embed.embed_items_notebook(docs_json, render_items);\n",
       "\n",
       "  }\n",
       "  if (root.Bokeh !== undefined) {\n",
       "    embed_document(root);\n",
       "  } else {\n",
       "    var attempts = 0;\n",
       "    var timer = setInterval(function(root) {\n",
       "      if (root.Bokeh !== undefined) {\n",
       "        embed_document(root);\n",
       "        clearInterval(timer);\n",
       "      }\n",
       "      attempts++;\n",
       "      if (attempts > 100) {\n",
       "        console.log(\"Bokeh: ERROR: Unable to run BokehJS code because BokehJS library is missing\")\n",
       "        clearInterval(timer);\n",
       "      }\n",
       "    }, 10, root)\n",
       "  }\n",
       "})(window);"
      ],
      "application/vnd.bokehjs_exec.v0+json": ""
     },
     "metadata": {
      "application/vnd.bokehjs_exec.v0+json": {
       "id": "f488c406-d88f-47da-94f7-6d21db429b23"
      }
     },
     "output_type": "display_data"
    }
   ],
   "source": [
    "show(bernoulli_trials(p_0=0.3, show_action=True))"
   ]
  },
  {
   "cell_type": "code",
   "execution_count": 7,
   "metadata": {
    "slideshow": {
     "slide_type": "subslide"
    }
   },
   "outputs": [
    {
     "data": {
      "text/html": [
       "\n",
       "<div class=\"bk-root\">\n",
       "    <div class=\"bk-plotdiv\" id=\"71fc2b06-e91f-454a-9a09-f553132eac50\"></div>\n",
       "</div>"
      ]
     },
     "metadata": {},
     "output_type": "display_data"
    },
    {
     "data": {
      "application/javascript": [
       "(function(root) {\n",
       "  function embed_document(root) {\n",
       "    \n",
       "  var docs_json = {\"d507a470-6594-4e2a-833a-16f87cf68646\":{\"roots\":{\"references\":[{\"attributes\":{\"dimension\":1,\"grid_line_alpha\":{\"value\":0},\"grid_line_color\":{\"value\":null},\"plot\":{\"id\":\"ab3483d8-6a45-4484-b3b8-96ff7bad978a\",\"subtype\":\"Figure\",\"type\":\"Plot\"},\"ticker\":{\"id\":\"7d2a24af-3585-415d-b831-86d65c9d2a91\",\"type\":\"BasicTicker\"}},\"id\":\"01dd0aec-57b0-43ab-bb59-d78ea29eb7fc\",\"type\":\"Grid\"},{\"attributes\":{},\"id\":\"ee2de77b-0cd6-4845-b42d-11cd369bc873\",\"type\":\"HelpTool\"},{\"attributes\":{\"bottom_units\":\"screen\",\"fill_alpha\":{\"value\":0.5},\"fill_color\":{\"value\":\"lightgrey\"},\"left_units\":\"screen\",\"level\":\"overlay\",\"line_alpha\":{\"value\":1.0},\"line_color\":{\"value\":\"black\"},\"line_dash\":[4,4],\"line_width\":{\"value\":2},\"plot\":null,\"render_mode\":\"css\",\"right_units\":\"screen\",\"top_units\":\"screen\"},\"id\":\"af9de069-310f-4c62-ba0d-b72c2593f3b0\",\"type\":\"BoxAnnotation\"},{\"attributes\":{\"callback\":null,\"end\":86},\"id\":\"e4d95a48-5b72-4a84-a173-6c69740ccbe0\",\"type\":\"Range1d\"},{\"attributes\":{\"active_drag\":\"auto\",\"active_inspect\":\"auto\",\"active_scroll\":\"auto\",\"active_tap\":\"auto\",\"tools\":[{\"id\":\"a582da20-a19f-4d85-a0c8-fbd2b83bca89\",\"type\":\"PanTool\"},{\"id\":\"8f087d2e-a9db-4323-9eda-23badcb0ab56\",\"type\":\"WheelZoomTool\"},{\"id\":\"7fc46ea7-9193-4001-b9ba-0a6294aea108\",\"type\":\"BoxZoomTool\"},{\"id\":\"57a6ae19-82d2-4c59-8e30-0fba27aad2ea\",\"type\":\"SaveTool\"},{\"id\":\"bbd2786c-504d-4372-ad89-75981491daee\",\"type\":\"ResetTool\"},{\"id\":\"808751c3-7409-4767-9b72-995396ddae81\",\"type\":\"HelpTool\"}]},\"id\":\"4381469d-b182-493c-8d74-254ad6893091\",\"type\":\"Toolbar\"},{\"attributes\":{},\"id\":\"f1fa61cf-470e-4917-bb71-11e2fb274332\",\"type\":\"BasicTickFormatter\"},{\"attributes\":{\"callback\":null},\"id\":\"f42246eb-de09-4654-b0a9-462937bcbbe4\",\"type\":\"DataRange1d\"},{\"attributes\":{\"source\":{\"id\":\"482aa674-e29f-45d1-bba4-3cb001f5ebee\",\"type\":\"ColumnDataSource\"}},\"id\":\"a7bd7771-9381-40f0-b599-280eb1a34e23\",\"type\":\"CDSView\"},{\"attributes\":{\"ticks\":[0,1]},\"id\":\"c8f3f315-18e4-493b-b788-4e77baae0141\",\"type\":\"FixedTicker\"},{\"attributes\":{},\"id\":\"572cf985-822f-48f8-aa3d-6365beaf93bf\",\"type\":\"SaveTool\"},{\"attributes\":{\"callback\":null,\"column_names\":[\"x\",\"top\"],\"data\":{\"top\":[81,19],\"x\":[0,1]}},\"id\":\"482aa674-e29f-45d1-bba4-3cb001f5ebee\",\"type\":\"ColumnDataSource\"},{\"attributes\":{\"children\":[{\"id\":\"ab3483d8-6a45-4484-b3b8-96ff7bad978a\",\"subtype\":\"Figure\",\"type\":\"Plot\"},{\"id\":\"2a1dba00-4734-411a-9143-cf93d0253d6c\",\"subtype\":\"Figure\",\"type\":\"Plot\"}]},\"id\":\"dafb029b-b072-48ff-8600-9cdaf34499ab\",\"type\":\"Row\"},{\"attributes\":{\"source\":{\"id\":\"a4a5feda-f6d6-402f-bbed-0a254c7fb165\",\"type\":\"ColumnDataSource\"}},\"id\":\"43054f94-f24f-44b5-ba04-fcec7b0c954f\",\"type\":\"CDSView\"},{\"attributes\":{\"children\":[{\"id\":\"dafb029b-b072-48ff-8600-9cdaf34499ab\",\"type\":\"Row\"}]},\"id\":\"b816378b-2352-47ac-8f8d-59363541d51d\",\"type\":\"Column\"},{\"attributes\":{\"fill_color\":{\"value\":\"#519aba\"},\"line_color\":{\"value\":\"#519aba\"},\"top\":{\"field\":\"top\"},\"width\":{\"value\":0.75},\"x\":{\"field\":\"x\"}},\"id\":\"0ffec6ff-3dd6-4e86-95e5-a72d72b503de\",\"type\":\"VBar\"},{\"attributes\":{\"bottom_units\":\"screen\",\"fill_alpha\":{\"value\":0.5},\"fill_color\":{\"value\":\"lightgrey\"},\"left_units\":\"screen\",\"level\":\"overlay\",\"line_alpha\":{\"value\":1.0},\"line_color\":{\"value\":\"black\"},\"line_dash\":[4,4],\"line_width\":{\"value\":2},\"plot\":null,\"render_mode\":\"css\",\"right_units\":\"screen\",\"top_units\":\"screen\"},\"id\":\"3067d848-3090-4865-8d9f-8d538ccde502\",\"type\":\"BoxAnnotation\"},{\"attributes\":{},\"id\":\"a582da20-a19f-4d85-a0c8-fbd2b83bca89\",\"type\":\"PanTool\"},{\"attributes\":{\"callback\":null,\"column_names\":[\"x\",\"y\"],\"data\":{\"x\":[0,1,2,3,4,5,6,7,8,9,10,11,12,13,14,15,16,17,18,19,20,21,22,23,24,25,26,27,28,29,30,31,32,33,34,35,36,37,38,39,40,41,42,43,44,45,46,47,48,49,50,51,52,53,54,55,56,57,58,59,60,61,62,63,64,65,66,67,68,69,70,71,72,73,74,75,76,77,78,79,80,81,82,83,84,85,86,87,88,89,90,91,92,93,94,95,96,97,98,99],\"y\":[1,1,1,1,1,1,1,1,0,0,1,1,1,1,1,1,1,1,1,1,1,1,1,1,1,1,0,1,1,1,1,1,0,1,0,1,1,0,0,0,0,1,1,1,1,0,1,1,1,1,1,1,1,1,0,1,1,1,1,0,1,1,1,0,0,1,0,0,1,1,1,0,1,0,1,1,1,1,1,1,1,1,1,1,1,1,1,1,1,1,1,1,0,1,1,1,1,1,1,1]}},\"id\":\"a4a5feda-f6d6-402f-bbed-0a254c7fb165\",\"type\":\"ColumnDataSource\"},{\"attributes\":{},\"id\":\"3bf3cb0d-2730-4b4f-b8e3-7e5503169736\",\"type\":\"BasicTicker\"},{\"attributes\":{\"dimension\":1,\"grid_line_alpha\":{\"value\":0},\"grid_line_color\":{\"value\":null},\"plot\":{\"id\":\"2a1dba00-4734-411a-9143-cf93d0253d6c\",\"subtype\":\"Figure\",\"type\":\"Plot\"},\"ticker\":{\"id\":\"3bf3cb0d-2730-4b4f-b8e3-7e5503169736\",\"type\":\"BasicTicker\"}},\"id\":\"952d7d2e-9138-4ffa-8dcc-d8eaf4baae53\",\"type\":\"Grid\"},{\"attributes\":{\"ticks\":[0,1]},\"id\":\"a0f96081-0b2f-40ec-872a-525106a683bb\",\"type\":\"FixedTicker\"},{\"attributes\":{\"fill_alpha\":{\"value\":0.1},\"fill_color\":{\"value\":\"#1f77b4\"},\"line_alpha\":{\"value\":0.1},\"line_color\":{\"value\":\"#1f77b4\"},\"size\":{\"units\":\"screen\",\"value\":5},\"x\":{\"field\":\"x\"},\"y\":{\"field\":\"y\"}},\"id\":\"ba99fc22-3ea9-4ab7-9038-c7c9c0c19a16\",\"type\":\"Circle\"},{\"attributes\":{\"fill_color\":{\"value\":\"#f55385\"},\"line_color\":{\"value\":null},\"size\":{\"units\":\"screen\",\"value\":5},\"x\":{\"field\":\"x\"},\"y\":{\"field\":\"y\"}},\"id\":\"0c713252-1580-4514-b0ab-e348e90d6261\",\"type\":\"Circle\"},{\"attributes\":{},\"id\":\"7d2a24af-3585-415d-b831-86d65c9d2a91\",\"type\":\"BasicTicker\"},{\"attributes\":{\"data_source\":{\"id\":\"482aa674-e29f-45d1-bba4-3cb001f5ebee\",\"type\":\"ColumnDataSource\"},\"glyph\":{\"id\":\"0ffec6ff-3dd6-4e86-95e5-a72d72b503de\",\"type\":\"VBar\"},\"hover_glyph\":null,\"muted_glyph\":null,\"nonselection_glyph\":{\"id\":\"ba619277-30bb-4226-9559-0f7ffb3788e7\",\"type\":\"VBar\"},\"selection_glyph\":null,\"view\":{\"id\":\"a7bd7771-9381-40f0-b599-280eb1a34e23\",\"type\":\"CDSView\"}},\"id\":\"6363176b-cc20-4eec-ad74-aa073f722bb9\",\"type\":\"GlyphRenderer\"},{\"attributes\":{},\"id\":\"35bcc5b9-652b-4252-91fa-2c86ff19354d\",\"type\":\"BasicTicker\"},{\"attributes\":{\"axis_label\":null,\"axis_label_text_color\":{\"value\":\"white\"},\"axis_line_color\":{\"value\":null},\"formatter\":{\"id\":\"a968dd9a-6880-4d29-b6ef-5cf2655ad75a\",\"type\":\"BasicTickFormatter\"},\"major_label_text_color\":{\"value\":\"white\"},\"major_tick_line_color\":{\"value\":null},\"minor_tick_line_color\":{\"value\":null},\"plot\":{\"id\":\"2a1dba00-4734-411a-9143-cf93d0253d6c\",\"subtype\":\"Figure\",\"type\":\"Plot\"},\"ticker\":{\"id\":\"3bf3cb0d-2730-4b4f-b8e3-7e5503169736\",\"type\":\"BasicTicker\"}},\"id\":\"466881e4-f672-4326-bc1a-0c4d56450193\",\"type\":\"LinearAxis\"},{\"attributes\":{\"overlay\":{\"id\":\"af9de069-310f-4c62-ba0d-b72c2593f3b0\",\"type\":\"BoxAnnotation\"}},\"id\":\"ea96a635-4abd-4a86-af52-bf6382e2225f\",\"type\":\"BoxZoomTool\"},{\"attributes\":{\"callback\":null},\"id\":\"3ab2464d-397e-4c53-bd99-6079c36bba5a\",\"type\":\"DataRange1d\"},{\"attributes\":{},\"id\":\"752aa5a4-bbf8-439f-98d9-91ef8a000103\",\"type\":\"BasicTickFormatter\"},{\"attributes\":{\"active_drag\":\"auto\",\"active_inspect\":\"auto\",\"active_scroll\":\"auto\",\"active_tap\":\"auto\",\"tools\":[{\"id\":\"f2857c08-6db4-4ec4-b87e-bd2fec96f2fb\",\"type\":\"PanTool\"},{\"id\":\"679feb7a-de78-4304-938f-ed17f1afa1ee\",\"type\":\"WheelZoomTool\"},{\"id\":\"ea96a635-4abd-4a86-af52-bf6382e2225f\",\"type\":\"BoxZoomTool\"},{\"id\":\"572cf985-822f-48f8-aa3d-6365beaf93bf\",\"type\":\"SaveTool\"},{\"id\":\"154e3699-3b19-4fe4-aeee-758b63aed7ca\",\"type\":\"ResetTool\"},{\"id\":\"ee2de77b-0cd6-4845-b42d-11cd369bc873\",\"type\":\"HelpTool\"}]},\"id\":\"95bd0c6d-7052-4f69-aac9-a30fc261f41f\",\"type\":\"Toolbar\"},{\"attributes\":{},\"id\":\"808751c3-7409-4767-9b72-995396ddae81\",\"type\":\"HelpTool\"},{\"attributes\":{\"background_fill_alpha\":{\"value\":0},\"below\":[{\"id\":\"7052cd49-87e5-4c26-9296-c1c8d409d74f\",\"type\":\"LinearAxis\"}],\"border_fill_alpha\":{\"value\":0},\"left\":[{\"id\":\"466881e4-f672-4326-bc1a-0c4d56450193\",\"type\":\"LinearAxis\"}],\"outline_line_color\":{\"value\":\"#333333\"},\"plot_height\":200,\"plot_width\":50,\"renderers\":[{\"id\":\"7052cd49-87e5-4c26-9296-c1c8d409d74f\",\"type\":\"LinearAxis\"},{\"id\":\"7d66cd8f-ed03-478a-967d-18edf1f6c481\",\"type\":\"Grid\"},{\"id\":\"466881e4-f672-4326-bc1a-0c4d56450193\",\"type\":\"LinearAxis\"},{\"id\":\"952d7d2e-9138-4ffa-8dcc-d8eaf4baae53\",\"type\":\"Grid\"},{\"id\":\"af9de069-310f-4c62-ba0d-b72c2593f3b0\",\"type\":\"BoxAnnotation\"},{\"id\":\"6363176b-cc20-4eec-ad74-aa073f722bb9\",\"type\":\"GlyphRenderer\"}],\"title\":{\"id\":\"3b720fa6-4355-4b72-bb5b-8c6efe31797b\",\"type\":\"Title\"},\"toolbar\":{\"id\":\"95bd0c6d-7052-4f69-aac9-a30fc261f41f\",\"type\":\"Toolbar\"},\"toolbar_location\":null,\"x_range\":{\"id\":\"9c143600-d74e-4691-98a5-a592b4d1fefa\",\"type\":\"DataRange1d\"},\"x_scale\":{\"id\":\"701f2899-cb8e-4fdd-a120-b40e3ec68660\",\"type\":\"LinearScale\"},\"y_range\":{\"id\":\"e4d95a48-5b72-4a84-a173-6c69740ccbe0\",\"type\":\"Range1d\"},\"y_scale\":{\"id\":\"c102e693-9afe-432a-ba46-80ed4dbb9a1b\",\"type\":\"LinearScale\"}},\"id\":\"2a1dba00-4734-411a-9143-cf93d0253d6c\",\"subtype\":\"Figure\",\"type\":\"Plot\"},{\"attributes\":{},\"id\":\"bbd2786c-504d-4372-ad89-75981491daee\",\"type\":\"ResetTool\"},{\"attributes\":{},\"id\":\"679feb7a-de78-4304-938f-ed17f1afa1ee\",\"type\":\"WheelZoomTool\"},{\"attributes\":{\"fill_alpha\":{\"value\":0.1},\"fill_color\":{\"value\":\"#1f77b4\"},\"line_alpha\":{\"value\":0.1},\"line_color\":{\"value\":\"#1f77b4\"},\"top\":{\"field\":\"top\"},\"width\":{\"value\":0.75},\"x\":{\"field\":\"x\"}},\"id\":\"ba619277-30bb-4226-9559-0f7ffb3788e7\",\"type\":\"VBar\"},{\"attributes\":{},\"id\":\"f2857c08-6db4-4ec4-b87e-bd2fec96f2fb\",\"type\":\"PanTool\"},{\"attributes\":{},\"id\":\"57a6ae19-82d2-4c59-8e30-0fba27aad2ea\",\"type\":\"SaveTool\"},{\"attributes\":{},\"id\":\"154e3699-3b19-4fe4-aeee-758b63aed7ca\",\"type\":\"ResetTool\"},{\"attributes\":{\"data_source\":{\"id\":\"a4a5feda-f6d6-402f-bbed-0a254c7fb165\",\"type\":\"ColumnDataSource\"},\"glyph\":{\"id\":\"0c713252-1580-4514-b0ab-e348e90d6261\",\"type\":\"Circle\"},\"hover_glyph\":null,\"muted_glyph\":null,\"nonselection_glyph\":{\"id\":\"ba99fc22-3ea9-4ab7-9038-c7c9c0c19a16\",\"type\":\"Circle\"},\"selection_glyph\":null,\"view\":{\"id\":\"43054f94-f24f-44b5-ba04-fcec7b0c954f\",\"type\":\"CDSView\"}},\"id\":\"e64e34b7-1369-4db8-8d16-7a23ff6ccee3\",\"type\":\"GlyphRenderer\"},{\"attributes\":{\"overlay\":{\"id\":\"3067d848-3090-4865-8d9f-8d538ccde502\",\"type\":\"BoxAnnotation\"}},\"id\":\"7fc46ea7-9193-4001-b9ba-0a6294aea108\",\"type\":\"BoxZoomTool\"},{\"attributes\":{\"background_fill_alpha\":{\"value\":0},\"below\":[{\"id\":\"ff00578b-0953-4d84-bc18-6533b0d27a34\",\"type\":\"LinearAxis\"}],\"border_fill_alpha\":{\"value\":0},\"left\":[{\"id\":\"9b76f1cf-868f-42a7-a97e-94c3669d7be9\",\"type\":\"LinearAxis\"}],\"outline_line_color\":{\"value\":\"#333333\"},\"plot_height\":200,\"plot_width\":550,\"renderers\":[{\"id\":\"ff00578b-0953-4d84-bc18-6533b0d27a34\",\"type\":\"LinearAxis\"},{\"id\":\"e5b00b2c-0db2-499e-9075-17d706638e7d\",\"type\":\"Grid\"},{\"id\":\"9b76f1cf-868f-42a7-a97e-94c3669d7be9\",\"type\":\"LinearAxis\"},{\"id\":\"01dd0aec-57b0-43ab-bb59-d78ea29eb7fc\",\"type\":\"Grid\"},{\"id\":\"3067d848-3090-4865-8d9f-8d538ccde502\",\"type\":\"BoxAnnotation\"},{\"id\":\"e64e34b7-1369-4db8-8d16-7a23ff6ccee3\",\"type\":\"GlyphRenderer\"}],\"title\":{\"id\":\"7db73553-56f1-4cc2-a011-a2cf88253aec\",\"type\":\"Title\"},\"toolbar\":{\"id\":\"4381469d-b182-493c-8d74-254ad6893091\",\"type\":\"Toolbar\"},\"toolbar_location\":null,\"x_range\":{\"id\":\"f42246eb-de09-4654-b0a9-462937bcbbe4\",\"type\":\"DataRange1d\"},\"x_scale\":{\"id\":\"19f637e3-d4ff-4a45-9d65-d1bcb6f6742d\",\"type\":\"LinearScale\"},\"y_range\":{\"id\":\"3ab2464d-397e-4c53-bd99-6079c36bba5a\",\"type\":\"DataRange1d\"},\"y_scale\":{\"id\":\"88168c9e-3265-4b5f-922c-59fffa50cf82\",\"type\":\"LinearScale\"}},\"id\":\"ab3483d8-6a45-4484-b3b8-96ff7bad978a\",\"subtype\":\"Figure\",\"type\":\"Plot\"},{\"attributes\":{},\"id\":\"8f087d2e-a9db-4323-9eda-23badcb0ab56\",\"type\":\"WheelZoomTool\"},{\"attributes\":{\"plot\":null,\"text\":\"Coin Flips, p\\u0302 = 0.81 predict: class = 0\",\"text_color\":{\"value\":\"white\"}},\"id\":\"7db73553-56f1-4cc2-a011-a2cf88253aec\",\"type\":\"Title\"},{\"attributes\":{},\"id\":\"701f2899-cb8e-4fdd-a120-b40e3ec68660\",\"type\":\"LinearScale\"},{\"attributes\":{},\"id\":\"88168c9e-3265-4b5f-922c-59fffa50cf82\",\"type\":\"LinearScale\"},{\"attributes\":{},\"id\":\"9a55f35c-6200-4dd1-97bc-dadb247dcf06\",\"type\":\"BasicTicker\"},{\"attributes\":{},\"id\":\"19f637e3-d4ff-4a45-9d65-d1bcb6f6742d\",\"type\":\"LinearScale\"},{\"attributes\":{\"grid_line_alpha\":{\"value\":0},\"grid_line_color\":{\"value\":null},\"plot\":{\"id\":\"2a1dba00-4734-411a-9143-cf93d0253d6c\",\"subtype\":\"Figure\",\"type\":\"Plot\"},\"ticker\":{\"id\":\"9a55f35c-6200-4dd1-97bc-dadb247dcf06\",\"type\":\"BasicTicker\"}},\"id\":\"7d66cd8f-ed03-478a-967d-18edf1f6c481\",\"type\":\"Grid\"},{\"attributes\":{},\"id\":\"a968dd9a-6880-4d29-b6ef-5cf2655ad75a\",\"type\":\"BasicTickFormatter\"},{\"attributes\":{\"plot\":null,\"text\":\"\",\"text_color\":{\"value\":\"white\"}},\"id\":\"3b720fa6-4355-4b72-bb5b-8c6efe31797b\",\"type\":\"Title\"},{\"attributes\":{\"axis_label\":null,\"axis_label_text_color\":{\"value\":\"white\"},\"axis_line_color\":{\"value\":null},\"formatter\":{\"id\":\"f1fa61cf-470e-4917-bb71-11e2fb274332\",\"type\":\"BasicTickFormatter\"},\"major_label_text_color\":{\"value\":\"white\"},\"major_tick_line_color\":{\"value\":null},\"minor_tick_line_color\":{\"value\":null},\"plot\":{\"id\":\"2a1dba00-4734-411a-9143-cf93d0253d6c\",\"subtype\":\"Figure\",\"type\":\"Plot\"},\"ticker\":{\"id\":\"c8f3f315-18e4-493b-b788-4e77baae0141\",\"type\":\"FixedTicker\"}},\"id\":\"7052cd49-87e5-4c26-9296-c1c8d409d74f\",\"type\":\"LinearAxis\"},{\"attributes\":{\"callback\":null},\"id\":\"9c143600-d74e-4691-98a5-a592b4d1fefa\",\"type\":\"DataRange1d\"},{\"attributes\":{},\"id\":\"fc1e1e9e-4bda-421a-8c9b-a6fd1b2140b9\",\"type\":\"BasicTickFormatter\"},{\"attributes\":{\"axis_label\":null,\"axis_label_text_color\":{\"value\":\"white\"},\"axis_line_color\":{\"value\":null},\"formatter\":{\"id\":\"fc1e1e9e-4bda-421a-8c9b-a6fd1b2140b9\",\"type\":\"BasicTickFormatter\"},\"major_label_text_color\":{\"value\":\"white\"},\"major_tick_line_color\":{\"value\":null},\"minor_tick_line_color\":{\"value\":null},\"plot\":{\"id\":\"ab3483d8-6a45-4484-b3b8-96ff7bad978a\",\"subtype\":\"Figure\",\"type\":\"Plot\"},\"ticker\":{\"id\":\"a0f96081-0b2f-40ec-872a-525106a683bb\",\"type\":\"FixedTicker\"}},\"id\":\"9b76f1cf-868f-42a7-a97e-94c3669d7be9\",\"type\":\"LinearAxis\"},{\"attributes\":{\"axis_label\":null,\"axis_label_text_color\":{\"value\":\"white\"},\"axis_line_color\":{\"value\":null},\"formatter\":{\"id\":\"752aa5a4-bbf8-439f-98d9-91ef8a000103\",\"type\":\"BasicTickFormatter\"},\"major_label_text_color\":{\"value\":\"white\"},\"major_tick_line_color\":{\"value\":null},\"minor_tick_line_color\":{\"value\":null},\"plot\":{\"id\":\"ab3483d8-6a45-4484-b3b8-96ff7bad978a\",\"subtype\":\"Figure\",\"type\":\"Plot\"},\"ticker\":{\"id\":\"35bcc5b9-652b-4252-91fa-2c86ff19354d\",\"type\":\"BasicTicker\"}},\"id\":\"ff00578b-0953-4d84-bc18-6533b0d27a34\",\"type\":\"LinearAxis\"},{\"attributes\":{},\"id\":\"c102e693-9afe-432a-ba46-80ed4dbb9a1b\",\"type\":\"LinearScale\"},{\"attributes\":{\"grid_line_alpha\":{\"value\":0},\"grid_line_color\":{\"value\":null},\"plot\":{\"id\":\"ab3483d8-6a45-4484-b3b8-96ff7bad978a\",\"subtype\":\"Figure\",\"type\":\"Plot\"},\"ticker\":{\"id\":\"35bcc5b9-652b-4252-91fa-2c86ff19354d\",\"type\":\"BasicTicker\"}},\"id\":\"e5b00b2c-0db2-499e-9075-17d706638e7d\",\"type\":\"Grid\"}],\"root_ids\":[\"b816378b-2352-47ac-8f8d-59363541d51d\"]},\"title\":\"Bokeh Application\",\"version\":\"0.12.13\"}};\n",
       "  var render_items = [{\"docid\":\"d507a470-6594-4e2a-833a-16f87cf68646\",\"elementid\":\"71fc2b06-e91f-454a-9a09-f553132eac50\",\"modelid\":\"b816378b-2352-47ac-8f8d-59363541d51d\"}];\n",
       "  root.Bokeh.embed.embed_items_notebook(docs_json, render_items);\n",
       "\n",
       "  }\n",
       "  if (root.Bokeh !== undefined) {\n",
       "    embed_document(root);\n",
       "  } else {\n",
       "    var attempts = 0;\n",
       "    var timer = setInterval(function(root) {\n",
       "      if (root.Bokeh !== undefined) {\n",
       "        embed_document(root);\n",
       "        clearInterval(timer);\n",
       "      }\n",
       "      attempts++;\n",
       "      if (attempts > 100) {\n",
       "        console.log(\"Bokeh: ERROR: Unable to run BokehJS code because BokehJS library is missing\")\n",
       "        clearInterval(timer);\n",
       "      }\n",
       "    }, 10, root)\n",
       "  }\n",
       "})(window);"
      ],
      "application/vnd.bokehjs_exec.v0+json": ""
     },
     "metadata": {
      "application/vnd.bokehjs_exec.v0+json": {
       "id": "b816378b-2352-47ac-8f8d-59363541d51d"
      }
     },
     "output_type": "display_data"
    }
   ],
   "source": [
    "show(bernoulli_trials(p_0=0.8, show_action=True))"
   ]
  },
  {
   "cell_type": "markdown",
   "metadata": {
    "slideshow": {
     "slide_type": "slide"
    }
   },
   "source": [
    "# Classification\n",
    "\n",
    "Say for a data sample our priors are defiend by a MLE of the Bernoulli distribution for each class of examples, with the parameter P:\n",
    "\n",
    "\\begin{equation}\n",
    "\\hat P = \\frac{{\\sum {{x^t}} }}{N}\n",
    "\\end{equation}\n",
    "\n",
    "Our liklihoods are defiend by a MLE of the Normal distribution, with the parameters mean and standard deviation:\n",
    "\n",
    "\\begin{equation}\n",
    "p(x|\\mu ,{\\sigma}) = \\frac{1}{{\\sqrt {2{\\sigma ^2}\\pi } }}\\exp \\left[ {\\frac{{{{(x - \\mu )}^2}}}{{2{\\sigma ^2}}}} \\right], - \\infty  < x < \\infty\n",
    "\\end{equation}\n",
    "\n",
    "We use the univariate normal density function provided in SciPy to calulate values or vectors:"
   ]
  },
  {
   "cell_type": "code",
   "execution_count": 8,
   "metadata": {},
   "outputs": [],
   "source": [
    "# norm.pdf(INPUT_SAMPLE_OR_VECTOR, loc=MEAN_VALUE, \n",
    "#          scale=STANDARD_DEVIATION_VALUE)"
   ]
  },
  {
   "cell_type": "markdown",
   "metadata": {
    "slideshow": {
     "slide_type": "subslide"
    }
   },
   "source": [
    "We can use Bayes theorem to find a posterior probability for a single sample \\\\(x^t\\\\):\n",
    "\\\\[p({C_1|\\mathbf{x}}) = \\frac{p({\\mathbf{x}}|C_1)\\hat P(C_1)}{p({\\mathbf{x}}|C_1)\\hat P(C_1) + p({\\mathbf{x}}|C_2)\\hat P(C_2)}\\\\]"
   ]
  },
  {
   "cell_type": "code",
   "execution_count": 9,
   "metadata": {
    "slideshow": {
     "slide_type": "subslide"
    }
   },
   "outputs": [
    {
     "name": "stdout",
     "output_type": "stream",
     "text": [
      "P(C_1|x):  0.21993516645994293\n",
      "P(C_2|x):  0.7800648335400571\n"
     ]
    }
   ],
   "source": [
    "prior_1 = 0.3\n",
    "prior_2 = 1 - prior_1\n",
    "liklihood_1_mean = -1.5\n",
    "liklihood_1_std = 0.5\n",
    "liklihood_2_mean = 1\n",
    "liklihood_2_std = 0.8\n",
    "\n",
    "x_t = -0.4\n",
    "\n",
    "# normal density function: loc = mean, scale = standard deviation\n",
    "print(\"P(C_1|x): \", \n",
    "       norm.pdf(x_t, loc=liklihood_1_mean, scale=liklihood_1_std)*prior_1 /  \\\n",
    "      (norm.pdf(x_t, loc=liklihood_1_mean, scale=liklihood_1_std)*prior_1+  \\\n",
    "       norm.pdf(x_t, loc=liklihood_2_mean, scale=liklihood_2_std)*prior_2))\n",
    "print(\"P(C_2|x): \", \n",
    "       norm.pdf(x_t, loc=liklihood_2_mean, scale=liklihood_2_std)*prior_2 /  \\\n",
    "      (norm.pdf(x_t, loc=liklihood_1_mean, scale=liklihood_1_std)*prior_1+  \\\n",
    "       norm.pdf(x_t, loc=liklihood_2_mean, scale=liklihood_2_std)*prior_2))"
   ]
  },
  {
   "cell_type": "code",
   "execution_count": 10,
   "metadata": {
    "slideshow": {
     "slide_type": "skip"
    }
   },
   "outputs": [],
   "source": [
    "# generate a set of uniformly distributed points for plotting\n",
    "x_min = min([norm.ppf(.00001, loc=liklihood_1_mean, scale=liklihood_1_std),\n",
    "     norm.ppf(.00001, loc=liklihood_2_mean, scale=liklihood_2_std)])\n",
    "x_max = max([norm.ppf(0.99999, loc=liklihood_1_mean, scale=liklihood_1_std),\n",
    "     norm.ppf(0.99999, loc=liklihood_2_mean, scale=liklihood_2_std)])\n",
    "x = np.linspace(x_min, x_max, 200)\n",
    "\n",
    "# calculate over a range for plotting\n",
    "liklihood_1 = norm.pdf(x, loc=liklihood_1_mean, scale=liklihood_1_std)\n",
    "liklihood_2 = norm.pdf(x, loc=liklihood_2_mean, scale=liklihood_2_std)\n",
    "\n",
    "evidence = liklihood_1*prior_1+liklihood_2*prior_2\n",
    "\n",
    "plot_liklihoods = basic_plot(title='Liklihoods')\n",
    "plot_liklihoods.line(x=x, y=liklihood_1, legend='p(x|C₁)', color=colors[0], line_width=3)\n",
    "plot_liklihoods.line(x=x, y=liklihood_2, legend='p(x|C₂)', color=colors[1], line_width=3)\n",
    "plot_liklihoods.x_range = Range1d(x_min, x_max)\n",
    "plot_liklihoods.y_range = Range1d(0, 1)"
   ]
  },
  {
   "cell_type": "code",
   "execution_count": 11,
   "metadata": {
    "slideshow": {
     "slide_type": "subslide"
    }
   },
   "outputs": [
    {
     "data": {
      "text/html": [
       "\n",
       "<div class=\"bk-root\">\n",
       "    <div class=\"bk-plotdiv\" id=\"2da73486-232a-4589-b763-cb986cd7b362\"></div>\n",
       "</div>"
      ]
     },
     "metadata": {},
     "output_type": "display_data"
    },
    {
     "data": {
      "application/javascript": [
       "(function(root) {\n",
       "  function embed_document(root) {\n",
       "    \n",
       "  var docs_json = {\"cf459faa-4fbd-4ecd-a0c5-aa15125e228f\":{\"roots\":{\"references\":[{\"attributes\":{\"axis_label\":null,\"axis_label_text_color\":{\"value\":\"white\"},\"axis_line_color\":{\"value\":null},\"formatter\":{\"id\":\"4c3656db-426e-41fa-abdd-d929e4b8305c\",\"type\":\"BasicTickFormatter\"},\"major_label_text_color\":{\"value\":\"white\"},\"major_tick_line_color\":{\"value\":null},\"minor_tick_line_color\":{\"value\":null},\"plot\":{\"id\":\"5c398fd0-ee9a-4c50-9625-4fd93ad07c8c\",\"subtype\":\"Figure\",\"type\":\"Plot\"},\"ticker\":{\"id\":\"1b114031-c57f-4282-b9e2-9f0c951a4512\",\"type\":\"BasicTicker\"}},\"id\":\"5cefa380-9641-45df-ad80-3530a740c666\",\"type\":\"LinearAxis\"},{\"attributes\":{\"label\":{\"value\":\"p(x|C\\u2081)\"},\"renderers\":[{\"id\":\"9853aea4-0fb0-441c-ba68-145865016abc\",\"type\":\"GlyphRenderer\"}]},\"id\":\"e2e536ff-081d-4dd2-88df-adb5e71e78bb\",\"type\":\"LegendItem\"},{\"attributes\":{\"line_alpha\":0.1,\"line_color\":\"#1f77b4\",\"line_width\":3,\"x\":{\"field\":\"x\"},\"y\":{\"field\":\"y\"}},\"id\":\"d3594079-09d3-456e-b5f2-0ac97723184b\",\"type\":\"Line\"},{\"attributes\":{},\"id\":\"1b114031-c57f-4282-b9e2-9f0c951a4512\",\"type\":\"BasicTicker\"},{\"attributes\":{\"grid_line_alpha\":{\"value\":0},\"grid_line_color\":{\"value\":null},\"plot\":{\"id\":\"5c398fd0-ee9a-4c50-9625-4fd93ad07c8c\",\"subtype\":\"Figure\",\"type\":\"Plot\"},\"ticker\":{\"id\":\"1b114031-c57f-4282-b9e2-9f0c951a4512\",\"type\":\"BasicTicker\"}},\"id\":\"d5bfe7d8-878e-4930-8007-d867dabd5c70\",\"type\":\"Grid\"},{\"attributes\":{\"axis_label\":null,\"axis_label_text_color\":{\"value\":\"white\"},\"axis_line_color\":{\"value\":null},\"formatter\":{\"id\":\"af4a1ec5-1d9e-412a-ad97-f59144d7f823\",\"type\":\"BasicTickFormatter\"},\"major_label_text_color\":{\"value\":\"white\"},\"major_tick_line_color\":{\"value\":null},\"minor_tick_line_color\":{\"value\":null},\"plot\":{\"id\":\"5c398fd0-ee9a-4c50-9625-4fd93ad07c8c\",\"subtype\":\"Figure\",\"type\":\"Plot\"},\"ticker\":{\"id\":\"8451f6c3-e087-4514-84b8-3dc3c66b5f5c\",\"type\":\"BasicTicker\"}},\"id\":\"e3ef1206-b93f-4c97-b289-ce55d5749d3f\",\"type\":\"LinearAxis\"},{\"attributes\":{},\"id\":\"8451f6c3-e087-4514-84b8-3dc3c66b5f5c\",\"type\":\"BasicTicker\"},{\"attributes\":{\"dimension\":1,\"grid_line_alpha\":{\"value\":0},\"grid_line_color\":{\"value\":null},\"plot\":{\"id\":\"5c398fd0-ee9a-4c50-9625-4fd93ad07c8c\",\"subtype\":\"Figure\",\"type\":\"Plot\"},\"ticker\":{\"id\":\"8451f6c3-e087-4514-84b8-3dc3c66b5f5c\",\"type\":\"BasicTicker\"}},\"id\":\"52fc29f5-12d1-4c73-8c8f-92b98f287f3e\",\"type\":\"Grid\"},{\"attributes\":{\"data_source\":{\"id\":\"a385cae8-3faa-4a03-bd35-d91564742bda\",\"type\":\"ColumnDataSource\"},\"glyph\":{\"id\":\"f6b0ed38-fdb3-445c-b974-181bef0f9dd9\",\"type\":\"Line\"},\"hover_glyph\":null,\"muted_glyph\":null,\"nonselection_glyph\":{\"id\":\"d3594079-09d3-456e-b5f2-0ac97723184b\",\"type\":\"Line\"},\"selection_glyph\":null,\"view\":{\"id\":\"0d5b745d-2a21-4832-a5ca-3004edc4ed4f\",\"type\":\"CDSView\"}},\"id\":\"9853aea4-0fb0-441c-ba68-145865016abc\",\"type\":\"GlyphRenderer\"},{\"attributes\":{\"background_fill_color\":{\"value\":\"#000000\"},\"items\":[{\"id\":\"e2e536ff-081d-4dd2-88df-adb5e71e78bb\",\"type\":\"LegendItem\"},{\"id\":\"4bd05f09-aff3-403f-986f-39b4c64a7da9\",\"type\":\"LegendItem\"}],\"label_text_color\":{\"value\":\"#CCCCCC\"},\"plot\":{\"id\":\"5c398fd0-ee9a-4c50-9625-4fd93ad07c8c\",\"subtype\":\"Figure\",\"type\":\"Plot\"}},\"id\":\"a0f38326-08b3-4f82-ad84-fc0c6c3ceb59\",\"type\":\"Legend\"},{\"attributes\":{\"bottom_units\":\"screen\",\"fill_alpha\":{\"value\":0.5},\"fill_color\":{\"value\":\"lightgrey\"},\"left_units\":\"screen\",\"level\":\"overlay\",\"line_alpha\":{\"value\":1.0},\"line_color\":{\"value\":\"black\"},\"line_dash\":[4,4],\"line_width\":{\"value\":2},\"plot\":null,\"render_mode\":\"css\",\"right_units\":\"screen\",\"top_units\":\"screen\"},\"id\":\"a54184eb-75b0-40ea-80dc-dce848cbb590\",\"type\":\"BoxAnnotation\"},{\"attributes\":{},\"id\":\"6e55ba6f-26ec-4e14-99e2-31b535b62591\",\"type\":\"PanTool\"},{\"attributes\":{\"source\":{\"id\":\"a385cae8-3faa-4a03-bd35-d91564742bda\",\"type\":\"ColumnDataSource\"}},\"id\":\"0d5b745d-2a21-4832-a5ca-3004edc4ed4f\",\"type\":\"CDSView\"},{\"attributes\":{},\"id\":\"e2b8d15d-b1b1-4701-af45-cf7ee5184131\",\"type\":\"WheelZoomTool\"},{\"attributes\":{\"overlay\":{\"id\":\"a54184eb-75b0-40ea-80dc-dce848cbb590\",\"type\":\"BoxAnnotation\"}},\"id\":\"0fdbc11c-078c-4e8e-91c3-5fda6f9fdc4c\",\"type\":\"BoxZoomTool\"},{\"attributes\":{},\"id\":\"2f4b8637-35e3-4420-9a94-dd67be50efc9\",\"type\":\"SaveTool\"},{\"attributes\":{},\"id\":\"4ac2b313-44d2-4f22-a283-71c3e8537f0d\",\"type\":\"ResetTool\"},{\"attributes\":{},\"id\":\"6d3010ef-9923-413b-9e0c-d9602a42e319\",\"type\":\"HelpTool\"},{\"attributes\":{},\"id\":\"4c3656db-426e-41fa-abdd-d929e4b8305c\",\"type\":\"BasicTickFormatter\"},{\"attributes\":{},\"id\":\"af4a1ec5-1d9e-412a-ad97-f59144d7f823\",\"type\":\"BasicTickFormatter\"},{\"attributes\":{\"line_color\":\"#519aba\",\"line_width\":3,\"x\":{\"field\":\"x\"},\"y\":{\"field\":\"y\"}},\"id\":\"09394dae-c610-40a5-a475-87bb07d4ffbc\",\"type\":\"Line\"},{\"attributes\":{\"data_source\":{\"id\":\"938d9918-146c-44c9-8e0e-99ac1fb7b189\",\"type\":\"ColumnDataSource\"},\"glyph\":{\"id\":\"09394dae-c610-40a5-a475-87bb07d4ffbc\",\"type\":\"Line\"},\"hover_glyph\":null,\"muted_glyph\":null,\"nonselection_glyph\":{\"id\":\"d635b25a-30d5-4f97-84d7-66f575beb23c\",\"type\":\"Line\"},\"selection_glyph\":null,\"view\":{\"id\":\"eef1d59f-9254-4872-8337-8d66911540dd\",\"type\":\"CDSView\"}},\"id\":\"1111be6b-7a58-4d3a-ad1e-b1aa99703df9\",\"type\":\"GlyphRenderer\"},{\"attributes\":{\"callback\":null},\"id\":\"35777daa-2839-4ae9-b0c2-ea69982d811f\",\"type\":\"Range1d\"},{\"attributes\":{\"callback\":null,\"end\":4.411912635139073,\"start\":-3.6324453969614123},\"id\":\"222f12ab-8587-4ef3-830a-d13d466d6c05\",\"type\":\"Range1d\"},{\"attributes\":{\"line_color\":\"#f55385\",\"line_width\":3,\"x\":{\"field\":\"x\"},\"y\":{\"field\":\"y\"}},\"id\":\"f6b0ed38-fdb3-445c-b974-181bef0f9dd9\",\"type\":\"Line\"},{\"attributes\":{\"label\":{\"value\":\"p(x|C\\u2082)\"},\"renderers\":[{\"id\":\"1111be6b-7a58-4d3a-ad1e-b1aa99703df9\",\"type\":\"GlyphRenderer\"}]},\"id\":\"4bd05f09-aff3-403f-986f-39b4c64a7da9\",\"type\":\"LegendItem\"},{\"attributes\":{\"callback\":null,\"column_names\":[\"x\",\"y\"],\"data\":{\"x\":{\"__ndarray__\":\"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\",\"dtype\":\"float64\",\"shape\":[200]},\"y\":{\"__ndarray__\":\"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\",\"dtype\":\"float64\",\"shape\":[200]}}},\"id\":\"a385cae8-3faa-4a03-bd35-d91564742bda\",\"type\":\"ColumnDataSource\"},{\"attributes\":{\"line_alpha\":0.1,\"line_color\":\"#1f77b4\",\"line_width\":3,\"x\":{\"field\":\"x\"},\"y\":{\"field\":\"y\"}},\"id\":\"d635b25a-30d5-4f97-84d7-66f575beb23c\",\"type\":\"Line\"},{\"attributes\":{\"background_fill_alpha\":{\"value\":0},\"below\":[{\"id\":\"5cefa380-9641-45df-ad80-3530a740c666\",\"type\":\"LinearAxis\"}],\"border_fill_alpha\":{\"value\":0},\"left\":[{\"id\":\"e3ef1206-b93f-4c97-b289-ce55d5749d3f\",\"type\":\"LinearAxis\"}],\"outline_line_color\":{\"value\":\"#333333\"},\"plot_height\":300,\"plot_width\":400,\"renderers\":[{\"id\":\"5cefa380-9641-45df-ad80-3530a740c666\",\"type\":\"LinearAxis\"},{\"id\":\"d5bfe7d8-878e-4930-8007-d867dabd5c70\",\"type\":\"Grid\"},{\"id\":\"e3ef1206-b93f-4c97-b289-ce55d5749d3f\",\"type\":\"LinearAxis\"},{\"id\":\"52fc29f5-12d1-4c73-8c8f-92b98f287f3e\",\"type\":\"Grid\"},{\"id\":\"a54184eb-75b0-40ea-80dc-dce848cbb590\",\"type\":\"BoxAnnotation\"},{\"id\":\"a0f38326-08b3-4f82-ad84-fc0c6c3ceb59\",\"type\":\"Legend\"},{\"id\":\"9853aea4-0fb0-441c-ba68-145865016abc\",\"type\":\"GlyphRenderer\"},{\"id\":\"1111be6b-7a58-4d3a-ad1e-b1aa99703df9\",\"type\":\"GlyphRenderer\"}],\"title\":{\"id\":\"9286acd0-e693-4143-a83d-65b81b7ebf0a\",\"type\":\"Title\"},\"toolbar\":{\"id\":\"ae9c26e3-f186-4041-b6bf-f108a16f4bf5\",\"type\":\"Toolbar\"},\"toolbar_location\":null,\"x_range\":{\"id\":\"222f12ab-8587-4ef3-830a-d13d466d6c05\",\"type\":\"Range1d\"},\"x_scale\":{\"id\":\"d208be97-aad7-4b28-94c2-fe597566f803\",\"type\":\"LinearScale\"},\"y_range\":{\"id\":\"35777daa-2839-4ae9-b0c2-ea69982d811f\",\"type\":\"Range1d\"},\"y_scale\":{\"id\":\"25810f2f-2dd5-4adc-ba50-82794fc534f1\",\"type\":\"LinearScale\"}},\"id\":\"5c398fd0-ee9a-4c50-9625-4fd93ad07c8c\",\"subtype\":\"Figure\",\"type\":\"Plot\"},{\"attributes\":{\"source\":{\"id\":\"938d9918-146c-44c9-8e0e-99ac1fb7b189\",\"type\":\"ColumnDataSource\"}},\"id\":\"eef1d59f-9254-4872-8337-8d66911540dd\",\"type\":\"CDSView\"},{\"attributes\":{\"plot\":null,\"text\":\"Liklihoods\",\"text_color\":{\"value\":\"white\"}},\"id\":\"9286acd0-e693-4143-a83d-65b81b7ebf0a\",\"type\":\"Title\"},{\"attributes\":{\"callback\":null,\"column_names\":[\"x\",\"y\"],\"data\":{\"x\":{\"__ndarray__\":\"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\",\"dtype\":\"float64\",\"shape\":[200]},\"y\":{\"__ndarray__\":\"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\",\"dtype\":\"float64\",\"shape\":[200]}}},\"id\":\"938d9918-146c-44c9-8e0e-99ac1fb7b189\",\"type\":\"ColumnDataSource\"},{\"attributes\":{\"active_drag\":\"auto\",\"active_inspect\":\"auto\",\"active_scroll\":\"auto\",\"active_tap\":\"auto\",\"tools\":[{\"id\":\"6e55ba6f-26ec-4e14-99e2-31b535b62591\",\"type\":\"PanTool\"},{\"id\":\"e2b8d15d-b1b1-4701-af45-cf7ee5184131\",\"type\":\"WheelZoomTool\"},{\"id\":\"0fdbc11c-078c-4e8e-91c3-5fda6f9fdc4c\",\"type\":\"BoxZoomTool\"},{\"id\":\"2f4b8637-35e3-4420-9a94-dd67be50efc9\",\"type\":\"SaveTool\"},{\"id\":\"4ac2b313-44d2-4f22-a283-71c3e8537f0d\",\"type\":\"ResetTool\"},{\"id\":\"6d3010ef-9923-413b-9e0c-d9602a42e319\",\"type\":\"HelpTool\"}]},\"id\":\"ae9c26e3-f186-4041-b6bf-f108a16f4bf5\",\"type\":\"Toolbar\"},{\"attributes\":{},\"id\":\"25810f2f-2dd5-4adc-ba50-82794fc534f1\",\"type\":\"LinearScale\"},{\"attributes\":{},\"id\":\"d208be97-aad7-4b28-94c2-fe597566f803\",\"type\":\"LinearScale\"}],\"root_ids\":[\"5c398fd0-ee9a-4c50-9625-4fd93ad07c8c\"]},\"title\":\"Bokeh Application\",\"version\":\"0.12.13\"}};\n",
       "  var render_items = [{\"docid\":\"cf459faa-4fbd-4ecd-a0c5-aa15125e228f\",\"elementid\":\"2da73486-232a-4589-b763-cb986cd7b362\",\"modelid\":\"5c398fd0-ee9a-4c50-9625-4fd93ad07c8c\"}];\n",
       "  root.Bokeh.embed.embed_items_notebook(docs_json, render_items);\n",
       "\n",
       "  }\n",
       "  if (root.Bokeh !== undefined) {\n",
       "    embed_document(root);\n",
       "  } else {\n",
       "    var attempts = 0;\n",
       "    var timer = setInterval(function(root) {\n",
       "      if (root.Bokeh !== undefined) {\n",
       "        embed_document(root);\n",
       "        clearInterval(timer);\n",
       "      }\n",
       "      attempts++;\n",
       "      if (attempts > 100) {\n",
       "        console.log(\"Bokeh: ERROR: Unable to run BokehJS code because BokehJS library is missing\")\n",
       "        clearInterval(timer);\n",
       "      }\n",
       "    }, 10, root)\n",
       "  }\n",
       "})(window);"
      ],
      "application/vnd.bokehjs_exec.v0+json": ""
     },
     "metadata": {
      "application/vnd.bokehjs_exec.v0+json": {
       "id": "5c398fd0-ee9a-4c50-9625-4fd93ad07c8c"
      }
     },
     "output_type": "display_data"
    }
   ],
   "source": [
    "show(plot_liklihoods)"
   ]
  },
  {
   "cell_type": "code",
   "execution_count": 12,
   "metadata": {
    "slideshow": {
     "slide_type": "skip"
    }
   },
   "outputs": [],
   "source": [
    "plot_liklihoods_priors = basic_plot(title='Liklihoods * Priors')\n",
    "plot_liklihoods_priors.line(x=x, y=liklihood_1*prior_1, legend='p(x|C₁)*P(C₁)', color=colors[0], line_width=3)\n",
    "plot_liklihoods_priors.line(x=x, y=liklihood_2*prior_2, legend='p(x|C₂)*P(C₂)', color=colors[1], line_width=3)\n",
    "plot_liklihoods_priors.x_range = Range1d(x_min, x_max)\n",
    "plot_liklihoods_priors.y_range = Range1d(0, 1)"
   ]
  },
  {
   "cell_type": "code",
   "execution_count": 13,
   "metadata": {
    "slideshow": {
     "slide_type": "subslide"
    }
   },
   "outputs": [
    {
     "data": {
      "text/html": [
       "\n",
       "<div class=\"bk-root\">\n",
       "    <div class=\"bk-plotdiv\" id=\"048f26d0-2cae-4938-bdec-483833c5e4d5\"></div>\n",
       "</div>"
      ]
     },
     "metadata": {},
     "output_type": "display_data"
    },
    {
     "data": {
      "application/javascript": [
       "(function(root) {\n",
       "  function embed_document(root) {\n",
       "    \n",
       "  var docs_json = {\"fe78059b-b52f-454f-a8ce-01aa9b5f0e4f\":{\"roots\":{\"references\":[{\"attributes\":{},\"id\":\"06719df2-a68d-492b-8760-238d36606bde\",\"type\":\"WheelZoomTool\"},{\"attributes\":{},\"id\":\"6fd6cd97-fa81-4380-8cff-3fe886bc19fe\",\"type\":\"ResetTool\"},{\"attributes\":{\"dimension\":1,\"grid_line_alpha\":{\"value\":0},\"grid_line_color\":{\"value\":null},\"plot\":{\"id\":\"d6a640d3-887a-482e-bfbf-7d8b11ad271e\",\"subtype\":\"Figure\",\"type\":\"Plot\"},\"ticker\":{\"id\":\"65447e58-e634-47f1-9983-12acd81b39a0\",\"type\":\"BasicTicker\"}},\"id\":\"8e23e160-197e-4563-920f-5cd3ab20d437\",\"type\":\"Grid\"},{\"attributes\":{\"callback\":null},\"id\":\"95759326-0ccd-4195-9c48-7ca5b1f68300\",\"type\":\"Range1d\"},{\"attributes\":{},\"id\":\"a5236933-4faa-4dad-9124-cdc35c3431d8\",\"type\":\"BasicTickFormatter\"},{\"attributes\":{},\"id\":\"02bd7a42-d56b-477d-af51-6f9638a0cd0e\",\"type\":\"SaveTool\"},{\"attributes\":{\"axis_label\":null,\"axis_label_text_color\":{\"value\":\"white\"},\"axis_line_color\":{\"value\":null},\"formatter\":{\"id\":\"47e02644-3cb2-4b89-acec-603307762bf7\",\"type\":\"BasicTickFormatter\"},\"major_label_text_color\":{\"value\":\"white\"},\"major_tick_line_color\":{\"value\":null},\"minor_tick_line_color\":{\"value\":null},\"plot\":{\"id\":\"d6a640d3-887a-482e-bfbf-7d8b11ad271e\",\"subtype\":\"Figure\",\"type\":\"Plot\"},\"ticker\":{\"id\":\"65447e58-e634-47f1-9983-12acd81b39a0\",\"type\":\"BasicTicker\"}},\"id\":\"fdd1e0e3-eb9d-4f34-9754-ee29c3306bac\",\"type\":\"LinearAxis\"},{\"attributes\":{\"background_fill_color\":{\"value\":\"#000000\"},\"items\":[{\"id\":\"01b884d7-ae00-4742-aa43-3c44a9edb45e\",\"type\":\"LegendItem\"},{\"id\":\"5f14ec76-0583-4044-8fd4-4613ab241afb\",\"type\":\"LegendItem\"}],\"label_text_color\":{\"value\":\"#CCCCCC\"},\"plot\":{\"id\":\"d6a640d3-887a-482e-bfbf-7d8b11ad271e\",\"subtype\":\"Figure\",\"type\":\"Plot\"}},\"id\":\"265abd64-0582-446a-bf04-e4bcf0d696e4\",\"type\":\"Legend\"},{\"attributes\":{\"label\":{\"value\":\"p(x|C\\u2082)*P(C\\u2082)\"},\"renderers\":[{\"id\":\"daf53bf3-8ea3-459a-892a-680067bf0332\",\"type\":\"GlyphRenderer\"}]},\"id\":\"5f14ec76-0583-4044-8fd4-4613ab241afb\",\"type\":\"LegendItem\"},{\"attributes\":{},\"id\":\"47e02644-3cb2-4b89-acec-603307762bf7\",\"type\":\"BasicTickFormatter\"},{\"attributes\":{\"line_color\":\"#519aba\",\"line_width\":3,\"x\":{\"field\":\"x\"},\"y\":{\"field\":\"y\"}},\"id\":\"a9324438-93e7-4b02-9681-2decfbd6dc42\",\"type\":\"Line\"},{\"attributes\":{\"source\":{\"id\":\"f1f7b0c5-d516-459d-aba1-da19a85158e5\",\"type\":\"ColumnDataSource\"}},\"id\":\"9f5f3482-f82d-464d-999c-ea6ccef4068e\",\"type\":\"CDSView\"},{\"attributes\":{},\"id\":\"c5b48e96-14e7-4a30-95a8-944cfc544c2f\",\"type\":\"PanTool\"},{\"attributes\":{\"source\":{\"id\":\"33ba9e6d-7c1c-4f6d-87bb-84085a417a8a\",\"type\":\"ColumnDataSource\"}},\"id\":\"c2315641-21ca-4ad9-a0c2-4d4b3a82cbf3\",\"type\":\"CDSView\"},{\"attributes\":{\"callback\":null,\"end\":4.411912635139073,\"start\":-3.6324453969614123},\"id\":\"65169da2-68d7-46a0-a4df-44b59a5ca39c\",\"type\":\"Range1d\"},{\"attributes\":{},\"id\":\"5741b5f3-0897-4073-97d1-0f9a90d8c3a0\",\"type\":\"BasicTicker\"},{\"attributes\":{},\"id\":\"6f400b43-dda8-46ed-91e5-3b9a6b9ed5ab\",\"type\":\"LinearScale\"},{\"attributes\":{\"line_color\":\"#f55385\",\"line_width\":3,\"x\":{\"field\":\"x\"},\"y\":{\"field\":\"y\"}},\"id\":\"bfde3895-4e20-4b6d-b29d-596aac086ffe\",\"type\":\"Line\"},{\"attributes\":{\"plot\":null,\"text\":\"Liklihoods * Priors\",\"text_color\":{\"value\":\"white\"}},\"id\":\"5523f200-63f9-4de1-a3c5-1a6758225010\",\"type\":\"Title\"},{\"attributes\":{\"data_source\":{\"id\":\"33ba9e6d-7c1c-4f6d-87bb-84085a417a8a\",\"type\":\"ColumnDataSource\"},\"glyph\":{\"id\":\"bfde3895-4e20-4b6d-b29d-596aac086ffe\",\"type\":\"Line\"},\"hover_glyph\":null,\"muted_glyph\":null,\"nonselection_glyph\":{\"id\":\"92643d03-23d2-493c-b9cf-a097a7a365a4\",\"type\":\"Line\"},\"selection_glyph\":null,\"view\":{\"id\":\"c2315641-21ca-4ad9-a0c2-4d4b3a82cbf3\",\"type\":\"CDSView\"}},\"id\":\"53dca2e0-2045-4118-a593-0f111e091757\",\"type\":\"GlyphRenderer\"},{\"attributes\":{\"active_drag\":\"auto\",\"active_inspect\":\"auto\",\"active_scroll\":\"auto\",\"active_tap\":\"auto\",\"tools\":[{\"id\":\"c5b48e96-14e7-4a30-95a8-944cfc544c2f\",\"type\":\"PanTool\"},{\"id\":\"06719df2-a68d-492b-8760-238d36606bde\",\"type\":\"WheelZoomTool\"},{\"id\":\"607a3176-a991-417d-9464-9f17c017a23e\",\"type\":\"BoxZoomTool\"},{\"id\":\"02bd7a42-d56b-477d-af51-6f9638a0cd0e\",\"type\":\"SaveTool\"},{\"id\":\"6fd6cd97-fa81-4380-8cff-3fe886bc19fe\",\"type\":\"ResetTool\"},{\"id\":\"36db077e-9903-49f4-8a71-40cfc64d4fbe\",\"type\":\"HelpTool\"}]},\"id\":\"6b5b1010-228b-4ebe-ab70-9bb712ec7c9a\",\"type\":\"Toolbar\"},{\"attributes\":{\"axis_label\":null,\"axis_label_text_color\":{\"value\":\"white\"},\"axis_line_color\":{\"value\":null},\"formatter\":{\"id\":\"a5236933-4faa-4dad-9124-cdc35c3431d8\",\"type\":\"BasicTickFormatter\"},\"major_label_text_color\":{\"value\":\"white\"},\"major_tick_line_color\":{\"value\":null},\"minor_tick_line_color\":{\"value\":null},\"plot\":{\"id\":\"d6a640d3-887a-482e-bfbf-7d8b11ad271e\",\"subtype\":\"Figure\",\"type\":\"Plot\"},\"ticker\":{\"id\":\"5741b5f3-0897-4073-97d1-0f9a90d8c3a0\",\"type\":\"BasicTicker\"}},\"id\":\"4743b63e-1988-4b33-a7ef-be54cb99a3c5\",\"type\":\"LinearAxis\"},{\"attributes\":{},\"id\":\"d6ef381e-b953-45f5-b393-0ab6820437f2\",\"type\":\"LinearScale\"},{\"attributes\":{},\"id\":\"36db077e-9903-49f4-8a71-40cfc64d4fbe\",\"type\":\"HelpTool\"},{\"attributes\":{\"data_source\":{\"id\":\"f1f7b0c5-d516-459d-aba1-da19a85158e5\",\"type\":\"ColumnDataSource\"},\"glyph\":{\"id\":\"a9324438-93e7-4b02-9681-2decfbd6dc42\",\"type\":\"Line\"},\"hover_glyph\":null,\"muted_glyph\":null,\"nonselection_glyph\":{\"id\":\"96463c1c-b2d5-41bc-bc3b-0572d835b227\",\"type\":\"Line\"},\"selection_glyph\":null,\"view\":{\"id\":\"9f5f3482-f82d-464d-999c-ea6ccef4068e\",\"type\":\"CDSView\"}},\"id\":\"daf53bf3-8ea3-459a-892a-680067bf0332\",\"type\":\"GlyphRenderer\"},{\"attributes\":{\"background_fill_alpha\":{\"value\":0},\"below\":[{\"id\":\"4743b63e-1988-4b33-a7ef-be54cb99a3c5\",\"type\":\"LinearAxis\"}],\"border_fill_alpha\":{\"value\":0},\"left\":[{\"id\":\"fdd1e0e3-eb9d-4f34-9754-ee29c3306bac\",\"type\":\"LinearAxis\"}],\"outline_line_color\":{\"value\":\"#333333\"},\"plot_height\":300,\"plot_width\":400,\"renderers\":[{\"id\":\"4743b63e-1988-4b33-a7ef-be54cb99a3c5\",\"type\":\"LinearAxis\"},{\"id\":\"ecaf0c8b-e8de-421b-8ab1-5770dc55153e\",\"type\":\"Grid\"},{\"id\":\"fdd1e0e3-eb9d-4f34-9754-ee29c3306bac\",\"type\":\"LinearAxis\"},{\"id\":\"8e23e160-197e-4563-920f-5cd3ab20d437\",\"type\":\"Grid\"},{\"id\":\"2e423d0e-9e98-446b-9d1a-b155527787fe\",\"type\":\"BoxAnnotation\"},{\"id\":\"265abd64-0582-446a-bf04-e4bcf0d696e4\",\"type\":\"Legend\"},{\"id\":\"53dca2e0-2045-4118-a593-0f111e091757\",\"type\":\"GlyphRenderer\"},{\"id\":\"daf53bf3-8ea3-459a-892a-680067bf0332\",\"type\":\"GlyphRenderer\"}],\"title\":{\"id\":\"5523f200-63f9-4de1-a3c5-1a6758225010\",\"type\":\"Title\"},\"toolbar\":{\"id\":\"6b5b1010-228b-4ebe-ab70-9bb712ec7c9a\",\"type\":\"Toolbar\"},\"toolbar_location\":null,\"x_range\":{\"id\":\"65169da2-68d7-46a0-a4df-44b59a5ca39c\",\"type\":\"Range1d\"},\"x_scale\":{\"id\":\"6f400b43-dda8-46ed-91e5-3b9a6b9ed5ab\",\"type\":\"LinearScale\"},\"y_range\":{\"id\":\"95759326-0ccd-4195-9c48-7ca5b1f68300\",\"type\":\"Range1d\"},\"y_scale\":{\"id\":\"d6ef381e-b953-45f5-b393-0ab6820437f2\",\"type\":\"LinearScale\"}},\"id\":\"d6a640d3-887a-482e-bfbf-7d8b11ad271e\",\"subtype\":\"Figure\",\"type\":\"Plot\"},{\"attributes\":{\"callback\":null,\"column_names\":[\"x\",\"y\"],\"data\":{\"x\":{\"__ndarray__\":\"2aNDiD8PDcC6OfLCdbwMwJvPoP2raQzAfWVPOOIWDMBe+/1yGMQLwD+RrK1OcQvAICdb6IQeC8ABvQkju8sKwOJSuF3xeArAxOhmmCcmCsClfhXTXdMJwIYUxA2UgAnAZ6pySMotCcBIQCGDANsIwCrWz702iAjAC2x++Gw1CMDsAS0zo+IHwM2X223ZjwfAri2KqA89B8CQwzjjReoGwHFZ5x18lwbAUu+VWLJEBsAzhUST6PEFwBQb880enwXA9rChCFVMBcDWRlBDi/kEwLjc/n3BpgTAmXKtuPdTBMB6CFzzLQEEwFyeCi5krgPAPDS5aJpbA8Aeymej0AgDwP9fFt4GtgLA4PXEGD1jAsDCi3NTcxACwKIhIo6pvQHAhLfQyN9qAcBlTX8DFhgBwEbjLT5MxQDAKHnceIJyAMAID4uzuB8AwNNJc9zdmf+/lnXQUUr0/r9YoS3Htk7+vxrNijwjqf2/3fjnsY8D/b+fJEUn/F38v2JQopxouPu/JHz/EdUS+7/mp1yHQW36v6jTufytx/m/bP8Wchoi+b8uK3Tnhnz4v/BW0Vzz1ve/soIu0l8x9790rotHzIv2vzba6Lw45vW/+gVGMqVA9b+8MaOnEZv0v35dAB1+9fO/QIldkupP878CtboHV6ryv8bgF33DBPK/iAx18i9f8b9KONJnnLnwvwxkL90IFPC/nB8Zperc7r8kd9OPw5Htv6jOjXqcRuy/LCZIZXX76r+wfQJQTrDpvzTVvDonZei/vCx3JQAa579AhDEQ2c7lv8Tb6/qxg+S/SDOm5Yo447/MimDQY+3hv1DiGrs8ouC/sHOqSyuu3r+4Ih8h3Rfcv8DRk/aOgdm/yIAIzEDr1r/QL32h8lTUv+De8XakvtG/0BvNmKxQzr/gebZDECTJv/DXn+5z98O/AGwSM6+Vvb8gKOWIdjyzv8DIb717xqG/APhVt6xfdz/ARkXrZp6nP0Dnzx9sKLY/kJX+ZNJAwD9wNxW6bm3FP2DZKw8Lmso/UHtCZKfGzz+gjqzcoXnSP5jfNwfwD9U/iDDDMT6m1z+IgU5cjDzaP3jS2Yba0tw/aCNlsShp3z80Ovhtu//gP6ziPYPiSuI/LIuDmAmW4z+kM8mtMOHkPxzcDsNXLOY/nIRU2H535z8ULZrtpcLoP5TV3wLNDeo/DH4lGPRY6z+MJmstG6TsPwTPsEJC7+0/fHf2V2k67z/+D542yELwPzrkQMFb6PA/erjjS++N8T+2jIbWgjPyP/JgKWEW2fI/MjXM66l+8z9uCW92PST0P67dEQHRyfQ/6rG0i2Rv9T8mhlcW+BT2P2Za+qCLuvY/oi6dKx9g9z/iAkC2sgX4Px7X4kBGq/g/WquFy9lQ+T+afyhWbfb5P9ZTy+AAnPo/Fihua5RB+z9S/BD2J+f7P47Qs4C7jPw/zqRWC08y/T8KefmV4tf9P0pNnCB2ff4/hiE/qwkj/z/C9eE1ncj/PwFlQmAYNwBAH8+TJeKJAEA/OeXqq9wAQF2jNrB1LwFAew2IdT+CAUCbd9k6CdUBQLnhKgDTJwJA2Ut8xZx6AkD3tc2KZs0CQBcgH1AwIANANYpwFfpyA0BT9MHaw8UDQHNeE6CNGARAkchkZVdrBECxMrYqIb4EQM+cB/DqEAVA7QZZtbRjBUANcap6frYFQCvb+z9ICQZAS0VNBRJcBkBpr57K264GQIcZ8I+lAQdAp4NBVW9UB0DF7ZIaOacHQOVX5N8C+gdAA8I1pcxMCEAhLIdqlp8IQEGW2C9g8ghAXwAq9SlFCUB/anu685cJQJ3UzH+96glAuz4eRYc9CkDbqG8KUZAKQPkSwc8a4wpAGX0SleQ1C0A352NarogLQFdRtR942wtAdbsG5UEuDECTJViqC4EMQLOPqW/V0wxA0fn6NJ8mDUDxY0z6aHkNQA/Onb8yzA1ALTjvhPweDkBNokBKxnEOQGsMkg+QxA5Ai3bj1FkXD0Cp4DSaI2oPQMdKhl/tvA9AdNprktsHEECCjxR1QDEQQJJEvVelWhBAovllOgqEEECwrg4db60QQMBjt//T1hBA0Bhg4jgAEUDgzQjFnSkRQO6CsacCUxFA/jdaimd8EUAO7QJtzKURQA==\",\"dtype\":\"float64\",\"shape\":[200]},\"y\":{\"__ndarray__\":\"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\",\"dtype\":\"float64\",\"shape\":[200]}}},\"id\":\"33ba9e6d-7c1c-4f6d-87bb-84085a417a8a\",\"type\":\"ColumnDataSource\"},{\"attributes\":{\"callback\":null,\"column_names\":[\"x\",\"y\"],\"data\":{\"x\":{\"__ndarray__\":\"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\",\"dtype\":\"float64\",\"shape\":[200]},\"y\":{\"__ndarray__\":\"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\",\"dtype\":\"float64\",\"shape\":[200]}}},\"id\":\"f1f7b0c5-d516-459d-aba1-da19a85158e5\",\"type\":\"ColumnDataSource\"},{\"attributes\":{\"grid_line_alpha\":{\"value\":0},\"grid_line_color\":{\"value\":null},\"plot\":{\"id\":\"d6a640d3-887a-482e-bfbf-7d8b11ad271e\",\"subtype\":\"Figure\",\"type\":\"Plot\"},\"ticker\":{\"id\":\"5741b5f3-0897-4073-97d1-0f9a90d8c3a0\",\"type\":\"BasicTicker\"}},\"id\":\"ecaf0c8b-e8de-421b-8ab1-5770dc55153e\",\"type\":\"Grid\"},{\"attributes\":{\"label\":{\"value\":\"p(x|C\\u2081)*P(C\\u2081)\"},\"renderers\":[{\"id\":\"53dca2e0-2045-4118-a593-0f111e091757\",\"type\":\"GlyphRenderer\"}]},\"id\":\"01b884d7-ae00-4742-aa43-3c44a9edb45e\",\"type\":\"LegendItem\"},{\"attributes\":{\"overlay\":{\"id\":\"2e423d0e-9e98-446b-9d1a-b155527787fe\",\"type\":\"BoxAnnotation\"}},\"id\":\"607a3176-a991-417d-9464-9f17c017a23e\",\"type\":\"BoxZoomTool\"},{\"attributes\":{},\"id\":\"65447e58-e634-47f1-9983-12acd81b39a0\",\"type\":\"BasicTicker\"},{\"attributes\":{\"bottom_units\":\"screen\",\"fill_alpha\":{\"value\":0.5},\"fill_color\":{\"value\":\"lightgrey\"},\"left_units\":\"screen\",\"level\":\"overlay\",\"line_alpha\":{\"value\":1.0},\"line_color\":{\"value\":\"black\"},\"line_dash\":[4,4],\"line_width\":{\"value\":2},\"plot\":null,\"render_mode\":\"css\",\"right_units\":\"screen\",\"top_units\":\"screen\"},\"id\":\"2e423d0e-9e98-446b-9d1a-b155527787fe\",\"type\":\"BoxAnnotation\"},{\"attributes\":{\"line_alpha\":0.1,\"line_color\":\"#1f77b4\",\"line_width\":3,\"x\":{\"field\":\"x\"},\"y\":{\"field\":\"y\"}},\"id\":\"92643d03-23d2-493c-b9cf-a097a7a365a4\",\"type\":\"Line\"},{\"attributes\":{\"line_alpha\":0.1,\"line_color\":\"#1f77b4\",\"line_width\":3,\"x\":{\"field\":\"x\"},\"y\":{\"field\":\"y\"}},\"id\":\"96463c1c-b2d5-41bc-bc3b-0572d835b227\",\"type\":\"Line\"}],\"root_ids\":[\"d6a640d3-887a-482e-bfbf-7d8b11ad271e\"]},\"title\":\"Bokeh Application\",\"version\":\"0.12.13\"}};\n",
       "  var render_items = [{\"docid\":\"fe78059b-b52f-454f-a8ce-01aa9b5f0e4f\",\"elementid\":\"048f26d0-2cae-4938-bdec-483833c5e4d5\",\"modelid\":\"d6a640d3-887a-482e-bfbf-7d8b11ad271e\"}];\n",
       "  root.Bokeh.embed.embed_items_notebook(docs_json, render_items);\n",
       "\n",
       "  }\n",
       "  if (root.Bokeh !== undefined) {\n",
       "    embed_document(root);\n",
       "  } else {\n",
       "    var attempts = 0;\n",
       "    var timer = setInterval(function(root) {\n",
       "      if (root.Bokeh !== undefined) {\n",
       "        embed_document(root);\n",
       "        clearInterval(timer);\n",
       "      }\n",
       "      attempts++;\n",
       "      if (attempts > 100) {\n",
       "        console.log(\"Bokeh: ERROR: Unable to run BokehJS code because BokehJS library is missing\")\n",
       "        clearInterval(timer);\n",
       "      }\n",
       "    }, 10, root)\n",
       "  }\n",
       "})(window);"
      ],
      "application/vnd.bokehjs_exec.v0+json": ""
     },
     "metadata": {
      "application/vnd.bokehjs_exec.v0+json": {
       "id": "d6a640d3-887a-482e-bfbf-7d8b11ad271e"
      }
     },
     "output_type": "display_data"
    }
   ],
   "source": [
    "show(plot_liklihoods_priors)"
   ]
  },
  {
   "cell_type": "code",
   "execution_count": 14,
   "metadata": {
    "slideshow": {
     "slide_type": "skip"
    }
   },
   "outputs": [],
   "source": [
    "def make_posterior_plot():\n",
    "    plot_posterior = basic_plot(title='Posterior = Liklihoods * Priors / Evidence')\n",
    "    plot_posterior.line(x=x, y=(liklihood_1*prior_1)/evidence, legend='p(x|C₁)*P(C₁)/P(X)', color=colors[0], line_width=3)\n",
    "    plot_posterior.line(x=x, y=(liklihood_2*prior_2)/evidence, legend='p(x|C₂)*P(C₂)/P(X)', color=colors[1], line_width=3)\n",
    "    plot_posterior.x_range = Range1d(x_min, x_max)\n",
    "    plot_posterior.y_range = Range1d(0, 1)\n",
    "    return(plot_posterior)"
   ]
  },
  {
   "cell_type": "code",
   "execution_count": 15,
   "metadata": {
    "slideshow": {
     "slide_type": "subslide"
    }
   },
   "outputs": [
    {
     "data": {
      "text/html": [
       "\n",
       "<div class=\"bk-root\">\n",
       "    <div class=\"bk-plotdiv\" id=\"b5a6c4b7-3464-4f40-ba4c-81f1046fe3e4\"></div>\n",
       "</div>"
      ]
     },
     "metadata": {},
     "output_type": "display_data"
    },
    {
     "data": {
      "application/javascript": [
       "(function(root) {\n",
       "  function embed_document(root) {\n",
       "    \n",
       "  var docs_json = {\"d03a6cb4-9f48-4347-92d7-3e21b8b502f9\":{\"roots\":{\"references\":[{\"attributes\":{\"source\":{\"id\":\"83ee5b6d-d35a-43d7-8e7d-e6ec026b1cd0\",\"type\":\"ColumnDataSource\"}},\"id\":\"0f7fc7ac-4431-4dd8-b971-384675e92c3b\",\"type\":\"CDSView\"},{\"attributes\":{\"data_source\":{\"id\":\"83ee5b6d-d35a-43d7-8e7d-e6ec026b1cd0\",\"type\":\"ColumnDataSource\"},\"glyph\":{\"id\":\"64a3d662-d33d-41e5-bc77-6203682f9d1a\",\"type\":\"Line\"},\"hover_glyph\":null,\"muted_glyph\":null,\"nonselection_glyph\":{\"id\":\"c78c281b-6687-4a12-aa6c-79415efc8806\",\"type\":\"Line\"},\"selection_glyph\":null,\"view\":{\"id\":\"0f7fc7ac-4431-4dd8-b971-384675e92c3b\",\"type\":\"CDSView\"}},\"id\":\"cfffc8d4-b410-4dc3-9811-a52691b5c2aa\",\"type\":\"GlyphRenderer\"},{\"attributes\":{\"line_color\":\"#f55385\",\"line_width\":3,\"x\":{\"field\":\"x\"},\"y\":{\"field\":\"y\"}},\"id\":\"64a3d662-d33d-41e5-bc77-6203682f9d1a\",\"type\":\"Line\"},{\"attributes\":{\"background_fill_color\":{\"value\":\"#000000\"},\"items\":[{\"id\":\"18bc7fff-3589-450f-b1ba-7a16c8df8998\",\"type\":\"LegendItem\"},{\"id\":\"69b7d093-809a-44bc-b2b8-7062d154f4e8\",\"type\":\"LegendItem\"}],\"label_text_color\":{\"value\":\"#CCCCCC\"},\"plot\":{\"id\":\"cf845205-53c9-4499-ba06-7781acca2ab5\",\"subtype\":\"Figure\",\"type\":\"Plot\"}},\"id\":\"d7dc1766-a432-4c0a-86f6-192aacd58014\",\"type\":\"Legend\"},{\"attributes\":{},\"id\":\"fb178cc0-9d7d-4dc6-adaf-e472e9963bea\",\"type\":\"BasicTickFormatter\"},{\"attributes\":{},\"id\":\"c5738c20-0005-4e2e-90c6-f0c5c60b2d67\",\"type\":\"LinearScale\"},{\"attributes\":{\"dimension\":1,\"grid_line_alpha\":{\"value\":0},\"grid_line_color\":{\"value\":null},\"plot\":{\"id\":\"cf845205-53c9-4499-ba06-7781acca2ab5\",\"subtype\":\"Figure\",\"type\":\"Plot\"},\"ticker\":{\"id\":\"6c24dcb3-1108-4f01-abbc-ed8f362cb7f7\",\"type\":\"BasicTicker\"}},\"id\":\"eaafe572-12ce-4569-a50c-1b72c2efe476\",\"type\":\"Grid\"},{\"attributes\":{\"plot\":null,\"text\":\"Posterior = Liklihoods * Priors / Evidence\",\"text_color\":{\"value\":\"white\"}},\"id\":\"57b2188e-8b65-4d3e-bcde-19c6bc1ce1e4\",\"type\":\"Title\"},{\"attributes\":{},\"id\":\"76e18271-14d3-4927-8993-93228e70efbd\",\"type\":\"ResetTool\"},{\"attributes\":{\"callback\":null,\"column_names\":[\"x\",\"y\"],\"data\":{\"x\":{\"__ndarray__\":\"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\",\"dtype\":\"float64\",\"shape\":[200]},\"y\":{\"__ndarray__\":\"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\",\"dtype\":\"float64\",\"shape\":[200]}}},\"id\":\"83ee5b6d-d35a-43d7-8e7d-e6ec026b1cd0\",\"type\":\"ColumnDataSource\"},{\"attributes\":{\"callback\":null,\"column_names\":[\"x\",\"y\"],\"data\":{\"x\":{\"__ndarray__\":\"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\",\"dtype\":\"float64\",\"shape\":[200]},\"y\":{\"__ndarray__\":\"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\",\"dtype\":\"float64\",\"shape\":[200]}}},\"id\":\"22c989b0-7d7e-4e72-8c33-406167c4024e\",\"type\":\"ColumnDataSource\"},{\"attributes\":{\"overlay\":{\"id\":\"aa30ea1a-a4cb-4ec3-aa1e-8fea0d0fec85\",\"type\":\"BoxAnnotation\"}},\"id\":\"6956e282-8cf0-410c-8833-6ff574c168df\",\"type\":\"BoxZoomTool\"},{\"attributes\":{\"background_fill_alpha\":{\"value\":0},\"below\":[{\"id\":\"feba8461-b330-41e6-821e-70afd2050504\",\"type\":\"LinearAxis\"}],\"border_fill_alpha\":{\"value\":0},\"left\":[{\"id\":\"55c8180d-6223-4e58-91b0-5196a474693f\",\"type\":\"LinearAxis\"}],\"outline_line_color\":{\"value\":\"#333333\"},\"plot_height\":300,\"plot_width\":400,\"renderers\":[{\"id\":\"feba8461-b330-41e6-821e-70afd2050504\",\"type\":\"LinearAxis\"},{\"id\":\"5e4d6bc4-c301-4313-9ad4-f615f098d51c\",\"type\":\"Grid\"},{\"id\":\"55c8180d-6223-4e58-91b0-5196a474693f\",\"type\":\"LinearAxis\"},{\"id\":\"eaafe572-12ce-4569-a50c-1b72c2efe476\",\"type\":\"Grid\"},{\"id\":\"aa30ea1a-a4cb-4ec3-aa1e-8fea0d0fec85\",\"type\":\"BoxAnnotation\"},{\"id\":\"d7dc1766-a432-4c0a-86f6-192aacd58014\",\"type\":\"Legend\"},{\"id\":\"cfffc8d4-b410-4dc3-9811-a52691b5c2aa\",\"type\":\"GlyphRenderer\"},{\"id\":\"d4ed5a86-ca9c-4c28-af6c-ee718ca0fd71\",\"type\":\"GlyphRenderer\"}],\"title\":{\"id\":\"57b2188e-8b65-4d3e-bcde-19c6bc1ce1e4\",\"type\":\"Title\"},\"toolbar\":{\"id\":\"727d2c7a-0855-4f8c-876b-89288f0aa3f7\",\"type\":\"Toolbar\"},\"toolbar_location\":null,\"x_range\":{\"id\":\"0a5132fb-81f4-44fc-b063-299dbcacab54\",\"type\":\"Range1d\"},\"x_scale\":{\"id\":\"d30d68da-25b7-4a3b-9458-87bb5b2c6082\",\"type\":\"LinearScale\"},\"y_range\":{\"id\":\"7f52f070-ca21-4e89-8860-a51357c5ff92\",\"type\":\"Range1d\"},\"y_scale\":{\"id\":\"c5738c20-0005-4e2e-90c6-f0c5c60b2d67\",\"type\":\"LinearScale\"}},\"id\":\"cf845205-53c9-4499-ba06-7781acca2ab5\",\"subtype\":\"Figure\",\"type\":\"Plot\"},{\"attributes\":{\"axis_label\":null,\"axis_label_text_color\":{\"value\":\"white\"},\"axis_line_color\":{\"value\":null},\"formatter\":{\"id\":\"30c3061a-22fa-43f9-861a-d4b60b446e2e\",\"type\":\"BasicTickFormatter\"},\"major_label_text_color\":{\"value\":\"white\"},\"major_tick_line_color\":{\"value\":null},\"minor_tick_line_color\":{\"value\":null},\"plot\":{\"id\":\"cf845205-53c9-4499-ba06-7781acca2ab5\",\"subtype\":\"Figure\",\"type\":\"Plot\"},\"ticker\":{\"id\":\"6c24dcb3-1108-4f01-abbc-ed8f362cb7f7\",\"type\":\"BasicTicker\"}},\"id\":\"55c8180d-6223-4e58-91b0-5196a474693f\",\"type\":\"LinearAxis\"},{\"attributes\":{\"axis_label\":null,\"axis_label_text_color\":{\"value\":\"white\"},\"axis_line_color\":{\"value\":null},\"formatter\":{\"id\":\"fb178cc0-9d7d-4dc6-adaf-e472e9963bea\",\"type\":\"BasicTickFormatter\"},\"major_label_text_color\":{\"value\":\"white\"},\"major_tick_line_color\":{\"value\":null},\"minor_tick_line_color\":{\"value\":null},\"plot\":{\"id\":\"cf845205-53c9-4499-ba06-7781acca2ab5\",\"subtype\":\"Figure\",\"type\":\"Plot\"},\"ticker\":{\"id\":\"e5688694-7cbc-422a-bafe-7ccf09e9c2d0\",\"type\":\"BasicTicker\"}},\"id\":\"feba8461-b330-41e6-821e-70afd2050504\",\"type\":\"LinearAxis\"},{\"attributes\":{\"line_color\":\"#519aba\",\"line_width\":3,\"x\":{\"field\":\"x\"},\"y\":{\"field\":\"y\"}},\"id\":\"afbca82d-4040-4cdc-b150-b149fec9ca96\",\"type\":\"Line\"},{\"attributes\":{},\"id\":\"9cbb6075-48f4-4348-bf0a-aeaab866b5c2\",\"type\":\"SaveTool\"},{\"attributes\":{\"active_drag\":\"auto\",\"active_inspect\":\"auto\",\"active_scroll\":\"auto\",\"active_tap\":\"auto\",\"tools\":[{\"id\":\"0127083b-186e-4e3d-b3e2-9fbcab5a6d3e\",\"type\":\"PanTool\"},{\"id\":\"d8073b8c-f559-4e5a-9f9d-b9a6e286caac\",\"type\":\"WheelZoomTool\"},{\"id\":\"6956e282-8cf0-410c-8833-6ff574c168df\",\"type\":\"BoxZoomTool\"},{\"id\":\"9cbb6075-48f4-4348-bf0a-aeaab866b5c2\",\"type\":\"SaveTool\"},{\"id\":\"76e18271-14d3-4927-8993-93228e70efbd\",\"type\":\"ResetTool\"},{\"id\":\"9b07b8cb-3401-4b26-ada8-0d2aec22dbbc\",\"type\":\"HelpTool\"}]},\"id\":\"727d2c7a-0855-4f8c-876b-89288f0aa3f7\",\"type\":\"Toolbar\"},{\"attributes\":{\"grid_line_alpha\":{\"value\":0},\"grid_line_color\":{\"value\":null},\"plot\":{\"id\":\"cf845205-53c9-4499-ba06-7781acca2ab5\",\"subtype\":\"Figure\",\"type\":\"Plot\"},\"ticker\":{\"id\":\"e5688694-7cbc-422a-bafe-7ccf09e9c2d0\",\"type\":\"BasicTicker\"}},\"id\":\"5e4d6bc4-c301-4313-9ad4-f615f098d51c\",\"type\":\"Grid\"},{\"attributes\":{},\"id\":\"6c24dcb3-1108-4f01-abbc-ed8f362cb7f7\",\"type\":\"BasicTicker\"},{\"attributes\":{\"label\":{\"value\":\"p(x|C\\u2082)*P(C\\u2082)/P(X)\"},\"renderers\":[{\"id\":\"d4ed5a86-ca9c-4c28-af6c-ee718ca0fd71\",\"type\":\"GlyphRenderer\"}]},\"id\":\"69b7d093-809a-44bc-b2b8-7062d154f4e8\",\"type\":\"LegendItem\"},{\"attributes\":{},\"id\":\"d30d68da-25b7-4a3b-9458-87bb5b2c6082\",\"type\":\"LinearScale\"},{\"attributes\":{},\"id\":\"d8073b8c-f559-4e5a-9f9d-b9a6e286caac\",\"type\":\"WheelZoomTool\"},{\"attributes\":{\"callback\":null},\"id\":\"7f52f070-ca21-4e89-8860-a51357c5ff92\",\"type\":\"Range1d\"},{\"attributes\":{},\"id\":\"e5688694-7cbc-422a-bafe-7ccf09e9c2d0\",\"type\":\"BasicTicker\"},{\"attributes\":{\"data_source\":{\"id\":\"22c989b0-7d7e-4e72-8c33-406167c4024e\",\"type\":\"ColumnDataSource\"},\"glyph\":{\"id\":\"afbca82d-4040-4cdc-b150-b149fec9ca96\",\"type\":\"Line\"},\"hover_glyph\":null,\"muted_glyph\":null,\"nonselection_glyph\":{\"id\":\"682431da-3b6f-4677-b551-d2b424f6ea64\",\"type\":\"Line\"},\"selection_glyph\":null,\"view\":{\"id\":\"fee8fb50-4c14-421c-ab54-b4597e27a6f5\",\"type\":\"CDSView\"}},\"id\":\"d4ed5a86-ca9c-4c28-af6c-ee718ca0fd71\",\"type\":\"GlyphRenderer\"},{\"attributes\":{},\"id\":\"0127083b-186e-4e3d-b3e2-9fbcab5a6d3e\",\"type\":\"PanTool\"},{\"attributes\":{\"line_alpha\":0.1,\"line_color\":\"#1f77b4\",\"line_width\":3,\"x\":{\"field\":\"x\"},\"y\":{\"field\":\"y\"}},\"id\":\"c78c281b-6687-4a12-aa6c-79415efc8806\",\"type\":\"Line\"},{\"attributes\":{\"source\":{\"id\":\"22c989b0-7d7e-4e72-8c33-406167c4024e\",\"type\":\"ColumnDataSource\"}},\"id\":\"fee8fb50-4c14-421c-ab54-b4597e27a6f5\",\"type\":\"CDSView\"},{\"attributes\":{\"line_alpha\":0.1,\"line_color\":\"#1f77b4\",\"line_width\":3,\"x\":{\"field\":\"x\"},\"y\":{\"field\":\"y\"}},\"id\":\"682431da-3b6f-4677-b551-d2b424f6ea64\",\"type\":\"Line\"},{\"attributes\":{\"callback\":null,\"end\":4.411912635139073,\"start\":-3.6324453969614123},\"id\":\"0a5132fb-81f4-44fc-b063-299dbcacab54\",\"type\":\"Range1d\"},{\"attributes\":{\"bottom_units\":\"screen\",\"fill_alpha\":{\"value\":0.5},\"fill_color\":{\"value\":\"lightgrey\"},\"left_units\":\"screen\",\"level\":\"overlay\",\"line_alpha\":{\"value\":1.0},\"line_color\":{\"value\":\"black\"},\"line_dash\":[4,4],\"line_width\":{\"value\":2},\"plot\":null,\"render_mode\":\"css\",\"right_units\":\"screen\",\"top_units\":\"screen\"},\"id\":\"aa30ea1a-a4cb-4ec3-aa1e-8fea0d0fec85\",\"type\":\"BoxAnnotation\"},{\"attributes\":{},\"id\":\"30c3061a-22fa-43f9-861a-d4b60b446e2e\",\"type\":\"BasicTickFormatter\"},{\"attributes\":{\"label\":{\"value\":\"p(x|C\\u2081)*P(C\\u2081)/P(X)\"},\"renderers\":[{\"id\":\"cfffc8d4-b410-4dc3-9811-a52691b5c2aa\",\"type\":\"GlyphRenderer\"}]},\"id\":\"18bc7fff-3589-450f-b1ba-7a16c8df8998\",\"type\":\"LegendItem\"},{\"attributes\":{},\"id\":\"9b07b8cb-3401-4b26-ada8-0d2aec22dbbc\",\"type\":\"HelpTool\"}],\"root_ids\":[\"cf845205-53c9-4499-ba06-7781acca2ab5\"]},\"title\":\"Bokeh Application\",\"version\":\"0.12.13\"}};\n",
       "  var render_items = [{\"docid\":\"d03a6cb4-9f48-4347-92d7-3e21b8b502f9\",\"elementid\":\"b5a6c4b7-3464-4f40-ba4c-81f1046fe3e4\",\"modelid\":\"cf845205-53c9-4499-ba06-7781acca2ab5\"}];\n",
       "  root.Bokeh.embed.embed_items_notebook(docs_json, render_items);\n",
       "\n",
       "  }\n",
       "  if (root.Bokeh !== undefined) {\n",
       "    embed_document(root);\n",
       "  } else {\n",
       "    var attempts = 0;\n",
       "    var timer = setInterval(function(root) {\n",
       "      if (root.Bokeh !== undefined) {\n",
       "        embed_document(root);\n",
       "        clearInterval(timer);\n",
       "      }\n",
       "      attempts++;\n",
       "      if (attempts > 100) {\n",
       "        console.log(\"Bokeh: ERROR: Unable to run BokehJS code because BokehJS library is missing\")\n",
       "        clearInterval(timer);\n",
       "      }\n",
       "    }, 10, root)\n",
       "  }\n",
       "})(window);"
      ],
      "application/vnd.bokehjs_exec.v0+json": ""
     },
     "metadata": {
      "application/vnd.bokehjs_exec.v0+json": {
       "id": "cf845205-53c9-4499-ba06-7781acca2ab5"
      }
     },
     "output_type": "display_data"
    }
   ],
   "source": [
    "show(make_posterior_plot())"
   ]
  },
  {
   "cell_type": "markdown",
   "metadata": {
    "slideshow": {
     "slide_type": "subslide"
    }
   },
   "source": [
    "Again, in the case of equal losses, we choose the more probable class by interpreting the posterior probability."
   ]
  },
  {
   "cell_type": "code",
   "execution_count": 16,
   "metadata": {
    "slideshow": {
     "slide_type": "skip"
    }
   },
   "outputs": [],
   "source": [
    "def prob_class_1(x_t):\n",
    "    prob = norm.pdf(x_t, loc=liklihood_1_mean, scale=liklihood_1_std)*prior_1 /  \\\n",
    "          (norm.pdf(x_t, loc=liklihood_1_mean, scale=liklihood_1_std)*prior_1+  \\\n",
    "           norm.pdf(x_t, loc=liklihood_2_mean, scale=liklihood_2_std)*prior_2)\n",
    "    return prob\n",
    "\n",
    "def make_posterior_plot_with_loss(PC_1=0.5):\n",
    "    x_post = np.linspace(x_min, x_max, 100)\n",
    "    post_class1 = (prob_class_1(x_post) > PC_1)\n",
    "    color_post = np_map({0: '#1d5b91', 1: '#63213f'}, post_class1)\n",
    "\n",
    "    plot_posterior = make_posterior_plot()\n",
    "    plot_posterior.rect(x=x_post, y=0.5, height=1, width=(x_max-x_min)/100, color=color_post, alpha=1, level='underlay')\n",
    "    return(plot_posterior)"
   ]
  },
  {
   "cell_type": "code",
   "execution_count": 17,
   "metadata": {
    "slideshow": {
     "slide_type": "subslide"
    }
   },
   "outputs": [
    {
     "data": {
      "text/html": [
       "\n",
       "<div class=\"bk-root\">\n",
       "    <div class=\"bk-plotdiv\" id=\"0feee258-4e70-442b-bb27-d4e4c564ee5f\"></div>\n",
       "</div>"
      ]
     },
     "metadata": {},
     "output_type": "display_data"
    },
    {
     "data": {
      "application/javascript": [
       "(function(root) {\n",
       "  function embed_document(root) {\n",
       "    \n",
       "  var docs_json = {\"677eb81d-167b-4866-99af-131d3322cfd8\":{\"roots\":{\"references\":[{\"attributes\":{\"dimension\":1,\"grid_line_alpha\":{\"value\":0},\"grid_line_color\":{\"value\":null},\"plot\":{\"id\":\"15c1b94f-4f06-4811-b36a-391744a93af9\",\"subtype\":\"Figure\",\"type\":\"Plot\"},\"ticker\":{\"id\":\"03210553-9e10-4dc5-a312-3aaf8b69ee27\",\"type\":\"BasicTicker\"}},\"id\":\"26eb676a-2d68-42ec-a9ec-2a2e9eede804\",\"type\":\"Grid\"},{\"attributes\":{\"bottom_units\":\"screen\",\"fill_alpha\":{\"value\":0.5},\"fill_color\":{\"value\":\"lightgrey\"},\"left_units\":\"screen\",\"level\":\"overlay\",\"line_alpha\":{\"value\":1.0},\"line_color\":{\"value\":\"black\"},\"line_dash\":[4,4],\"line_width\":{\"value\":2},\"plot\":null,\"render_mode\":\"css\",\"right_units\":\"screen\",\"top_units\":\"screen\"},\"id\":\"4a3aff2f-57f5-4ea5-bfd3-a0d2036d2b7f\",\"type\":\"BoxAnnotation\"},{\"attributes\":{},\"id\":\"2475359f-abd6-4a97-982b-073ab23195f0\",\"type\":\"PanTool\"},{\"attributes\":{},\"id\":\"2ae4711f-c1f8-4180-bf8f-749f0c9fbc47\",\"type\":\"WheelZoomTool\"},{\"attributes\":{\"overlay\":{\"id\":\"4a3aff2f-57f5-4ea5-bfd3-a0d2036d2b7f\",\"type\":\"BoxAnnotation\"}},\"id\":\"6da9606e-6bc1-474d-ac98-4130c4d131c4\",\"type\":\"BoxZoomTool\"},{\"attributes\":{\"background_fill_color\":{\"value\":\"#000000\"},\"items\":[{\"id\":\"cc28d246-2a68-4d85-8781-c6302f30ab10\",\"type\":\"LegendItem\"},{\"id\":\"d8da7ab0-23a6-48c0-8ebc-c061d39ddab6\",\"type\":\"LegendItem\"}],\"label_text_color\":{\"value\":\"#CCCCCC\"},\"plot\":{\"id\":\"15c1b94f-4f06-4811-b36a-391744a93af9\",\"subtype\":\"Figure\",\"type\":\"Plot\"}},\"id\":\"888b7305-82a0-4c1e-af85-0a2f426f035a\",\"type\":\"Legend\"},{\"attributes\":{},\"id\":\"7e1c6a36-c7ef-4679-876d-a67f6804294f\",\"type\":\"SaveTool\"},{\"attributes\":{\"line_alpha\":0.1,\"line_color\":\"#1f77b4\",\"line_width\":3,\"x\":{\"field\":\"x\"},\"y\":{\"field\":\"y\"}},\"id\":\"d86d44b3-97a3-4024-98ea-a2b0a267c26f\",\"type\":\"Line\"},{\"attributes\":{},\"id\":\"ca03c33d-c272-4d2d-ba00-ecf80acd7537\",\"type\":\"ResetTool\"},{\"attributes\":{\"label\":{\"value\":\"p(x|C\\u2082)*P(C\\u2082)/P(X)\"},\"renderers\":[{\"id\":\"73b3382a-e694-4c39-ae9d-c71e8fefdcc5\",\"type\":\"GlyphRenderer\"}]},\"id\":\"d8da7ab0-23a6-48c0-8ebc-c061d39ddab6\",\"type\":\"LegendItem\"},{\"attributes\":{\"callback\":null,\"column_names\":[\"x\",\"y\"],\"data\":{\"x\":{\"__ndarray__\":\"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\",\"dtype\":\"float64\",\"shape\":[200]},\"y\":{\"__ndarray__\":\"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\",\"dtype\":\"float64\",\"shape\":[200]}}},\"id\":\"9e302f37-df93-4e51-be3a-d742c942ca0f\",\"type\":\"ColumnDataSource\"},{\"attributes\":{},\"id\":\"c7af3a20-13d4-46a8-bcba-946dbb508e5e\",\"type\":\"HelpTool\"},{\"attributes\":{\"line_alpha\":0.1,\"line_color\":\"#1f77b4\",\"line_width\":3,\"x\":{\"field\":\"x\"},\"y\":{\"field\":\"y\"}},\"id\":\"d3131033-0370-4619-8142-a70e1e99ce2c\",\"type\":\"Line\"},{\"attributes\":{\"data_source\":{\"id\":\"fdb13e86-4b81-489d-904a-a191f6000365\",\"type\":\"ColumnDataSource\"},\"glyph\":{\"id\":\"ffa3da68-05c9-46f0-a48b-2e2156c617f3\",\"type\":\"Line\"},\"hover_glyph\":null,\"muted_glyph\":null,\"nonselection_glyph\":{\"id\":\"d3131033-0370-4619-8142-a70e1e99ce2c\",\"type\":\"Line\"},\"selection_glyph\":null,\"view\":{\"id\":\"bbb6f393-ecd7-4c62-bc8d-f9ae7c302630\",\"type\":\"CDSView\"}},\"id\":\"73b3382a-e694-4c39-ae9d-c71e8fefdcc5\",\"type\":\"GlyphRenderer\"},{\"attributes\":{\"data_source\":{\"id\":\"af908a04-cb58-4777-951b-2892551db792\",\"type\":\"ColumnDataSource\"},\"glyph\":{\"id\":\"1908323d-fd37-4af9-a5ba-928c0e0a6e5a\",\"type\":\"Rect\"},\"hover_glyph\":null,\"level\":\"underlay\",\"muted_glyph\":null,\"nonselection_glyph\":{\"id\":\"63a3f7ca-d4b5-410e-8b57-020d248c3430\",\"type\":\"Rect\"},\"selection_glyph\":null,\"view\":{\"id\":\"e92dca5f-6526-4e6f-a740-889777433b45\",\"type\":\"CDSView\"}},\"id\":\"97d792ff-8699-405c-8a9b-91ab6107997c\",\"type\":\"GlyphRenderer\"},{\"attributes\":{\"fill_alpha\":{\"value\":0.1},\"fill_color\":{\"value\":\"#1f77b4\"},\"height\":{\"units\":\"data\",\"value\":1},\"line_alpha\":{\"value\":0.1},\"line_color\":{\"value\":\"#1f77b4\"},\"width\":{\"units\":\"data\",\"value\":0.08044358032100485},\"x\":{\"field\":\"x\"},\"y\":{\"value\":0.5}},\"id\":\"63a3f7ca-d4b5-410e-8b57-020d248c3430\",\"type\":\"Rect\"},{\"attributes\":{\"source\":{\"id\":\"fdb13e86-4b81-489d-904a-a191f6000365\",\"type\":\"ColumnDataSource\"}},\"id\":\"bbb6f393-ecd7-4c62-bc8d-f9ae7c302630\",\"type\":\"CDSView\"},{\"attributes\":{\"callback\":null},\"id\":\"af17f5d6-7590-4737-aa2d-9c88c1b6f64d\",\"type\":\"Range1d\"},{\"attributes\":{\"fill_color\":{\"field\":\"fill_color\"},\"height\":{\"units\":\"data\",\"value\":1},\"line_color\":{\"field\":\"line_color\"},\"width\":{\"units\":\"data\",\"value\":0.08044358032100485},\"x\":{\"field\":\"x\"},\"y\":{\"value\":0.5}},\"id\":\"1908323d-fd37-4af9-a5ba-928c0e0a6e5a\",\"type\":\"Rect\"},{\"attributes\":{\"label\":{\"value\":\"p(x|C\\u2081)*P(C\\u2081)/P(X)\"},\"renderers\":[{\"id\":\"b70761c3-1699-4d98-80cc-26de97b61cd3\",\"type\":\"GlyphRenderer\"}]},\"id\":\"cc28d246-2a68-4d85-8781-c6302f30ab10\",\"type\":\"LegendItem\"},{\"attributes\":{\"line_color\":\"#519aba\",\"line_width\":3,\"x\":{\"field\":\"x\"},\"y\":{\"field\":\"y\"}},\"id\":\"ffa3da68-05c9-46f0-a48b-2e2156c617f3\",\"type\":\"Line\"},{\"attributes\":{\"background_fill_alpha\":{\"value\":0},\"below\":[{\"id\":\"b7e46f7f-1c77-475c-b888-95cf29afffe0\",\"type\":\"LinearAxis\"}],\"border_fill_alpha\":{\"value\":0},\"left\":[{\"id\":\"9820619d-d010-4bf1-8a89-62a27ec2a710\",\"type\":\"LinearAxis\"}],\"outline_line_color\":{\"value\":\"#333333\"},\"plot_height\":300,\"plot_width\":400,\"renderers\":[{\"id\":\"b7e46f7f-1c77-475c-b888-95cf29afffe0\",\"type\":\"LinearAxis\"},{\"id\":\"f12ce08b-e17b-4b3f-8608-982e6b4f9bce\",\"type\":\"Grid\"},{\"id\":\"9820619d-d010-4bf1-8a89-62a27ec2a710\",\"type\":\"LinearAxis\"},{\"id\":\"26eb676a-2d68-42ec-a9ec-2a2e9eede804\",\"type\":\"Grid\"},{\"id\":\"4a3aff2f-57f5-4ea5-bfd3-a0d2036d2b7f\",\"type\":\"BoxAnnotation\"},{\"id\":\"888b7305-82a0-4c1e-af85-0a2f426f035a\",\"type\":\"Legend\"},{\"id\":\"b70761c3-1699-4d98-80cc-26de97b61cd3\",\"type\":\"GlyphRenderer\"},{\"id\":\"73b3382a-e694-4c39-ae9d-c71e8fefdcc5\",\"type\":\"GlyphRenderer\"},{\"id\":\"97d792ff-8699-405c-8a9b-91ab6107997c\",\"type\":\"GlyphRenderer\"}],\"title\":{\"id\":\"866a2ce9-9ae6-48da-9212-f401fe00e995\",\"type\":\"Title\"},\"toolbar\":{\"id\":\"8f026e9b-23d3-4d34-89fa-bfbcdf2373ad\",\"type\":\"Toolbar\"},\"toolbar_location\":null,\"x_range\":{\"id\":\"cbfec851-79fe-4984-ad52-bdb258a8368d\",\"type\":\"Range1d\"},\"x_scale\":{\"id\":\"4d0242cb-733d-44fd-b666-f3173c6d3c45\",\"type\":\"LinearScale\"},\"y_range\":{\"id\":\"af17f5d6-7590-4737-aa2d-9c88c1b6f64d\",\"type\":\"Range1d\"},\"y_scale\":{\"id\":\"e9615f9c-f705-46d9-a0ec-da93335fdbf9\",\"type\":\"LinearScale\"}},\"id\":\"15c1b94f-4f06-4811-b36a-391744a93af9\",\"subtype\":\"Figure\",\"type\":\"Plot\"},{\"attributes\":{\"data_source\":{\"id\":\"9e302f37-df93-4e51-be3a-d742c942ca0f\",\"type\":\"ColumnDataSource\"},\"glyph\":{\"id\":\"4c42e201-69de-4b32-adbf-808ce0452f41\",\"type\":\"Line\"},\"hover_glyph\":null,\"muted_glyph\":null,\"nonselection_glyph\":{\"id\":\"d86d44b3-97a3-4024-98ea-a2b0a267c26f\",\"type\":\"Line\"},\"selection_glyph\":null,\"view\":{\"id\":\"04a07aa5-9b12-445c-a943-775c89a9379f\",\"type\":\"CDSView\"}},\"id\":\"b70761c3-1699-4d98-80cc-26de97b61cd3\",\"type\":\"GlyphRenderer\"},{\"attributes\":{\"callback\":null,\"column_names\":[\"x\",\"fill_color\",\"line_color\"],\"data\":{\"fill_color\":[\"#63213f\",\"#63213f\",\"#63213f\",\"#63213f\",\"#63213f\",\"#63213f\",\"#63213f\",\"#63213f\",\"#63213f\",\"#63213f\",\"#63213f\",\"#63213f\",\"#63213f\",\"#63213f\",\"#63213f\",\"#63213f\",\"#63213f\",\"#63213f\",\"#63213f\",\"#63213f\",\"#63213f\",\"#63213f\",\"#63213f\",\"#63213f\",\"#63213f\",\"#63213f\",\"#63213f\",\"#63213f\",\"#63213f\",\"#63213f\",\"#63213f\",\"#63213f\",\"#63213f\",\"#63213f\",\"#63213f\",\"#63213f\",\"#63213f\",\"#63213f\",\"#1d5b91\",\"#1d5b91\",\"#1d5b91\",\"#1d5b91\",\"#1d5b91\",\"#1d5b91\",\"#1d5b91\",\"#1d5b91\",\"#1d5b91\",\"#1d5b91\",\"#1d5b91\",\"#1d5b91\",\"#1d5b91\",\"#1d5b91\",\"#1d5b91\",\"#1d5b91\",\"#1d5b91\",\"#1d5b91\",\"#1d5b91\",\"#1d5b91\",\"#1d5b91\",\"#1d5b91\",\"#1d5b91\",\"#1d5b91\",\"#1d5b91\",\"#1d5b91\",\"#1d5b91\",\"#1d5b91\",\"#1d5b91\",\"#1d5b91\",\"#1d5b91\",\"#1d5b91\",\"#1d5b91\",\"#1d5b91\",\"#1d5b91\",\"#1d5b91\",\"#1d5b91\",\"#1d5b91\",\"#1d5b91\",\"#1d5b91\",\"#1d5b91\",\"#1d5b91\",\"#1d5b91\",\"#1d5b91\",\"#1d5b91\",\"#1d5b91\",\"#1d5b91\",\"#1d5b91\",\"#1d5b91\",\"#1d5b91\",\"#1d5b91\",\"#1d5b91\",\"#1d5b91\",\"#1d5b91\",\"#1d5b91\",\"#1d5b91\",\"#1d5b91\",\"#1d5b91\",\"#1d5b91\",\"#1d5b91\",\"#1d5b91\",\"#1d5b91\"],\"line_color\":[\"#63213f\",\"#63213f\",\"#63213f\",\"#63213f\",\"#63213f\",\"#63213f\",\"#63213f\",\"#63213f\",\"#63213f\",\"#63213f\",\"#63213f\",\"#63213f\",\"#63213f\",\"#63213f\",\"#63213f\",\"#63213f\",\"#63213f\",\"#63213f\",\"#63213f\",\"#63213f\",\"#63213f\",\"#63213f\",\"#63213f\",\"#63213f\",\"#63213f\",\"#63213f\",\"#63213f\",\"#63213f\",\"#63213f\",\"#63213f\",\"#63213f\",\"#63213f\",\"#63213f\",\"#63213f\",\"#63213f\",\"#63213f\",\"#63213f\",\"#63213f\",\"#1d5b91\",\"#1d5b91\",\"#1d5b91\",\"#1d5b91\",\"#1d5b91\",\"#1d5b91\",\"#1d5b91\",\"#1d5b91\",\"#1d5b91\",\"#1d5b91\",\"#1d5b91\",\"#1d5b91\",\"#1d5b91\",\"#1d5b91\",\"#1d5b91\",\"#1d5b91\",\"#1d5b91\",\"#1d5b91\",\"#1d5b91\",\"#1d5b91\",\"#1d5b91\",\"#1d5b91\",\"#1d5b91\",\"#1d5b91\",\"#1d5b91\",\"#1d5b91\",\"#1d5b91\",\"#1d5b91\",\"#1d5b91\",\"#1d5b91\",\"#1d5b91\",\"#1d5b91\",\"#1d5b91\",\"#1d5b91\",\"#1d5b91\",\"#1d5b91\",\"#1d5b91\",\"#1d5b91\",\"#1d5b91\",\"#1d5b91\",\"#1d5b91\",\"#1d5b91\",\"#1d5b91\",\"#1d5b91\",\"#1d5b91\",\"#1d5b91\",\"#1d5b91\",\"#1d5b91\",\"#1d5b91\",\"#1d5b91\",\"#1d5b91\",\"#1d5b91\",\"#1d5b91\",\"#1d5b91\",\"#1d5b91\",\"#1d5b91\",\"#1d5b91\",\"#1d5b91\",\"#1d5b91\",\"#1d5b91\",\"#1d5b91\",\"#1d5b91\"],\"x\":{\"__ndarray__\":\"2aNDiD8PDcBDt4jp1WgMwK3KzUpswgvAGN4SrAIcC8CC8VcNmXUKwOwEnW4vzwnAVhjiz8UoCcDAKycxXIIIwCo/bJLy2wfAlFKx84g1B8D+ZfZUH48GwGl5O7a16AXA04yAF0xCBcA9oMV44psEwKezCtp49QPAEsdPOw9PA8B82pScpagCwObt2f07AgLAUAEfX9JbAcC6FGTAaLUAwCQoqSH/DgDAHXfcBSvR/r/xnWbIV4T9v8XE8IqEN/y/mut6TbHq+r9uEgUQ3p35v0I5j9IKUfi/FmAZlTcE97/qhqNXZLf1v8CtLRqRavS/lNS33L0d879o+0Gf6tDxvzwizGEXhPC/IJKsSIhu7r/I38DN4dTrv3At1VI7O+m/HHvp15Sh5r/EyP1c7gfkv2wWEuJHbuG/KMhMzkKp3b94Y3XY9XXYv8j+neKoQtO/QDSN2bcezL/gat7tHbjBvwCGvggQRq2/AD/5S6+omD+A4luqX/e6P6C63MBJ4sc/+MFF1nEk0T+oJh3MvlfWP1iL9MELi9s/BPjlWyxf4D9cqtHW0vjiP7RcvVF5kuU/DA+pzB8s6D9kwZRHxsXqP7xzgMJsX+0/FCZsPRP57z8y7CvcXEnxP17FoRkwlvI/ip4XVwPj8z+2d42U1i/1P+JQA9KpfPY/Dip5D33J9z86A+9MUBb5P2bcZIojY/o/krXax/av+z++jlAFyvz8P+pnxkKdSf4/FkE8gHCW/z8hDdneoXEAQLX5k30LGAFAS+ZOHHW+AUDh0gm73mQCQHe/xFlICwNADax/+LGxA0CjmDqXG1gEQDmF9TWF/gRAz3Gw1O6kBUBlXmtzWEsGQPtKJhLC8QZAkTfhsCuYB0AnJJxPlT4IQL0QV+7+5AhAUf0RjWiLCUDn6cwr0jEKQH3Wh8o72ApAE8NCaaV+C0Cpr/0HDyUMQD+cuKZ4ywxA1YhzReJxDUBrdS7kSxgOQAFi6YK1vg5Al06kIR9lD0CWnS9gxAUQQOITjS/5WBBALIrq/i2sEEB2AEjOYv8QQMJ2pZ2XUhFADu0CbcylEUA=\",\"dtype\":\"float64\",\"shape\":[100]}}},\"id\":\"af908a04-cb58-4777-951b-2892551db792\",\"type\":\"ColumnDataSource\"},{\"attributes\":{\"plot\":null,\"text\":\"Posterior = Liklihoods * Priors / Evidence\",\"text_color\":{\"value\":\"white\"}},\"id\":\"866a2ce9-9ae6-48da-9212-f401fe00e995\",\"type\":\"Title\"},{\"attributes\":{\"line_color\":\"#f55385\",\"line_width\":3,\"x\":{\"field\":\"x\"},\"y\":{\"field\":\"y\"}},\"id\":\"4c42e201-69de-4b32-adbf-808ce0452f41\",\"type\":\"Line\"},{\"attributes\":{},\"id\":\"6779151e-23d8-4550-a9ac-a12bea2b0318\",\"type\":\"BasicTickFormatter\"},{\"attributes\":{\"callback\":null,\"end\":4.411912635139073,\"start\":-3.6324453969614123},\"id\":\"cbfec851-79fe-4984-ad52-bdb258a8368d\",\"type\":\"Range1d\"},{\"attributes\":{\"active_drag\":\"auto\",\"active_inspect\":\"auto\",\"active_scroll\":\"auto\",\"active_tap\":\"auto\",\"tools\":[{\"id\":\"2475359f-abd6-4a97-982b-073ab23195f0\",\"type\":\"PanTool\"},{\"id\":\"2ae4711f-c1f8-4180-bf8f-749f0c9fbc47\",\"type\":\"WheelZoomTool\"},{\"id\":\"6da9606e-6bc1-474d-ac98-4130c4d131c4\",\"type\":\"BoxZoomTool\"},{\"id\":\"7e1c6a36-c7ef-4679-876d-a67f6804294f\",\"type\":\"SaveTool\"},{\"id\":\"ca03c33d-c272-4d2d-ba00-ecf80acd7537\",\"type\":\"ResetTool\"},{\"id\":\"c7af3a20-13d4-46a8-bcba-946dbb508e5e\",\"type\":\"HelpTool\"}]},\"id\":\"8f026e9b-23d3-4d34-89fa-bfbcdf2373ad\",\"type\":\"Toolbar\"},{\"attributes\":{\"source\":{\"id\":\"9e302f37-df93-4e51-be3a-d742c942ca0f\",\"type\":\"ColumnDataSource\"}},\"id\":\"04a07aa5-9b12-445c-a943-775c89a9379f\",\"type\":\"CDSView\"},{\"attributes\":{\"source\":{\"id\":\"af908a04-cb58-4777-951b-2892551db792\",\"type\":\"ColumnDataSource\"}},\"id\":\"e92dca5f-6526-4e6f-a740-889777433b45\",\"type\":\"CDSView\"},{\"attributes\":{},\"id\":\"4d0242cb-733d-44fd-b666-f3173c6d3c45\",\"type\":\"LinearScale\"},{\"attributes\":{},\"id\":\"8a56d2dd-19b7-4c33-ba7d-21e6e65d7e2e\",\"type\":\"BasicTickFormatter\"},{\"attributes\":{},\"id\":\"e9615f9c-f705-46d9-a0ec-da93335fdbf9\",\"type\":\"LinearScale\"},{\"attributes\":{\"grid_line_alpha\":{\"value\":0},\"grid_line_color\":{\"value\":null},\"plot\":{\"id\":\"15c1b94f-4f06-4811-b36a-391744a93af9\",\"subtype\":\"Figure\",\"type\":\"Plot\"},\"ticker\":{\"id\":\"b9814a6c-22b6-446e-8357-8b144fdd3a78\",\"type\":\"BasicTicker\"}},\"id\":\"f12ce08b-e17b-4b3f-8608-982e6b4f9bce\",\"type\":\"Grid\"},{\"attributes\":{\"axis_label\":null,\"axis_label_text_color\":{\"value\":\"white\"},\"axis_line_color\":{\"value\":null},\"formatter\":{\"id\":\"6779151e-23d8-4550-a9ac-a12bea2b0318\",\"type\":\"BasicTickFormatter\"},\"major_label_text_color\":{\"value\":\"white\"},\"major_tick_line_color\":{\"value\":null},\"minor_tick_line_color\":{\"value\":null},\"plot\":{\"id\":\"15c1b94f-4f06-4811-b36a-391744a93af9\",\"subtype\":\"Figure\",\"type\":\"Plot\"},\"ticker\":{\"id\":\"b9814a6c-22b6-446e-8357-8b144fdd3a78\",\"type\":\"BasicTicker\"}},\"id\":\"b7e46f7f-1c77-475c-b888-95cf29afffe0\",\"type\":\"LinearAxis\"},{\"attributes\":{},\"id\":\"b9814a6c-22b6-446e-8357-8b144fdd3a78\",\"type\":\"BasicTicker\"},{\"attributes\":{\"axis_label\":null,\"axis_label_text_color\":{\"value\":\"white\"},\"axis_line_color\":{\"value\":null},\"formatter\":{\"id\":\"8a56d2dd-19b7-4c33-ba7d-21e6e65d7e2e\",\"type\":\"BasicTickFormatter\"},\"major_label_text_color\":{\"value\":\"white\"},\"major_tick_line_color\":{\"value\":null},\"minor_tick_line_color\":{\"value\":null},\"plot\":{\"id\":\"15c1b94f-4f06-4811-b36a-391744a93af9\",\"subtype\":\"Figure\",\"type\":\"Plot\"},\"ticker\":{\"id\":\"03210553-9e10-4dc5-a312-3aaf8b69ee27\",\"type\":\"BasicTicker\"}},\"id\":\"9820619d-d010-4bf1-8a89-62a27ec2a710\",\"type\":\"LinearAxis\"},{\"attributes\":{\"callback\":null,\"column_names\":[\"x\",\"y\"],\"data\":{\"x\":{\"__ndarray__\":\"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\",\"dtype\":\"float64\",\"shape\":[200]},\"y\":{\"__ndarray__\":\"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\",\"dtype\":\"float64\",\"shape\":[200]}}},\"id\":\"fdb13e86-4b81-489d-904a-a191f6000365\",\"type\":\"ColumnDataSource\"},{\"attributes\":{},\"id\":\"03210553-9e10-4dc5-a312-3aaf8b69ee27\",\"type\":\"BasicTicker\"}],\"root_ids\":[\"15c1b94f-4f06-4811-b36a-391744a93af9\"]},\"title\":\"Bokeh Application\",\"version\":\"0.12.13\"}};\n",
       "  var render_items = [{\"docid\":\"677eb81d-167b-4866-99af-131d3322cfd8\",\"elementid\":\"0feee258-4e70-442b-bb27-d4e4c564ee5f\",\"modelid\":\"15c1b94f-4f06-4811-b36a-391744a93af9\"}];\n",
       "  root.Bokeh.embed.embed_items_notebook(docs_json, render_items);\n",
       "\n",
       "  }\n",
       "  if (root.Bokeh !== undefined) {\n",
       "    embed_document(root);\n",
       "  } else {\n",
       "    var attempts = 0;\n",
       "    var timer = setInterval(function(root) {\n",
       "      if (root.Bokeh !== undefined) {\n",
       "        embed_document(root);\n",
       "        clearInterval(timer);\n",
       "      }\n",
       "      attempts++;\n",
       "      if (attempts > 100) {\n",
       "        console.log(\"Bokeh: ERROR: Unable to run BokehJS code because BokehJS library is missing\")\n",
       "        clearInterval(timer);\n",
       "      }\n",
       "    }, 10, root)\n",
       "  }\n",
       "})(window);"
      ],
      "application/vnd.bokehjs_exec.v0+json": ""
     },
     "metadata": {
      "application/vnd.bokehjs_exec.v0+json": {
       "id": "15c1b94f-4f06-4811-b36a-391744a93af9"
      }
     },
     "output_type": "display_data"
    }
   ],
   "source": [
    "show(make_posterior_plot_with_loss())"
   ]
  },
  {
   "cell_type": "markdown",
   "metadata": {
    "slideshow": {
     "slide_type": "slide"
    }
   },
   "source": [
    "# Unequal Losses\n",
    "\n",
    "<p>\n",
    "<center>Loss Table ($\\lambda_{ik}$)</center>\n",
    "\n",
    "|                          | Actual $C_1$  | Actual $C_2$ |\n",
    "| ------------------------ |:-------------:| :-----------:|\n",
    "| $\\alpha_1$: choose $C_1$ | 0             | 10           |\n",
    "| $\\alpha_2$: choose $C_2$ | 5             | 0            |"
   ]
  },
  {
   "cell_type": "markdown",
   "metadata": {
    "slideshow": {
     "slide_type": "-"
    }
   },
   "source": [
    "\\\\[\\begin{gathered}\n",
    "  R({\\alpha _1}|{\\mathbf{x}}) = 0 \\cdot P({C_1}|{\\mathbf{x}}) + 10 \\cdot P({C_2}|{\\mathbf{x}}) \\hfill \\\\\n",
    "  R({\\alpha _1}|{\\mathbf{x}}) = 10 \\cdot (1 - P({C_1}|{\\mathbf{x}})) \\hfill \\\\\n",
    "   \\hfill \\\\\n",
    "  R({\\alpha _2}|{\\mathbf{x}}) = 5 \\cdot P({C_1}|{\\mathbf{x}}) + 0 \\cdot P({C_2}|{\\mathbf{x}}) \\hfill \\\\\n",
    "  R({\\alpha _2}|{\\mathbf{x}}) = 5 \\cdot P({C_1}|{\\mathbf{x}}) \\hfill \\\\ \n",
    "\\end{gathered} \\\\]"
   ]
  },
  {
   "cell_type": "markdown",
   "metadata": {
    "slideshow": {
     "slide_type": "subslide"
    }
   },
   "source": [
    "\\\\[\\begin{gathered}\n",
    "  R({\\alpha _1}|{\\mathbf{x}}) = 10 \\cdot (1 - P({C_1}|{\\mathbf{x}})) \\hfill \\\\\n",
    "  R({\\alpha _2}|{\\mathbf{x}}) = 5 \\cdot P({C_1}|{\\mathbf{x}}) \\hfill \\\\\n",
    "   \\hfill \\\\\n",
    "  {\\text{Choose }}{\\alpha _1}{\\text{ if:}} \\hfill \\\\\n",
    "  R({\\alpha _1}|{\\mathbf{x}}) < R({\\alpha _2}|{\\mathbf{x}}) \\hfill \\\\\n",
    "  10 \\cdot (1 - P({C_1}|{\\mathbf{x}})) < 5 \\cdot P({C_1}|{\\mathbf{x}}) \\hfill \\\\\n",
    "  10 - 10 \\cdot P < 5 \\cdot P \\hfill \\\\\n",
    "  10 < 15 \\cdot P \\hfill \\\\\n",
    "  \\tfrac{2}{3} < P({C_1}|{\\mathbf{x}}) \\hfill \\\\\n",
    "  P({C_1}|{\\mathbf{x}}) > \\tfrac{2}{3} \\hfill \\\\ \n",
    "\\end{gathered} \\\\]"
   ]
  },
  {
   "cell_type": "code",
   "execution_count": 18,
   "metadata": {
    "slideshow": {
     "slide_type": "subslide"
    }
   },
   "outputs": [
    {
     "data": {
      "text/html": [
       "\n",
       "<div class=\"bk-root\">\n",
       "    <div class=\"bk-plotdiv\" id=\"04e532cd-6e63-42c5-b347-04cd6b703c97\"></div>\n",
       "</div>"
      ]
     },
     "metadata": {},
     "output_type": "display_data"
    },
    {
     "data": {
      "application/javascript": [
       "(function(root) {\n",
       "  function embed_document(root) {\n",
       "    \n",
       "  var docs_json = {\"886da2e7-c5e6-406e-9ba6-312815060ab3\":{\"roots\":{\"references\":[{\"attributes\":{\"dimension\":1,\"grid_line_alpha\":{\"value\":0},\"grid_line_color\":{\"value\":null},\"plot\":{\"id\":\"391e28a3-ff05-4b29-96b2-a59d71f35871\",\"subtype\":\"Figure\",\"type\":\"Plot\"},\"ticker\":{\"id\":\"edce089b-3fd8-4db3-8c4c-37bfd146236d\",\"type\":\"BasicTicker\"}},\"id\":\"afa333a0-fd49-48d9-b266-f4aa70f7a412\",\"type\":\"Grid\"},{\"attributes\":{\"data_source\":{\"id\":\"bb48aa92-72d7-4c35-9959-8d63b14fd826\",\"type\":\"ColumnDataSource\"},\"glyph\":{\"id\":\"8dacb757-5a0c-452d-b6b2-8b2870e6d285\",\"type\":\"Rect\"},\"hover_glyph\":null,\"level\":\"underlay\",\"muted_glyph\":null,\"nonselection_glyph\":{\"id\":\"f79e6153-8ebf-4414-9241-198b088186ed\",\"type\":\"Rect\"},\"selection_glyph\":null,\"view\":{\"id\":\"c9296408-c22f-44bf-8075-4ed47595538d\",\"type\":\"CDSView\"}},\"id\":\"aa634937-c0b9-401d-8d96-f77440e63531\",\"type\":\"GlyphRenderer\"},{\"attributes\":{\"callback\":null},\"id\":\"558233e8-e2da-4948-a12c-09bc4564c543\",\"type\":\"Range1d\"},{\"attributes\":{\"bottom_units\":\"screen\",\"fill_alpha\":{\"value\":0.5},\"fill_color\":{\"value\":\"lightgrey\"},\"left_units\":\"screen\",\"level\":\"overlay\",\"line_alpha\":{\"value\":1.0},\"line_color\":{\"value\":\"black\"},\"line_dash\":[4,4],\"line_width\":{\"value\":2},\"plot\":null,\"render_mode\":\"css\",\"right_units\":\"screen\",\"top_units\":\"screen\"},\"id\":\"31d62d3b-2a09-4a1e-a274-bad794908381\",\"type\":\"BoxAnnotation\"},{\"attributes\":{\"callback\":null,\"column_names\":[\"x\",\"y\"],\"data\":{\"x\":{\"__ndarray__\":\"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\",\"dtype\":\"float64\",\"shape\":[200]},\"y\":{\"__ndarray__\":\"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\",\"dtype\":\"float64\",\"shape\":[200]}}},\"id\":\"4a4715ca-dc0a-40c0-a96b-9d0c0ddf7373\",\"type\":\"ColumnDataSource\"},{\"attributes\":{},\"id\":\"90107e9c-2ebe-43a5-84d5-155e634122a8\",\"type\":\"PanTool\"},{\"attributes\":{\"source\":{\"id\":\"4a4715ca-dc0a-40c0-a96b-9d0c0ddf7373\",\"type\":\"ColumnDataSource\"}},\"id\":\"a9dc1055-1000-4b5f-9858-9b7d45be0afc\",\"type\":\"CDSView\"},{\"attributes\":{\"background_fill_color\":{\"value\":\"#000000\"},\"items\":[{\"id\":\"af18367f-7153-4b54-8fb4-8c02d2c50b72\",\"type\":\"LegendItem\"},{\"id\":\"f1a4c3eb-c247-4f59-8e16-9bfb3b6cba77\",\"type\":\"LegendItem\"}],\"label_text_color\":{\"value\":\"#CCCCCC\"},\"plot\":{\"id\":\"391e28a3-ff05-4b29-96b2-a59d71f35871\",\"subtype\":\"Figure\",\"type\":\"Plot\"}},\"id\":\"60e4341b-e8ac-4d0b-a80d-7235d2d057db\",\"type\":\"Legend\"},{\"attributes\":{},\"id\":\"5fee6ea4-c835-4bda-a695-7835d3a23c0b\",\"type\":\"LinearScale\"},{\"attributes\":{\"data_source\":{\"id\":\"4a4715ca-dc0a-40c0-a96b-9d0c0ddf7373\",\"type\":\"ColumnDataSource\"},\"glyph\":{\"id\":\"890fea59-a9b9-4e84-b146-af4d0f86f26e\",\"type\":\"Line\"},\"hover_glyph\":null,\"muted_glyph\":null,\"nonselection_glyph\":{\"id\":\"70102e49-7835-480b-8256-bd24e55847f8\",\"type\":\"Line\"},\"selection_glyph\":null,\"view\":{\"id\":\"a9dc1055-1000-4b5f-9858-9b7d45be0afc\",\"type\":\"CDSView\"}},\"id\":\"aed96c0d-d0e1-4c3b-b2f2-b59551e6a6a6\",\"type\":\"GlyphRenderer\"},{\"attributes\":{\"line_color\":\"#f55385\",\"line_width\":3,\"x\":{\"field\":\"x\"},\"y\":{\"field\":\"y\"}},\"id\":\"890fea59-a9b9-4e84-b146-af4d0f86f26e\",\"type\":\"Line\"},{\"attributes\":{},\"id\":\"6792dab3-bd55-4726-b085-460949b9bb23\",\"type\":\"BasicTicker\"},{\"attributes\":{\"overlay\":{\"id\":\"31d62d3b-2a09-4a1e-a274-bad794908381\",\"type\":\"BoxAnnotation\"}},\"id\":\"0f527e2a-c6f3-473f-afa1-b030fe3bbb3e\",\"type\":\"BoxZoomTool\"},{\"attributes\":{},\"id\":\"9421706c-3ae1-4e9e-be1e-541a65645e6e\",\"type\":\"WheelZoomTool\"},{\"attributes\":{\"axis_label\":null,\"axis_label_text_color\":{\"value\":\"white\"},\"axis_line_color\":{\"value\":null},\"formatter\":{\"id\":\"1bda1ce0-bb03-478a-905d-1a59e0f2864f\",\"type\":\"BasicTickFormatter\"},\"major_label_text_color\":{\"value\":\"white\"},\"major_tick_line_color\":{\"value\":null},\"minor_tick_line_color\":{\"value\":null},\"plot\":{\"id\":\"391e28a3-ff05-4b29-96b2-a59d71f35871\",\"subtype\":\"Figure\",\"type\":\"Plot\"},\"ticker\":{\"id\":\"6792dab3-bd55-4726-b085-460949b9bb23\",\"type\":\"BasicTicker\"}},\"id\":\"d6c6dfe8-a761-4749-a2d6-2fc416e89f91\",\"type\":\"LinearAxis\"},{\"attributes\":{\"line_color\":\"#519aba\",\"line_width\":3,\"x\":{\"field\":\"x\"},\"y\":{\"field\":\"y\"}},\"id\":\"2fa2bc28-41c9-4d87-8552-0c68fb523be3\",\"type\":\"Line\"},{\"attributes\":{\"line_alpha\":0.1,\"line_color\":\"#1f77b4\",\"line_width\":3,\"x\":{\"field\":\"x\"},\"y\":{\"field\":\"y\"}},\"id\":\"70102e49-7835-480b-8256-bd24e55847f8\",\"type\":\"Line\"},{\"attributes\":{},\"id\":\"6c48d213-d0ca-4f10-a9e9-0a9ae8f1b220\",\"type\":\"ResetTool\"},{\"attributes\":{},\"id\":\"163d4729-5be3-4bd3-9c5e-da5143493e17\",\"type\":\"SaveTool\"},{\"attributes\":{},\"id\":\"1bda1ce0-bb03-478a-905d-1a59e0f2864f\",\"type\":\"BasicTickFormatter\"},{\"attributes\":{\"callback\":null,\"column_names\":[\"x\",\"fill_color\",\"line_color\"],\"data\":{\"fill_color\":[\"#63213f\",\"#63213f\",\"#63213f\",\"#63213f\",\"#63213f\",\"#63213f\",\"#63213f\",\"#63213f\",\"#63213f\",\"#63213f\",\"#63213f\",\"#63213f\",\"#63213f\",\"#63213f\",\"#63213f\",\"#63213f\",\"#63213f\",\"#63213f\",\"#63213f\",\"#63213f\",\"#63213f\",\"#63213f\",\"#63213f\",\"#63213f\",\"#63213f\",\"#63213f\",\"#63213f\",\"#63213f\",\"#63213f\",\"#63213f\",\"#63213f\",\"#63213f\",\"#63213f\",\"#63213f\",\"#63213f\",\"#63213f\",\"#1d5b91\",\"#1d5b91\",\"#1d5b91\",\"#1d5b91\",\"#1d5b91\",\"#1d5b91\",\"#1d5b91\",\"#1d5b91\",\"#1d5b91\",\"#1d5b91\",\"#1d5b91\",\"#1d5b91\",\"#1d5b91\",\"#1d5b91\",\"#1d5b91\",\"#1d5b91\",\"#1d5b91\",\"#1d5b91\",\"#1d5b91\",\"#1d5b91\",\"#1d5b91\",\"#1d5b91\",\"#1d5b91\",\"#1d5b91\",\"#1d5b91\",\"#1d5b91\",\"#1d5b91\",\"#1d5b91\",\"#1d5b91\",\"#1d5b91\",\"#1d5b91\",\"#1d5b91\",\"#1d5b91\",\"#1d5b91\",\"#1d5b91\",\"#1d5b91\",\"#1d5b91\",\"#1d5b91\",\"#1d5b91\",\"#1d5b91\",\"#1d5b91\",\"#1d5b91\",\"#1d5b91\",\"#1d5b91\",\"#1d5b91\",\"#1d5b91\",\"#1d5b91\",\"#1d5b91\",\"#1d5b91\",\"#1d5b91\",\"#1d5b91\",\"#1d5b91\",\"#1d5b91\",\"#1d5b91\",\"#1d5b91\",\"#1d5b91\",\"#1d5b91\",\"#1d5b91\",\"#1d5b91\",\"#1d5b91\",\"#1d5b91\",\"#1d5b91\",\"#1d5b91\",\"#1d5b91\"],\"line_color\":[\"#63213f\",\"#63213f\",\"#63213f\",\"#63213f\",\"#63213f\",\"#63213f\",\"#63213f\",\"#63213f\",\"#63213f\",\"#63213f\",\"#63213f\",\"#63213f\",\"#63213f\",\"#63213f\",\"#63213f\",\"#63213f\",\"#63213f\",\"#63213f\",\"#63213f\",\"#63213f\",\"#63213f\",\"#63213f\",\"#63213f\",\"#63213f\",\"#63213f\",\"#63213f\",\"#63213f\",\"#63213f\",\"#63213f\",\"#63213f\",\"#63213f\",\"#63213f\",\"#63213f\",\"#63213f\",\"#63213f\",\"#63213f\",\"#1d5b91\",\"#1d5b91\",\"#1d5b91\",\"#1d5b91\",\"#1d5b91\",\"#1d5b91\",\"#1d5b91\",\"#1d5b91\",\"#1d5b91\",\"#1d5b91\",\"#1d5b91\",\"#1d5b91\",\"#1d5b91\",\"#1d5b91\",\"#1d5b91\",\"#1d5b91\",\"#1d5b91\",\"#1d5b91\",\"#1d5b91\",\"#1d5b91\",\"#1d5b91\",\"#1d5b91\",\"#1d5b91\",\"#1d5b91\",\"#1d5b91\",\"#1d5b91\",\"#1d5b91\",\"#1d5b91\",\"#1d5b91\",\"#1d5b91\",\"#1d5b91\",\"#1d5b91\",\"#1d5b91\",\"#1d5b91\",\"#1d5b91\",\"#1d5b91\",\"#1d5b91\",\"#1d5b91\",\"#1d5b91\",\"#1d5b91\",\"#1d5b91\",\"#1d5b91\",\"#1d5b91\",\"#1d5b91\",\"#1d5b91\",\"#1d5b91\",\"#1d5b91\",\"#1d5b91\",\"#1d5b91\",\"#1d5b91\",\"#1d5b91\",\"#1d5b91\",\"#1d5b91\",\"#1d5b91\",\"#1d5b91\",\"#1d5b91\",\"#1d5b91\",\"#1d5b91\",\"#1d5b91\",\"#1d5b91\",\"#1d5b91\",\"#1d5b91\",\"#1d5b91\",\"#1d5b91\"],\"x\":{\"__ndarray__\":\"2aNDiD8PDcBDt4jp1WgMwK3KzUpswgvAGN4SrAIcC8CC8VcNmXUKwOwEnW4vzwnAVhjiz8UoCcDAKycxXIIIwCo/bJLy2wfAlFKx84g1B8D+ZfZUH48GwGl5O7a16AXA04yAF0xCBcA9oMV44psEwKezCtp49QPAEsdPOw9PA8B82pScpagCwObt2f07AgLAUAEfX9JbAcC6FGTAaLUAwCQoqSH/DgDAHXfcBSvR/r/xnWbIV4T9v8XE8IqEN/y/mut6TbHq+r9uEgUQ3p35v0I5j9IKUfi/FmAZlTcE97/qhqNXZLf1v8CtLRqRavS/lNS33L0d879o+0Gf6tDxvzwizGEXhPC/IJKsSIhu7r/I38DN4dTrv3At1VI7O+m/HHvp15Sh5r/EyP1c7gfkv2wWEuJHbuG/KMhMzkKp3b94Y3XY9XXYv8j+neKoQtO/QDSN2bcezL/gat7tHbjBvwCGvggQRq2/AD/5S6+omD+A4luqX/e6P6C63MBJ4sc/+MFF1nEk0T+oJh3MvlfWP1iL9MELi9s/BPjlWyxf4D9cqtHW0vjiP7RcvVF5kuU/DA+pzB8s6D9kwZRHxsXqP7xzgMJsX+0/FCZsPRP57z8y7CvcXEnxP17FoRkwlvI/ip4XVwPj8z+2d42U1i/1P+JQA9KpfPY/Dip5D33J9z86A+9MUBb5P2bcZIojY/o/krXax/av+z++jlAFyvz8P+pnxkKdSf4/FkE8gHCW/z8hDdneoXEAQLX5k30LGAFAS+ZOHHW+AUDh0gm73mQCQHe/xFlICwNADax/+LGxA0CjmDqXG1gEQDmF9TWF/gRAz3Gw1O6kBUBlXmtzWEsGQPtKJhLC8QZAkTfhsCuYB0AnJJxPlT4IQL0QV+7+5AhAUf0RjWiLCUDn6cwr0jEKQH3Wh8o72ApAE8NCaaV+C0Cpr/0HDyUMQD+cuKZ4ywxA1YhzReJxDUBrdS7kSxgOQAFi6YK1vg5Al06kIR9lD0CWnS9gxAUQQOITjS/5WBBALIrq/i2sEEB2AEjOYv8QQMJ2pZ2XUhFADu0CbcylEUA=\",\"dtype\":\"float64\",\"shape\":[100]}}},\"id\":\"bb48aa92-72d7-4c35-9959-8d63b14fd826\",\"type\":\"ColumnDataSource\"},{\"attributes\":{},\"id\":\"c137e841-18c4-4764-a2e4-d684f00eeeaa\",\"type\":\"HelpTool\"},{\"attributes\":{\"fill_alpha\":{\"value\":0.1},\"fill_color\":{\"value\":\"#1f77b4\"},\"height\":{\"units\":\"data\",\"value\":1},\"line_alpha\":{\"value\":0.1},\"line_color\":{\"value\":\"#1f77b4\"},\"width\":{\"units\":\"data\",\"value\":0.08044358032100485},\"x\":{\"field\":\"x\"},\"y\":{\"value\":0.5}},\"id\":\"f79e6153-8ebf-4414-9241-198b088186ed\",\"type\":\"Rect\"},{\"attributes\":{\"grid_line_alpha\":{\"value\":0},\"grid_line_color\":{\"value\":null},\"plot\":{\"id\":\"391e28a3-ff05-4b29-96b2-a59d71f35871\",\"subtype\":\"Figure\",\"type\":\"Plot\"},\"ticker\":{\"id\":\"6792dab3-bd55-4726-b085-460949b9bb23\",\"type\":\"BasicTicker\"}},\"id\":\"8fef8d4c-6ca6-4532-8d9f-57ef9210758d\",\"type\":\"Grid\"},{\"attributes\":{\"source\":{\"id\":\"bb48aa92-72d7-4c35-9959-8d63b14fd826\",\"type\":\"ColumnDataSource\"}},\"id\":\"c9296408-c22f-44bf-8075-4ed47595538d\",\"type\":\"CDSView\"},{\"attributes\":{},\"id\":\"d66714bd-327a-4a75-b156-8344803ac392\",\"type\":\"BasicTickFormatter\"},{\"attributes\":{\"line_alpha\":0.1,\"line_color\":\"#1f77b4\",\"line_width\":3,\"x\":{\"field\":\"x\"},\"y\":{\"field\":\"y\"}},\"id\":\"8988b930-a4dc-4102-888e-03469f90d983\",\"type\":\"Line\"},{\"attributes\":{\"label\":{\"value\":\"p(x|C\\u2082)*P(C\\u2082)/P(X)\"},\"renderers\":[{\"id\":\"74fb474e-86bd-48bc-84f3-d9126263df1a\",\"type\":\"GlyphRenderer\"}]},\"id\":\"f1a4c3eb-c247-4f59-8e16-9bfb3b6cba77\",\"type\":\"LegendItem\"},{\"attributes\":{\"fill_color\":{\"field\":\"fill_color\"},\"height\":{\"units\":\"data\",\"value\":1},\"line_color\":{\"field\":\"line_color\"},\"width\":{\"units\":\"data\",\"value\":0.08044358032100485},\"x\":{\"field\":\"x\"},\"y\":{\"value\":0.5}},\"id\":\"8dacb757-5a0c-452d-b6b2-8b2870e6d285\",\"type\":\"Rect\"},{\"attributes\":{},\"id\":\"edce089b-3fd8-4db3-8c4c-37bfd146236d\",\"type\":\"BasicTicker\"},{\"attributes\":{\"callback\":null,\"column_names\":[\"x\",\"y\"],\"data\":{\"x\":{\"__ndarray__\":\"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\",\"dtype\":\"float64\",\"shape\":[200]},\"y\":{\"__ndarray__\":\"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\",\"dtype\":\"float64\",\"shape\":[200]}}},\"id\":\"97140a24-c1e2-435e-8f41-203c2c87619d\",\"type\":\"ColumnDataSource\"},{\"attributes\":{\"label\":{\"value\":\"p(x|C\\u2081)*P(C\\u2081)/P(X)\"},\"renderers\":[{\"id\":\"aed96c0d-d0e1-4c3b-b2f2-b59551e6a6a6\",\"type\":\"GlyphRenderer\"}]},\"id\":\"af18367f-7153-4b54-8fb4-8c02d2c50b72\",\"type\":\"LegendItem\"},{\"attributes\":{\"background_fill_alpha\":{\"value\":0},\"below\":[{\"id\":\"d6c6dfe8-a761-4749-a2d6-2fc416e89f91\",\"type\":\"LinearAxis\"}],\"border_fill_alpha\":{\"value\":0},\"left\":[{\"id\":\"ca33bb07-fed1-43a1-b6f7-8455d6fdb0c7\",\"type\":\"LinearAxis\"}],\"outline_line_color\":{\"value\":\"#333333\"},\"plot_height\":300,\"plot_width\":400,\"renderers\":[{\"id\":\"d6c6dfe8-a761-4749-a2d6-2fc416e89f91\",\"type\":\"LinearAxis\"},{\"id\":\"8fef8d4c-6ca6-4532-8d9f-57ef9210758d\",\"type\":\"Grid\"},{\"id\":\"ca33bb07-fed1-43a1-b6f7-8455d6fdb0c7\",\"type\":\"LinearAxis\"},{\"id\":\"afa333a0-fd49-48d9-b266-f4aa70f7a412\",\"type\":\"Grid\"},{\"id\":\"31d62d3b-2a09-4a1e-a274-bad794908381\",\"type\":\"BoxAnnotation\"},{\"id\":\"60e4341b-e8ac-4d0b-a80d-7235d2d057db\",\"type\":\"Legend\"},{\"id\":\"aed96c0d-d0e1-4c3b-b2f2-b59551e6a6a6\",\"type\":\"GlyphRenderer\"},{\"id\":\"74fb474e-86bd-48bc-84f3-d9126263df1a\",\"type\":\"GlyphRenderer\"},{\"id\":\"aa634937-c0b9-401d-8d96-f77440e63531\",\"type\":\"GlyphRenderer\"}],\"title\":{\"id\":\"166d5945-e471-4cf7-914c-18701ac68059\",\"type\":\"Title\"},\"toolbar\":{\"id\":\"636312f9-2b52-4e9a-a972-9b2d48934649\",\"type\":\"Toolbar\"},\"toolbar_location\":null,\"x_range\":{\"id\":\"028ce585-e54c-44c5-948b-665e470acb7a\",\"type\":\"Range1d\"},\"x_scale\":{\"id\":\"5fee6ea4-c835-4bda-a695-7835d3a23c0b\",\"type\":\"LinearScale\"},\"y_range\":{\"id\":\"558233e8-e2da-4948-a12c-09bc4564c543\",\"type\":\"Range1d\"},\"y_scale\":{\"id\":\"40dd0859-bbe6-419b-8c76-73326139b617\",\"type\":\"LinearScale\"}},\"id\":\"391e28a3-ff05-4b29-96b2-a59d71f35871\",\"subtype\":\"Figure\",\"type\":\"Plot\"},{\"attributes\":{\"data_source\":{\"id\":\"97140a24-c1e2-435e-8f41-203c2c87619d\",\"type\":\"ColumnDataSource\"},\"glyph\":{\"id\":\"2fa2bc28-41c9-4d87-8552-0c68fb523be3\",\"type\":\"Line\"},\"hover_glyph\":null,\"muted_glyph\":null,\"nonselection_glyph\":{\"id\":\"8988b930-a4dc-4102-888e-03469f90d983\",\"type\":\"Line\"},\"selection_glyph\":null,\"view\":{\"id\":\"b9b65b73-5c30-48f1-80bf-540fd8cd390e\",\"type\":\"CDSView\"}},\"id\":\"74fb474e-86bd-48bc-84f3-d9126263df1a\",\"type\":\"GlyphRenderer\"},{\"attributes\":{\"callback\":null,\"end\":4.411912635139073,\"start\":-3.6324453969614123},\"id\":\"028ce585-e54c-44c5-948b-665e470acb7a\",\"type\":\"Range1d\"},{\"attributes\":{\"axis_label\":null,\"axis_label_text_color\":{\"value\":\"white\"},\"axis_line_color\":{\"value\":null},\"formatter\":{\"id\":\"d66714bd-327a-4a75-b156-8344803ac392\",\"type\":\"BasicTickFormatter\"},\"major_label_text_color\":{\"value\":\"white\"},\"major_tick_line_color\":{\"value\":null},\"minor_tick_line_color\":{\"value\":null},\"plot\":{\"id\":\"391e28a3-ff05-4b29-96b2-a59d71f35871\",\"subtype\":\"Figure\",\"type\":\"Plot\"},\"ticker\":{\"id\":\"edce089b-3fd8-4db3-8c4c-37bfd146236d\",\"type\":\"BasicTicker\"}},\"id\":\"ca33bb07-fed1-43a1-b6f7-8455d6fdb0c7\",\"type\":\"LinearAxis\"},{\"attributes\":{\"source\":{\"id\":\"97140a24-c1e2-435e-8f41-203c2c87619d\",\"type\":\"ColumnDataSource\"}},\"id\":\"b9b65b73-5c30-48f1-80bf-540fd8cd390e\",\"type\":\"CDSView\"},{\"attributes\":{},\"id\":\"40dd0859-bbe6-419b-8c76-73326139b617\",\"type\":\"LinearScale\"},{\"attributes\":{\"active_drag\":\"auto\",\"active_inspect\":\"auto\",\"active_scroll\":\"auto\",\"active_tap\":\"auto\",\"tools\":[{\"id\":\"90107e9c-2ebe-43a5-84d5-155e634122a8\",\"type\":\"PanTool\"},{\"id\":\"9421706c-3ae1-4e9e-be1e-541a65645e6e\",\"type\":\"WheelZoomTool\"},{\"id\":\"0f527e2a-c6f3-473f-afa1-b030fe3bbb3e\",\"type\":\"BoxZoomTool\"},{\"id\":\"163d4729-5be3-4bd3-9c5e-da5143493e17\",\"type\":\"SaveTool\"},{\"id\":\"6c48d213-d0ca-4f10-a9e9-0a9ae8f1b220\",\"type\":\"ResetTool\"},{\"id\":\"c137e841-18c4-4764-a2e4-d684f00eeeaa\",\"type\":\"HelpTool\"}]},\"id\":\"636312f9-2b52-4e9a-a972-9b2d48934649\",\"type\":\"Toolbar\"},{\"attributes\":{\"plot\":null,\"text\":\"Posterior = Liklihoods * Priors / Evidence\",\"text_color\":{\"value\":\"white\"}},\"id\":\"166d5945-e471-4cf7-914c-18701ac68059\",\"type\":\"Title\"}],\"root_ids\":[\"391e28a3-ff05-4b29-96b2-a59d71f35871\"]},\"title\":\"Bokeh Application\",\"version\":\"0.12.13\"}};\n",
       "  var render_items = [{\"docid\":\"886da2e7-c5e6-406e-9ba6-312815060ab3\",\"elementid\":\"04e532cd-6e63-42c5-b347-04cd6b703c97\",\"modelid\":\"391e28a3-ff05-4b29-96b2-a59d71f35871\"}];\n",
       "  root.Bokeh.embed.embed_items_notebook(docs_json, render_items);\n",
       "\n",
       "  }\n",
       "  if (root.Bokeh !== undefined) {\n",
       "    embed_document(root);\n",
       "  } else {\n",
       "    var attempts = 0;\n",
       "    var timer = setInterval(function(root) {\n",
       "      if (root.Bokeh !== undefined) {\n",
       "        embed_document(root);\n",
       "        clearInterval(timer);\n",
       "      }\n",
       "      attempts++;\n",
       "      if (attempts > 100) {\n",
       "        console.log(\"Bokeh: ERROR: Unable to run BokehJS code because BokehJS library is missing\")\n",
       "        clearInterval(timer);\n",
       "      }\n",
       "    }, 10, root)\n",
       "  }\n",
       "})(window);"
      ],
      "application/vnd.bokehjs_exec.v0+json": ""
     },
     "metadata": {
      "application/vnd.bokehjs_exec.v0+json": {
       "id": "391e28a3-ff05-4b29-96b2-a59d71f35871"
      }
     },
     "output_type": "display_data"
    }
   ],
   "source": [
    "show(make_posterior_plot_with_loss(PC_1=(2/3)))"
   ]
  },
  {
   "cell_type": "markdown",
   "metadata": {
    "slideshow": {
     "slide_type": "slide"
    }
   },
   "source": [
    "# Unequal Losses with Reject\n",
    "\n",
    "<p>\n",
    "<center>Loss Table ($\\lambda_{ik}$)</center>\n",
    "\n",
    "|                          | Actual $C_1$  | Actual $C_2$ |\n",
    "| ------------------------ |:-------------:| :-----------:|\n",
    "| $\\alpha_1$: choose $C_1$ | 0             | 10           |\n",
    "| $\\alpha_2$: choose $C_2$ | 5             | 0            |\n",
    "| $\\alpha_r$: reject       | 1             | 1            |\n",
    "\n",
    "Same:\n",
    "\\\\[\\begin{gathered}\n",
    "  R({\\alpha _1}|{\\mathbf{x}}) = 10 \\cdot (1 - P({C_1}|{\\mathbf{x}})) \\hfill \\\\\n",
    "  R({\\alpha _2}|{\\mathbf{x}}) = 5 \\cdot P({C_1}|{\\mathbf{x}}) \\hfill \\\\ \n",
    "\\end{gathered} \\\\]\n",
    "\n",
    "New:\n",
    "\\\\[R({\\alpha _r}|{\\mathbf{x}}) = 1\\\\]"
   ]
  },
  {
   "cell_type": "markdown",
   "metadata": {
    "slideshow": {
     "slide_type": "subslide"
    }
   },
   "source": [
    "\\\\[\\begin{gathered}\n",
    "  R({\\alpha _1}|{\\mathbf{x}}) = 10 \\cdot (1 - P({C_1}|{\\mathbf{x}})) \\hfill \\\\\n",
    "  R({\\alpha _2}|{\\mathbf{x}}) = 5 \\cdot P({C_1}|{\\mathbf{x}}) \\hfill \\\\\n",
    "  R({\\alpha _r}|{\\mathbf{x}}) = 1 \\hfill \\\\ \n",
    "\\end{gathered} \\\\]\n",
    "\n",
    "Choose $\\alpha_1$ if:\n",
    "\n",
    "\\\\[\\begin{gathered}\n",
    "  R({\\alpha _1}|{\\mathbf{x}}) < R({\\alpha _r}|{\\mathbf{x}}) \\hfill \\\\\n",
    "  10 - 10 \\cdot P({C_1}|{\\mathbf{x}}) < 1 \\hfill \\\\\n",
    "  -10 \\cdot P <  - 9 \\hfill \\\\\n",
    "  P({C_1}|{\\mathbf{x}}) > \\tfrac{9}{{10}} \\hfill \\\\ \n",
    "\\end{gathered} \\\\]\n",
    "\n",
    "Choose $\\alpha_2$ if:\n",
    "\n",
    "\\\\[\\begin{gathered}\n",
    "  R({\\alpha _2}|{\\mathbf{x}}) < R({\\alpha _r}|{\\mathbf{x}}) \\hfill \\\\\n",
    "  P({C_1}|{\\mathbf{x}}) < \\tfrac{1}{5} \\hfill \\\\\n",
    "  P({C_2}|{\\mathbf{x}}) > \\tfrac{4}{5} \\hfill \\\\ \n",
    "\\end{gathered} \\\\]\n",
    "\n",
    "Reject otherwise."
   ]
  },
  {
   "cell_type": "code",
   "execution_count": 19,
   "metadata": {
    "slideshow": {
     "slide_type": "skip"
    }
   },
   "outputs": [],
   "source": [
    "PC_1=0.9\n",
    "PC_2=0.9\n",
    "def make_posterior_plot_with_unqeual_loss(PC_1=0.9, PC_2=0.9):\n",
    "    x_post_grid = np.linspace(x_min, x_max, 100)\n",
    "    colors = np.zeros(shape=100, dtype=int)\n",
    "    post_class1 = prob_class_1(x_post_grid)\n",
    "    colors[post_class1 > PC_1] = 1\n",
    "    colors[post_class1 < (1-PC_2)] = 2\n",
    "    color_post = np_map({0: '#000000', 1: '#63213f', 2: '#1d5b91'}, colors)\n",
    "    plot_posterior = make_posterior_plot()\n",
    "    plot_posterior.rect(x=x_post_grid, y=0.5, height=1, width=(x_max-x_min)/100, color=color_post, alpha=1, level='underlay')\n",
    "    return(plot_posterior)"
   ]
  },
  {
   "cell_type": "code",
   "execution_count": 20,
   "metadata": {
    "slideshow": {
     "slide_type": "subslide"
    }
   },
   "outputs": [
    {
     "data": {
      "text/html": [
       "\n",
       "<div class=\"bk-root\">\n",
       "    <div class=\"bk-plotdiv\" id=\"8b6bbd70-7a70-4212-a4d8-16ab77f1081f\"></div>\n",
       "</div>"
      ]
     },
     "metadata": {},
     "output_type": "display_data"
    },
    {
     "data": {
      "application/javascript": [
       "(function(root) {\n",
       "  function embed_document(root) {\n",
       "    \n",
       "  var docs_json = {\"0a6fb533-2efd-461e-aa66-806650c44349\":{\"roots\":{\"references\":[{\"attributes\":{},\"id\":\"2d049aa8-82d2-411e-9fd8-acec044bd920\",\"type\":\"ResetTool\"},{\"attributes\":{\"label\":{\"value\":\"p(x|C\\u2081)*P(C\\u2081)/P(X)\"},\"renderers\":[{\"id\":\"2de6f56a-d102-47f7-9860-c3cd5ca0afe8\",\"type\":\"GlyphRenderer\"}]},\"id\":\"20d8cab7-290c-4d6f-9188-dc3bdfcb0340\",\"type\":\"LegendItem\"},{\"attributes\":{},\"id\":\"fd3e783e-7730-4647-9dc0-66537f216576\",\"type\":\"HelpTool\"},{\"attributes\":{\"background_fill_color\":{\"value\":\"#000000\"},\"items\":[{\"id\":\"20d8cab7-290c-4d6f-9188-dc3bdfcb0340\",\"type\":\"LegendItem\"},{\"id\":\"e9eb7df3-ecf2-4dbf-a50a-38f09aa27707\",\"type\":\"LegendItem\"}],\"label_text_color\":{\"value\":\"#CCCCCC\"},\"plot\":{\"id\":\"1803c4fd-90c3-4954-8e44-56423bbdf598\",\"subtype\":\"Figure\",\"type\":\"Plot\"}},\"id\":\"65370aec-94f4-4d60-b065-de952cd5ae33\",\"type\":\"Legend\"},{\"attributes\":{},\"id\":\"3339532c-2018-4c69-a508-ddf6217a40c7\",\"type\":\"PanTool\"},{\"attributes\":{},\"id\":\"1a6863fe-c369-4481-a303-2588bdd0416e\",\"type\":\"WheelZoomTool\"},{\"attributes\":{\"callback\":null,\"column_names\":[\"x\",\"y\"],\"data\":{\"x\":{\"__ndarray__\":\"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\",\"dtype\":\"float64\",\"shape\":[200]},\"y\":{\"__ndarray__\":\"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\",\"dtype\":\"float64\",\"shape\":[200]}}},\"id\":\"ec4b0663-bd8d-407c-bedd-78e56ead4704\",\"type\":\"ColumnDataSource\"},{\"attributes\":{},\"id\":\"531ea4e8-6e46-4eec-aaf6-d456ae2b90a4\",\"type\":\"BasicTickFormatter\"},{\"attributes\":{\"fill_alpha\":{\"value\":0.1},\"fill_color\":{\"value\":\"#1f77b4\"},\"height\":{\"units\":\"data\",\"value\":1},\"line_alpha\":{\"value\":0.1},\"line_color\":{\"value\":\"#1f77b4\"},\"width\":{\"units\":\"data\",\"value\":0.08044358032100485},\"x\":{\"field\":\"x\"},\"y\":{\"value\":0.5}},\"id\":\"e9c98b01-b9c1-4ab8-8e0a-2c7bb1695111\",\"type\":\"Rect\"},{\"attributes\":{\"active_drag\":\"auto\",\"active_inspect\":\"auto\",\"active_scroll\":\"auto\",\"active_tap\":\"auto\",\"tools\":[{\"id\":\"3339532c-2018-4c69-a508-ddf6217a40c7\",\"type\":\"PanTool\"},{\"id\":\"1a6863fe-c369-4481-a303-2588bdd0416e\",\"type\":\"WheelZoomTool\"},{\"id\":\"50d88539-a7f2-4099-8082-457f8e8778e3\",\"type\":\"BoxZoomTool\"},{\"id\":\"4285480b-0051-424e-91a9-edb7094c5724\",\"type\":\"SaveTool\"},{\"id\":\"2d049aa8-82d2-411e-9fd8-acec044bd920\",\"type\":\"ResetTool\"},{\"id\":\"fd3e783e-7730-4647-9dc0-66537f216576\",\"type\":\"HelpTool\"}]},\"id\":\"6ca16480-bb67-4ba8-90a9-c68d20397bc9\",\"type\":\"Toolbar\"},{\"attributes\":{},\"id\":\"1c6faba3-0cba-4f86-bf2f-8221257ed611\",\"type\":\"BasicTickFormatter\"},{\"attributes\":{\"grid_line_alpha\":{\"value\":0},\"grid_line_color\":{\"value\":null},\"plot\":{\"id\":\"1803c4fd-90c3-4954-8e44-56423bbdf598\",\"subtype\":\"Figure\",\"type\":\"Plot\"},\"ticker\":{\"id\":\"da1a951d-9be0-4a48-b225-c879e2d101f4\",\"type\":\"BasicTicker\"}},\"id\":\"f85c0fbd-9258-4568-aa1e-4171a90fa264\",\"type\":\"Grid\"},{\"attributes\":{\"dimension\":1,\"grid_line_alpha\":{\"value\":0},\"grid_line_color\":{\"value\":null},\"plot\":{\"id\":\"1803c4fd-90c3-4954-8e44-56423bbdf598\",\"subtype\":\"Figure\",\"type\":\"Plot\"},\"ticker\":{\"id\":\"d6a64078-2832-4ae9-b11a-bc4c767770c1\",\"type\":\"BasicTicker\"}},\"id\":\"cf5cf103-70af-4918-8ac5-d64c5e94e4c6\",\"type\":\"Grid\"},{\"attributes\":{},\"id\":\"4285480b-0051-424e-91a9-edb7094c5724\",\"type\":\"SaveTool\"},{\"attributes\":{},\"id\":\"d1969577-26e8-4871-a2e7-33ad5ddacd92\",\"type\":\"LinearScale\"},{\"attributes\":{\"data_source\":{\"id\":\"5cc39812-b4e8-47f1-9e8c-8a669d7f552e\",\"type\":\"ColumnDataSource\"},\"glyph\":{\"id\":\"d9b5172e-6dab-4f1e-bfcf-de98f96ecb99\",\"type\":\"Rect\"},\"hover_glyph\":null,\"level\":\"underlay\",\"muted_glyph\":null,\"nonselection_glyph\":{\"id\":\"e9c98b01-b9c1-4ab8-8e0a-2c7bb1695111\",\"type\":\"Rect\"},\"selection_glyph\":null,\"view\":{\"id\":\"d0290952-0e6b-4bc1-8c19-523ca853702c\",\"type\":\"CDSView\"}},\"id\":\"b889f339-ad2b-4ba1-8821-4e9155d08224\",\"type\":\"GlyphRenderer\"},{\"attributes\":{\"label\":{\"value\":\"p(x|C\\u2082)*P(C\\u2082)/P(X)\"},\"renderers\":[{\"id\":\"63a6bfd7-e519-4a3c-9098-8391becb9eeb\",\"type\":\"GlyphRenderer\"}]},\"id\":\"e9eb7df3-ecf2-4dbf-a50a-38f09aa27707\",\"type\":\"LegendItem\"},{\"attributes\":{\"source\":{\"id\":\"56070cec-2bf8-43f3-abc3-65fad77e47bf\",\"type\":\"ColumnDataSource\"}},\"id\":\"705a405b-0df2-4113-b33a-942c647b9243\",\"type\":\"CDSView\"},{\"attributes\":{\"callback\":null,\"column_names\":[\"x\",\"fill_color\",\"line_color\"],\"data\":{\"fill_color\":[\"#63213f\",\"#63213f\",\"#63213f\",\"#63213f\",\"#63213f\",\"#63213f\",\"#63213f\",\"#63213f\",\"#63213f\",\"#63213f\",\"#63213f\",\"#63213f\",\"#63213f\",\"#63213f\",\"#63213f\",\"#63213f\",\"#63213f\",\"#63213f\",\"#63213f\",\"#63213f\",\"#63213f\",\"#63213f\",\"#63213f\",\"#63213f\",\"#63213f\",\"#63213f\",\"#63213f\",\"#63213f\",\"#63213f\",\"#63213f\",\"#63213f\",\"#63213f\",\"#63213f\",\"#000000\",\"#000000\",\"#000000\",\"#000000\",\"#000000\",\"#000000\",\"#000000\",\"#000000\",\"#1d5b91\",\"#1d5b91\",\"#1d5b91\",\"#1d5b91\",\"#1d5b91\",\"#1d5b91\",\"#1d5b91\",\"#1d5b91\",\"#1d5b91\",\"#1d5b91\",\"#1d5b91\",\"#1d5b91\",\"#1d5b91\",\"#1d5b91\",\"#1d5b91\",\"#1d5b91\",\"#1d5b91\",\"#1d5b91\",\"#1d5b91\",\"#1d5b91\",\"#1d5b91\",\"#1d5b91\",\"#1d5b91\",\"#1d5b91\",\"#1d5b91\",\"#1d5b91\",\"#1d5b91\",\"#1d5b91\",\"#1d5b91\",\"#1d5b91\",\"#1d5b91\",\"#1d5b91\",\"#1d5b91\",\"#1d5b91\",\"#1d5b91\",\"#1d5b91\",\"#1d5b91\",\"#1d5b91\",\"#1d5b91\",\"#1d5b91\",\"#1d5b91\",\"#1d5b91\",\"#1d5b91\",\"#1d5b91\",\"#1d5b91\",\"#1d5b91\",\"#1d5b91\",\"#1d5b91\",\"#1d5b91\",\"#1d5b91\",\"#1d5b91\",\"#1d5b91\",\"#1d5b91\",\"#1d5b91\",\"#1d5b91\",\"#1d5b91\",\"#1d5b91\",\"#1d5b91\",\"#1d5b91\"],\"line_color\":[\"#63213f\",\"#63213f\",\"#63213f\",\"#63213f\",\"#63213f\",\"#63213f\",\"#63213f\",\"#63213f\",\"#63213f\",\"#63213f\",\"#63213f\",\"#63213f\",\"#63213f\",\"#63213f\",\"#63213f\",\"#63213f\",\"#63213f\",\"#63213f\",\"#63213f\",\"#63213f\",\"#63213f\",\"#63213f\",\"#63213f\",\"#63213f\",\"#63213f\",\"#63213f\",\"#63213f\",\"#63213f\",\"#63213f\",\"#63213f\",\"#63213f\",\"#63213f\",\"#63213f\",\"#000000\",\"#000000\",\"#000000\",\"#000000\",\"#000000\",\"#000000\",\"#000000\",\"#000000\",\"#1d5b91\",\"#1d5b91\",\"#1d5b91\",\"#1d5b91\",\"#1d5b91\",\"#1d5b91\",\"#1d5b91\",\"#1d5b91\",\"#1d5b91\",\"#1d5b91\",\"#1d5b91\",\"#1d5b91\",\"#1d5b91\",\"#1d5b91\",\"#1d5b91\",\"#1d5b91\",\"#1d5b91\",\"#1d5b91\",\"#1d5b91\",\"#1d5b91\",\"#1d5b91\",\"#1d5b91\",\"#1d5b91\",\"#1d5b91\",\"#1d5b91\",\"#1d5b91\",\"#1d5b91\",\"#1d5b91\",\"#1d5b91\",\"#1d5b91\",\"#1d5b91\",\"#1d5b91\",\"#1d5b91\",\"#1d5b91\",\"#1d5b91\",\"#1d5b91\",\"#1d5b91\",\"#1d5b91\",\"#1d5b91\",\"#1d5b91\",\"#1d5b91\",\"#1d5b91\",\"#1d5b91\",\"#1d5b91\",\"#1d5b91\",\"#1d5b91\",\"#1d5b91\",\"#1d5b91\",\"#1d5b91\",\"#1d5b91\",\"#1d5b91\",\"#1d5b91\",\"#1d5b91\",\"#1d5b91\",\"#1d5b91\",\"#1d5b91\",\"#1d5b91\",\"#1d5b91\",\"#1d5b91\"],\"x\":{\"__ndarray__\":\"2aNDiD8PDcBDt4jp1WgMwK3KzUpswgvAGN4SrAIcC8CC8VcNmXUKwOwEnW4vzwnAVhjiz8UoCcDAKycxXIIIwCo/bJLy2wfAlFKx84g1B8D+ZfZUH48GwGl5O7a16AXA04yAF0xCBcA9oMV44psEwKezCtp49QPAEsdPOw9PA8B82pScpagCwObt2f07AgLAUAEfX9JbAcC6FGTAaLUAwCQoqSH/DgDAHXfcBSvR/r/xnWbIV4T9v8XE8IqEN/y/mut6TbHq+r9uEgUQ3p35v0I5j9IKUfi/FmAZlTcE97/qhqNXZLf1v8CtLRqRavS/lNS33L0d879o+0Gf6tDxvzwizGEXhPC/IJKsSIhu7r/I38DN4dTrv3At1VI7O+m/HHvp15Sh5r/EyP1c7gfkv2wWEuJHbuG/KMhMzkKp3b94Y3XY9XXYv8j+neKoQtO/QDSN2bcezL/gat7tHbjBvwCGvggQRq2/AD/5S6+omD+A4luqX/e6P6C63MBJ4sc/+MFF1nEk0T+oJh3MvlfWP1iL9MELi9s/BPjlWyxf4D9cqtHW0vjiP7RcvVF5kuU/DA+pzB8s6D9kwZRHxsXqP7xzgMJsX+0/FCZsPRP57z8y7CvcXEnxP17FoRkwlvI/ip4XVwPj8z+2d42U1i/1P+JQA9KpfPY/Dip5D33J9z86A+9MUBb5P2bcZIojY/o/krXax/av+z++jlAFyvz8P+pnxkKdSf4/FkE8gHCW/z8hDdneoXEAQLX5k30LGAFAS+ZOHHW+AUDh0gm73mQCQHe/xFlICwNADax/+LGxA0CjmDqXG1gEQDmF9TWF/gRAz3Gw1O6kBUBlXmtzWEsGQPtKJhLC8QZAkTfhsCuYB0AnJJxPlT4IQL0QV+7+5AhAUf0RjWiLCUDn6cwr0jEKQH3Wh8o72ApAE8NCaaV+C0Cpr/0HDyUMQD+cuKZ4ywxA1YhzReJxDUBrdS7kSxgOQAFi6YK1vg5Al06kIR9lD0CWnS9gxAUQQOITjS/5WBBALIrq/i2sEEB2AEjOYv8QQMJ2pZ2XUhFADu0CbcylEUA=\",\"dtype\":\"float64\",\"shape\":[100]}}},\"id\":\"5cc39812-b4e8-47f1-9e8c-8a669d7f552e\",\"type\":\"ColumnDataSource\"},{\"attributes\":{\"data_source\":{\"id\":\"ec4b0663-bd8d-407c-bedd-78e56ead4704\",\"type\":\"ColumnDataSource\"},\"glyph\":{\"id\":\"3c83bd92-69e0-4805-aa91-6db0a8ccd91d\",\"type\":\"Line\"},\"hover_glyph\":null,\"muted_glyph\":null,\"nonselection_glyph\":{\"id\":\"d28f449a-f5d7-40f6-ace6-197f9ce56a7a\",\"type\":\"Line\"},\"selection_glyph\":null,\"view\":{\"id\":\"257f0e0f-6166-4d08-975e-99b415f8d531\",\"type\":\"CDSView\"}},\"id\":\"63a6bfd7-e519-4a3c-9098-8391becb9eeb\",\"type\":\"GlyphRenderer\"},{\"attributes\":{\"bottom_units\":\"screen\",\"fill_alpha\":{\"value\":0.5},\"fill_color\":{\"value\":\"lightgrey\"},\"left_units\":\"screen\",\"level\":\"overlay\",\"line_alpha\":{\"value\":1.0},\"line_color\":{\"value\":\"black\"},\"line_dash\":[4,4],\"line_width\":{\"value\":2},\"plot\":null,\"render_mode\":\"css\",\"right_units\":\"screen\",\"top_units\":\"screen\"},\"id\":\"3e702300-0ffe-4580-b209-f36e85eaacd5\",\"type\":\"BoxAnnotation\"},{\"attributes\":{\"callback\":null,\"end\":4.411912635139073,\"start\":-3.6324453969614123},\"id\":\"6c0c7499-c92a-4afa-be58-94c4bc73cfc1\",\"type\":\"Range1d\"},{\"attributes\":{\"background_fill_alpha\":{\"value\":0},\"below\":[{\"id\":\"9884a96f-52c3-45fe-876c-a2a89e735dac\",\"type\":\"LinearAxis\"}],\"border_fill_alpha\":{\"value\":0},\"left\":[{\"id\":\"5f4b4bb8-fe1f-4645-8497-4d2102430a01\",\"type\":\"LinearAxis\"}],\"outline_line_color\":{\"value\":\"#333333\"},\"plot_height\":300,\"plot_width\":400,\"renderers\":[{\"id\":\"9884a96f-52c3-45fe-876c-a2a89e735dac\",\"type\":\"LinearAxis\"},{\"id\":\"f85c0fbd-9258-4568-aa1e-4171a90fa264\",\"type\":\"Grid\"},{\"id\":\"5f4b4bb8-fe1f-4645-8497-4d2102430a01\",\"type\":\"LinearAxis\"},{\"id\":\"cf5cf103-70af-4918-8ac5-d64c5e94e4c6\",\"type\":\"Grid\"},{\"id\":\"3e702300-0ffe-4580-b209-f36e85eaacd5\",\"type\":\"BoxAnnotation\"},{\"id\":\"65370aec-94f4-4d60-b065-de952cd5ae33\",\"type\":\"Legend\"},{\"id\":\"2de6f56a-d102-47f7-9860-c3cd5ca0afe8\",\"type\":\"GlyphRenderer\"},{\"id\":\"63a6bfd7-e519-4a3c-9098-8391becb9eeb\",\"type\":\"GlyphRenderer\"},{\"id\":\"b889f339-ad2b-4ba1-8821-4e9155d08224\",\"type\":\"GlyphRenderer\"}],\"title\":{\"id\":\"966f8d3f-0ad4-4398-aa41-468d97db8517\",\"type\":\"Title\"},\"toolbar\":{\"id\":\"6ca16480-bb67-4ba8-90a9-c68d20397bc9\",\"type\":\"Toolbar\"},\"toolbar_location\":null,\"x_range\":{\"id\":\"6c0c7499-c92a-4afa-be58-94c4bc73cfc1\",\"type\":\"Range1d\"},\"x_scale\":{\"id\":\"0e4bcf42-3242-4ab8-9321-8849cb7cf8fa\",\"type\":\"LinearScale\"},\"y_range\":{\"id\":\"416c5a09-5e85-4cd8-810d-f2ac79325d47\",\"type\":\"Range1d\"},\"y_scale\":{\"id\":\"d1969577-26e8-4871-a2e7-33ad5ddacd92\",\"type\":\"LinearScale\"}},\"id\":\"1803c4fd-90c3-4954-8e44-56423bbdf598\",\"subtype\":\"Figure\",\"type\":\"Plot\"},{\"attributes\":{},\"id\":\"da1a951d-9be0-4a48-b225-c879e2d101f4\",\"type\":\"BasicTicker\"},{\"attributes\":{\"fill_color\":{\"field\":\"fill_color\"},\"height\":{\"units\":\"data\",\"value\":1},\"line_color\":{\"field\":\"line_color\"},\"width\":{\"units\":\"data\",\"value\":0.08044358032100485},\"x\":{\"field\":\"x\"},\"y\":{\"value\":0.5}},\"id\":\"d9b5172e-6dab-4f1e-bfcf-de98f96ecb99\",\"type\":\"Rect\"},{\"attributes\":{\"data_source\":{\"id\":\"56070cec-2bf8-43f3-abc3-65fad77e47bf\",\"type\":\"ColumnDataSource\"},\"glyph\":{\"id\":\"c038ca62-01db-4c62-90d5-1bb78b5cbfe3\",\"type\":\"Line\"},\"hover_glyph\":null,\"muted_glyph\":null,\"nonselection_glyph\":{\"id\":\"a6b06de8-2d5f-45f8-acc7-50d77dc0fd5d\",\"type\":\"Line\"},\"selection_glyph\":null,\"view\":{\"id\":\"705a405b-0df2-4113-b33a-942c647b9243\",\"type\":\"CDSView\"}},\"id\":\"2de6f56a-d102-47f7-9860-c3cd5ca0afe8\",\"type\":\"GlyphRenderer\"},{\"attributes\":{\"line_color\":\"#519aba\",\"line_width\":3,\"x\":{\"field\":\"x\"},\"y\":{\"field\":\"y\"}},\"id\":\"3c83bd92-69e0-4805-aa91-6db0a8ccd91d\",\"type\":\"Line\"},{\"attributes\":{\"plot\":null,\"text\":\"Posterior = Liklihoods * Priors / Evidence\",\"text_color\":{\"value\":\"white\"}},\"id\":\"966f8d3f-0ad4-4398-aa41-468d97db8517\",\"type\":\"Title\"},{\"attributes\":{\"line_alpha\":0.1,\"line_color\":\"#1f77b4\",\"line_width\":3,\"x\":{\"field\":\"x\"},\"y\":{\"field\":\"y\"}},\"id\":\"d28f449a-f5d7-40f6-ace6-197f9ce56a7a\",\"type\":\"Line\"},{\"attributes\":{\"source\":{\"id\":\"ec4b0663-bd8d-407c-bedd-78e56ead4704\",\"type\":\"ColumnDataSource\"}},\"id\":\"257f0e0f-6166-4d08-975e-99b415f8d531\",\"type\":\"CDSView\"},{\"attributes\":{\"callback\":null},\"id\":\"416c5a09-5e85-4cd8-810d-f2ac79325d47\",\"type\":\"Range1d\"},{\"attributes\":{\"source\":{\"id\":\"5cc39812-b4e8-47f1-9e8c-8a669d7f552e\",\"type\":\"ColumnDataSource\"}},\"id\":\"d0290952-0e6b-4bc1-8c19-523ca853702c\",\"type\":\"CDSView\"},{\"attributes\":{},\"id\":\"0e4bcf42-3242-4ab8-9321-8849cb7cf8fa\",\"type\":\"LinearScale\"},{\"attributes\":{\"callback\":null,\"column_names\":[\"x\",\"y\"],\"data\":{\"x\":{\"__ndarray__\":\"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\",\"dtype\":\"float64\",\"shape\":[200]},\"y\":{\"__ndarray__\":\"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\",\"dtype\":\"float64\",\"shape\":[200]}}},\"id\":\"56070cec-2bf8-43f3-abc3-65fad77e47bf\",\"type\":\"ColumnDataSource\"},{\"attributes\":{\"overlay\":{\"id\":\"3e702300-0ffe-4580-b209-f36e85eaacd5\",\"type\":\"BoxAnnotation\"}},\"id\":\"50d88539-a7f2-4099-8082-457f8e8778e3\",\"type\":\"BoxZoomTool\"},{\"attributes\":{\"axis_label\":null,\"axis_label_text_color\":{\"value\":\"white\"},\"axis_line_color\":{\"value\":null},\"formatter\":{\"id\":\"1c6faba3-0cba-4f86-bf2f-8221257ed611\",\"type\":\"BasicTickFormatter\"},\"major_label_text_color\":{\"value\":\"white\"},\"major_tick_line_color\":{\"value\":null},\"minor_tick_line_color\":{\"value\":null},\"plot\":{\"id\":\"1803c4fd-90c3-4954-8e44-56423bbdf598\",\"subtype\":\"Figure\",\"type\":\"Plot\"},\"ticker\":{\"id\":\"d6a64078-2832-4ae9-b11a-bc4c767770c1\",\"type\":\"BasicTicker\"}},\"id\":\"5f4b4bb8-fe1f-4645-8497-4d2102430a01\",\"type\":\"LinearAxis\"},{\"attributes\":{\"axis_label\":null,\"axis_label_text_color\":{\"value\":\"white\"},\"axis_line_color\":{\"value\":null},\"formatter\":{\"id\":\"531ea4e8-6e46-4eec-aaf6-d456ae2b90a4\",\"type\":\"BasicTickFormatter\"},\"major_label_text_color\":{\"value\":\"white\"},\"major_tick_line_color\":{\"value\":null},\"minor_tick_line_color\":{\"value\":null},\"plot\":{\"id\":\"1803c4fd-90c3-4954-8e44-56423bbdf598\",\"subtype\":\"Figure\",\"type\":\"Plot\"},\"ticker\":{\"id\":\"da1a951d-9be0-4a48-b225-c879e2d101f4\",\"type\":\"BasicTicker\"}},\"id\":\"9884a96f-52c3-45fe-876c-a2a89e735dac\",\"type\":\"LinearAxis\"},{\"attributes\":{\"line_color\":\"#f55385\",\"line_width\":3,\"x\":{\"field\":\"x\"},\"y\":{\"field\":\"y\"}},\"id\":\"c038ca62-01db-4c62-90d5-1bb78b5cbfe3\",\"type\":\"Line\"},{\"attributes\":{\"line_alpha\":0.1,\"line_color\":\"#1f77b4\",\"line_width\":3,\"x\":{\"field\":\"x\"},\"y\":{\"field\":\"y\"}},\"id\":\"a6b06de8-2d5f-45f8-acc7-50d77dc0fd5d\",\"type\":\"Line\"},{\"attributes\":{},\"id\":\"d6a64078-2832-4ae9-b11a-bc4c767770c1\",\"type\":\"BasicTicker\"}],\"root_ids\":[\"1803c4fd-90c3-4954-8e44-56423bbdf598\"]},\"title\":\"Bokeh Application\",\"version\":\"0.12.13\"}};\n",
       "  var render_items = [{\"docid\":\"0a6fb533-2efd-461e-aa66-806650c44349\",\"elementid\":\"8b6bbd70-7a70-4212-a4d8-16ab77f1081f\",\"modelid\":\"1803c4fd-90c3-4954-8e44-56423bbdf598\"}];\n",
       "  root.Bokeh.embed.embed_items_notebook(docs_json, render_items);\n",
       "\n",
       "  }\n",
       "  if (root.Bokeh !== undefined) {\n",
       "    embed_document(root);\n",
       "  } else {\n",
       "    var attempts = 0;\n",
       "    var timer = setInterval(function(root) {\n",
       "      if (root.Bokeh !== undefined) {\n",
       "        embed_document(root);\n",
       "        clearInterval(timer);\n",
       "      }\n",
       "      attempts++;\n",
       "      if (attempts > 100) {\n",
       "        console.log(\"Bokeh: ERROR: Unable to run BokehJS code because BokehJS library is missing\")\n",
       "        clearInterval(timer);\n",
       "      }\n",
       "    }, 10, root)\n",
       "  }\n",
       "})(window);"
      ],
      "application/vnd.bokehjs_exec.v0+json": ""
     },
     "metadata": {
      "application/vnd.bokehjs_exec.v0+json": {
       "id": "1803c4fd-90c3-4954-8e44-56423bbdf598"
      }
     },
     "output_type": "display_data"
    }
   ],
   "source": [
    "show(make_posterior_plot_with_unqeual_loss(PC_1=(9/10), PC_2=(4/5)))"
   ]
  },
  {
   "cell_type": "markdown",
   "metadata": {
    "slideshow": {
     "slide_type": "slide"
    }
   },
   "source": [
    "# Discriminant Functions\n",
    "\n",
    "Classification can also be seen as implementing a set of discriminant functions.\n",
    "\n",
    "\\\\[{g_i}({\\mathbf{x}}) = \\mathop {\\max }\\limits_k {g_k}({\\mathbf{x}})\\\\]\n",
    "\n",
    "\\\\[{g_i}({\\mathbf{x}}) = \\left\\{ \\begin{gathered}\n",
    "   -R({\\alpha _i}|{\\mathbf{x}}) \\hfill \\\\\n",
    "  P({C_i}|{\\mathbf{x}}) \\hfill \\\\\n",
    "  p({C_i}|{\\mathbf{x}})P({C_i}) \\hfill \\\\ \n",
    "\\end{gathered}  \\right.\\\\]\n",
    "\n",
    "Divide the feature space into $K$ decision regions, $R_1, ... R_k$ where  \\\\({R_i} = \\{ {\\mathbf{x}}|{g_i}({\\mathbf{x}}) = \\mathop {\\max }\\limits_k {g_k}({\\mathbf{x}})\\} \\\\)\n",
    "\n",
    "The regions are seperated by decision boundaries, surfaces in the feature space where ties occour among the discriminant functions."
   ]
  },
  {
   "cell_type": "code",
   "execution_count": null,
   "metadata": {},
   "outputs": [],
   "source": []
  }
 ],
 "metadata": {
  "kernelspec": {
   "display_name": "Python 3",
   "language": "python",
   "name": "python3"
  },
  "language_info": {
   "codemirror_mode": {
    "name": "ipython",
    "version": 3
   },
   "file_extension": ".py",
   "mimetype": "text/x-python",
   "name": "python",
   "nbconvert_exporter": "python",
   "pygments_lexer": "ipython3",
   "version": "3.6.4"
  }
 },
 "nbformat": 4,
 "nbformat_minor": 2
}
