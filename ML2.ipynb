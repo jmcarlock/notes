{
 "cells": [
  {
   "cell_type": "markdown",
   "metadata": {
    "slideshow": {
     "slide_type": "slide"
    }
   },
   "source": [
    "# Chapter 2 Slides\n",
    "## Ethem Alpaydin - Introduction to Machine Learning\n",
    "\n",
    "Open source notebooks/slides for Ethem Alpaydin's Introduction to Machine Learning with examples in Python 3.6."
   ]
  },
  {
   "cell_type": "code",
   "execution_count": 1,
   "metadata": {
    "slideshow": {
     "slide_type": "skip"
    }
   },
   "outputs": [],
   "source": [
    "import numpy as np\n",
    "from support import basic_plot\n",
    "\n",
    "from bokeh.plotting import Figure, output_notebook, show\n",
    "from bokeh.models import Range1d\n",
    "from bokeh.models import NumeralTickFormatter\n",
    "from bokeh.palettes import Spectral8 as colors\n",
    "from bokeh.layouts import gridplot\n",
    "\n",
    "from sklearn.preprocessing import PolynomialFeatures\n",
    "from sklearn.linear_model import LinearRegression"
   ]
  },
  {
   "cell_type": "code",
   "execution_count": 2,
   "metadata": {
    "slideshow": {
     "slide_type": "subslide"
    }
   },
   "outputs": [
    {
     "data": {
      "text/html": [
       "\n",
       "    <div class=\"bk-root\">\n",
       "        <a href=\"https://bokeh.pydata.org\" target=\"_blank\" class=\"bk-logo bk-logo-small bk-logo-notebook\"></a>\n",
       "        <span id=\"1bcb1345-efaf-4638-b1a5-5ecfc48689c1\">Loading BokehJS ...</span>\n",
       "    </div>"
      ]
     },
     "metadata": {},
     "output_type": "display_data"
    },
    {
     "data": {
      "application/javascript": [
       "\n",
       "(function(root) {\n",
       "  function now() {\n",
       "    return new Date();\n",
       "  }\n",
       "\n",
       "  var force = true;\n",
       "\n",
       "  if (typeof (root._bokeh_onload_callbacks) === \"undefined\" || force === true) {\n",
       "    root._bokeh_onload_callbacks = [];\n",
       "    root._bokeh_is_loading = undefined;\n",
       "  }\n",
       "\n",
       "  var JS_MIME_TYPE = 'application/javascript';\n",
       "  var HTML_MIME_TYPE = 'text/html';\n",
       "  var EXEC_MIME_TYPE = 'application/vnd.bokehjs_exec.v0+json';\n",
       "  var CLASS_NAME = 'output_bokeh rendered_html';\n",
       "\n",
       "  /**\n",
       "   * Render data to the DOM node\n",
       "   */\n",
       "  function render(props, node) {\n",
       "    var script = document.createElement(\"script\");\n",
       "    node.appendChild(script);\n",
       "  }\n",
       "\n",
       "  /**\n",
       "   * Handle when an output is cleared or removed\n",
       "   */\n",
       "  function handleClearOutput(event, handle) {\n",
       "    var cell = handle.cell;\n",
       "\n",
       "    var id = cell.output_area._bokeh_element_id;\n",
       "    var server_id = cell.output_area._bokeh_server_id;\n",
       "    // Clean up Bokeh references\n",
       "    if (id !== undefined) {\n",
       "      Bokeh.index[id].model.document.clear();\n",
       "      delete Bokeh.index[id];\n",
       "    }\n",
       "\n",
       "    if (server_id !== undefined) {\n",
       "      // Clean up Bokeh references\n",
       "      var cmd = \"from bokeh.io.state import curstate; print(curstate().uuid_to_server['\" + server_id + \"'].get_sessions()[0].document.roots[0]._id)\";\n",
       "      cell.notebook.kernel.execute(cmd, {\n",
       "        iopub: {\n",
       "          output: function(msg) {\n",
       "            var element_id = msg.content.text.trim();\n",
       "            Bokeh.index[element_id].model.document.clear();\n",
       "            delete Bokeh.index[element_id];\n",
       "          }\n",
       "        }\n",
       "      });\n",
       "      // Destroy server and session\n",
       "      var cmd = \"import bokeh.io.notebook as ion; ion.destroy_server('\" + server_id + \"')\";\n",
       "      cell.notebook.kernel.execute(cmd);\n",
       "    }\n",
       "  }\n",
       "\n",
       "  /**\n",
       "   * Handle when a new output is added\n",
       "   */\n",
       "  function handleAddOutput(event, handle) {\n",
       "    var output_area = handle.output_area;\n",
       "    var output = handle.output;\n",
       "\n",
       "    // limit handleAddOutput to display_data with EXEC_MIME_TYPE content only\n",
       "    if ((output.output_type != \"display_data\") || (!output.data.hasOwnProperty(EXEC_MIME_TYPE))) {\n",
       "      return\n",
       "    }\n",
       "\n",
       "    var toinsert = output_area.element.find(\".\" + CLASS_NAME.split(' ')[0]);\n",
       "\n",
       "    if (output.metadata[EXEC_MIME_TYPE][\"id\"] !== undefined) {\n",
       "      toinsert[0].firstChild.textContent = output.data[JS_MIME_TYPE];\n",
       "      // store reference to embed id on output_area\n",
       "      output_area._bokeh_element_id = output.metadata[EXEC_MIME_TYPE][\"id\"];\n",
       "    }\n",
       "    if (output.metadata[EXEC_MIME_TYPE][\"server_id\"] !== undefined) {\n",
       "      var bk_div = document.createElement(\"div\");\n",
       "      bk_div.innerHTML = output.data[HTML_MIME_TYPE];\n",
       "      var script_attrs = bk_div.children[0].attributes;\n",
       "      for (var i = 0; i < script_attrs.length; i++) {\n",
       "        toinsert[0].firstChild.setAttribute(script_attrs[i].name, script_attrs[i].value);\n",
       "      }\n",
       "      // store reference to server id on output_area\n",
       "      output_area._bokeh_server_id = output.metadata[EXEC_MIME_TYPE][\"server_id\"];\n",
       "    }\n",
       "  }\n",
       "\n",
       "  function register_renderer(events, OutputArea) {\n",
       "\n",
       "    function append_mime(data, metadata, element) {\n",
       "      // create a DOM node to render to\n",
       "      var toinsert = this.create_output_subarea(\n",
       "        metadata,\n",
       "        CLASS_NAME,\n",
       "        EXEC_MIME_TYPE\n",
       "      );\n",
       "      this.keyboard_manager.register_events(toinsert);\n",
       "      // Render to node\n",
       "      var props = {data: data, metadata: metadata[EXEC_MIME_TYPE]};\n",
       "      render(props, toinsert[0]);\n",
       "      element.append(toinsert);\n",
       "      return toinsert\n",
       "    }\n",
       "\n",
       "    /* Handle when an output is cleared or removed */\n",
       "    events.on('clear_output.CodeCell', handleClearOutput);\n",
       "    events.on('delete.Cell', handleClearOutput);\n",
       "\n",
       "    /* Handle when a new output is added */\n",
       "    events.on('output_added.OutputArea', handleAddOutput);\n",
       "\n",
       "    /**\n",
       "     * Register the mime type and append_mime function with output_area\n",
       "     */\n",
       "    OutputArea.prototype.register_mime_type(EXEC_MIME_TYPE, append_mime, {\n",
       "      /* Is output safe? */\n",
       "      safe: true,\n",
       "      /* Index of renderer in `output_area.display_order` */\n",
       "      index: 0\n",
       "    });\n",
       "  }\n",
       "\n",
       "  // register the mime type if in Jupyter Notebook environment and previously unregistered\n",
       "  if (root.Jupyter !== undefined) {\n",
       "    var events = require('base/js/events');\n",
       "    var OutputArea = require('notebook/js/outputarea').OutputArea;\n",
       "\n",
       "    if (OutputArea.prototype.mime_types().indexOf(EXEC_MIME_TYPE) == -1) {\n",
       "      register_renderer(events, OutputArea);\n",
       "    }\n",
       "  }\n",
       "\n",
       "  \n",
       "  if (typeof (root._bokeh_timeout) === \"undefined\" || force === true) {\n",
       "    root._bokeh_timeout = Date.now() + 5000;\n",
       "    root._bokeh_failed_load = false;\n",
       "  }\n",
       "\n",
       "  var NB_LOAD_WARNING = {'data': {'text/html':\n",
       "     \"<div style='background-color: #fdd'>\\n\"+\n",
       "     \"<p>\\n\"+\n",
       "     \"BokehJS does not appear to have successfully loaded. If loading BokehJS from CDN, this \\n\"+\n",
       "     \"may be due to a slow or bad network connection. Possible fixes:\\n\"+\n",
       "     \"</p>\\n\"+\n",
       "     \"<ul>\\n\"+\n",
       "     \"<li>re-rerun `output_notebook()` to attempt to load from CDN again, or</li>\\n\"+\n",
       "     \"<li>use INLINE resources instead, as so:</li>\\n\"+\n",
       "     \"</ul>\\n\"+\n",
       "     \"<code>\\n\"+\n",
       "     \"from bokeh.resources import INLINE\\n\"+\n",
       "     \"output_notebook(resources=INLINE)\\n\"+\n",
       "     \"</code>\\n\"+\n",
       "     \"</div>\"}};\n",
       "\n",
       "  function display_loaded() {\n",
       "    var el = document.getElementById(\"1bcb1345-efaf-4638-b1a5-5ecfc48689c1\");\n",
       "    if (el != null) {\n",
       "      el.textContent = \"BokehJS is loading...\";\n",
       "    }\n",
       "    if (root.Bokeh !== undefined) {\n",
       "      if (el != null) {\n",
       "        el.textContent = \"BokehJS \" + root.Bokeh.version + \" successfully loaded.\";\n",
       "      }\n",
       "    } else if (Date.now() < root._bokeh_timeout) {\n",
       "      setTimeout(display_loaded, 100)\n",
       "    }\n",
       "  }\n",
       "\n",
       "\n",
       "  function run_callbacks() {\n",
       "    try {\n",
       "      root._bokeh_onload_callbacks.forEach(function(callback) { callback() });\n",
       "    }\n",
       "    finally {\n",
       "      delete root._bokeh_onload_callbacks\n",
       "    }\n",
       "    console.info(\"Bokeh: all callbacks have finished\");\n",
       "  }\n",
       "\n",
       "  function load_libs(js_urls, callback) {\n",
       "    root._bokeh_onload_callbacks.push(callback);\n",
       "    if (root._bokeh_is_loading > 0) {\n",
       "      console.log(\"Bokeh: BokehJS is being loaded, scheduling callback at\", now());\n",
       "      return null;\n",
       "    }\n",
       "    if (js_urls == null || js_urls.length === 0) {\n",
       "      run_callbacks();\n",
       "      return null;\n",
       "    }\n",
       "    console.log(\"Bokeh: BokehJS not loaded, scheduling load and callback at\", now());\n",
       "    root._bokeh_is_loading = js_urls.length;\n",
       "    for (var i = 0; i < js_urls.length; i++) {\n",
       "      var url = js_urls[i];\n",
       "      var s = document.createElement('script');\n",
       "      s.src = url;\n",
       "      s.async = false;\n",
       "      s.onreadystatechange = s.onload = function() {\n",
       "        root._bokeh_is_loading--;\n",
       "        if (root._bokeh_is_loading === 0) {\n",
       "          console.log(\"Bokeh: all BokehJS libraries loaded\");\n",
       "          run_callbacks()\n",
       "        }\n",
       "      };\n",
       "      s.onerror = function() {\n",
       "        console.warn(\"failed to load library \" + url);\n",
       "      };\n",
       "      console.log(\"Bokeh: injecting script tag for BokehJS library: \", url);\n",
       "      document.getElementsByTagName(\"head\")[0].appendChild(s);\n",
       "    }\n",
       "  };var element = document.getElementById(\"1bcb1345-efaf-4638-b1a5-5ecfc48689c1\");\n",
       "  if (element == null) {\n",
       "    console.log(\"Bokeh: ERROR: autoload.js configured with elementid '1bcb1345-efaf-4638-b1a5-5ecfc48689c1' but no matching script tag was found. \")\n",
       "    return false;\n",
       "  }\n",
       "\n",
       "  var js_urls = [\"https://cdn.pydata.org/bokeh/release/bokeh-0.12.13.min.js\", \"https://cdn.pydata.org/bokeh/release/bokeh-widgets-0.12.13.min.js\", \"https://cdn.pydata.org/bokeh/release/bokeh-tables-0.12.13.min.js\", \"https://cdn.pydata.org/bokeh/release/bokeh-gl-0.12.13.min.js\"];\n",
       "\n",
       "  var inline_js = [\n",
       "    function(Bokeh) {\n",
       "      Bokeh.set_log_level(\"info\");\n",
       "    },\n",
       "    \n",
       "    function(Bokeh) {\n",
       "      \n",
       "    },\n",
       "    function(Bokeh) {\n",
       "      console.log(\"Bokeh: injecting CSS: https://cdn.pydata.org/bokeh/release/bokeh-0.12.13.min.css\");\n",
       "      Bokeh.embed.inject_css(\"https://cdn.pydata.org/bokeh/release/bokeh-0.12.13.min.css\");\n",
       "      console.log(\"Bokeh: injecting CSS: https://cdn.pydata.org/bokeh/release/bokeh-widgets-0.12.13.min.css\");\n",
       "      Bokeh.embed.inject_css(\"https://cdn.pydata.org/bokeh/release/bokeh-widgets-0.12.13.min.css\");\n",
       "      console.log(\"Bokeh: injecting CSS: https://cdn.pydata.org/bokeh/release/bokeh-tables-0.12.13.min.css\");\n",
       "      Bokeh.embed.inject_css(\"https://cdn.pydata.org/bokeh/release/bokeh-tables-0.12.13.min.css\");\n",
       "    }\n",
       "  ];\n",
       "\n",
       "  function run_inline_js() {\n",
       "    \n",
       "    if ((root.Bokeh !== undefined) || (force === true)) {\n",
       "      for (var i = 0; i < inline_js.length; i++) {\n",
       "        inline_js[i].call(root, root.Bokeh);\n",
       "      }if (force === true) {\n",
       "        display_loaded();\n",
       "      }} else if (Date.now() < root._bokeh_timeout) {\n",
       "      setTimeout(run_inline_js, 100);\n",
       "    } else if (!root._bokeh_failed_load) {\n",
       "      console.log(\"Bokeh: BokehJS failed to load within specified timeout.\");\n",
       "      root._bokeh_failed_load = true;\n",
       "    } else if (force !== true) {\n",
       "      var cell = $(document.getElementById(\"1bcb1345-efaf-4638-b1a5-5ecfc48689c1\")).parents('.cell').data().cell;\n",
       "      cell.output_area.append_execute_result(NB_LOAD_WARNING)\n",
       "    }\n",
       "\n",
       "  }\n",
       "\n",
       "  if (root._bokeh_is_loading === 0) {\n",
       "    console.log(\"Bokeh: BokehJS loaded, going straight to plotting\");\n",
       "    run_inline_js();\n",
       "  } else {\n",
       "    load_libs(js_urls, function() {\n",
       "      console.log(\"Bokeh: BokehJS plotting callback run at\", now());\n",
       "      run_inline_js();\n",
       "    });\n",
       "  }\n",
       "}(window));"
      ],
      "application/vnd.bokehjs_load.v0+json": "\n(function(root) {\n  function now() {\n    return new Date();\n  }\n\n  var force = true;\n\n  if (typeof (root._bokeh_onload_callbacks) === \"undefined\" || force === true) {\n    root._bokeh_onload_callbacks = [];\n    root._bokeh_is_loading = undefined;\n  }\n\n  \n\n  \n  if (typeof (root._bokeh_timeout) === \"undefined\" || force === true) {\n    root._bokeh_timeout = Date.now() + 5000;\n    root._bokeh_failed_load = false;\n  }\n\n  var NB_LOAD_WARNING = {'data': {'text/html':\n     \"<div style='background-color: #fdd'>\\n\"+\n     \"<p>\\n\"+\n     \"BokehJS does not appear to have successfully loaded. If loading BokehJS from CDN, this \\n\"+\n     \"may be due to a slow or bad network connection. Possible fixes:\\n\"+\n     \"</p>\\n\"+\n     \"<ul>\\n\"+\n     \"<li>re-rerun `output_notebook()` to attempt to load from CDN again, or</li>\\n\"+\n     \"<li>use INLINE resources instead, as so:</li>\\n\"+\n     \"</ul>\\n\"+\n     \"<code>\\n\"+\n     \"from bokeh.resources import INLINE\\n\"+\n     \"output_notebook(resources=INLINE)\\n\"+\n     \"</code>\\n\"+\n     \"</div>\"}};\n\n  function display_loaded() {\n    var el = document.getElementById(\"1bcb1345-efaf-4638-b1a5-5ecfc48689c1\");\n    if (el != null) {\n      el.textContent = \"BokehJS is loading...\";\n    }\n    if (root.Bokeh !== undefined) {\n      if (el != null) {\n        el.textContent = \"BokehJS \" + root.Bokeh.version + \" successfully loaded.\";\n      }\n    } else if (Date.now() < root._bokeh_timeout) {\n      setTimeout(display_loaded, 100)\n    }\n  }\n\n\n  function run_callbacks() {\n    try {\n      root._bokeh_onload_callbacks.forEach(function(callback) { callback() });\n    }\n    finally {\n      delete root._bokeh_onload_callbacks\n    }\n    console.info(\"Bokeh: all callbacks have finished\");\n  }\n\n  function load_libs(js_urls, callback) {\n    root._bokeh_onload_callbacks.push(callback);\n    if (root._bokeh_is_loading > 0) {\n      console.log(\"Bokeh: BokehJS is being loaded, scheduling callback at\", now());\n      return null;\n    }\n    if (js_urls == null || js_urls.length === 0) {\n      run_callbacks();\n      return null;\n    }\n    console.log(\"Bokeh: BokehJS not loaded, scheduling load and callback at\", now());\n    root._bokeh_is_loading = js_urls.length;\n    for (var i = 0; i < js_urls.length; i++) {\n      var url = js_urls[i];\n      var s = document.createElement('script');\n      s.src = url;\n      s.async = false;\n      s.onreadystatechange = s.onload = function() {\n        root._bokeh_is_loading--;\n        if (root._bokeh_is_loading === 0) {\n          console.log(\"Bokeh: all BokehJS libraries loaded\");\n          run_callbacks()\n        }\n      };\n      s.onerror = function() {\n        console.warn(\"failed to load library \" + url);\n      };\n      console.log(\"Bokeh: injecting script tag for BokehJS library: \", url);\n      document.getElementsByTagName(\"head\")[0].appendChild(s);\n    }\n  };var element = document.getElementById(\"1bcb1345-efaf-4638-b1a5-5ecfc48689c1\");\n  if (element == null) {\n    console.log(\"Bokeh: ERROR: autoload.js configured with elementid '1bcb1345-efaf-4638-b1a5-5ecfc48689c1' but no matching script tag was found. \")\n    return false;\n  }\n\n  var js_urls = [\"https://cdn.pydata.org/bokeh/release/bokeh-0.12.13.min.js\", \"https://cdn.pydata.org/bokeh/release/bokeh-widgets-0.12.13.min.js\", \"https://cdn.pydata.org/bokeh/release/bokeh-tables-0.12.13.min.js\", \"https://cdn.pydata.org/bokeh/release/bokeh-gl-0.12.13.min.js\"];\n\n  var inline_js = [\n    function(Bokeh) {\n      Bokeh.set_log_level(\"info\");\n    },\n    \n    function(Bokeh) {\n      \n    },\n    function(Bokeh) {\n      console.log(\"Bokeh: injecting CSS: https://cdn.pydata.org/bokeh/release/bokeh-0.12.13.min.css\");\n      Bokeh.embed.inject_css(\"https://cdn.pydata.org/bokeh/release/bokeh-0.12.13.min.css\");\n      console.log(\"Bokeh: injecting CSS: https://cdn.pydata.org/bokeh/release/bokeh-widgets-0.12.13.min.css\");\n      Bokeh.embed.inject_css(\"https://cdn.pydata.org/bokeh/release/bokeh-widgets-0.12.13.min.css\");\n      console.log(\"Bokeh: injecting CSS: https://cdn.pydata.org/bokeh/release/bokeh-tables-0.12.13.min.css\");\n      Bokeh.embed.inject_css(\"https://cdn.pydata.org/bokeh/release/bokeh-tables-0.12.13.min.css\");\n    }\n  ];\n\n  function run_inline_js() {\n    \n    if ((root.Bokeh !== undefined) || (force === true)) {\n      for (var i = 0; i < inline_js.length; i++) {\n        inline_js[i].call(root, root.Bokeh);\n      }if (force === true) {\n        display_loaded();\n      }} else if (Date.now() < root._bokeh_timeout) {\n      setTimeout(run_inline_js, 100);\n    } else if (!root._bokeh_failed_load) {\n      console.log(\"Bokeh: BokehJS failed to load within specified timeout.\");\n      root._bokeh_failed_load = true;\n    } else if (force !== true) {\n      var cell = $(document.getElementById(\"1bcb1345-efaf-4638-b1a5-5ecfc48689c1\")).parents('.cell').data().cell;\n      cell.output_area.append_execute_result(NB_LOAD_WARNING)\n    }\n\n  }\n\n  if (root._bokeh_is_loading === 0) {\n    console.log(\"Bokeh: BokehJS loaded, going straight to plotting\");\n    run_inline_js();\n  } else {\n    load_libs(js_urls, function() {\n      console.log(\"Bokeh: BokehJS plotting callback run at\", now());\n      run_inline_js();\n    });\n  }\n}(window));"
     },
     "metadata": {},
     "output_type": "display_data"
    }
   ],
   "source": [
    "import sys\n",
    "sys.path.insert(0, '/home/vagrant/notebooks')\n",
    "from custom_theme import output_notebook_themed\n",
    "output_notebook_themed()\n",
    "\n",
    "# output_notebook()"
   ]
  },
  {
   "cell_type": "markdown",
   "metadata": {
    "slideshow": {
     "slide_type": "slide"
    }
   },
   "source": [
    "# Classification\n",
    "\n",
    "\\\\[{\\cal X} = \\left\\{ {{{\\bf{x}}^t},{r^t}} \\right\\}_{t = 1}^N\\\\]\n",
    "\n",
    "\\\\[{\\bf{x}^t} = \\left[ \\begin{array}{l}\n",
    "x_1^t\\\\\n",
    "x_2^t\n",
    "\\end{array} \\right]\\\\]\n",
    "\n",
    "\\\\[r^t = \\left\\{ \\begin{array}{l}\n",
    "1{\\text{ if }}{\\bf{x^t}}{\\text{ is a positive example}}\\\\\n",
    "0{\\text{ if }}{\\bf{x^t}}{\\text{ is a negative example}}\n",
    "\\end{array} \\right.\\\\]"
   ]
  },
  {
   "cell_type": "markdown",
   "metadata": {
    "slideshow": {
     "slide_type": "slide"
    }
   },
   "source": [
    "# Classification example\n",
    "\n",
    "Is an example of a car a \"family car\"?\n",
    "\n",
    "\\\\[{\\bf{x}^t} = \\left[ \\begin{array}{l}\n",
    "x_{\\text{price}}^t\\\\\n",
    "x_{\\text{engine power}}^t\n",
    "\\end{array} \\right]\\\\]\n",
    "\n",
    "\\\\[r^t = \\left\\{ \\begin{array}{l}\n",
    "1{\\text{ if }}{\\bf{x^t}}{\\text{ is a family car}}\\\\\n",
    "0{\\text{ if }}{\\bf{x^t}}{\\text{ is a not a family car}}\n",
    "\\end{array} \\right.\\\\]"
   ]
  },
  {
   "cell_type": "code",
   "execution_count": 3,
   "metadata": {
    "slideshow": {
     "slide_type": "subslide"
    }
   },
   "outputs": [
    {
     "name": "stdout",
     "output_type": "stream",
     "text": [
      "[[10000   100]\n",
      " [20000   400]\n",
      " [25000   300]\n",
      " [40000   250]\n",
      " [20000   200]\n",
      " [15000   150]\n",
      " [12500   250]\n",
      " [29000   170]\n",
      " [30000   250]\n",
      " [25000   200]] \n",
      "\n",
      "['not_family' 'not_family' 'family' 'not_family' 'family' 'not_family'\n",
      " 'not_family' 'not_family' 'family' 'family']\n"
     ]
    }
   ],
   "source": [
    "X = np.array([\n",
    "        [10000,100],[20000,400],[25000,300],[40000,250],[20000,200],\n",
    "        [15000,150],[12500,250],[29000,170],[30000,250],[25000,200],\n",
    "    ])\n",
    "\n",
    "y = np.array([\n",
    "    'not_family','not_family','family','not_family','family',\n",
    "    'not_family','not_family','not_family','family','family'\n",
    "])\n",
    "\n",
    "print(X, '\\n')\n",
    "print(y)"
   ]
  },
  {
   "cell_type": "code",
   "execution_count": 4,
   "metadata": {
    "slideshow": {
     "slide_type": "skip"
    }
   },
   "outputs": [],
   "source": [
    "def car_plot():\n",
    "    plot = basic_plot(title='Family Car Example', xaxis_label='Price (USD)', \n",
    "                  yaxis_label='Engine Power (hp)')\n",
    "    plot.scatter(x=X[y=='family',0], y=X[y=='family',1], \n",
    "                 legend='family car', color='red', fill_alpha=0.3333, size=10)\n",
    "    plot.scatter(x=X[y!='family',0], y=X[y!='family',1], \n",
    "                 legend='not family car', color='blue', fill_alpha=0.3333, size=10)\n",
    "    plot.min_border = None\n",
    "    return(plot)"
   ]
  },
  {
   "cell_type": "code",
   "execution_count": 5,
   "metadata": {
    "slideshow": {
     "slide_type": "subslide"
    }
   },
   "outputs": [
    {
     "data": {
      "text/html": [
       "\n",
       "<div class=\"bk-root\">\n",
       "    <div class=\"bk-plotdiv\" id=\"8807c228-cfe3-4354-a760-8b97e7f8d842\"></div>\n",
       "</div>"
      ]
     },
     "metadata": {},
     "output_type": "display_data"
    },
    {
     "data": {
      "application/javascript": [
       "(function(root) {\n",
       "  function embed_document(root) {\n",
       "    \n",
       "  var docs_json = {\"2f6e6870-3537-4882-9030-6980506e930a\":{\"roots\":{\"references\":[{\"attributes\":{\"label\":{\"value\":\"family car\"},\"renderers\":[{\"id\":\"3ed0d07c-b0b0-498a-b093-1d6750fb95d3\",\"type\":\"GlyphRenderer\"}]},\"id\":\"760a9330-b816-4301-b881-eee7312db214\",\"type\":\"LegendItem\"},{\"attributes\":{\"fill_alpha\":{\"value\":0.1},\"fill_color\":{\"value\":\"#1f77b4\"},\"line_alpha\":{\"value\":0.1},\"line_color\":{\"value\":\"#1f77b4\"},\"size\":{\"units\":\"screen\",\"value\":10},\"x\":{\"field\":\"x\"},\"y\":{\"field\":\"y\"}},\"id\":\"222c7391-c7de-47f9-b085-b7478b968c9a\",\"type\":\"Circle\"},{\"attributes\":{\"background_fill_alpha\":{\"value\":0},\"below\":[{\"id\":\"94f9e5f1-9cb3-446c-9eb5-a70a8408d3c4\",\"type\":\"LinearAxis\"}],\"border_fill_alpha\":{\"value\":0},\"left\":[{\"id\":\"76b98510-92dc-4c96-9e25-eb2f0001c8e2\",\"type\":\"LinearAxis\"}],\"min_border\":null,\"outline_line_color\":{\"value\":\"#333333\"},\"plot_height\":300,\"plot_width\":400,\"renderers\":[{\"id\":\"94f9e5f1-9cb3-446c-9eb5-a70a8408d3c4\",\"type\":\"LinearAxis\"},{\"id\":\"51ae25d4-bc36-4a32-babe-34cac7a1485d\",\"type\":\"Grid\"},{\"id\":\"76b98510-92dc-4c96-9e25-eb2f0001c8e2\",\"type\":\"LinearAxis\"},{\"id\":\"7d539a40-61a3-4e36-ae96-526101e3af37\",\"type\":\"Grid\"},{\"id\":\"3f4640b9-1747-4a4e-9ab4-3eca27ab33f2\",\"type\":\"BoxAnnotation\"},{\"id\":\"d170f92e-6585-4130-9fc9-357c06357892\",\"type\":\"Legend\"},{\"id\":\"3ed0d07c-b0b0-498a-b093-1d6750fb95d3\",\"type\":\"GlyphRenderer\"},{\"id\":\"85a089eb-f4b4-4842-838d-b4126615d21d\",\"type\":\"GlyphRenderer\"}],\"title\":{\"id\":\"e89d1e48-ec8f-4d14-8639-36756be09a4e\",\"type\":\"Title\"},\"toolbar\":{\"id\":\"4decb5b3-c20b-4252-b26a-431cf7cb6627\",\"type\":\"Toolbar\"},\"toolbar_location\":null,\"x_range\":{\"id\":\"0604ecc6-2891-40c4-9037-3a14112e588e\",\"type\":\"DataRange1d\"},\"x_scale\":{\"id\":\"1a191fbe-052f-41ad-88d9-5862763be7b5\",\"type\":\"LinearScale\"},\"y_range\":{\"id\":\"def3da8d-becc-403c-af1e-5a32f45d9951\",\"type\":\"DataRange1d\"},\"y_scale\":{\"id\":\"67a522b5-49ce-4e88-9093-17313f43c90b\",\"type\":\"LinearScale\"}},\"id\":\"65eb0d0a-b931-4246-bbfa-aa4a39d031bc\",\"subtype\":\"Figure\",\"type\":\"Plot\"},{\"attributes\":{\"plot\":null,\"text\":\"Family Car Example\",\"text_color\":{\"value\":\"white\"}},\"id\":\"e89d1e48-ec8f-4d14-8639-36756be09a4e\",\"type\":\"Title\"},{\"attributes\":{\"label\":{\"value\":\"not family car\"},\"renderers\":[{\"id\":\"85a089eb-f4b4-4842-838d-b4126615d21d\",\"type\":\"GlyphRenderer\"}]},\"id\":\"1d65ccc1-7754-409d-bb6f-1f587eb43b1d\",\"type\":\"LegendItem\"},{\"attributes\":{\"data_source\":{\"id\":\"c0bf2983-e241-4f46-a238-0ba50b32618e\",\"type\":\"ColumnDataSource\"},\"glyph\":{\"id\":\"a6d99570-48cf-4b63-9b49-29d086842021\",\"type\":\"Circle\"},\"hover_glyph\":null,\"muted_glyph\":null,\"nonselection_glyph\":{\"id\":\"222c7391-c7de-47f9-b085-b7478b968c9a\",\"type\":\"Circle\"},\"selection_glyph\":null,\"view\":{\"id\":\"017de9c1-0873-4580-a3bd-10f8addca02a\",\"type\":\"CDSView\"}},\"id\":\"85a089eb-f4b4-4842-838d-b4126615d21d\",\"type\":\"GlyphRenderer\"},{\"attributes\":{},\"id\":\"1a191fbe-052f-41ad-88d9-5862763be7b5\",\"type\":\"LinearScale\"},{\"attributes\":{\"active_drag\":\"auto\",\"active_inspect\":\"auto\",\"active_scroll\":\"auto\",\"active_tap\":\"auto\",\"tools\":[{\"id\":\"25969c59-4798-4f40-b2fe-a66a9bcc4336\",\"type\":\"PanTool\"},{\"id\":\"24d09220-5b96-4396-ac39-dd1fc4c748e1\",\"type\":\"WheelZoomTool\"},{\"id\":\"be10a563-0b7d-4116-a72f-d5cf963ff128\",\"type\":\"BoxZoomTool\"},{\"id\":\"b04dee62-8183-4b29-8e39-e1961552ce75\",\"type\":\"SaveTool\"},{\"id\":\"0e53fce0-ae24-480e-a4f1-de861f584783\",\"type\":\"ResetTool\"},{\"id\":\"af47b26f-1b1d-4dc9-8d5d-79379f833fe5\",\"type\":\"HelpTool\"}]},\"id\":\"4decb5b3-c20b-4252-b26a-431cf7cb6627\",\"type\":\"Toolbar\"},{\"attributes\":{\"grid_line_alpha\":{\"value\":0},\"grid_line_color\":{\"value\":null},\"plot\":{\"id\":\"65eb0d0a-b931-4246-bbfa-aa4a39d031bc\",\"subtype\":\"Figure\",\"type\":\"Plot\"},\"ticker\":{\"id\":\"7a1ae47f-4ea2-484c-97fc-521ec5da39c9\",\"type\":\"BasicTicker\"}},\"id\":\"51ae25d4-bc36-4a32-babe-34cac7a1485d\",\"type\":\"Grid\"},{\"attributes\":{\"source\":{\"id\":\"c0bf2983-e241-4f46-a238-0ba50b32618e\",\"type\":\"ColumnDataSource\"}},\"id\":\"017de9c1-0873-4580-a3bd-10f8addca02a\",\"type\":\"CDSView\"},{\"attributes\":{\"callback\":null},\"id\":\"def3da8d-becc-403c-af1e-5a32f45d9951\",\"type\":\"DataRange1d\"},{\"attributes\":{\"callback\":null},\"id\":\"0604ecc6-2891-40c4-9037-3a14112e588e\",\"type\":\"DataRange1d\"},{\"attributes\":{},\"id\":\"67a522b5-49ce-4e88-9093-17313f43c90b\",\"type\":\"LinearScale\"},{\"attributes\":{\"axis_label\":\"Price (USD)\",\"axis_label_text_color\":{\"value\":\"white\"},\"axis_line_color\":{\"value\":null},\"formatter\":{\"id\":\"6c12bb7c-625e-413c-8776-bc4ae3f2a58e\",\"type\":\"BasicTickFormatter\"},\"major_label_text_color\":{\"value\":\"white\"},\"major_tick_line_color\":{\"value\":null},\"minor_tick_line_color\":{\"value\":null},\"plot\":{\"id\":\"65eb0d0a-b931-4246-bbfa-aa4a39d031bc\",\"subtype\":\"Figure\",\"type\":\"Plot\"},\"ticker\":{\"id\":\"7a1ae47f-4ea2-484c-97fc-521ec5da39c9\",\"type\":\"BasicTicker\"}},\"id\":\"94f9e5f1-9cb3-446c-9eb5-a70a8408d3c4\",\"type\":\"LinearAxis\"},{\"attributes\":{},\"id\":\"7a1ae47f-4ea2-484c-97fc-521ec5da39c9\",\"type\":\"BasicTicker\"},{\"attributes\":{\"axis_label\":\"Engine Power (hp)\",\"axis_label_text_color\":{\"value\":\"white\"},\"axis_line_color\":{\"value\":null},\"formatter\":{\"id\":\"ce724a55-9ea0-4ab6-b914-fd487b917d9c\",\"type\":\"BasicTickFormatter\"},\"major_label_text_color\":{\"value\":\"white\"},\"major_tick_line_color\":{\"value\":null},\"minor_tick_line_color\":{\"value\":null},\"plot\":{\"id\":\"65eb0d0a-b931-4246-bbfa-aa4a39d031bc\",\"subtype\":\"Figure\",\"type\":\"Plot\"},\"ticker\":{\"id\":\"a4789798-22ad-4942-b81d-5e1928b22043\",\"type\":\"BasicTicker\"}},\"id\":\"76b98510-92dc-4c96-9e25-eb2f0001c8e2\",\"type\":\"LinearAxis\"},{\"attributes\":{},\"id\":\"a4789798-22ad-4942-b81d-5e1928b22043\",\"type\":\"BasicTicker\"},{\"attributes\":{\"dimension\":1,\"grid_line_alpha\":{\"value\":0},\"grid_line_color\":{\"value\":null},\"plot\":{\"id\":\"65eb0d0a-b931-4246-bbfa-aa4a39d031bc\",\"subtype\":\"Figure\",\"type\":\"Plot\"},\"ticker\":{\"id\":\"a4789798-22ad-4942-b81d-5e1928b22043\",\"type\":\"BasicTicker\"}},\"id\":\"7d539a40-61a3-4e36-ae96-526101e3af37\",\"type\":\"Grid\"},{\"attributes\":{},\"id\":\"af47b26f-1b1d-4dc9-8d5d-79379f833fe5\",\"type\":\"HelpTool\"},{\"attributes\":{\"fill_alpha\":{\"value\":0.3333},\"fill_color\":{\"value\":\"red\"},\"line_color\":{\"value\":\"red\"},\"size\":{\"units\":\"screen\",\"value\":10},\"x\":{\"field\":\"x\"},\"y\":{\"field\":\"y\"}},\"id\":\"d3d27544-fb25-48ec-a68b-19bd111a163c\",\"type\":\"Circle\"},{\"attributes\":{\"callback\":null,\"column_names\":[\"x\",\"y\"],\"data\":{\"x\":[25000,20000,30000,25000],\"y\":[300,200,250,200]}},\"id\":\"43f3cdd0-b569-4fc2-ba98-698c2e4a382b\",\"type\":\"ColumnDataSource\"},{\"attributes\":{},\"id\":\"25969c59-4798-4f40-b2fe-a66a9bcc4336\",\"type\":\"PanTool\"},{\"attributes\":{\"fill_alpha\":{\"value\":0.1},\"fill_color\":{\"value\":\"#1f77b4\"},\"line_alpha\":{\"value\":0.1},\"line_color\":{\"value\":\"#1f77b4\"},\"size\":{\"units\":\"screen\",\"value\":10},\"x\":{\"field\":\"x\"},\"y\":{\"field\":\"y\"}},\"id\":\"6584fbb5-95de-4e22-b997-be1bce13bc8e\",\"type\":\"Circle\"},{\"attributes\":{\"data_source\":{\"id\":\"43f3cdd0-b569-4fc2-ba98-698c2e4a382b\",\"type\":\"ColumnDataSource\"},\"glyph\":{\"id\":\"d3d27544-fb25-48ec-a68b-19bd111a163c\",\"type\":\"Circle\"},\"hover_glyph\":null,\"muted_glyph\":null,\"nonselection_glyph\":{\"id\":\"6584fbb5-95de-4e22-b997-be1bce13bc8e\",\"type\":\"Circle\"},\"selection_glyph\":null,\"view\":{\"id\":\"2b30286d-16a9-435c-900d-13375d81e1a2\",\"type\":\"CDSView\"}},\"id\":\"3ed0d07c-b0b0-498a-b093-1d6750fb95d3\",\"type\":\"GlyphRenderer\"},{\"attributes\":{},\"id\":\"24d09220-5b96-4396-ac39-dd1fc4c748e1\",\"type\":\"WheelZoomTool\"},{\"attributes\":{\"callback\":null,\"column_names\":[\"x\",\"y\"],\"data\":{\"x\":[10000,20000,40000,15000,12500,29000],\"y\":[100,400,250,150,250,170]}},\"id\":\"c0bf2983-e241-4f46-a238-0ba50b32618e\",\"type\":\"ColumnDataSource\"},{\"attributes\":{\"overlay\":{\"id\":\"3f4640b9-1747-4a4e-9ab4-3eca27ab33f2\",\"type\":\"BoxAnnotation\"}},\"id\":\"be10a563-0b7d-4116-a72f-d5cf963ff128\",\"type\":\"BoxZoomTool\"},{\"attributes\":{},\"id\":\"6c12bb7c-625e-413c-8776-bc4ae3f2a58e\",\"type\":\"BasicTickFormatter\"},{\"attributes\":{},\"id\":\"b04dee62-8183-4b29-8e39-e1961552ce75\",\"type\":\"SaveTool\"},{\"attributes\":{},\"id\":\"0e53fce0-ae24-480e-a4f1-de861f584783\",\"type\":\"ResetTool\"},{\"attributes\":{\"background_fill_color\":{\"value\":\"#000000\"},\"items\":[{\"id\":\"760a9330-b816-4301-b881-eee7312db214\",\"type\":\"LegendItem\"},{\"id\":\"1d65ccc1-7754-409d-bb6f-1f587eb43b1d\",\"type\":\"LegendItem\"}],\"label_text_color\":{\"value\":\"#CCCCCC\"},\"plot\":{\"id\":\"65eb0d0a-b931-4246-bbfa-aa4a39d031bc\",\"subtype\":\"Figure\",\"type\":\"Plot\"}},\"id\":\"d170f92e-6585-4130-9fc9-357c06357892\",\"type\":\"Legend\"},{\"attributes\":{\"source\":{\"id\":\"43f3cdd0-b569-4fc2-ba98-698c2e4a382b\",\"type\":\"ColumnDataSource\"}},\"id\":\"2b30286d-16a9-435c-900d-13375d81e1a2\",\"type\":\"CDSView\"},{\"attributes\":{},\"id\":\"ce724a55-9ea0-4ab6-b914-fd487b917d9c\",\"type\":\"BasicTickFormatter\"},{\"attributes\":{\"bottom_units\":\"screen\",\"fill_alpha\":{\"value\":0.5},\"fill_color\":{\"value\":\"lightgrey\"},\"left_units\":\"screen\",\"level\":\"overlay\",\"line_alpha\":{\"value\":1.0},\"line_color\":{\"value\":\"black\"},\"line_dash\":[4,4],\"line_width\":{\"value\":2},\"plot\":null,\"render_mode\":\"css\",\"right_units\":\"screen\",\"top_units\":\"screen\"},\"id\":\"3f4640b9-1747-4a4e-9ab4-3eca27ab33f2\",\"type\":\"BoxAnnotation\"},{\"attributes\":{\"fill_alpha\":{\"value\":0.3333},\"fill_color\":{\"value\":\"blue\"},\"line_color\":{\"value\":\"blue\"},\"size\":{\"units\":\"screen\",\"value\":10},\"x\":{\"field\":\"x\"},\"y\":{\"field\":\"y\"}},\"id\":\"a6d99570-48cf-4b63-9b49-29d086842021\",\"type\":\"Circle\"}],\"root_ids\":[\"65eb0d0a-b931-4246-bbfa-aa4a39d031bc\"]},\"title\":\"Bokeh Application\",\"version\":\"0.12.13\"}};\n",
       "  var render_items = [{\"docid\":\"2f6e6870-3537-4882-9030-6980506e930a\",\"elementid\":\"8807c228-cfe3-4354-a760-8b97e7f8d842\",\"modelid\":\"65eb0d0a-b931-4246-bbfa-aa4a39d031bc\"}];\n",
       "  root.Bokeh.embed.embed_items_notebook(docs_json, render_items);\n",
       "\n",
       "  }\n",
       "  if (root.Bokeh !== undefined) {\n",
       "    embed_document(root);\n",
       "  } else {\n",
       "    var attempts = 0;\n",
       "    var timer = setInterval(function(root) {\n",
       "      if (root.Bokeh !== undefined) {\n",
       "        embed_document(root);\n",
       "        clearInterval(timer);\n",
       "      }\n",
       "      attempts++;\n",
       "      if (attempts > 100) {\n",
       "        console.log(\"Bokeh: ERROR: Unable to run BokehJS code because BokehJS library is missing\")\n",
       "        clearInterval(timer);\n",
       "      }\n",
       "    }, 10, root)\n",
       "  }\n",
       "})(window);"
      ],
      "application/vnd.bokehjs_exec.v0+json": ""
     },
     "metadata": {
      "application/vnd.bokehjs_exec.v0+json": {
       "id": "65eb0d0a-b931-4246-bbfa-aa4a39d031bc"
      }
     },
     "output_type": "display_data"
    }
   ],
   "source": [
    "show(car_plot())"
   ]
  },
  {
   "cell_type": "markdown",
   "metadata": {
    "slideshow": {
     "slide_type": "slide"
    }
   },
   "source": [
    "# Hypothesis Class\n",
    "\n",
    "We induce the hypothesis that \"the class \\\\(C\\\\) of family car is a rectangle\n",
    "in the price-engine power space.\"\n",
    "\n",
    "\\\\[h \\in {\\cal H}\\\\]\n",
    "\n",
    "Where \\\\(h\\\\) is a single rectangle from all possible rectangles \\\\({\\cal H}\\\\)."
   ]
  },
  {
   "cell_type": "markdown",
   "metadata": {
    "slideshow": {
     "slide_type": "subslide"
    }
   },
   "source": [
    "# Classification Model\n",
    "\n",
    "\\\\[h = ({p_1} \\le {\\text{price}} \\le {p_2}){\\text{ AND }({e_1}} \\le {\\text{engine power}} \\le {e_2})\\\\]\n",
    "\n",
    "\\\\[h({\\mathbf{x}}) = \\left\\{ \\begin{gathered}\n",
    "  1{\\text{ if }}h{\\text{ classifies }}{\\mathbf{x}}{\\text{ as a positive example}} \\hfill \\\\\n",
    "  0{\\text{ if }}h{\\text{ classifies }}{\\mathbf{x}}{\\text{ as a negative example}} \\hfill \\\\ \n",
    "\\end{gathered}  \\right.\\\\]"
   ]
  },
  {
   "cell_type": "code",
   "execution_count": 6,
   "metadata": {
    "slideshow": {
     "slide_type": "skip"
    }
   },
   "outputs": [],
   "source": [
    "class RectangleClassifier:\n",
    "    def __init__(self, rect_left=None, rect_right=None, rect_bottom=None, rect_top=None):\n",
    "        self.rect_left = rect_left\n",
    "        self.rect_right = rect_right\n",
    "        self.rect_bottom = rect_bottom\n",
    "        self.rect_top = rect_top\n",
    "        \n",
    "    def fit(self, X, y):\n",
    "        pos_samples = X[y == 1]\n",
    "        neg_samples = X[y != 1]\n",
    "        pos_x_min, pos_x_max = pos_samples[:, 0].min(), pos_samples[:, 0].max()\n",
    "        pos_y_min, pos_y_max = pos_samples[:, 1].min(), pos_samples[:, 1].max()\n",
    "        neg_sample_left =   neg_samples[:,0][neg_samples[:,0] < pos_x_min].max()\n",
    "        neg_sample_right =  neg_samples[:,0][neg_samples[:,0] > pos_x_max].min()\n",
    "        neg_sample_below =  neg_samples[:,1][neg_samples[:,1] < pos_y_min].max()\n",
    "        neg_sample_above =  neg_samples[:,1][neg_samples[:,1] > pos_y_max].min()\n",
    "        self.rect_left =   (pos_x_min + neg_sample_left)/2\n",
    "        self.rect_right =  (pos_x_max + neg_sample_right)/2\n",
    "        self.rect_bottom = (pos_y_min + neg_sample_below)/2\n",
    "        self.rect_top =    (pos_y_max + neg_sample_above)/2\n",
    "        \n",
    "    def predict(self, X):\n",
    "        prediction = (X[:,0] > self.rect_left) & \\\n",
    "                     (X[:,0] < self.rect_right) & \\\n",
    "                     (X[:,1] > self.rect_bottom) & \\\n",
    "                     (X[:,1] < self.rect_top)\n",
    "        return(prediction)\n",
    "    \n",
    "    def loss(self, X, y):\n",
    "        prediction = self.predict(X)\n",
    "        error = (prediction != y).sum()\n",
    "        return(error)"
   ]
  },
  {
   "cell_type": "markdown",
   "metadata": {
    "slideshow": {
     "slide_type": "slide"
    }
   },
   "source": [
    "# One hot-encoding"
   ]
  },
  {
   "cell_type": "code",
   "execution_count": 7,
   "metadata": {},
   "outputs": [
    {
     "name": "stdout",
     "output_type": "stream",
     "text": [
      "[0 0 1 0 1 0 0 0 1 1]\n"
     ]
    }
   ],
   "source": [
    "y_one_hot = (y == 'family').astype(int)\n",
    "print(y_one_hot)"
   ]
  },
  {
   "cell_type": "code",
   "execution_count": 8,
   "metadata": {
    "slideshow": {
     "slide_type": "subslide"
    }
   },
   "outputs": [
    {
     "name": "stdout",
     "output_type": "stream",
     "text": [
      "x_min 17500.0\n",
      "x_max 35000.0\n",
      "y_min 185.0\n",
      "y_min 350.0 \n",
      "\n",
      "empirical error 0\n"
     ]
    }
   ],
   "source": [
    "classifier = RectangleClassifier()\n",
    "\n",
    "classifier.fit(X, y_one_hot)\n",
    "\n",
    "print('x_min', classifier.rect_left)\n",
    "print('x_max', classifier.rect_right)\n",
    "print('y_min', classifier.rect_bottom)\n",
    "print('y_min', classifier.rect_top, '\\n')\n",
    "\n",
    "print('empirical error', classifier.loss(X, y_one_hot))"
   ]
  },
  {
   "cell_type": "code",
   "execution_count": 9,
   "metadata": {
    "slideshow": {
     "slide_type": "skip"
    }
   },
   "outputs": [
    {
     "data": {
      "text/html": [
       "<div style=\"display: table;\"><div style=\"display: table-row;\"><div style=\"display: table-cell;\"><b title=\"bokeh.models.renderers.GlyphRenderer\">GlyphRenderer</b>(</div><div style=\"display: table-cell;\">id&nbsp;=&nbsp;'e33aae76-d75c-4cf6-979c-84a41e7398bf', <span id=\"27528447-cae9-4bc9-927b-fa694f89ad8e\" style=\"cursor: pointer;\">&hellip;)</span></div></div><div class=\"cd96402d-3e8f-496e-abfd-aa2f81fd7bbd\" style=\"display: none;\"><div style=\"display: table-cell;\"></div><div style=\"display: table-cell;\">data_source&nbsp;=&nbsp;ColumnDataSource(id='264c496d-5083-4d5b-b863-c83cd712659c', ...),</div></div><div class=\"cd96402d-3e8f-496e-abfd-aa2f81fd7bbd\" style=\"display: none;\"><div style=\"display: table-cell;\"></div><div style=\"display: table-cell;\">glyph&nbsp;=&nbsp;Quad(id='0696f05b-859c-4335-bf97-85549a476e9d', ...),</div></div><div class=\"cd96402d-3e8f-496e-abfd-aa2f81fd7bbd\" style=\"display: none;\"><div style=\"display: table-cell;\"></div><div style=\"display: table-cell;\">hover_glyph&nbsp;=&nbsp;None,</div></div><div class=\"cd96402d-3e8f-496e-abfd-aa2f81fd7bbd\" style=\"display: none;\"><div style=\"display: table-cell;\"></div><div style=\"display: table-cell;\">js_event_callbacks&nbsp;=&nbsp;{},</div></div><div class=\"cd96402d-3e8f-496e-abfd-aa2f81fd7bbd\" style=\"display: none;\"><div style=\"display: table-cell;\"></div><div style=\"display: table-cell;\">js_property_callbacks&nbsp;=&nbsp;{},</div></div><div class=\"cd96402d-3e8f-496e-abfd-aa2f81fd7bbd\" style=\"display: none;\"><div style=\"display: table-cell;\"></div><div style=\"display: table-cell;\">level&nbsp;=&nbsp;'underlay',</div></div><div class=\"cd96402d-3e8f-496e-abfd-aa2f81fd7bbd\" style=\"display: none;\"><div style=\"display: table-cell;\"></div><div style=\"display: table-cell;\">muted&nbsp;=&nbsp;False,</div></div><div class=\"cd96402d-3e8f-496e-abfd-aa2f81fd7bbd\" style=\"display: none;\"><div style=\"display: table-cell;\"></div><div style=\"display: table-cell;\">muted_glyph&nbsp;=&nbsp;None,</div></div><div class=\"cd96402d-3e8f-496e-abfd-aa2f81fd7bbd\" style=\"display: none;\"><div style=\"display: table-cell;\"></div><div style=\"display: table-cell;\">name&nbsp;=&nbsp;None,</div></div><div class=\"cd96402d-3e8f-496e-abfd-aa2f81fd7bbd\" style=\"display: none;\"><div style=\"display: table-cell;\"></div><div style=\"display: table-cell;\">nonselection_glyph&nbsp;=&nbsp;Quad(id='cc40185c-1f6a-4f59-898e-7d32edadb44d', ...),</div></div><div class=\"cd96402d-3e8f-496e-abfd-aa2f81fd7bbd\" style=\"display: none;\"><div style=\"display: table-cell;\"></div><div style=\"display: table-cell;\">selection_glyph&nbsp;=&nbsp;None,</div></div><div class=\"cd96402d-3e8f-496e-abfd-aa2f81fd7bbd\" style=\"display: none;\"><div style=\"display: table-cell;\"></div><div style=\"display: table-cell;\">subscribed_events&nbsp;=&nbsp;[],</div></div><div class=\"cd96402d-3e8f-496e-abfd-aa2f81fd7bbd\" style=\"display: none;\"><div style=\"display: table-cell;\"></div><div style=\"display: table-cell;\">tags&nbsp;=&nbsp;[],</div></div><div class=\"cd96402d-3e8f-496e-abfd-aa2f81fd7bbd\" style=\"display: none;\"><div style=\"display: table-cell;\"></div><div style=\"display: table-cell;\">view&nbsp;=&nbsp;CDSView(id='b50cf79f-f70f-4a37-bace-1e900403a8a2', ...),</div></div><div class=\"cd96402d-3e8f-496e-abfd-aa2f81fd7bbd\" style=\"display: none;\"><div style=\"display: table-cell;\"></div><div style=\"display: table-cell;\">visible&nbsp;=&nbsp;True,</div></div><div class=\"cd96402d-3e8f-496e-abfd-aa2f81fd7bbd\" style=\"display: none;\"><div style=\"display: table-cell;\"></div><div style=\"display: table-cell;\">x_range_name&nbsp;=&nbsp;'default',</div></div><div class=\"cd96402d-3e8f-496e-abfd-aa2f81fd7bbd\" style=\"display: none;\"><div style=\"display: table-cell;\"></div><div style=\"display: table-cell;\">y_range_name&nbsp;=&nbsp;'default')</div></div></div>\n",
       "<script>\n",
       "(function() {\n",
       "  var expanded = false;\n",
       "  var ellipsis = document.getElementById(\"27528447-cae9-4bc9-927b-fa694f89ad8e\");\n",
       "  ellipsis.addEventListener(\"click\", function() {\n",
       "    var rows = document.getElementsByClassName(\"cd96402d-3e8f-496e-abfd-aa2f81fd7bbd\");\n",
       "    for (var i = 0; i < rows.length; i++) {\n",
       "      var el = rows[i];\n",
       "      el.style.display = expanded ? \"none\" : \"table-row\";\n",
       "    }\n",
       "    ellipsis.innerHTML = expanded ? \"&hellip;)\" : \"&lsaquo;&lsaquo;&lsaquo;\";\n",
       "    expanded = !expanded;\n",
       "  });\n",
       "})();\n",
       "</script>\n"
      ],
      "text/plain": [
       "GlyphRenderer(id='e33aae76-d75c-4cf6-979c-84a41e7398bf', ...)"
      ]
     },
     "execution_count": 9,
     "metadata": {},
     "output_type": "execute_result"
    }
   ],
   "source": [
    "plot_rect_hypo = car_plot()\n",
    "plot_rect_hypo.title.text = 'Family Car Example: Rectangle Hypothesis'\n",
    "plot_rect_hypo.background_fill_color = '#E6E6FE'\n",
    "plot_rect_hypo.quad(left=classifier.rect_left, right=classifier.rect_right, \n",
    "                    bottom=classifier.rect_bottom, top=classifier.rect_top,\n",
    "                    color='#FEE6E6', level='underlay')"
   ]
  },
  {
   "cell_type": "code",
   "execution_count": 10,
   "metadata": {
    "slideshow": {
     "slide_type": "subslide"
    }
   },
   "outputs": [
    {
     "data": {
      "text/html": [
       "\n",
       "<div class=\"bk-root\">\n",
       "    <div class=\"bk-plotdiv\" id=\"de39d5f8-83d6-41a0-bf34-f66726bc617e\"></div>\n",
       "</div>"
      ]
     },
     "metadata": {},
     "output_type": "display_data"
    },
    {
     "data": {
      "application/javascript": [
       "(function(root) {\n",
       "  function embed_document(root) {\n",
       "    \n",
       "  var docs_json = {\"67b90fee-e3c4-4945-af7b-543a10b74298\":{\"roots\":{\"references\":[{\"attributes\":{\"dimension\":1,\"grid_line_alpha\":{\"value\":0},\"grid_line_color\":{\"value\":null},\"plot\":{\"id\":\"af1eb277-d91b-4e00-97f3-07f57e7b22f0\",\"subtype\":\"Figure\",\"type\":\"Plot\"},\"ticker\":{\"id\":\"d39ec173-808b-4f94-b227-49954b95dc0f\",\"type\":\"BasicTicker\"}},\"id\":\"b066dc1b-fdcc-4059-be19-7824cf523bc8\",\"type\":\"Grid\"},{\"attributes\":{\"axis_label\":\"Price (USD)\",\"axis_label_text_color\":{\"value\":\"white\"},\"axis_line_color\":{\"value\":null},\"formatter\":{\"id\":\"e6668169-f0b2-4e0f-9940-9a9b0f216234\",\"type\":\"BasicTickFormatter\"},\"major_label_text_color\":{\"value\":\"white\"},\"major_tick_line_color\":{\"value\":null},\"minor_tick_line_color\":{\"value\":null},\"plot\":{\"id\":\"af1eb277-d91b-4e00-97f3-07f57e7b22f0\",\"subtype\":\"Figure\",\"type\":\"Plot\"},\"ticker\":{\"id\":\"c69a1cf2-687f-45e7-bdf2-a0f804beaceb\",\"type\":\"BasicTicker\"}},\"id\":\"1ed64a3e-9751-455b-999d-28a7a3716d92\",\"type\":\"LinearAxis\"},{\"attributes\":{},\"id\":\"71f555f5-4ac1-4626-85ef-27d00f44556e\",\"type\":\"LinearScale\"},{\"attributes\":{\"grid_line_alpha\":{\"value\":0},\"grid_line_color\":{\"value\":null},\"plot\":{\"id\":\"af1eb277-d91b-4e00-97f3-07f57e7b22f0\",\"subtype\":\"Figure\",\"type\":\"Plot\"},\"ticker\":{\"id\":\"c69a1cf2-687f-45e7-bdf2-a0f804beaceb\",\"type\":\"BasicTicker\"}},\"id\":\"21b34e75-48ad-4303-8aa8-8a60594130fa\",\"type\":\"Grid\"},{\"attributes\":{\"axis_label\":\"Engine Power (hp)\",\"axis_label_text_color\":{\"value\":\"white\"},\"axis_line_color\":{\"value\":null},\"formatter\":{\"id\":\"4c0721a8-f1e3-4246-932b-7c76fca649da\",\"type\":\"BasicTickFormatter\"},\"major_label_text_color\":{\"value\":\"white\"},\"major_tick_line_color\":{\"value\":null},\"minor_tick_line_color\":{\"value\":null},\"plot\":{\"id\":\"af1eb277-d91b-4e00-97f3-07f57e7b22f0\",\"subtype\":\"Figure\",\"type\":\"Plot\"},\"ticker\":{\"id\":\"d39ec173-808b-4f94-b227-49954b95dc0f\",\"type\":\"BasicTicker\"}},\"id\":\"e32cec0d-273f-4a32-a0b8-7852af16cb4a\",\"type\":\"LinearAxis\"},{\"attributes\":{},\"id\":\"d39ec173-808b-4f94-b227-49954b95dc0f\",\"type\":\"BasicTicker\"},{\"attributes\":{\"bottom\":{\"value\":185.0},\"fill_alpha\":{\"value\":0.1},\"fill_color\":{\"value\":\"#1f77b4\"},\"left\":{\"value\":17500.0},\"line_alpha\":{\"value\":0.1},\"line_color\":{\"value\":\"#1f77b4\"},\"right\":{\"value\":35000.0},\"top\":{\"value\":350.0}},\"id\":\"cc40185c-1f6a-4f59-898e-7d32edadb44d\",\"type\":\"Quad\"},{\"attributes\":{\"label\":{\"value\":\"family car\"},\"renderers\":[{\"id\":\"bdd1c898-a7a1-4abd-a31f-24dda74d2f0e\",\"type\":\"GlyphRenderer\"}]},\"id\":\"51204917-0287-44bb-b22d-9b8ea084b129\",\"type\":\"LegendItem\"},{\"attributes\":{\"fill_alpha\":{\"value\":0.1},\"fill_color\":{\"value\":\"#1f77b4\"},\"line_alpha\":{\"value\":0.1},\"line_color\":{\"value\":\"#1f77b4\"},\"size\":{\"units\":\"screen\",\"value\":10},\"x\":{\"field\":\"x\"},\"y\":{\"field\":\"y\"}},\"id\":\"4ff2da55-7594-46e6-8170-24c0ccd6f1e8\",\"type\":\"Circle\"},{\"attributes\":{\"bottom_units\":\"screen\",\"fill_alpha\":{\"value\":0.5},\"fill_color\":{\"value\":\"lightgrey\"},\"left_units\":\"screen\",\"level\":\"overlay\",\"line_alpha\":{\"value\":1.0},\"line_color\":{\"value\":\"black\"},\"line_dash\":[4,4],\"line_width\":{\"value\":2},\"plot\":null,\"render_mode\":\"css\",\"right_units\":\"screen\",\"top_units\":\"screen\"},\"id\":\"a0cf9bc5-12a5-4c6d-a6bd-fa0904d50593\",\"type\":\"BoxAnnotation\"},{\"attributes\":{\"source\":{\"id\":\"c5938d43-487d-4938-9ed9-65851a40e472\",\"type\":\"ColumnDataSource\"}},\"id\":\"1d4e62aa-1843-4750-bade-d4366014d821\",\"type\":\"CDSView\"},{\"attributes\":{\"fill_alpha\":{\"value\":0.1},\"fill_color\":{\"value\":\"#1f77b4\"},\"line_alpha\":{\"value\":0.1},\"line_color\":{\"value\":\"#1f77b4\"},\"size\":{\"units\":\"screen\",\"value\":10},\"x\":{\"field\":\"x\"},\"y\":{\"field\":\"y\"}},\"id\":\"c0cdd481-5f22-4fb3-a9a2-3adecd265370\",\"type\":\"Circle\"},{\"attributes\":{},\"id\":\"1cee52c7-853b-47f3-95f3-982a7c2039d3\",\"type\":\"PanTool\"},{\"attributes\":{},\"id\":\"baf8bad1-07db-4448-ba39-d195cff84847\",\"type\":\"WheelZoomTool\"},{\"attributes\":{\"overlay\":{\"id\":\"a0cf9bc5-12a5-4c6d-a6bd-fa0904d50593\",\"type\":\"BoxAnnotation\"}},\"id\":\"002cf3e6-d7b3-41af-a451-973c78274a2c\",\"type\":\"BoxZoomTool\"},{\"attributes\":{},\"id\":\"631e4cbb-c6af-49c4-bfb3-ef9dbb2f4c7f\",\"type\":\"SaveTool\"},{\"attributes\":{},\"id\":\"4c0721a8-f1e3-4246-932b-7c76fca649da\",\"type\":\"BasicTickFormatter\"},{\"attributes\":{},\"id\":\"c69a1cf2-687f-45e7-bdf2-a0f804beaceb\",\"type\":\"BasicTicker\"},{\"attributes\":{},\"id\":\"80af60c4-b95f-42d4-b782-8d48e6946e7b\",\"type\":\"ResetTool\"},{\"attributes\":{\"callback\":null,\"column_names\":[\"x\",\"y\"],\"data\":{\"x\":[25000,20000,30000,25000],\"y\":[300,200,250,200]}},\"id\":\"c5938d43-487d-4938-9ed9-65851a40e472\",\"type\":\"ColumnDataSource\"},{\"attributes\":{},\"id\":\"4157881e-8d31-4f3e-a513-041c37cfb510\",\"type\":\"HelpTool\"},{\"attributes\":{},\"id\":\"e6668169-f0b2-4e0f-9940-9a9b0f216234\",\"type\":\"BasicTickFormatter\"},{\"attributes\":{\"fill_alpha\":{\"value\":0.3333},\"fill_color\":{\"value\":\"blue\"},\"line_color\":{\"value\":\"blue\"},\"size\":{\"units\":\"screen\",\"value\":10},\"x\":{\"field\":\"x\"},\"y\":{\"field\":\"y\"}},\"id\":\"be55b0d0-15dc-4b06-80e2-cf255c87a73a\",\"type\":\"Circle\"},{\"attributes\":{\"background_fill_color\":{\"value\":\"#000000\"},\"items\":[{\"id\":\"51204917-0287-44bb-b22d-9b8ea084b129\",\"type\":\"LegendItem\"},{\"id\":\"12636909-bde7-4b04-b2e7-2a6e2f4612e7\",\"type\":\"LegendItem\"}],\"label_text_color\":{\"value\":\"#CCCCCC\"},\"plot\":{\"id\":\"af1eb277-d91b-4e00-97f3-07f57e7b22f0\",\"subtype\":\"Figure\",\"type\":\"Plot\"}},\"id\":\"5c1fb55b-089e-4d81-903f-024f3a897fba\",\"type\":\"Legend\"},{\"attributes\":{\"callback\":null,\"column_names\":[\"x\",\"y\"],\"data\":{\"x\":[10000,20000,40000,15000,12500,29000],\"y\":[100,400,250,150,250,170]}},\"id\":\"37a90959-4d76-4f5f-9456-376429b6f08e\",\"type\":\"ColumnDataSource\"},{\"attributes\":{\"callback\":null,\"data\":{}},\"id\":\"264c496d-5083-4d5b-b863-c83cd712659c\",\"type\":\"ColumnDataSource\"},{\"attributes\":{\"bottom\":{\"value\":185.0},\"fill_color\":{\"value\":\"#FEE6E6\"},\"left\":{\"value\":17500.0},\"line_color\":{\"value\":\"#FEE6E6\"},\"right\":{\"value\":35000.0},\"top\":{\"value\":350.0}},\"id\":\"0696f05b-859c-4335-bf97-85549a476e9d\",\"type\":\"Quad\"},{\"attributes\":{\"background_fill_alpha\":{\"value\":0},\"background_fill_color\":{\"value\":\"#E6E6FE\"},\"below\":[{\"id\":\"1ed64a3e-9751-455b-999d-28a7a3716d92\",\"type\":\"LinearAxis\"}],\"border_fill_alpha\":{\"value\":0},\"left\":[{\"id\":\"e32cec0d-273f-4a32-a0b8-7852af16cb4a\",\"type\":\"LinearAxis\"}],\"min_border\":null,\"outline_line_color\":{\"value\":\"#333333\"},\"plot_height\":300,\"plot_width\":400,\"renderers\":[{\"id\":\"1ed64a3e-9751-455b-999d-28a7a3716d92\",\"type\":\"LinearAxis\"},{\"id\":\"21b34e75-48ad-4303-8aa8-8a60594130fa\",\"type\":\"Grid\"},{\"id\":\"e32cec0d-273f-4a32-a0b8-7852af16cb4a\",\"type\":\"LinearAxis\"},{\"id\":\"b066dc1b-fdcc-4059-be19-7824cf523bc8\",\"type\":\"Grid\"},{\"id\":\"a0cf9bc5-12a5-4c6d-a6bd-fa0904d50593\",\"type\":\"BoxAnnotation\"},{\"id\":\"5c1fb55b-089e-4d81-903f-024f3a897fba\",\"type\":\"Legend\"},{\"id\":\"bdd1c898-a7a1-4abd-a31f-24dda74d2f0e\",\"type\":\"GlyphRenderer\"},{\"id\":\"d932d1cf-ee91-4f04-a5b7-b50028fdb59c\",\"type\":\"GlyphRenderer\"},{\"id\":\"e33aae76-d75c-4cf6-979c-84a41e7398bf\",\"type\":\"GlyphRenderer\"}],\"title\":{\"id\":\"c9545bbd-4a23-44dc-a1d7-0b0c26171d27\",\"type\":\"Title\"},\"toolbar\":{\"id\":\"2d7cd4f5-48e3-4888-82ae-dbc9983b26ea\",\"type\":\"Toolbar\"},\"toolbar_location\":null,\"x_range\":{\"id\":\"6bcbcc70-1720-44ac-843d-d156ed1a2d7b\",\"type\":\"DataRange1d\"},\"x_scale\":{\"id\":\"284708fb-7b30-4043-a258-c8bdbcf7eaaa\",\"type\":\"LinearScale\"},\"y_range\":{\"id\":\"f870288c-b190-4d14-95c9-b7ef6eca90a6\",\"type\":\"DataRange1d\"},\"y_scale\":{\"id\":\"71f555f5-4ac1-4626-85ef-27d00f44556e\",\"type\":\"LinearScale\"}},\"id\":\"af1eb277-d91b-4e00-97f3-07f57e7b22f0\",\"subtype\":\"Figure\",\"type\":\"Plot\"},{\"attributes\":{\"label\":{\"value\":\"not family car\"},\"renderers\":[{\"id\":\"d932d1cf-ee91-4f04-a5b7-b50028fdb59c\",\"type\":\"GlyphRenderer\"}]},\"id\":\"12636909-bde7-4b04-b2e7-2a6e2f4612e7\",\"type\":\"LegendItem\"},{\"attributes\":{\"active_drag\":\"auto\",\"active_inspect\":\"auto\",\"active_scroll\":\"auto\",\"active_tap\":\"auto\",\"tools\":[{\"id\":\"1cee52c7-853b-47f3-95f3-982a7c2039d3\",\"type\":\"PanTool\"},{\"id\":\"baf8bad1-07db-4448-ba39-d195cff84847\",\"type\":\"WheelZoomTool\"},{\"id\":\"002cf3e6-d7b3-41af-a451-973c78274a2c\",\"type\":\"BoxZoomTool\"},{\"id\":\"631e4cbb-c6af-49c4-bfb3-ef9dbb2f4c7f\",\"type\":\"SaveTool\"},{\"id\":\"80af60c4-b95f-42d4-b782-8d48e6946e7b\",\"type\":\"ResetTool\"},{\"id\":\"4157881e-8d31-4f3e-a513-041c37cfb510\",\"type\":\"HelpTool\"}]},\"id\":\"2d7cd4f5-48e3-4888-82ae-dbc9983b26ea\",\"type\":\"Toolbar\"},{\"attributes\":{\"fill_alpha\":{\"value\":0.3333},\"fill_color\":{\"value\":\"red\"},\"line_color\":{\"value\":\"red\"},\"size\":{\"units\":\"screen\",\"value\":10},\"x\":{\"field\":\"x\"},\"y\":{\"field\":\"y\"}},\"id\":\"625e34f6-149f-4076-a90f-1894be6c05d3\",\"type\":\"Circle\"},{\"attributes\":{\"data_source\":{\"id\":\"c5938d43-487d-4938-9ed9-65851a40e472\",\"type\":\"ColumnDataSource\"},\"glyph\":{\"id\":\"625e34f6-149f-4076-a90f-1894be6c05d3\",\"type\":\"Circle\"},\"hover_glyph\":null,\"muted_glyph\":null,\"nonselection_glyph\":{\"id\":\"c0cdd481-5f22-4fb3-a9a2-3adecd265370\",\"type\":\"Circle\"},\"selection_glyph\":null,\"view\":{\"id\":\"1d4e62aa-1843-4750-bade-d4366014d821\",\"type\":\"CDSView\"}},\"id\":\"bdd1c898-a7a1-4abd-a31f-24dda74d2f0e\",\"type\":\"GlyphRenderer\"},{\"attributes\":{\"data_source\":{\"id\":\"37a90959-4d76-4f5f-9456-376429b6f08e\",\"type\":\"ColumnDataSource\"},\"glyph\":{\"id\":\"be55b0d0-15dc-4b06-80e2-cf255c87a73a\",\"type\":\"Circle\"},\"hover_glyph\":null,\"muted_glyph\":null,\"nonselection_glyph\":{\"id\":\"4ff2da55-7594-46e6-8170-24c0ccd6f1e8\",\"type\":\"Circle\"},\"selection_glyph\":null,\"view\":{\"id\":\"a1a7e726-010d-4279-8e89-f0d59ddb04c1\",\"type\":\"CDSView\"}},\"id\":\"d932d1cf-ee91-4f04-a5b7-b50028fdb59c\",\"type\":\"GlyphRenderer\"},{\"attributes\":{\"plot\":null,\"text\":\"Family Car Example: Rectangle Hypothesis\",\"text_color\":{\"value\":\"white\"}},\"id\":\"c9545bbd-4a23-44dc-a1d7-0b0c26171d27\",\"type\":\"Title\"},{\"attributes\":{\"data_source\":{\"id\":\"264c496d-5083-4d5b-b863-c83cd712659c\",\"type\":\"ColumnDataSource\"},\"glyph\":{\"id\":\"0696f05b-859c-4335-bf97-85549a476e9d\",\"type\":\"Quad\"},\"hover_glyph\":null,\"level\":\"underlay\",\"muted_glyph\":null,\"nonselection_glyph\":{\"id\":\"cc40185c-1f6a-4f59-898e-7d32edadb44d\",\"type\":\"Quad\"},\"selection_glyph\":null,\"view\":{\"id\":\"b50cf79f-f70f-4a37-bace-1e900403a8a2\",\"type\":\"CDSView\"}},\"id\":\"e33aae76-d75c-4cf6-979c-84a41e7398bf\",\"type\":\"GlyphRenderer\"},{\"attributes\":{\"callback\":null},\"id\":\"6bcbcc70-1720-44ac-843d-d156ed1a2d7b\",\"type\":\"DataRange1d\"},{\"attributes\":{\"source\":{\"id\":\"37a90959-4d76-4f5f-9456-376429b6f08e\",\"type\":\"ColumnDataSource\"}},\"id\":\"a1a7e726-010d-4279-8e89-f0d59ddb04c1\",\"type\":\"CDSView\"},{\"attributes\":{},\"id\":\"284708fb-7b30-4043-a258-c8bdbcf7eaaa\",\"type\":\"LinearScale\"},{\"attributes\":{\"source\":{\"id\":\"264c496d-5083-4d5b-b863-c83cd712659c\",\"type\":\"ColumnDataSource\"}},\"id\":\"b50cf79f-f70f-4a37-bace-1e900403a8a2\",\"type\":\"CDSView\"},{\"attributes\":{\"callback\":null},\"id\":\"f870288c-b190-4d14-95c9-b7ef6eca90a6\",\"type\":\"DataRange1d\"}],\"root_ids\":[\"af1eb277-d91b-4e00-97f3-07f57e7b22f0\"]},\"title\":\"Bokeh Application\",\"version\":\"0.12.13\"}};\n",
       "  var render_items = [{\"docid\":\"67b90fee-e3c4-4945-af7b-543a10b74298\",\"elementid\":\"de39d5f8-83d6-41a0-bf34-f66726bc617e\",\"modelid\":\"af1eb277-d91b-4e00-97f3-07f57e7b22f0\"}];\n",
       "  root.Bokeh.embed.embed_items_notebook(docs_json, render_items);\n",
       "\n",
       "  }\n",
       "  if (root.Bokeh !== undefined) {\n",
       "    embed_document(root);\n",
       "  } else {\n",
       "    var attempts = 0;\n",
       "    var timer = setInterval(function(root) {\n",
       "      if (root.Bokeh !== undefined) {\n",
       "        embed_document(root);\n",
       "        clearInterval(timer);\n",
       "      }\n",
       "      attempts++;\n",
       "      if (attempts > 100) {\n",
       "        console.log(\"Bokeh: ERROR: Unable to run BokehJS code because BokehJS library is missing\")\n",
       "        clearInterval(timer);\n",
       "      }\n",
       "    }, 10, root)\n",
       "  }\n",
       "})(window);"
      ],
      "application/vnd.bokehjs_exec.v0+json": ""
     },
     "metadata": {
      "application/vnd.bokehjs_exec.v0+json": {
       "id": "af1eb277-d91b-4e00-97f3-07f57e7b22f0"
      }
     },
     "output_type": "display_data"
    }
   ],
   "source": [
    "show(plot_rect_hypo)"
   ]
  },
  {
   "cell_type": "markdown",
   "metadata": {
    "slideshow": {
     "slide_type": "slide"
    }
   },
   "source": [
    "# Empirical Error\n",
    "\n",
    "\\\\[E(h|\\mathcal{X}) = \\sum\\limits_{t = 1}^N {1(h({{\\mathbf{x}}^t}) \\ne {r^t})}  = \\sum\\limits_{t = 1}^N {\\left\\{ \\begin{gathered}\n",
    "  {\\text{1 if }}h({{\\mathbf{x}}^t}) \\ne {r^t} \\hfill \\\\\n",
    "  0{\\text{ otherwise}} \\hfill \\\\ \n",
    "\\end{gathered}  \\right.} \\\\]"
   ]
  },
  {
   "cell_type": "code",
   "execution_count": 11,
   "metadata": {
    "slideshow": {
     "slide_type": "skip"
    }
   },
   "outputs": [
    {
     "data": {
      "text/html": [
       "<div style=\"display: table;\"><div style=\"display: table-row;\"><div style=\"display: table-cell;\"><b title=\"bokeh.models.renderers.GlyphRenderer\">GlyphRenderer</b>(</div><div style=\"display: table-cell;\">id&nbsp;=&nbsp;'3823deb4-22af-4f39-b938-ef2960ca7c7b', <span id=\"e7bbd6fd-bd44-450e-b03a-3ef86e5c3d9a\" style=\"cursor: pointer;\">&hellip;)</span></div></div><div class=\"e0ed09a1-ee0e-4813-8781-3bcc4519898c\" style=\"display: none;\"><div style=\"display: table-cell;\"></div><div style=\"display: table-cell;\">data_source&nbsp;=&nbsp;ColumnDataSource(id='e6270800-049f-4722-aaa3-54f4d02955c5', ...),</div></div><div class=\"e0ed09a1-ee0e-4813-8781-3bcc4519898c\" style=\"display: none;\"><div style=\"display: table-cell;\"></div><div style=\"display: table-cell;\">glyph&nbsp;=&nbsp;Quad(id='3458c5eb-26b6-4474-abb4-fffcfd7def2a', ...),</div></div><div class=\"e0ed09a1-ee0e-4813-8781-3bcc4519898c\" style=\"display: none;\"><div style=\"display: table-cell;\"></div><div style=\"display: table-cell;\">hover_glyph&nbsp;=&nbsp;None,</div></div><div class=\"e0ed09a1-ee0e-4813-8781-3bcc4519898c\" style=\"display: none;\"><div style=\"display: table-cell;\"></div><div style=\"display: table-cell;\">js_event_callbacks&nbsp;=&nbsp;{},</div></div><div class=\"e0ed09a1-ee0e-4813-8781-3bcc4519898c\" style=\"display: none;\"><div style=\"display: table-cell;\"></div><div style=\"display: table-cell;\">js_property_callbacks&nbsp;=&nbsp;{},</div></div><div class=\"e0ed09a1-ee0e-4813-8781-3bcc4519898c\" style=\"display: none;\"><div style=\"display: table-cell;\"></div><div style=\"display: table-cell;\">level&nbsp;=&nbsp;'underlay',</div></div><div class=\"e0ed09a1-ee0e-4813-8781-3bcc4519898c\" style=\"display: none;\"><div style=\"display: table-cell;\"></div><div style=\"display: table-cell;\">muted&nbsp;=&nbsp;False,</div></div><div class=\"e0ed09a1-ee0e-4813-8781-3bcc4519898c\" style=\"display: none;\"><div style=\"display: table-cell;\"></div><div style=\"display: table-cell;\">muted_glyph&nbsp;=&nbsp;None,</div></div><div class=\"e0ed09a1-ee0e-4813-8781-3bcc4519898c\" style=\"display: none;\"><div style=\"display: table-cell;\"></div><div style=\"display: table-cell;\">name&nbsp;=&nbsp;None,</div></div><div class=\"e0ed09a1-ee0e-4813-8781-3bcc4519898c\" style=\"display: none;\"><div style=\"display: table-cell;\"></div><div style=\"display: table-cell;\">nonselection_glyph&nbsp;=&nbsp;Quad(id='139f010e-0e65-4a19-bb5c-2a0c4fc72ff8', ...),</div></div><div class=\"e0ed09a1-ee0e-4813-8781-3bcc4519898c\" style=\"display: none;\"><div style=\"display: table-cell;\"></div><div style=\"display: table-cell;\">selection_glyph&nbsp;=&nbsp;None,</div></div><div class=\"e0ed09a1-ee0e-4813-8781-3bcc4519898c\" style=\"display: none;\"><div style=\"display: table-cell;\"></div><div style=\"display: table-cell;\">subscribed_events&nbsp;=&nbsp;[],</div></div><div class=\"e0ed09a1-ee0e-4813-8781-3bcc4519898c\" style=\"display: none;\"><div style=\"display: table-cell;\"></div><div style=\"display: table-cell;\">tags&nbsp;=&nbsp;[],</div></div><div class=\"e0ed09a1-ee0e-4813-8781-3bcc4519898c\" style=\"display: none;\"><div style=\"display: table-cell;\"></div><div style=\"display: table-cell;\">view&nbsp;=&nbsp;CDSView(id='0f50aeb2-bcbb-4e98-801e-55c02d29359c', ...),</div></div><div class=\"e0ed09a1-ee0e-4813-8781-3bcc4519898c\" style=\"display: none;\"><div style=\"display: table-cell;\"></div><div style=\"display: table-cell;\">visible&nbsp;=&nbsp;True,</div></div><div class=\"e0ed09a1-ee0e-4813-8781-3bcc4519898c\" style=\"display: none;\"><div style=\"display: table-cell;\"></div><div style=\"display: table-cell;\">x_range_name&nbsp;=&nbsp;'default',</div></div><div class=\"e0ed09a1-ee0e-4813-8781-3bcc4519898c\" style=\"display: none;\"><div style=\"display: table-cell;\"></div><div style=\"display: table-cell;\">y_range_name&nbsp;=&nbsp;'default')</div></div></div>\n",
       "<script>\n",
       "(function() {\n",
       "  var expanded = false;\n",
       "  var ellipsis = document.getElementById(\"e7bbd6fd-bd44-450e-b03a-3ef86e5c3d9a\");\n",
       "  ellipsis.addEventListener(\"click\", function() {\n",
       "    var rows = document.getElementsByClassName(\"e0ed09a1-ee0e-4813-8781-3bcc4519898c\");\n",
       "    for (var i = 0; i < rows.length; i++) {\n",
       "      var el = rows[i];\n",
       "      el.style.display = expanded ? \"none\" : \"table-row\";\n",
       "    }\n",
       "    ellipsis.innerHTML = expanded ? \"&hellip;)\" : \"&lsaquo;&lsaquo;&lsaquo;\";\n",
       "    expanded = !expanded;\n",
       "  });\n",
       "})();\n",
       "</script>\n"
      ],
      "text/plain": [
       "GlyphRenderer(id='3823deb4-22af-4f39-b938-ef2960ca7c7b', ...)"
      ]
     },
     "execution_count": 11,
     "metadata": {},
     "output_type": "execute_result"
    }
   ],
   "source": [
    "plot_fp = car_plot()\n",
    "classifier_fp = RectangleClassifier(rect_left=classifier.rect_left, \n",
    "                                    rect_right=classifier.rect_right, \n",
    "                                    rect_bottom=160, \n",
    "                                    rect_top=classifier.rect_top)\n",
    "plot_fp.title.text = 'Family Car Example: False Positive. Loss: ' + \\\n",
    "                     str(classifier_fp.loss(X, y_one_hot))\n",
    "plot_fp.background_fill_color = '#E6E6FE'\n",
    "plot_fp.quad(left=classifier_fp.rect_left, right=classifier_fp.rect_right, \n",
    "             bottom=classifier_fp.rect_bottom, top=classifier_fp.rect_top,\n",
    "             color='#FEE6E6', level='underlay')"
   ]
  },
  {
   "cell_type": "code",
   "execution_count": 12,
   "metadata": {
    "slideshow": {
     "slide_type": "subslide"
    }
   },
   "outputs": [
    {
     "data": {
      "text/html": [
       "\n",
       "<div class=\"bk-root\">\n",
       "    <div class=\"bk-plotdiv\" id=\"6350d58c-2b2f-4cd8-9ee9-1a3f05240c5b\"></div>\n",
       "</div>"
      ]
     },
     "metadata": {},
     "output_type": "display_data"
    },
    {
     "data": {
      "application/javascript": [
       "(function(root) {\n",
       "  function embed_document(root) {\n",
       "    \n",
       "  var docs_json = {\"ea397b23-829a-4f77-8b66-d93770787f03\":{\"roots\":{\"references\":[{\"attributes\":{},\"id\":\"70356a11-e7bd-4055-8061-7ecae535e5f5\",\"type\":\"BasicTickFormatter\"},{\"attributes\":{\"callback\":null,\"column_names\":[\"x\",\"y\"],\"data\":{\"x\":[25000,20000,30000,25000],\"y\":[300,200,250,200]}},\"id\":\"a196f652-f102-47bf-b962-614fc543d99e\",\"type\":\"ColumnDataSource\"},{\"attributes\":{\"bottom_units\":\"screen\",\"fill_alpha\":{\"value\":0.5},\"fill_color\":{\"value\":\"lightgrey\"},\"left_units\":\"screen\",\"level\":\"overlay\",\"line_alpha\":{\"value\":1.0},\"line_color\":{\"value\":\"black\"},\"line_dash\":[4,4],\"line_width\":{\"value\":2},\"plot\":null,\"render_mode\":\"css\",\"right_units\":\"screen\",\"top_units\":\"screen\"},\"id\":\"544bfe7b-307a-4636-a511-48c9f6954cfe\",\"type\":\"BoxAnnotation\"},{\"attributes\":{},\"id\":\"47dbdae6-8c4d-4c65-834b-c580290db0fe\",\"type\":\"PanTool\"},{\"attributes\":{\"source\":{\"id\":\"a196f652-f102-47bf-b962-614fc543d99e\",\"type\":\"ColumnDataSource\"}},\"id\":\"e78562c4-175c-4e61-a5ba-7fa2fd9417f4\",\"type\":\"CDSView\"},{\"attributes\":{},\"id\":\"a263ed49-b156-4651-b897-34e5f3bb0969\",\"type\":\"WheelZoomTool\"},{\"attributes\":{\"overlay\":{\"id\":\"544bfe7b-307a-4636-a511-48c9f6954cfe\",\"type\":\"BoxAnnotation\"}},\"id\":\"5ce169ba-32d2-44c5-bdf5-bcadc33e7562\",\"type\":\"BoxZoomTool\"},{\"attributes\":{},\"id\":\"265bd7f9-3af3-4f63-9678-e8ed25c79987\",\"type\":\"SaveTool\"},{\"attributes\":{},\"id\":\"7ea58160-8957-4d63-919a-a92631658ace\",\"type\":\"ResetTool\"},{\"attributes\":{},\"id\":\"63a9291a-0d2b-4a34-bac0-c83b590d034c\",\"type\":\"HelpTool\"},{\"attributes\":{\"fill_alpha\":{\"value\":0.3333},\"fill_color\":{\"value\":\"blue\"},\"line_color\":{\"value\":\"blue\"},\"size\":{\"units\":\"screen\",\"value\":10},\"x\":{\"field\":\"x\"},\"y\":{\"field\":\"y\"}},\"id\":\"94ea3b1d-15bc-4ec9-a8a7-fff24a812ccb\",\"type\":\"Circle\"},{\"attributes\":{\"background_fill_color\":{\"value\":\"#000000\"},\"items\":[{\"id\":\"1f822850-b120-4c99-a249-36e59aacd6fc\",\"type\":\"LegendItem\"},{\"id\":\"45c9d3a7-39a4-455f-82c1-1851c0efae7f\",\"type\":\"LegendItem\"}],\"label_text_color\":{\"value\":\"#CCCCCC\"},\"plot\":{\"id\":\"a926749a-09e5-4d3c-bea7-0d041ffbb92e\",\"subtype\":\"Figure\",\"type\":\"Plot\"}},\"id\":\"177adbb1-b2a9-4405-84f1-644a84ba8cb6\",\"type\":\"Legend\"},{\"attributes\":{},\"id\":\"5f839238-ce3a-417c-8bf8-1463f9cee21a\",\"type\":\"BasicTickFormatter\"},{\"attributes\":{\"label\":{\"value\":\"family car\"},\"renderers\":[{\"id\":\"68dad29a-df17-4ed8-bcf1-14a1db8dff59\",\"type\":\"GlyphRenderer\"}]},\"id\":\"1f822850-b120-4c99-a249-36e59aacd6fc\",\"type\":\"LegendItem\"},{\"attributes\":{\"callback\":null,\"data\":{}},\"id\":\"e6270800-049f-4722-aaa3-54f4d02955c5\",\"type\":\"ColumnDataSource\"},{\"attributes\":{\"fill_alpha\":{\"value\":0.1},\"fill_color\":{\"value\":\"#1f77b4\"},\"line_alpha\":{\"value\":0.1},\"line_color\":{\"value\":\"#1f77b4\"},\"size\":{\"units\":\"screen\",\"value\":10},\"x\":{\"field\":\"x\"},\"y\":{\"field\":\"y\"}},\"id\":\"2e27807c-66ba-4952-b0a1-118e77a86f2b\",\"type\":\"Circle\"},{\"attributes\":{\"callback\":null,\"column_names\":[\"x\",\"y\"],\"data\":{\"x\":[10000,20000,40000,15000,12500,29000],\"y\":[100,400,250,150,250,170]}},\"id\":\"54beaa12-ba92-4fbc-a379-e0cfdfb3f79d\",\"type\":\"ColumnDataSource\"},{\"attributes\":{\"label\":{\"value\":\"not family car\"},\"renderers\":[{\"id\":\"0a0ff843-c482-4aa3-b01c-6b2e9e7e895f\",\"type\":\"GlyphRenderer\"}]},\"id\":\"45c9d3a7-39a4-455f-82c1-1851c0efae7f\",\"type\":\"LegendItem\"},{\"attributes\":{\"source\":{\"id\":\"e6270800-049f-4722-aaa3-54f4d02955c5\",\"type\":\"ColumnDataSource\"}},\"id\":\"0f50aeb2-bcbb-4e98-801e-55c02d29359c\",\"type\":\"CDSView\"},{\"attributes\":{\"data_source\":{\"id\":\"54beaa12-ba92-4fbc-a379-e0cfdfb3f79d\",\"type\":\"ColumnDataSource\"},\"glyph\":{\"id\":\"94ea3b1d-15bc-4ec9-a8a7-fff24a812ccb\",\"type\":\"Circle\"},\"hover_glyph\":null,\"muted_glyph\":null,\"nonselection_glyph\":{\"id\":\"2e27807c-66ba-4952-b0a1-118e77a86f2b\",\"type\":\"Circle\"},\"selection_glyph\":null,\"view\":{\"id\":\"165d887e-f16c-44fa-bd5a-8389cf89a53e\",\"type\":\"CDSView\"}},\"id\":\"0a0ff843-c482-4aa3-b01c-6b2e9e7e895f\",\"type\":\"GlyphRenderer\"},{\"attributes\":{\"background_fill_alpha\":{\"value\":0},\"background_fill_color\":{\"value\":\"#E6E6FE\"},\"below\":[{\"id\":\"2bcf3031-0823-45c8-8f61-fcb332f9f90d\",\"type\":\"LinearAxis\"}],\"border_fill_alpha\":{\"value\":0},\"left\":[{\"id\":\"c847db10-fd8f-4170-8b66-22c9335d313a\",\"type\":\"LinearAxis\"}],\"min_border\":null,\"outline_line_color\":{\"value\":\"#333333\"},\"plot_height\":300,\"plot_width\":400,\"renderers\":[{\"id\":\"2bcf3031-0823-45c8-8f61-fcb332f9f90d\",\"type\":\"LinearAxis\"},{\"id\":\"f328ad04-ff61-42db-ad4d-dcab3243827a\",\"type\":\"Grid\"},{\"id\":\"c847db10-fd8f-4170-8b66-22c9335d313a\",\"type\":\"LinearAxis\"},{\"id\":\"d1785c29-7b7a-4e42-bc20-6a5de034e2f4\",\"type\":\"Grid\"},{\"id\":\"544bfe7b-307a-4636-a511-48c9f6954cfe\",\"type\":\"BoxAnnotation\"},{\"id\":\"177adbb1-b2a9-4405-84f1-644a84ba8cb6\",\"type\":\"Legend\"},{\"id\":\"68dad29a-df17-4ed8-bcf1-14a1db8dff59\",\"type\":\"GlyphRenderer\"},{\"id\":\"0a0ff843-c482-4aa3-b01c-6b2e9e7e895f\",\"type\":\"GlyphRenderer\"},{\"id\":\"3823deb4-22af-4f39-b938-ef2960ca7c7b\",\"type\":\"GlyphRenderer\"}],\"title\":{\"id\":\"dee9cbec-0093-4548-85dc-f112dd7965b0\",\"type\":\"Title\"},\"toolbar\":{\"id\":\"ddac8022-deaf-4c46-8507-e4bc38f394bd\",\"type\":\"Toolbar\"},\"toolbar_location\":null,\"x_range\":{\"id\":\"15bc1977-6260-4283-99ac-5c08495e6db3\",\"type\":\"DataRange1d\"},\"x_scale\":{\"id\":\"4ebb1a55-f34b-4e9d-bf70-4c5637a10994\",\"type\":\"LinearScale\"},\"y_range\":{\"id\":\"50d997c3-272a-47b4-89dc-4be38c543df2\",\"type\":\"DataRange1d\"},\"y_scale\":{\"id\":\"c09c745e-179e-480d-b58d-8722fc3fde15\",\"type\":\"LinearScale\"}},\"id\":\"a926749a-09e5-4d3c-bea7-0d041ffbb92e\",\"subtype\":\"Figure\",\"type\":\"Plot\"},{\"attributes\":{\"source\":{\"id\":\"54beaa12-ba92-4fbc-a379-e0cfdfb3f79d\",\"type\":\"ColumnDataSource\"}},\"id\":\"165d887e-f16c-44fa-bd5a-8389cf89a53e\",\"type\":\"CDSView\"},{\"attributes\":{\"data_source\":{\"id\":\"a196f652-f102-47bf-b962-614fc543d99e\",\"type\":\"ColumnDataSource\"},\"glyph\":{\"id\":\"b4a9902f-eee6-47ae-be51-75095049321f\",\"type\":\"Circle\"},\"hover_glyph\":null,\"muted_glyph\":null,\"nonselection_glyph\":{\"id\":\"6023de66-729e-45a9-a661-7df1bd24d0ba\",\"type\":\"Circle\"},\"selection_glyph\":null,\"view\":{\"id\":\"e78562c4-175c-4e61-a5ba-7fa2fd9417f4\",\"type\":\"CDSView\"}},\"id\":\"68dad29a-df17-4ed8-bcf1-14a1db8dff59\",\"type\":\"GlyphRenderer\"},{\"attributes\":{\"data_source\":{\"id\":\"e6270800-049f-4722-aaa3-54f4d02955c5\",\"type\":\"ColumnDataSource\"},\"glyph\":{\"id\":\"3458c5eb-26b6-4474-abb4-fffcfd7def2a\",\"type\":\"Quad\"},\"hover_glyph\":null,\"level\":\"underlay\",\"muted_glyph\":null,\"nonselection_glyph\":{\"id\":\"139f010e-0e65-4a19-bb5c-2a0c4fc72ff8\",\"type\":\"Quad\"},\"selection_glyph\":null,\"view\":{\"id\":\"0f50aeb2-bcbb-4e98-801e-55c02d29359c\",\"type\":\"CDSView\"}},\"id\":\"3823deb4-22af-4f39-b938-ef2960ca7c7b\",\"type\":\"GlyphRenderer\"},{\"attributes\":{\"plot\":null,\"text\":\"Family Car Example: False Positive. Loss: 1\",\"text_color\":{\"value\":\"white\"}},\"id\":\"dee9cbec-0093-4548-85dc-f112dd7965b0\",\"type\":\"Title\"},{\"attributes\":{\"bottom\":{\"value\":160},\"fill_color\":{\"value\":\"#FEE6E6\"},\"left\":{\"value\":17500.0},\"line_color\":{\"value\":\"#FEE6E6\"},\"right\":{\"value\":35000.0},\"top\":{\"value\":350.0}},\"id\":\"3458c5eb-26b6-4474-abb4-fffcfd7def2a\",\"type\":\"Quad\"},{\"attributes\":{\"callback\":null},\"id\":\"15bc1977-6260-4283-99ac-5c08495e6db3\",\"type\":\"DataRange1d\"},{\"attributes\":{\"active_drag\":\"auto\",\"active_inspect\":\"auto\",\"active_scroll\":\"auto\",\"active_tap\":\"auto\",\"tools\":[{\"id\":\"47dbdae6-8c4d-4c65-834b-c580290db0fe\",\"type\":\"PanTool\"},{\"id\":\"a263ed49-b156-4651-b897-34e5f3bb0969\",\"type\":\"WheelZoomTool\"},{\"id\":\"5ce169ba-32d2-44c5-bdf5-bcadc33e7562\",\"type\":\"BoxZoomTool\"},{\"id\":\"265bd7f9-3af3-4f63-9678-e8ed25c79987\",\"type\":\"SaveTool\"},{\"id\":\"7ea58160-8957-4d63-919a-a92631658ace\",\"type\":\"ResetTool\"},{\"id\":\"63a9291a-0d2b-4a34-bac0-c83b590d034c\",\"type\":\"HelpTool\"}]},\"id\":\"ddac8022-deaf-4c46-8507-e4bc38f394bd\",\"type\":\"Toolbar\"},{\"attributes\":{\"fill_alpha\":{\"value\":0.3333},\"fill_color\":{\"value\":\"red\"},\"line_color\":{\"value\":\"red\"},\"size\":{\"units\":\"screen\",\"value\":10},\"x\":{\"field\":\"x\"},\"y\":{\"field\":\"y\"}},\"id\":\"b4a9902f-eee6-47ae-be51-75095049321f\",\"type\":\"Circle\"},{\"attributes\":{},\"id\":\"4ebb1a55-f34b-4e9d-bf70-4c5637a10994\",\"type\":\"LinearScale\"},{\"attributes\":{\"bottom\":{\"value\":160},\"fill_alpha\":{\"value\":0.1},\"fill_color\":{\"value\":\"#1f77b4\"},\"left\":{\"value\":17500.0},\"line_alpha\":{\"value\":0.1},\"line_color\":{\"value\":\"#1f77b4\"},\"right\":{\"value\":35000.0},\"top\":{\"value\":350.0}},\"id\":\"139f010e-0e65-4a19-bb5c-2a0c4fc72ff8\",\"type\":\"Quad\"},{\"attributes\":{\"callback\":null},\"id\":\"50d997c3-272a-47b4-89dc-4be38c543df2\",\"type\":\"DataRange1d\"},{\"attributes\":{},\"id\":\"c09c745e-179e-480d-b58d-8722fc3fde15\",\"type\":\"LinearScale\"},{\"attributes\":{\"grid_line_alpha\":{\"value\":0},\"grid_line_color\":{\"value\":null},\"plot\":{\"id\":\"a926749a-09e5-4d3c-bea7-0d041ffbb92e\",\"subtype\":\"Figure\",\"type\":\"Plot\"},\"ticker\":{\"id\":\"6cc317fb-9041-443a-b1db-a2fe91ac80af\",\"type\":\"BasicTicker\"}},\"id\":\"f328ad04-ff61-42db-ad4d-dcab3243827a\",\"type\":\"Grid\"},{\"attributes\":{\"axis_label\":\"Price (USD)\",\"axis_label_text_color\":{\"value\":\"white\"},\"axis_line_color\":{\"value\":null},\"formatter\":{\"id\":\"70356a11-e7bd-4055-8061-7ecae535e5f5\",\"type\":\"BasicTickFormatter\"},\"major_label_text_color\":{\"value\":\"white\"},\"major_tick_line_color\":{\"value\":null},\"minor_tick_line_color\":{\"value\":null},\"plot\":{\"id\":\"a926749a-09e5-4d3c-bea7-0d041ffbb92e\",\"subtype\":\"Figure\",\"type\":\"Plot\"},\"ticker\":{\"id\":\"6cc317fb-9041-443a-b1db-a2fe91ac80af\",\"type\":\"BasicTicker\"}},\"id\":\"2bcf3031-0823-45c8-8f61-fcb332f9f90d\",\"type\":\"LinearAxis\"},{\"attributes\":{},\"id\":\"6cc317fb-9041-443a-b1db-a2fe91ac80af\",\"type\":\"BasicTicker\"},{\"attributes\":{\"axis_label\":\"Engine Power (hp)\",\"axis_label_text_color\":{\"value\":\"white\"},\"axis_line_color\":{\"value\":null},\"formatter\":{\"id\":\"5f839238-ce3a-417c-8bf8-1463f9cee21a\",\"type\":\"BasicTickFormatter\"},\"major_label_text_color\":{\"value\":\"white\"},\"major_tick_line_color\":{\"value\":null},\"minor_tick_line_color\":{\"value\":null},\"plot\":{\"id\":\"a926749a-09e5-4d3c-bea7-0d041ffbb92e\",\"subtype\":\"Figure\",\"type\":\"Plot\"},\"ticker\":{\"id\":\"4ed8fdc9-03dd-43b3-9f72-b0f311dc1aa2\",\"type\":\"BasicTicker\"}},\"id\":\"c847db10-fd8f-4170-8b66-22c9335d313a\",\"type\":\"LinearAxis\"},{\"attributes\":{},\"id\":\"4ed8fdc9-03dd-43b3-9f72-b0f311dc1aa2\",\"type\":\"BasicTicker\"},{\"attributes\":{\"dimension\":1,\"grid_line_alpha\":{\"value\":0},\"grid_line_color\":{\"value\":null},\"plot\":{\"id\":\"a926749a-09e5-4d3c-bea7-0d041ffbb92e\",\"subtype\":\"Figure\",\"type\":\"Plot\"},\"ticker\":{\"id\":\"4ed8fdc9-03dd-43b3-9f72-b0f311dc1aa2\",\"type\":\"BasicTicker\"}},\"id\":\"d1785c29-7b7a-4e42-bc20-6a5de034e2f4\",\"type\":\"Grid\"},{\"attributes\":{\"fill_alpha\":{\"value\":0.1},\"fill_color\":{\"value\":\"#1f77b4\"},\"line_alpha\":{\"value\":0.1},\"line_color\":{\"value\":\"#1f77b4\"},\"size\":{\"units\":\"screen\",\"value\":10},\"x\":{\"field\":\"x\"},\"y\":{\"field\":\"y\"}},\"id\":\"6023de66-729e-45a9-a661-7df1bd24d0ba\",\"type\":\"Circle\"}],\"root_ids\":[\"a926749a-09e5-4d3c-bea7-0d041ffbb92e\"]},\"title\":\"Bokeh Application\",\"version\":\"0.12.13\"}};\n",
       "  var render_items = [{\"docid\":\"ea397b23-829a-4f77-8b66-d93770787f03\",\"elementid\":\"6350d58c-2b2f-4cd8-9ee9-1a3f05240c5b\",\"modelid\":\"a926749a-09e5-4d3c-bea7-0d041ffbb92e\"}];\n",
       "  root.Bokeh.embed.embed_items_notebook(docs_json, render_items);\n",
       "\n",
       "  }\n",
       "  if (root.Bokeh !== undefined) {\n",
       "    embed_document(root);\n",
       "  } else {\n",
       "    var attempts = 0;\n",
       "    var timer = setInterval(function(root) {\n",
       "      if (root.Bokeh !== undefined) {\n",
       "        embed_document(root);\n",
       "        clearInterval(timer);\n",
       "      }\n",
       "      attempts++;\n",
       "      if (attempts > 100) {\n",
       "        console.log(\"Bokeh: ERROR: Unable to run BokehJS code because BokehJS library is missing\")\n",
       "        clearInterval(timer);\n",
       "      }\n",
       "    }, 10, root)\n",
       "  }\n",
       "})(window);"
      ],
      "application/vnd.bokehjs_exec.v0+json": ""
     },
     "metadata": {
      "application/vnd.bokehjs_exec.v0+json": {
       "id": "a926749a-09e5-4d3c-bea7-0d041ffbb92e"
      }
     },
     "output_type": "display_data"
    }
   ],
   "source": [
    "show(plot_fp)"
   ]
  },
  {
   "cell_type": "code",
   "execution_count": 13,
   "metadata": {
    "slideshow": {
     "slide_type": "skip"
    }
   },
   "outputs": [
    {
     "data": {
      "text/html": [
       "<div style=\"display: table;\"><div style=\"display: table-row;\"><div style=\"display: table-cell;\"><b title=\"bokeh.models.renderers.GlyphRenderer\">GlyphRenderer</b>(</div><div style=\"display: table-cell;\">id&nbsp;=&nbsp;'b845e06b-7eb1-4359-8774-25311c1b0f23', <span id=\"8d48addd-a79b-4c54-8d90-196295e99351\" style=\"cursor: pointer;\">&hellip;)</span></div></div><div class=\"0430960f-e8ce-4b44-8372-6dc8eb347516\" style=\"display: none;\"><div style=\"display: table-cell;\"></div><div style=\"display: table-cell;\">data_source&nbsp;=&nbsp;ColumnDataSource(id='45353004-b8a8-413a-a2b9-85b57622ed35', ...),</div></div><div class=\"0430960f-e8ce-4b44-8372-6dc8eb347516\" style=\"display: none;\"><div style=\"display: table-cell;\"></div><div style=\"display: table-cell;\">glyph&nbsp;=&nbsp;Quad(id='79769506-8f60-4082-bef9-be5d3589613e', ...),</div></div><div class=\"0430960f-e8ce-4b44-8372-6dc8eb347516\" style=\"display: none;\"><div style=\"display: table-cell;\"></div><div style=\"display: table-cell;\">hover_glyph&nbsp;=&nbsp;None,</div></div><div class=\"0430960f-e8ce-4b44-8372-6dc8eb347516\" style=\"display: none;\"><div style=\"display: table-cell;\"></div><div style=\"display: table-cell;\">js_event_callbacks&nbsp;=&nbsp;{},</div></div><div class=\"0430960f-e8ce-4b44-8372-6dc8eb347516\" style=\"display: none;\"><div style=\"display: table-cell;\"></div><div style=\"display: table-cell;\">js_property_callbacks&nbsp;=&nbsp;{},</div></div><div class=\"0430960f-e8ce-4b44-8372-6dc8eb347516\" style=\"display: none;\"><div style=\"display: table-cell;\"></div><div style=\"display: table-cell;\">level&nbsp;=&nbsp;'underlay',</div></div><div class=\"0430960f-e8ce-4b44-8372-6dc8eb347516\" style=\"display: none;\"><div style=\"display: table-cell;\"></div><div style=\"display: table-cell;\">muted&nbsp;=&nbsp;False,</div></div><div class=\"0430960f-e8ce-4b44-8372-6dc8eb347516\" style=\"display: none;\"><div style=\"display: table-cell;\"></div><div style=\"display: table-cell;\">muted_glyph&nbsp;=&nbsp;None,</div></div><div class=\"0430960f-e8ce-4b44-8372-6dc8eb347516\" style=\"display: none;\"><div style=\"display: table-cell;\"></div><div style=\"display: table-cell;\">name&nbsp;=&nbsp;None,</div></div><div class=\"0430960f-e8ce-4b44-8372-6dc8eb347516\" style=\"display: none;\"><div style=\"display: table-cell;\"></div><div style=\"display: table-cell;\">nonselection_glyph&nbsp;=&nbsp;Quad(id='8cd03c44-2ac7-4636-864e-fc2fcdc3fa65', ...),</div></div><div class=\"0430960f-e8ce-4b44-8372-6dc8eb347516\" style=\"display: none;\"><div style=\"display: table-cell;\"></div><div style=\"display: table-cell;\">selection_glyph&nbsp;=&nbsp;None,</div></div><div class=\"0430960f-e8ce-4b44-8372-6dc8eb347516\" style=\"display: none;\"><div style=\"display: table-cell;\"></div><div style=\"display: table-cell;\">subscribed_events&nbsp;=&nbsp;[],</div></div><div class=\"0430960f-e8ce-4b44-8372-6dc8eb347516\" style=\"display: none;\"><div style=\"display: table-cell;\"></div><div style=\"display: table-cell;\">tags&nbsp;=&nbsp;[],</div></div><div class=\"0430960f-e8ce-4b44-8372-6dc8eb347516\" style=\"display: none;\"><div style=\"display: table-cell;\"></div><div style=\"display: table-cell;\">view&nbsp;=&nbsp;CDSView(id='2fb23493-5f47-4e86-9eee-c98c5b504812', ...),</div></div><div class=\"0430960f-e8ce-4b44-8372-6dc8eb347516\" style=\"display: none;\"><div style=\"display: table-cell;\"></div><div style=\"display: table-cell;\">visible&nbsp;=&nbsp;True,</div></div><div class=\"0430960f-e8ce-4b44-8372-6dc8eb347516\" style=\"display: none;\"><div style=\"display: table-cell;\"></div><div style=\"display: table-cell;\">x_range_name&nbsp;=&nbsp;'default',</div></div><div class=\"0430960f-e8ce-4b44-8372-6dc8eb347516\" style=\"display: none;\"><div style=\"display: table-cell;\"></div><div style=\"display: table-cell;\">y_range_name&nbsp;=&nbsp;'default')</div></div></div>\n",
       "<script>\n",
       "(function() {\n",
       "  var expanded = false;\n",
       "  var ellipsis = document.getElementById(\"8d48addd-a79b-4c54-8d90-196295e99351\");\n",
       "  ellipsis.addEventListener(\"click\", function() {\n",
       "    var rows = document.getElementsByClassName(\"0430960f-e8ce-4b44-8372-6dc8eb347516\");\n",
       "    for (var i = 0; i < rows.length; i++) {\n",
       "      var el = rows[i];\n",
       "      el.style.display = expanded ? \"none\" : \"table-row\";\n",
       "    }\n",
       "    ellipsis.innerHTML = expanded ? \"&hellip;)\" : \"&lsaquo;&lsaquo;&lsaquo;\";\n",
       "    expanded = !expanded;\n",
       "  });\n",
       "})();\n",
       "</script>\n"
      ],
      "text/plain": [
       "GlyphRenderer(id='b845e06b-7eb1-4359-8774-25311c1b0f23', ...)"
      ]
     },
     "execution_count": 13,
     "metadata": {},
     "output_type": "execute_result"
    }
   ],
   "source": [
    "plot_fn = car_plot()\n",
    "classifier_fn = RectangleClassifier(rect_left=classifier.rect_left, \n",
    "                                    rect_right=classifier.rect_right, \n",
    "                                    rect_bottom=classifier.rect_bottom, \n",
    "                                    rect_top=280)\n",
    "plot_fn.title.text = 'Family Car Example: False Negative. Loss: ' + \\\n",
    "                     str(classifier_fn.loss(X, y_one_hot))\n",
    "plot_fn.background_fill_color = '#E6E6FE'\n",
    "plot_fn.quad(left=classifier_fn.rect_left, right=classifier_fn.rect_right, \n",
    "             bottom=classifier_fn.rect_bottom, top=classifier_fn.rect_top,\n",
    "             color='#FEE6E6', level='underlay')"
   ]
  },
  {
   "cell_type": "code",
   "execution_count": 14,
   "metadata": {
    "slideshow": {
     "slide_type": "subslide"
    }
   },
   "outputs": [
    {
     "data": {
      "text/html": [
       "\n",
       "<div class=\"bk-root\">\n",
       "    <div class=\"bk-plotdiv\" id=\"ff4b60a1-bef2-47af-ab1c-3a4fc6f6546e\"></div>\n",
       "</div>"
      ]
     },
     "metadata": {},
     "output_type": "display_data"
    },
    {
     "data": {
      "application/javascript": [
       "(function(root) {\n",
       "  function embed_document(root) {\n",
       "    \n",
       "  var docs_json = {\"00471675-b6d8-4ff6-9a20-e23304669c05\":{\"roots\":{\"references\":[{\"attributes\":{\"bottom\":{\"value\":185.0},\"fill_color\":{\"value\":\"#FEE6E6\"},\"left\":{\"value\":17500.0},\"line_color\":{\"value\":\"#FEE6E6\"},\"right\":{\"value\":35000.0},\"top\":{\"value\":280}},\"id\":\"79769506-8f60-4082-bef9-be5d3589613e\",\"type\":\"Quad\"},{\"attributes\":{\"fill_alpha\":{\"value\":0.1},\"fill_color\":{\"value\":\"#1f77b4\"},\"line_alpha\":{\"value\":0.1},\"line_color\":{\"value\":\"#1f77b4\"},\"size\":{\"units\":\"screen\",\"value\":10},\"x\":{\"field\":\"x\"},\"y\":{\"field\":\"y\"}},\"id\":\"6a001af2-5fad-477a-8a38-134cb9e26d49\",\"type\":\"Circle\"},{\"attributes\":{},\"id\":\"ae3a1279-8528-4f18-b113-e18df908f66a\",\"type\":\"LinearScale\"},{\"attributes\":{\"active_drag\":\"auto\",\"active_inspect\":\"auto\",\"active_scroll\":\"auto\",\"active_tap\":\"auto\",\"tools\":[{\"id\":\"25c03564-4c38-44f3-99c5-9ae4beb4f4ed\",\"type\":\"PanTool\"},{\"id\":\"15a7bf6f-5cd6-4bd1-962d-9227561c9c69\",\"type\":\"WheelZoomTool\"},{\"id\":\"7d68d2d9-afcc-42d7-86a1-6b898aa2e9c0\",\"type\":\"BoxZoomTool\"},{\"id\":\"f24dffca-0326-419c-afab-25da60e2a068\",\"type\":\"SaveTool\"},{\"id\":\"447a1ee0-60b4-407a-977f-568c39dca981\",\"type\":\"ResetTool\"},{\"id\":\"835c417b-4ba9-40c5-8036-b248ce02c3ac\",\"type\":\"HelpTool\"}]},\"id\":\"572f812f-563a-4159-a211-a415df8c16bd\",\"type\":\"Toolbar\"},{\"attributes\":{\"callback\":null},\"id\":\"0a355923-2376-4c6f-a287-53ac42a622ff\",\"type\":\"DataRange1d\"},{\"attributes\":{},\"id\":\"094f4006-2fad-44bc-9964-0620e8d258c8\",\"type\":\"LinearScale\"},{\"attributes\":{\"bottom\":{\"value\":185.0},\"fill_alpha\":{\"value\":0.1},\"fill_color\":{\"value\":\"#1f77b4\"},\"left\":{\"value\":17500.0},\"line_alpha\":{\"value\":0.1},\"line_color\":{\"value\":\"#1f77b4\"},\"right\":{\"value\":35000.0},\"top\":{\"value\":280}},\"id\":\"8cd03c44-2ac7-4636-864e-fc2fcdc3fa65\",\"type\":\"Quad\"},{\"attributes\":{\"grid_line_alpha\":{\"value\":0},\"grid_line_color\":{\"value\":null},\"plot\":{\"id\":\"cbed8e4d-89af-43cf-9729-6c2bf227f147\",\"subtype\":\"Figure\",\"type\":\"Plot\"},\"ticker\":{\"id\":\"dab71b4a-0433-40fd-8f66-6e93d29ecd28\",\"type\":\"BasicTicker\"}},\"id\":\"c719f51a-6c87-4522-94a9-bbd1e32cecd2\",\"type\":\"Grid\"},{\"attributes\":{\"axis_label\":\"Price (USD)\",\"axis_label_text_color\":{\"value\":\"white\"},\"axis_line_color\":{\"value\":null},\"formatter\":{\"id\":\"254096ac-9f94-45f8-ab78-6bcb79602556\",\"type\":\"BasicTickFormatter\"},\"major_label_text_color\":{\"value\":\"white\"},\"major_tick_line_color\":{\"value\":null},\"minor_tick_line_color\":{\"value\":null},\"plot\":{\"id\":\"cbed8e4d-89af-43cf-9729-6c2bf227f147\",\"subtype\":\"Figure\",\"type\":\"Plot\"},\"ticker\":{\"id\":\"dab71b4a-0433-40fd-8f66-6e93d29ecd28\",\"type\":\"BasicTicker\"}},\"id\":\"8e57c4d5-3e21-4d89-ba59-0488e8457e23\",\"type\":\"LinearAxis\"},{\"attributes\":{},\"id\":\"dab71b4a-0433-40fd-8f66-6e93d29ecd28\",\"type\":\"BasicTicker\"},{\"attributes\":{\"callback\":null},\"id\":\"d5f9de59-9920-4984-9f82-a13a2434975b\",\"type\":\"DataRange1d\"},{\"attributes\":{\"axis_label\":\"Engine Power (hp)\",\"axis_label_text_color\":{\"value\":\"white\"},\"axis_line_color\":{\"value\":null},\"formatter\":{\"id\":\"957bac45-c265-40af-9aa0-7b6e299439dc\",\"type\":\"BasicTickFormatter\"},\"major_label_text_color\":{\"value\":\"white\"},\"major_tick_line_color\":{\"value\":null},\"minor_tick_line_color\":{\"value\":null},\"plot\":{\"id\":\"cbed8e4d-89af-43cf-9729-6c2bf227f147\",\"subtype\":\"Figure\",\"type\":\"Plot\"},\"ticker\":{\"id\":\"0671d4ac-bb5d-4402-9685-5ddbab7f74a9\",\"type\":\"BasicTicker\"}},\"id\":\"10eee697-0240-4bde-a169-0e99059ba7cb\",\"type\":\"LinearAxis\"},{\"attributes\":{},\"id\":\"0671d4ac-bb5d-4402-9685-5ddbab7f74a9\",\"type\":\"BasicTicker\"},{\"attributes\":{\"dimension\":1,\"grid_line_alpha\":{\"value\":0},\"grid_line_color\":{\"value\":null},\"plot\":{\"id\":\"cbed8e4d-89af-43cf-9729-6c2bf227f147\",\"subtype\":\"Figure\",\"type\":\"Plot\"},\"ticker\":{\"id\":\"0671d4ac-bb5d-4402-9685-5ddbab7f74a9\",\"type\":\"BasicTicker\"}},\"id\":\"90fe5149-6301-4a08-b2bf-4e6f15e2809b\",\"type\":\"Grid\"},{\"attributes\":{\"callback\":null,\"column_names\":[\"x\",\"y\"],\"data\":{\"x\":[25000,20000,30000,25000],\"y\":[300,200,250,200]}},\"id\":\"495dcb68-0b34-4ae2-ac8d-4ee582d8bce7\",\"type\":\"ColumnDataSource\"},{\"attributes\":{\"background_fill_alpha\":{\"value\":0},\"background_fill_color\":{\"value\":\"#E6E6FE\"},\"below\":[{\"id\":\"8e57c4d5-3e21-4d89-ba59-0488e8457e23\",\"type\":\"LinearAxis\"}],\"border_fill_alpha\":{\"value\":0},\"left\":[{\"id\":\"10eee697-0240-4bde-a169-0e99059ba7cb\",\"type\":\"LinearAxis\"}],\"min_border\":null,\"outline_line_color\":{\"value\":\"#333333\"},\"plot_height\":300,\"plot_width\":400,\"renderers\":[{\"id\":\"8e57c4d5-3e21-4d89-ba59-0488e8457e23\",\"type\":\"LinearAxis\"},{\"id\":\"c719f51a-6c87-4522-94a9-bbd1e32cecd2\",\"type\":\"Grid\"},{\"id\":\"10eee697-0240-4bde-a169-0e99059ba7cb\",\"type\":\"LinearAxis\"},{\"id\":\"90fe5149-6301-4a08-b2bf-4e6f15e2809b\",\"type\":\"Grid\"},{\"id\":\"ca2d4fdb-1a18-4c77-861a-eb9c567c323c\",\"type\":\"BoxAnnotation\"},{\"id\":\"2aa5d278-33ed-451e-8bca-46c2fbd6459d\",\"type\":\"Legend\"},{\"id\":\"f69b258c-47cf-41bc-a045-f97d8b28bf8d\",\"type\":\"GlyphRenderer\"},{\"id\":\"461c71c7-cd04-4ca1-9930-3bc71f996047\",\"type\":\"GlyphRenderer\"},{\"id\":\"b845e06b-7eb1-4359-8774-25311c1b0f23\",\"type\":\"GlyphRenderer\"}],\"title\":{\"id\":\"f26d67db-a629-4966-b4b7-e2c18c43d5a0\",\"type\":\"Title\"},\"toolbar\":{\"id\":\"572f812f-563a-4159-a211-a415df8c16bd\",\"type\":\"Toolbar\"},\"toolbar_location\":null,\"x_range\":{\"id\":\"d5f9de59-9920-4984-9f82-a13a2434975b\",\"type\":\"DataRange1d\"},\"x_scale\":{\"id\":\"ae3a1279-8528-4f18-b113-e18df908f66a\",\"type\":\"LinearScale\"},\"y_range\":{\"id\":\"0a355923-2376-4c6f-a287-53ac42a622ff\",\"type\":\"DataRange1d\"},\"y_scale\":{\"id\":\"094f4006-2fad-44bc-9964-0620e8d258c8\",\"type\":\"LinearScale\"}},\"id\":\"cbed8e4d-89af-43cf-9729-6c2bf227f147\",\"subtype\":\"Figure\",\"type\":\"Plot\"},{\"attributes\":{\"data_source\":{\"id\":\"495dcb68-0b34-4ae2-ac8d-4ee582d8bce7\",\"type\":\"ColumnDataSource\"},\"glyph\":{\"id\":\"66f4411d-74fa-43be-86ad-d31419a1a61f\",\"type\":\"Circle\"},\"hover_glyph\":null,\"muted_glyph\":null,\"nonselection_glyph\":{\"id\":\"6a001af2-5fad-477a-8a38-134cb9e26d49\",\"type\":\"Circle\"},\"selection_glyph\":null,\"view\":{\"id\":\"08c67e88-b64e-43bd-b897-4ac2620f92b8\",\"type\":\"CDSView\"}},\"id\":\"f69b258c-47cf-41bc-a045-f97d8b28bf8d\",\"type\":\"GlyphRenderer\"},{\"attributes\":{\"fill_alpha\":{\"value\":0.3333},\"fill_color\":{\"value\":\"red\"},\"line_color\":{\"value\":\"red\"},\"size\":{\"units\":\"screen\",\"value\":10},\"x\":{\"field\":\"x\"},\"y\":{\"field\":\"y\"}},\"id\":\"66f4411d-74fa-43be-86ad-d31419a1a61f\",\"type\":\"Circle\"},{\"attributes\":{},\"id\":\"254096ac-9f94-45f8-ab78-6bcb79602556\",\"type\":\"BasicTickFormatter\"},{\"attributes\":{\"bottom_units\":\"screen\",\"fill_alpha\":{\"value\":0.5},\"fill_color\":{\"value\":\"lightgrey\"},\"left_units\":\"screen\",\"level\":\"overlay\",\"line_alpha\":{\"value\":1.0},\"line_color\":{\"value\":\"black\"},\"line_dash\":[4,4],\"line_width\":{\"value\":2},\"plot\":null,\"render_mode\":\"css\",\"right_units\":\"screen\",\"top_units\":\"screen\"},\"id\":\"ca2d4fdb-1a18-4c77-861a-eb9c567c323c\",\"type\":\"BoxAnnotation\"},{\"attributes\":{},\"id\":\"25c03564-4c38-44f3-99c5-9ae4beb4f4ed\",\"type\":\"PanTool\"},{\"attributes\":{\"source\":{\"id\":\"495dcb68-0b34-4ae2-ac8d-4ee582d8bce7\",\"type\":\"ColumnDataSource\"}},\"id\":\"08c67e88-b64e-43bd-b897-4ac2620f92b8\",\"type\":\"CDSView\"},{\"attributes\":{\"plot\":null,\"text\":\"Family Car Example: False Negative. Loss: 1\",\"text_color\":{\"value\":\"white\"}},\"id\":\"f26d67db-a629-4966-b4b7-e2c18c43d5a0\",\"type\":\"Title\"},{\"attributes\":{},\"id\":\"15a7bf6f-5cd6-4bd1-962d-9227561c9c69\",\"type\":\"WheelZoomTool\"},{\"attributes\":{\"overlay\":{\"id\":\"ca2d4fdb-1a18-4c77-861a-eb9c567c323c\",\"type\":\"BoxAnnotation\"}},\"id\":\"7d68d2d9-afcc-42d7-86a1-6b898aa2e9c0\",\"type\":\"BoxZoomTool\"},{\"attributes\":{},\"id\":\"f24dffca-0326-419c-afab-25da60e2a068\",\"type\":\"SaveTool\"},{\"attributes\":{},\"id\":\"447a1ee0-60b4-407a-977f-568c39dca981\",\"type\":\"ResetTool\"},{\"attributes\":{},\"id\":\"835c417b-4ba9-40c5-8036-b248ce02c3ac\",\"type\":\"HelpTool\"},{\"attributes\":{\"fill_alpha\":{\"value\":0.3333},\"fill_color\":{\"value\":\"blue\"},\"line_color\":{\"value\":\"blue\"},\"size\":{\"units\":\"screen\",\"value\":10},\"x\":{\"field\":\"x\"},\"y\":{\"field\":\"y\"}},\"id\":\"567d51c2-ffe7-478d-ac92-51ae71e993fe\",\"type\":\"Circle\"},{\"attributes\":{\"background_fill_color\":{\"value\":\"#000000\"},\"items\":[{\"id\":\"9149bae4-441e-44a3-9929-35e3c325484c\",\"type\":\"LegendItem\"},{\"id\":\"58fe373d-b997-4db3-b519-d22a519e1a32\",\"type\":\"LegendItem\"}],\"label_text_color\":{\"value\":\"#CCCCCC\"},\"plot\":{\"id\":\"cbed8e4d-89af-43cf-9729-6c2bf227f147\",\"subtype\":\"Figure\",\"type\":\"Plot\"}},\"id\":\"2aa5d278-33ed-451e-8bca-46c2fbd6459d\",\"type\":\"Legend\"},{\"attributes\":{},\"id\":\"957bac45-c265-40af-9aa0-7b6e299439dc\",\"type\":\"BasicTickFormatter\"},{\"attributes\":{\"label\":{\"value\":\"family car\"},\"renderers\":[{\"id\":\"f69b258c-47cf-41bc-a045-f97d8b28bf8d\",\"type\":\"GlyphRenderer\"}]},\"id\":\"9149bae4-441e-44a3-9929-35e3c325484c\",\"type\":\"LegendItem\"},{\"attributes\":{\"callback\":null,\"data\":{}},\"id\":\"45353004-b8a8-413a-a2b9-85b57622ed35\",\"type\":\"ColumnDataSource\"},{\"attributes\":{\"fill_alpha\":{\"value\":0.1},\"fill_color\":{\"value\":\"#1f77b4\"},\"line_alpha\":{\"value\":0.1},\"line_color\":{\"value\":\"#1f77b4\"},\"size\":{\"units\":\"screen\",\"value\":10},\"x\":{\"field\":\"x\"},\"y\":{\"field\":\"y\"}},\"id\":\"0e9cd5c5-8ae9-4872-8813-b7413436ab9c\",\"type\":\"Circle\"},{\"attributes\":{\"callback\":null,\"column_names\":[\"x\",\"y\"],\"data\":{\"x\":[10000,20000,40000,15000,12500,29000],\"y\":[100,400,250,150,250,170]}},\"id\":\"6285825f-6b2a-49ba-861f-e947c8250d72\",\"type\":\"ColumnDataSource\"},{\"attributes\":{\"label\":{\"value\":\"not family car\"},\"renderers\":[{\"id\":\"461c71c7-cd04-4ca1-9930-3bc71f996047\",\"type\":\"GlyphRenderer\"}]},\"id\":\"58fe373d-b997-4db3-b519-d22a519e1a32\",\"type\":\"LegendItem\"},{\"attributes\":{\"source\":{\"id\":\"45353004-b8a8-413a-a2b9-85b57622ed35\",\"type\":\"ColumnDataSource\"}},\"id\":\"2fb23493-5f47-4e86-9eee-c98c5b504812\",\"type\":\"CDSView\"},{\"attributes\":{\"data_source\":{\"id\":\"6285825f-6b2a-49ba-861f-e947c8250d72\",\"type\":\"ColumnDataSource\"},\"glyph\":{\"id\":\"567d51c2-ffe7-478d-ac92-51ae71e993fe\",\"type\":\"Circle\"},\"hover_glyph\":null,\"muted_glyph\":null,\"nonselection_glyph\":{\"id\":\"0e9cd5c5-8ae9-4872-8813-b7413436ab9c\",\"type\":\"Circle\"},\"selection_glyph\":null,\"view\":{\"id\":\"cf5009bd-7709-433f-aff8-ab7d007730d7\",\"type\":\"CDSView\"}},\"id\":\"461c71c7-cd04-4ca1-9930-3bc71f996047\",\"type\":\"GlyphRenderer\"},{\"attributes\":{\"source\":{\"id\":\"6285825f-6b2a-49ba-861f-e947c8250d72\",\"type\":\"ColumnDataSource\"}},\"id\":\"cf5009bd-7709-433f-aff8-ab7d007730d7\",\"type\":\"CDSView\"},{\"attributes\":{\"data_source\":{\"id\":\"45353004-b8a8-413a-a2b9-85b57622ed35\",\"type\":\"ColumnDataSource\"},\"glyph\":{\"id\":\"79769506-8f60-4082-bef9-be5d3589613e\",\"type\":\"Quad\"},\"hover_glyph\":null,\"level\":\"underlay\",\"muted_glyph\":null,\"nonselection_glyph\":{\"id\":\"8cd03c44-2ac7-4636-864e-fc2fcdc3fa65\",\"type\":\"Quad\"},\"selection_glyph\":null,\"view\":{\"id\":\"2fb23493-5f47-4e86-9eee-c98c5b504812\",\"type\":\"CDSView\"}},\"id\":\"b845e06b-7eb1-4359-8774-25311c1b0f23\",\"type\":\"GlyphRenderer\"}],\"root_ids\":[\"cbed8e4d-89af-43cf-9729-6c2bf227f147\"]},\"title\":\"Bokeh Application\",\"version\":\"0.12.13\"}};\n",
       "  var render_items = [{\"docid\":\"00471675-b6d8-4ff6-9a20-e23304669c05\",\"elementid\":\"ff4b60a1-bef2-47af-ab1c-3a4fc6f6546e\",\"modelid\":\"cbed8e4d-89af-43cf-9729-6c2bf227f147\"}];\n",
       "  root.Bokeh.embed.embed_items_notebook(docs_json, render_items);\n",
       "\n",
       "  }\n",
       "  if (root.Bokeh !== undefined) {\n",
       "    embed_document(root);\n",
       "  } else {\n",
       "    var attempts = 0;\n",
       "    var timer = setInterval(function(root) {\n",
       "      if (root.Bokeh !== undefined) {\n",
       "        embed_document(root);\n",
       "        clearInterval(timer);\n",
       "      }\n",
       "      attempts++;\n",
       "      if (attempts > 100) {\n",
       "        console.log(\"Bokeh: ERROR: Unable to run BokehJS code because BokehJS library is missing\")\n",
       "        clearInterval(timer);\n",
       "      }\n",
       "    }, 10, root)\n",
       "  }\n",
       "})(window);"
      ],
      "application/vnd.bokehjs_exec.v0+json": ""
     },
     "metadata": {
      "application/vnd.bokehjs_exec.v0+json": {
       "id": "cbed8e4d-89af-43cf-9729-6c2bf227f147"
      }
     },
     "output_type": "display_data"
    }
   ],
   "source": [
    "show(plot_fn)"
   ]
  },
  {
   "cell_type": "markdown",
   "metadata": {
    "slideshow": {
     "slide_type": "slide"
    }
   },
   "source": [
    "# Regression\n",
    "\n",
    "\\\\[{\\cal X} = \\left\\{ {{{\\bf{x}}^t},{r^t}} \\right\\}_{t = 1}^N\\\\]\n",
    "\n",
    "If there is no noise, we want to **interpolate**:\n",
    "\n",
    "\\\\[r^t = f({\\bf{x}}^t)\\\\]\n",
    "\n",
    "In **regression** random noise is assumed to be added to the function: \n",
    "\n",
    "\\\\[r^t = f({\\bf{x}}^t) + \\varepsilon \\\\]\n",
    "\n",
    "Where \\\\(\\varepsilon\\\\) is random Gaussian noise. The explanation for noise is that there are extra hidden (latent) variables \\\\({\\bf{z}}^t\\\\) that we cannot observe:\n",
    "\n",
    "\\\\[r^t = f({\\bf{x}}^t, {\\bf{z}}^t)\\\\]"
   ]
  },
  {
   "cell_type": "code",
   "execution_count": 15,
   "metadata": {
    "slideshow": {
     "slide_type": "skip"
    }
   },
   "outputs": [],
   "source": [
    "class SimpleRegression:\n",
    "    def __init__(self, w=None, b=None):\n",
    "        self.w = w\n",
    "        self.b = b\n",
    "        \n",
    "    def fit(self, x, y):\n",
    "        x_mean = x.mean()\n",
    "        y_mean = y.mean()\n",
    "        N = len(x)\n",
    "        self.w = (np.sum(x * y) - x_mean * y_mean * N) /  \\\n",
    "                 (np.sum(x**2) - N * x_mean**2)\n",
    "        self.b = y_mean - self.w * x_mean\n",
    "        \n",
    "    def predict(self, x):\n",
    "        return (self.w * x) + self.b\n",
    "    \n",
    "    def loss(self, x, y):\n",
    "        prediction = self.predict(x)\n",
    "        loss = (1/len(x)) * np.sqrt(np.sum(((y - prediction)**2)))\n",
    "        return loss"
   ]
  },
  {
   "cell_type": "code",
   "execution_count": 16,
   "metadata": {
    "slideshow": {
     "slide_type": "subslide"
    }
   },
   "outputs": [],
   "source": [
    "x = np.array([0, 5000, 10000, 20000, 40000, 60000, 80000])\n",
    "y = np.array([50000, 45000, 40000, 35000, 30000, 25000, 20000])\n",
    "\n",
    "linear_model = SimpleRegression()\n",
    "linear_model.fit(x, y)"
   ]
  },
  {
   "cell_type": "code",
   "execution_count": 19,
   "metadata": {
    "slideshow": {
     "slide_type": "skip"
    }
   },
   "outputs": [],
   "source": [
    "plot = basic_plot(title='linear regression', xaxis_label='x: Mileage', \n",
    "                  yaxis_label='y: Price')\n",
    "\n",
    "plot.xaxis[0].formatter = NumeralTickFormatter(format='0')\n",
    "plot.y_range = Range1d(0, int(max(y)+5000))\n",
    "plot.scatter(x=x, y=y, size=10)\n",
    "plot.line(x=np.linspace(0,120000,100), \n",
    "          y=linear_model.predict(np.linspace(0,120000,100)), \n",
    "          color=colors[0], line_width=2.5, alpha=0.75,\n",
    "          legend = '1: ' + str(int(linear_model.loss(x, y))));"
   ]
  },
  {
   "cell_type": "code",
   "execution_count": 20,
   "metadata": {
    "slideshow": {
     "slide_type": "subslide"
    }
   },
   "outputs": [
    {
     "data": {
      "text/html": [
       "\n",
       "<div class=\"bk-root\">\n",
       "    <div class=\"bk-plotdiv\" id=\"e1b05108-45fd-4050-af12-6bafa3707434\"></div>\n",
       "</div>"
      ]
     },
     "metadata": {},
     "output_type": "display_data"
    },
    {
     "data": {
      "application/javascript": [
       "(function(root) {\n",
       "  function embed_document(root) {\n",
       "    \n",
       "  var docs_json = {\"cf714075-83ec-4aa4-bd2e-13d48da76d88\":{\"roots\":{\"references\":[{\"attributes\":{\"overlay\":{\"id\":\"7f32326d-b348-4558-9d9d-abc9956e9c3f\",\"type\":\"BoxAnnotation\"}},\"id\":\"cc169c76-90f0-4d06-b834-a160fc84c5f2\",\"type\":\"BoxZoomTool\"},{\"attributes\":{},\"id\":\"50d0c05b-5e23-4ba4-82fd-e52aca214931\",\"type\":\"HelpTool\"},{\"attributes\":{\"label\":{\"value\":\"1: 970\"},\"renderers\":[{\"id\":\"e8c72c5d-2003-435e-94b3-24a2f80e8427\",\"type\":\"GlyphRenderer\"}]},\"id\":\"83af566e-33d4-46c9-969b-86c8799eeb1e\",\"type\":\"LegendItem\"},{\"attributes\":{},\"id\":\"ac6b1667-0349-4fb7-9c65-ce1e0731541e\",\"type\":\"BasicTickFormatter\"},{\"attributes\":{},\"id\":\"36553756-10da-46f9-a7e3-ba0c6b4ab6af\",\"type\":\"ResetTool\"},{\"attributes\":{\"items\":[{\"id\":\"83af566e-33d4-46c9-969b-86c8799eeb1e\",\"type\":\"LegendItem\"}],\"plot\":{\"id\":\"5b5497b5-dc63-4ba9-a40c-49d21cd2527c\",\"subtype\":\"Figure\",\"type\":\"Plot\"}},\"id\":\"8440bfdb-2f4d-4134-a8b2-13356d787ae8\",\"type\":\"Legend\"},{\"attributes\":{\"line_alpha\":0.1,\"line_color\":\"#1f77b4\",\"line_width\":2.5,\"x\":{\"field\":\"x\"},\"y\":{\"field\":\"y\"}},\"id\":\"bbbcf49d-b94f-43fd-96cc-1a3c7c268fb9\",\"type\":\"Line\"},{\"attributes\":{\"line_alpha\":0.75,\"line_color\":\"#3288bd\",\"line_width\":2.5,\"x\":{\"field\":\"x\"},\"y\":{\"field\":\"y\"}},\"id\":\"232208ec-d6a5-42fa-a79b-3c3165b98e6f\",\"type\":\"Line\"},{\"attributes\":{\"axis_label\":\"x: Mileage\",\"axis_label_text_color\":{\"value\":\"white\"},\"axis_line_color\":{\"value\":null},\"formatter\":{\"id\":\"c8eb0237-4bb1-45f9-980d-0d834f3896b3\",\"type\":\"NumeralTickFormatter\"},\"major_label_text_color\":{\"value\":\"white\"},\"major_tick_line_color\":{\"value\":null},\"minor_tick_line_color\":{\"value\":null},\"plot\":{\"id\":\"5b5497b5-dc63-4ba9-a40c-49d21cd2527c\",\"subtype\":\"Figure\",\"type\":\"Plot\"},\"ticker\":{\"id\":\"be72054d-36a7-4072-83ac-e58829633689\",\"type\":\"BasicTicker\"}},\"id\":\"8f4252a5-80ec-4fec-82b1-4bb3cd2d86ce\",\"type\":\"LinearAxis\"},{\"attributes\":{\"data_source\":{\"id\":\"da66904f-bfc8-47bb-b7bf-6cb8993f18ff\",\"type\":\"ColumnDataSource\"},\"glyph\":{\"id\":\"232208ec-d6a5-42fa-a79b-3c3165b98e6f\",\"type\":\"Line\"},\"hover_glyph\":null,\"muted_glyph\":null,\"nonselection_glyph\":{\"id\":\"bbbcf49d-b94f-43fd-96cc-1a3c7c268fb9\",\"type\":\"Line\"},\"selection_glyph\":null,\"view\":{\"id\":\"eee312b3-61fa-4c61-89c5-a65b5e50418b\",\"type\":\"CDSView\"}},\"id\":\"e8c72c5d-2003-435e-94b3-24a2f80e8427\",\"type\":\"GlyphRenderer\"},{\"attributes\":{\"active_drag\":\"auto\",\"active_inspect\":\"auto\",\"active_scroll\":\"auto\",\"active_tap\":\"auto\",\"tools\":[{\"id\":\"94fa74c8-7a9e-4a18-8fe2-c0f741c88fac\",\"type\":\"PanTool\"},{\"id\":\"653be5db-68d3-4cb8-a317-b5ac3c7b9b65\",\"type\":\"WheelZoomTool\"},{\"id\":\"cc169c76-90f0-4d06-b834-a160fc84c5f2\",\"type\":\"BoxZoomTool\"},{\"id\":\"df714d16-7fce-4cca-81c7-a1436308d9aa\",\"type\":\"SaveTool\"},{\"id\":\"36553756-10da-46f9-a7e3-ba0c6b4ab6af\",\"type\":\"ResetTool\"},{\"id\":\"50d0c05b-5e23-4ba4-82fd-e52aca214931\",\"type\":\"HelpTool\"}]},\"id\":\"83bae55f-8523-4478-9c82-4b11d011e0f1\",\"type\":\"Toolbar\"},{\"attributes\":{},\"id\":\"df714d16-7fce-4cca-81c7-a1436308d9aa\",\"type\":\"SaveTool\"},{\"attributes\":{\"background_fill_alpha\":{\"value\":0},\"below\":[{\"id\":\"8f4252a5-80ec-4fec-82b1-4bb3cd2d86ce\",\"type\":\"LinearAxis\"}],\"border_fill_alpha\":{\"value\":0},\"left\":[{\"id\":\"1eae44df-c153-4f44-9c3f-0c77a53ef646\",\"type\":\"LinearAxis\"}],\"outline_line_color\":{\"value\":\"#333333\"},\"plot_height\":300,\"plot_width\":400,\"renderers\":[{\"id\":\"8f4252a5-80ec-4fec-82b1-4bb3cd2d86ce\",\"type\":\"LinearAxis\"},{\"id\":\"4615be1d-d0ca-4623-a86e-aed847574303\",\"type\":\"Grid\"},{\"id\":\"1eae44df-c153-4f44-9c3f-0c77a53ef646\",\"type\":\"LinearAxis\"},{\"id\":\"c7f48094-5119-48ca-89c8-5f4885090bdc\",\"type\":\"Grid\"},{\"id\":\"7f32326d-b348-4558-9d9d-abc9956e9c3f\",\"type\":\"BoxAnnotation\"},{\"id\":\"a1e6194e-2eba-4a0c-99a1-c31818ee88a0\",\"type\":\"GlyphRenderer\"},{\"id\":\"8440bfdb-2f4d-4134-a8b2-13356d787ae8\",\"type\":\"Legend\"},{\"id\":\"e8c72c5d-2003-435e-94b3-24a2f80e8427\",\"type\":\"GlyphRenderer\"}],\"title\":{\"id\":\"c2a33272-9bf0-4162-b1da-3b8c24b51857\",\"type\":\"Title\"},\"toolbar\":{\"id\":\"83bae55f-8523-4478-9c82-4b11d011e0f1\",\"type\":\"Toolbar\"},\"toolbar_location\":null,\"x_range\":{\"id\":\"a65a8334-32ef-424d-86b7-e9860593ba12\",\"type\":\"DataRange1d\"},\"x_scale\":{\"id\":\"44aa68f9-4dd8-45ce-a67b-1a874b76b72f\",\"type\":\"LinearScale\"},\"y_range\":{\"id\":\"76a89bbe-b6fd-4bd1-901c-3a7bf2f0e06f\",\"type\":\"Range1d\"},\"y_scale\":{\"id\":\"68792717-807d-48ce-9afa-cba568af2d76\",\"type\":\"LinearScale\"}},\"id\":\"5b5497b5-dc63-4ba9-a40c-49d21cd2527c\",\"subtype\":\"Figure\",\"type\":\"Plot\"},{\"attributes\":{\"data_source\":{\"id\":\"aa483e0d-14b3-4c92-8f03-68be5054389b\",\"type\":\"ColumnDataSource\"},\"glyph\":{\"id\":\"4a84074a-cee5-4ce0-8536-7f3bdd9f2ccb\",\"type\":\"Circle\"},\"hover_glyph\":null,\"muted_glyph\":null,\"nonselection_glyph\":{\"id\":\"1aa94c4f-9a7c-4019-a1de-eeb5db53030f\",\"type\":\"Circle\"},\"selection_glyph\":null,\"view\":{\"id\":\"20b92563-589e-49fb-bc0c-68931bd5e1f5\",\"type\":\"CDSView\"}},\"id\":\"a1e6194e-2eba-4a0c-99a1-c31818ee88a0\",\"type\":\"GlyphRenderer\"},{\"attributes\":{\"format\":\"0\"},\"id\":\"c8eb0237-4bb1-45f9-980d-0d834f3896b3\",\"type\":\"NumeralTickFormatter\"},{\"attributes\":{\"fill_color\":{\"value\":\"#1f77b4\"},\"line_color\":{\"value\":\"#1f77b4\"},\"size\":{\"units\":\"screen\",\"value\":10},\"x\":{\"field\":\"x\"},\"y\":{\"field\":\"y\"}},\"id\":\"4a84074a-cee5-4ce0-8536-7f3bdd9f2ccb\",\"type\":\"Circle\"},{\"attributes\":{\"bottom_units\":\"screen\",\"fill_alpha\":{\"value\":0.5},\"fill_color\":{\"value\":\"lightgrey\"},\"left_units\":\"screen\",\"level\":\"overlay\",\"line_alpha\":{\"value\":1.0},\"line_color\":{\"value\":\"black\"},\"line_dash\":[4,4],\"line_width\":{\"value\":2},\"plot\":null,\"render_mode\":\"css\",\"right_units\":\"screen\",\"top_units\":\"screen\"},\"id\":\"7f32326d-b348-4558-9d9d-abc9956e9c3f\",\"type\":\"BoxAnnotation\"},{\"attributes\":{\"plot\":null,\"text\":\"linear regression\",\"text_color\":{\"value\":\"white\"}},\"id\":\"c2a33272-9bf0-4162-b1da-3b8c24b51857\",\"type\":\"Title\"},{\"attributes\":{\"source\":{\"id\":\"da66904f-bfc8-47bb-b7bf-6cb8993f18ff\",\"type\":\"ColumnDataSource\"}},\"id\":\"eee312b3-61fa-4c61-89c5-a65b5e50418b\",\"type\":\"CDSView\"},{\"attributes\":{\"callback\":null},\"id\":\"a65a8334-32ef-424d-86b7-e9860593ba12\",\"type\":\"DataRange1d\"},{\"attributes\":{},\"id\":\"be72054d-36a7-4072-83ac-e58829633689\",\"type\":\"BasicTicker\"},{\"attributes\":{\"callback\":null,\"end\":55000},\"id\":\"76a89bbe-b6fd-4bd1-901c-3a7bf2f0e06f\",\"type\":\"Range1d\"},{\"attributes\":{},\"id\":\"44aa68f9-4dd8-45ce-a67b-1a874b76b72f\",\"type\":\"LinearScale\"},{\"attributes\":{\"callback\":null,\"column_names\":[\"x\",\"y\"],\"data\":{\"x\":{\"__ndarray__\":\"AAAAAAAAAADwwQcffPCSQPDBBx988KJA6KKLLrporEDwwQcffPCyQGyyySabrLdA6KKLLrpovECyySabbJLAQPDBBx988MJALrroootOxUBssskmm6zHQKqqqqqqCspA6KKLLrpozEAmm2yyycbOQLLJJptsktBA0UUXXXTB0UDwwQcffPDSQA8++OCDH9RALrroootO1UBNNtlkk33WQGyyySabrNdAiy666KLb2ECqqqqqqgraQMkmm2yyOdtA6KKLLrpo3EAHH3zwwZfdQCabbLLJxt5ARRdddNH130CyySabbJLgQMIHH3zwKeFA0UUXXXTB4UDggw8++FjiQPDBBx988OJAAAAAAACI40APPvjggx/kQB588MEHt+RALrroootO5UA++OCDD+blQE022WSTfeZAXHTRRRcV50Bssskmm6znQHzwwQcfROhAiy666KLb6ECabLLJJnPpQKqqqqqqCupAuuiiiy6i6kDJJptssjnrQNhkk0020etA6KKLLrpo7ED44IMPPgDtQAcffPDBl+1AFl100UUv7kAmm2yyycbuQDbZZJNNXu9ARRdddNH170CqqqqqqkbwQLLJJptskvBAuuiiiy7e8EDCBx988CnxQMkmm2yydfFA0UUXXXTB8UDZZJNNNg3yQOCDDz74WPJA6KKLLrqk8kDwwQcffPDyQPjggw8+PPNAAAAAAACI80AHH3zwwdPzQA8++OCDH/RAF1100UVr9EAefPDBB7f0QCabbLLJAvVALrroootO9UA22WSTTZr1QD744IMP5vVARRdddNEx9kBNNtlkk332QFVVVVVVyfZAXHTRRRcV90Bkk0022WD3QGyyySabrPdAdNFFF13490B88MEHH0T4QIMPPvjgj/hAiy666KLb+ECTTTbZZCf5QJpssskmc/lAoosuuui++UCqqqqqqgr6QLLJJptsVvpAuuiiiy6i+kDBBx988O36QMkmm2yyOftA0UUXXXSF+0DYZJNNNtH7QOCDDz74HPxA6KKLLrpo/EDwwQcffLT8QPjggw8+AP1AAAAAAABM/UA=\",\"dtype\":\"float64\",\"shape\":[100]},\"y\":{\"__ndarray__\":\"8qFrvyZA5kDRnD5NAwzmQLCXEdvf1+VAkJLkaLyj5UBvjbf2mG/lQE6IioR1O+VALYNdElIH5UAMfjCgLtPkQOt4Ay4Ln+RAy3PWu+dq5ECqbqlJxDbkQIlpfNegAuRAaGRPZX3O40BHXyLzWZrjQCZa9YA2ZuNABlXIDhMy40DlT5uc7/3iQMRKbirMyeJAo0VBuKiV4kCCQBRGhWHiQGI759NhLeJAQTa6YT754UAgMY3vGsXhQP8rYH33kOFA3iYzC9Rc4UC+IQaZsCjhQJ0c2SaN9OBAfBestGnA4EBbEn9CRozgQDoNUtAiWOBAGgglXv8j4EDyBfDXt9/fQLD7lfNwd99AbvE7DyoP30As5+Eq46beQOvch0acPt5AqdItYlXW3UBnyNN9Dm7dQCa+eZnHBd1A5LMftYCd3ECjqcXQOTXcQGGfa+zyzNtAH5URCKxk20DeircjZfzaQJyAXT8elNpAWnYDW9cr2kAZbKl2kMPZQNdhT5JJW9lAllf1rQLz2EBUTZvJu4rYQBJDQeV0IthA0TjnAC6610CPLo0c51HXQE0kMzig6dZADBrZU1mB1kDKD39vEhnWQIgFJYvLsNVARvvKpoRI1UAE8XDCPeDUQMTmFt72d9RAgty8+a8P1EBA0mIVaafTQP/HCDEiP9NAvb2uTNvW0kB7s1RolG7SQDmp+oNNBtJA956gnwae0UC3lEa7vzXRQHWK7NZ4zdBAM4CS8jFl0EDk63Ac1vnPQGDXvFNIKc9A3MIIi7pYzkBYrlTCLIjNQNSZoPmet8xAVIXsMBHny0DQcDhogxbLQExchJ/1RcpAykfQ1md1yUBIMxwO2qTIQMQeaEVM1MdAQAq0fL4Dx0C89f+zMDPGQDjhS+uiYsVAtMyXIhWSxEAwuONZh8HDQLCjL5H58MJALI97yGsgwkCoesf/3U/BQCRmEzdQf8BAQKO+3IRdv0BAelZLaby9QDhR7rlNG7xAMCiGKDJ6ukAo/x2XFtm4QCDWtQX7N7dAIK1NdN+WtUAYhOXiw/WzQBBbfVGoVLJACDIVwIyzsEA=\",\"dtype\":\"float64\",\"shape\":[100]}}},\"id\":\"da66904f-bfc8-47bb-b7bf-6cb8993f18ff\",\"type\":\"ColumnDataSource\"},{\"attributes\":{},\"id\":\"68792717-807d-48ce-9afa-cba568af2d76\",\"type\":\"LinearScale\"},{\"attributes\":{\"grid_line_alpha\":{\"value\":0},\"grid_line_color\":{\"value\":null},\"plot\":{\"id\":\"5b5497b5-dc63-4ba9-a40c-49d21cd2527c\",\"subtype\":\"Figure\",\"type\":\"Plot\"},\"ticker\":{\"id\":\"be72054d-36a7-4072-83ac-e58829633689\",\"type\":\"BasicTicker\"}},\"id\":\"4615be1d-d0ca-4623-a86e-aed847574303\",\"type\":\"Grid\"},{\"attributes\":{\"dimension\":1,\"grid_line_alpha\":{\"value\":0},\"grid_line_color\":{\"value\":null},\"plot\":{\"id\":\"5b5497b5-dc63-4ba9-a40c-49d21cd2527c\",\"subtype\":\"Figure\",\"type\":\"Plot\"},\"ticker\":{\"id\":\"2f3b9476-7a48-4407-966d-59bad88dd3c8\",\"type\":\"BasicTicker\"}},\"id\":\"c7f48094-5119-48ca-89c8-5f4885090bdc\",\"type\":\"Grid\"},{\"attributes\":{\"fill_alpha\":{\"value\":0.1},\"fill_color\":{\"value\":\"#1f77b4\"},\"line_alpha\":{\"value\":0.1},\"line_color\":{\"value\":\"#1f77b4\"},\"size\":{\"units\":\"screen\",\"value\":10},\"x\":{\"field\":\"x\"},\"y\":{\"field\":\"y\"}},\"id\":\"1aa94c4f-9a7c-4019-a1de-eeb5db53030f\",\"type\":\"Circle\"},{\"attributes\":{\"axis_label\":\"y: Price\",\"axis_label_text_color\":{\"value\":\"white\"},\"axis_line_color\":{\"value\":null},\"formatter\":{\"id\":\"ac6b1667-0349-4fb7-9c65-ce1e0731541e\",\"type\":\"BasicTickFormatter\"},\"major_label_text_color\":{\"value\":\"white\"},\"major_tick_line_color\":{\"value\":null},\"minor_tick_line_color\":{\"value\":null},\"plot\":{\"id\":\"5b5497b5-dc63-4ba9-a40c-49d21cd2527c\",\"subtype\":\"Figure\",\"type\":\"Plot\"},\"ticker\":{\"id\":\"2f3b9476-7a48-4407-966d-59bad88dd3c8\",\"type\":\"BasicTicker\"}},\"id\":\"1eae44df-c153-4f44-9c3f-0c77a53ef646\",\"type\":\"LinearAxis\"},{\"attributes\":{},\"id\":\"2f3b9476-7a48-4407-966d-59bad88dd3c8\",\"type\":\"BasicTicker\"},{\"attributes\":{\"callback\":null,\"column_names\":[\"x\",\"y\"],\"data\":{\"x\":[0,5000,10000,20000,40000,60000,80000],\"y\":[50000,45000,40000,35000,30000,25000,20000]}},\"id\":\"aa483e0d-14b3-4c92-8f03-68be5054389b\",\"type\":\"ColumnDataSource\"},{\"attributes\":{\"source\":{\"id\":\"aa483e0d-14b3-4c92-8f03-68be5054389b\",\"type\":\"ColumnDataSource\"}},\"id\":\"20b92563-589e-49fb-bc0c-68931bd5e1f5\",\"type\":\"CDSView\"},{\"attributes\":{},\"id\":\"653be5db-68d3-4cb8-a317-b5ac3c7b9b65\",\"type\":\"WheelZoomTool\"},{\"attributes\":{},\"id\":\"94fa74c8-7a9e-4a18-8fe2-c0f741c88fac\",\"type\":\"PanTool\"}],\"root_ids\":[\"5b5497b5-dc63-4ba9-a40c-49d21cd2527c\"]},\"title\":\"Bokeh Application\",\"version\":\"0.12.13\"}};\n",
       "  var render_items = [{\"docid\":\"cf714075-83ec-4aa4-bd2e-13d48da76d88\",\"elementid\":\"e1b05108-45fd-4050-af12-6bafa3707434\",\"modelid\":\"5b5497b5-dc63-4ba9-a40c-49d21cd2527c\"}];\n",
       "  root.Bokeh.embed.embed_items_notebook(docs_json, render_items);\n",
       "\n",
       "  }\n",
       "  if (root.Bokeh !== undefined) {\n",
       "    embed_document(root);\n",
       "  } else {\n",
       "    var attempts = 0;\n",
       "    var timer = setInterval(function(root) {\n",
       "      if (root.Bokeh !== undefined) {\n",
       "        embed_document(root);\n",
       "        clearInterval(timer);\n",
       "      }\n",
       "      attempts++;\n",
       "      if (attempts > 100) {\n",
       "        console.log(\"Bokeh: ERROR: Unable to run BokehJS code because BokehJS library is missing\")\n",
       "        clearInterval(timer);\n",
       "      }\n",
       "    }, 10, root)\n",
       "  }\n",
       "})(window);"
      ],
      "application/vnd.bokehjs_exec.v0+json": ""
     },
     "metadata": {
      "application/vnd.bokehjs_exec.v0+json": {
       "id": "5b5497b5-dc63-4ba9-a40c-49d21cd2527c"
      }
     },
     "output_type": "display_data"
    }
   ],
   "source": [
    "show(plot)"
   ]
  },
  {
   "cell_type": "markdown",
   "metadata": {
    "slideshow": {
     "slide_type": "slide"
    }
   },
   "source": [
    "# Polynomial Features\n",
    "\n",
    "IE Quadratic:\n",
    "\n",
    "\\\\[g(x) = {w_2}{x^2} + {w_1}x + {w_0}\\\\]"
   ]
  },
  {
   "cell_type": "code",
   "execution_count": 19,
   "metadata": {
    "slideshow": {
     "slide_type": "skip"
    }
   },
   "outputs": [],
   "source": [
    "models = {}\n",
    "for degree in [2,3,4,5,6,7,8]:\n",
    "    poly = PolynomialFeatures(degree=degree)\n",
    "    x_ = poly.fit_transform(x.reshape(-1, 1))\n",
    "    models[degree] = LinearRegression()\n",
    "    models[degree].fit(x_, y)\n",
    "    prediction = models[degree].predict(x_)\n",
    "    loss = (1/len(x)) * np.sqrt(np.sum((y - prediction)**2))\n",
    "    plot.line(x=np.linspace(0,120000,100), \n",
    "              y=models[degree].predict(poly.transform(np.linspace(0,120000,100).reshape(-1,1))), \n",
    "              line_color=colors[degree-1], line_width=2.5, alpha=0.5,\n",
    "              legend=str(degree) + ': ' + str(int(loss)))\n",
    "\n",
    "plot.title.text = 'overfitting'"
   ]
  },
  {
   "cell_type": "code",
   "execution_count": 20,
   "metadata": {
    "slideshow": {
     "slide_type": "subslide"
    }
   },
   "outputs": [
    {
     "data": {
      "text/html": [
       "\n",
       "<div class=\"bk-root\">\n",
       "    <div class=\"bk-plotdiv\" id=\"10494cd7-5857-482f-8085-5148ac2e4812\"></div>\n",
       "</div>"
      ]
     },
     "metadata": {},
     "output_type": "display_data"
    },
    {
     "data": {
      "application/javascript": [
       "(function(root) {\n",
       "  function embed_document(root) {\n",
       "    \n",
       "  var docs_json = {\"75035e39-df47-4d1e-b003-7d2a3dea6b3d\":{\"roots\":{\"references\":[{\"attributes\":{\"plot\":null,\"text\":\"overfitting\",\"text_color\":{\"value\":\"white\"}},\"id\":\"ef89d3fd-3eaa-4bae-98c1-9596047145c2\",\"type\":\"Title\"},{\"attributes\":{\"callback\":null},\"id\":\"ef8d5754-034d-4472-acb4-2d881ef87ee9\",\"type\":\"DataRange1d\"},{\"attributes\":{\"fill_color\":{\"value\":\"black\"},\"size\":{\"units\":\"screen\",\"value\":10},\"x\":{\"field\":\"x\"},\"y\":{\"field\":\"y\"}},\"id\":\"ebc9af95-947c-4ff5-8575-e38f0688c4c1\",\"type\":\"Circle\"},{\"attributes\":{\"active_drag\":\"auto\",\"active_inspect\":\"auto\",\"active_scroll\":\"auto\",\"active_tap\":\"auto\",\"tools\":[{\"id\":\"a8b19fb2-6bcb-4dce-bb51-eb80dcae2fb9\",\"type\":\"PanTool\"},{\"id\":\"30cea68c-56dd-4f69-b139-a88521b4f0b6\",\"type\":\"WheelZoomTool\"},{\"id\":\"155d6839-f551-4d0f-911a-aeb4c87b3e73\",\"type\":\"BoxZoomTool\"},{\"id\":\"7defb6d5-74c4-4042-a81c-0b52bbefc941\",\"type\":\"SaveTool\"},{\"id\":\"771f8738-1831-4551-bd55-d1a6e131ffc2\",\"type\":\"ResetTool\"},{\"id\":\"a7f22eba-f012-4c12-b8bb-f42209777c80\",\"type\":\"HelpTool\"}]},\"id\":\"a14bfd26-be6b-4661-89ed-20ecf7ee8897\",\"type\":\"Toolbar\"},{\"attributes\":{\"overlay\":{\"id\":\"6674f3d0-f45c-49c6-b800-cc2fca0593bc\",\"type\":\"BoxAnnotation\"}},\"id\":\"155d6839-f551-4d0f-911a-aeb4c87b3e73\",\"type\":\"BoxZoomTool\"},{\"attributes\":{\"dimension\":1,\"grid_line_alpha\":{\"value\":0},\"grid_line_color\":{\"value\":null},\"plot\":{\"id\":\"b4ec97d5-1827-49e3-8f78-18c1340419a6\",\"subtype\":\"Figure\",\"type\":\"Plot\"},\"ticker\":{\"id\":\"77f973f0-3e1f-4675-97f8-631d06265cab\",\"type\":\"BasicTicker\"}},\"id\":\"2430e427-978d-4cff-8acd-b5399771d5fd\",\"type\":\"Grid\"},{\"attributes\":{},\"id\":\"9fb2c14e-b040-4f13-80b4-a8372b459966\",\"type\":\"LinearScale\"},{\"attributes\":{},\"id\":\"7d177528-a175-4842-8895-c8c99cc00289\",\"type\":\"LinearScale\"},{\"attributes\":{\"axis_label\":\"y: Price\",\"axis_label_text_color\":{\"value\":\"white\"},\"axis_line_color\":{\"value\":null},\"formatter\":{\"id\":\"98b9de96-14cc-4c3d-b019-5bf231affc57\",\"type\":\"BasicTickFormatter\"},\"major_label_text_color\":{\"value\":\"white\"},\"major_tick_line_color\":{\"value\":null},\"minor_tick_line_color\":{\"value\":null},\"plot\":{\"id\":\"b4ec97d5-1827-49e3-8f78-18c1340419a6\",\"subtype\":\"Figure\",\"type\":\"Plot\"},\"ticker\":{\"id\":\"77f973f0-3e1f-4675-97f8-631d06265cab\",\"type\":\"BasicTicker\"}},\"id\":\"46d9886d-fb67-4312-8979-aeb8790ff9ec\",\"type\":\"LinearAxis\"},{\"attributes\":{\"grid_line_alpha\":{\"value\":0},\"grid_line_color\":{\"value\":null},\"plot\":{\"id\":\"b4ec97d5-1827-49e3-8f78-18c1340419a6\",\"subtype\":\"Figure\",\"type\":\"Plot\"},\"ticker\":{\"id\":\"cff01e3b-42cc-43d9-a805-c8f8f88cf650\",\"type\":\"BasicTicker\"}},\"id\":\"c757bdad-d022-4509-9594-ba135284982f\",\"type\":\"Grid\"},{\"attributes\":{\"axis_label\":\"x: Mileage\",\"axis_label_text_color\":{\"value\":\"white\"},\"axis_line_color\":{\"value\":null},\"formatter\":{\"id\":\"9a920673-21b0-4b09-b4f4-ab148ac049c3\",\"type\":\"NumeralTickFormatter\"},\"major_label_text_color\":{\"value\":\"white\"},\"major_tick_line_color\":{\"value\":null},\"minor_tick_line_color\":{\"value\":null},\"plot\":{\"id\":\"b4ec97d5-1827-49e3-8f78-18c1340419a6\",\"subtype\":\"Figure\",\"type\":\"Plot\"},\"ticker\":{\"id\":\"cff01e3b-42cc-43d9-a805-c8f8f88cf650\",\"type\":\"BasicTicker\"}},\"id\":\"6465acf4-54f2-41a6-8840-9d8316366718\",\"type\":\"LinearAxis\"},{\"attributes\":{},\"id\":\"77f973f0-3e1f-4675-97f8-631d06265cab\",\"type\":\"BasicTicker\"},{\"attributes\":{},\"id\":\"cff01e3b-42cc-43d9-a805-c8f8f88cf650\",\"type\":\"BasicTicker\"},{\"attributes\":{\"data_source\":{\"id\":\"c69d24de-24a6-42d9-848c-8c001fba1616\",\"type\":\"ColumnDataSource\"},\"glyph\":{\"id\":\"e507fa7c-38d8-4864-b039-2c6e110df982\",\"type\":\"Line\"},\"hover_glyph\":null,\"muted_glyph\":null,\"nonselection_glyph\":{\"id\":\"b96b768f-ec28-4b31-a915-d07218a95828\",\"type\":\"Line\"},\"selection_glyph\":null,\"view\":{\"id\":\"134521ca-fdce-4691-be1b-8fa5b0a9f363\",\"type\":\"CDSView\"}},\"id\":\"affb7c13-163c-40c9-bb0f-20174d2077aa\",\"type\":\"GlyphRenderer\"},{\"attributes\":{\"fill_alpha\":{\"value\":0.1},\"fill_color\":{\"value\":\"#1f77b4\"},\"line_alpha\":{\"value\":0.1},\"line_color\":{\"value\":\"#1f77b4\"},\"size\":{\"units\":\"screen\",\"value\":10},\"x\":{\"field\":\"x\"},\"y\":{\"field\":\"y\"}},\"id\":\"5cec6851-1d2e-4a2a-a116-ffaec4411376\",\"type\":\"Circle\"},{\"attributes\":{},\"id\":\"a7f22eba-f012-4c12-b8bb-f42209777c80\",\"type\":\"HelpTool\"},{\"attributes\":{},\"id\":\"a8b19fb2-6bcb-4dce-bb51-eb80dcae2fb9\",\"type\":\"PanTool\"},{\"attributes\":{},\"id\":\"771f8738-1831-4551-bd55-d1a6e131ffc2\",\"type\":\"ResetTool\"},{\"attributes\":{\"data_source\":{\"id\":\"38116587-55e8-4096-91ea-f6eba10f43df\",\"type\":\"ColumnDataSource\"},\"glyph\":{\"id\":\"0911aa30-d374-477d-b8c1-822f0145bb8d\",\"type\":\"Line\"},\"hover_glyph\":null,\"muted_glyph\":null,\"nonselection_glyph\":{\"id\":\"97a50ef7-6b91-4840-b08b-5169ac4c4a75\",\"type\":\"Line\"},\"selection_glyph\":null,\"view\":{\"id\":\"0bacd86a-0db2-4868-870f-371dc3c62bd4\",\"type\":\"CDSView\"}},\"id\":\"9c27615e-dbfc-4f43-be08-593100aef958\",\"type\":\"GlyphRenderer\"},{\"attributes\":{\"items\":[{\"id\":\"c02385c3-4384-4fea-9d8e-b06b3ffe4c88\",\"type\":\"LegendItem\"},{\"id\":\"112d2db1-d198-4520-bcd4-afec9b0ce9bf\",\"type\":\"LegendItem\"},{\"id\":\"0a4306cc-94c4-46c9-8d50-5f3cb4469484\",\"type\":\"LegendItem\"},{\"id\":\"6aa33b60-3ef8-45c4-b134-b59da5011915\",\"type\":\"LegendItem\"},{\"id\":\"1d90f32c-b92e-4b6c-9d40-13bd5ca86c98\",\"type\":\"LegendItem\"},{\"id\":\"875b20b5-187f-45bd-81c7-7fa188d23b6a\",\"type\":\"LegendItem\"},{\"id\":\"4f15a610-3f51-478a-ada8-0d6cf4600e4c\",\"type\":\"LegendItem\"},{\"id\":\"4a04b35f-e76d-44d9-ba6b-018184677a4c\",\"type\":\"LegendItem\"}],\"plot\":{\"id\":\"b4ec97d5-1827-49e3-8f78-18c1340419a6\",\"subtype\":\"Figure\",\"type\":\"Plot\"}},\"id\":\"f18dcfc5-8c52-43ae-8386-7fc278782be0\",\"type\":\"Legend\"},{\"attributes\":{\"source\":{\"id\":\"c72f4d93-34a1-46d6-87b4-17ba2a536372\",\"type\":\"ColumnDataSource\"}},\"id\":\"cecfaa97-baf4-4c4a-8c77-b1e65ec2c748\",\"type\":\"CDSView\"},{\"attributes\":{\"callback\":null,\"column_names\":[\"x\",\"y\"],\"data\":{\"x\":{\"__ndarray__\":\"AAAAAAAAAADwwQcffPCSQPDBBx988KJA6KKLLrporEDwwQcffPCyQGyyySabrLdA6KKLLrpovECyySabbJLAQPDBBx988MJALrroootOxUBssskmm6zHQKqqqqqqCspA6KKLLrpozEAmm2yyycbOQLLJJptsktBA0UUXXXTB0UDwwQcffPDSQA8++OCDH9RALrroootO1UBNNtlkk33WQGyyySabrNdAiy666KLb2ECqqqqqqgraQMkmm2yyOdtA6KKLLrpo3EAHH3zwwZfdQCabbLLJxt5ARRdddNH130CyySabbJLgQMIHH3zwKeFA0UUXXXTB4UDggw8++FjiQPDBBx988OJAAAAAAACI40APPvjggx/kQB588MEHt+RALrroootO5UA++OCDD+blQE022WSTfeZAXHTRRRcV50Bssskmm6znQHzwwQcfROhAiy666KLb6ECabLLJJnPpQKqqqqqqCupAuuiiiy6i6kDJJptssjnrQNhkk0020etA6KKLLrpo7ED44IMPPgDtQAcffPDBl+1AFl100UUv7kAmm2yyycbuQDbZZJNNXu9ARRdddNH170CqqqqqqkbwQLLJJptskvBAuuiiiy7e8EDCBx988CnxQMkmm2yydfFA0UUXXXTB8UDZZJNNNg3yQOCDDz74WPJA6KKLLrqk8kDwwQcffPDyQPjggw8+PPNAAAAAAACI80AHH3zwwdPzQA8++OCDH/RAF1100UVr9EAefPDBB7f0QCabbLLJAvVALrroootO9UA22WSTTZr1QD744IMP5vVARRdddNEx9kBNNtlkk332QFVVVVVVyfZAXHTRRRcV90Bkk0022WD3QGyyySabrPdAdNFFF13490B88MEHH0T4QIMPPvjgj/hAiy666KLb+ECTTTbZZCf5QJpssskmc/lAoosuuui++UCqqqqqqgr6QLLJJptsVvpAuuiiiy6i+kDBBx988O36QMkmm2yyOftA0UUXXXSF+0DYZJNNNtH7QOCDDz74HPxA6KKLLrpo/EDwwQcffLT8QPjggw8+AP1AAAAAAABM/UA=\",\"dtype\":\"float64\",\"shape\":[100]},\"y\":{\"__ndarray__\":\"sn0/rTFe50AUk+HjcwHnQBLpCMj/peZAq3+1WdVL5kDgVueY9PLlQLFunoVdm+VAHcfaHxBF5UAlYJxnDPDkQMk541xSnORACFSv/+FJ5EDjrgBQu/jjQFlK103eqONAbCYz+Upa40AZQxRSAQ3jQGOgelgBweJASD5mDEt24kDJHNdt3iziQOU7zXy75OFAnZtIOeKd4UDxO0mjUljhQOAcz7oMFOFAbD7afxDR4ECSoGryXY/gQFRDgBL1TuBAsiYb4NUP4EBYlXa2AKTfQIJewQfpKt9A5KgWtGS03kB8dHa7c0DeQEzB4B0Wz91AVI9V20tg3UCU3tTzFPTcQAmvXmdxitxAtgDzNWEj3ECb05Ff5L7bQLgnO+T6XNtAC/3uw6T92kCVU63+4aDaQFgrdpSyRtpAUoRJhRbv2UCCXifRDZrZQOm5D3iYR9lAiZYCerb32EBg9P/WZ6rYQGzTB4+sX9hAsDMaooQX2EAuFTcQ8NHXQOB3XtnujtdAzFuQ/YBO10DuwMx8phDXQEinE1df1dZA2A5ljKuc1kCg98Aci2bWQJ9hJwj+MtZA1kyYTgQC1kBDuRPwndPVQOimmezKp9VAxhUqRIt+1UDZBcX23lfVQCR3agTGM9VAp2kabUAS1UBg3dQwTvPUQFLSmU/v1tRAeUhpySO91EDZP0Oe66XUQG+4J85GkdRAPrIWWTV/1EBFLRA/t2/UQH8pFIDMYtRA86YiHHVY1ECgpTsTsVDUQIMlX2WAS9RAmyaNEuNI1EDtqMUa2UjUQHWsCH5iS9RANjFWPH9Q1EAtN65VL1jUQFq+EMpyYtRAwMZ9mUlv1EBdUPXDs37UQDJbd0mxkNRAPOcDKkKl1ECA9JplZrzUQPqCPPwd1tRArJLo7Wjy1ECWI586RxHVQLQ1YOK4MtVACskr5b1W1UCW3QFDVn3VQF5z4vuBptVAWorND0HS1UCQIsN+kwDWQPw7w0h5MdZAoNbNbfJk1kB28uLt/prWQIqPAsme09ZA0q0s/9EO10BSTWGQmEzXQApuoHzyjNdA+g/qw9/P10A=\",\"dtype\":\"float64\",\"shape\":[100]}}},\"id\":\"6c0d2e92-7136-4bd5-902c-08182c4e5124\",\"type\":\"ColumnDataSource\"},{\"attributes\":{\"label\":{\"value\":\"3: 234\"},\"renderers\":[{\"id\":\"f4b733de-c4cf-4ba5-b45f-13b682aa108d\",\"type\":\"GlyphRenderer\"}]},\"id\":\"0a4306cc-94c4-46c9-8d50-5f3cb4469484\",\"type\":\"LegendItem\"},{\"attributes\":{\"source\":{\"id\":\"c69d24de-24a6-42d9-848c-8c001fba1616\",\"type\":\"ColumnDataSource\"}},\"id\":\"134521ca-fdce-4691-be1b-8fa5b0a9f363\",\"type\":\"CDSView\"},{\"attributes\":{\"source\":{\"id\":\"aa615bfb-2b8d-4cdf-a907-d2f1f1908e8f\",\"type\":\"ColumnDataSource\"}},\"id\":\"ed6681dc-3be2-497c-b8e5-a5e1f2ac0b5b\",\"type\":\"CDSView\"},{\"attributes\":{\"data_source\":{\"id\":\"aa615bfb-2b8d-4cdf-a907-d2f1f1908e8f\",\"type\":\"ColumnDataSource\"},\"glyph\":{\"id\":\"56f9f949-2365-4d6a-a5c9-acc895f9eb4c\",\"type\":\"Line\"},\"hover_glyph\":null,\"muted_glyph\":null,\"nonselection_glyph\":{\"id\":\"5810f04b-ff42-4e30-aa91-be4cccc7fec6\",\"type\":\"Line\"},\"selection_glyph\":null,\"view\":{\"id\":\"ed6681dc-3be2-497c-b8e5-a5e1f2ac0b5b\",\"type\":\"CDSView\"}},\"id\":\"352c33d6-d719-4802-ad7d-a3eac4f6633a\",\"type\":\"GlyphRenderer\"},{\"attributes\":{\"line_alpha\":0.1,\"line_color\":\"#1f77b4\",\"line_width\":2.5,\"x\":{\"field\":\"x\"},\"y\":{\"field\":\"y\"}},\"id\":\"7c5a34df-510b-4885-a584-f241c039755a\",\"type\":\"Line\"},{\"attributes\":{\"data_source\":{\"id\":\"c72f4d93-34a1-46d6-87b4-17ba2a536372\",\"type\":\"ColumnDataSource\"},\"glyph\":{\"id\":\"ebc9af95-947c-4ff5-8575-e38f0688c4c1\",\"type\":\"Circle\"},\"hover_glyph\":null,\"muted_glyph\":null,\"nonselection_glyph\":{\"id\":\"5cec6851-1d2e-4a2a-a116-ffaec4411376\",\"type\":\"Circle\"},\"selection_glyph\":null,\"view\":{\"id\":\"cecfaa97-baf4-4c4a-8c77-b1e65ec2c748\",\"type\":\"CDSView\"}},\"id\":\"d5991203-6fc0-401b-b929-870f0eb4f533\",\"type\":\"GlyphRenderer\"},{\"attributes\":{\"line_alpha\":0.5,\"line_color\":\"#66c2a5\",\"line_width\":2.5,\"x\":{\"field\":\"x\"},\"y\":{\"field\":\"y\"}},\"id\":\"67a44b8c-d14c-4820-b020-32d61d0b4fa7\",\"type\":\"Line\"},{\"attributes\":{\"bottom_units\":\"screen\",\"fill_alpha\":{\"value\":0.5},\"fill_color\":{\"value\":\"lightgrey\"},\"left_units\":\"screen\",\"level\":\"overlay\",\"line_alpha\":{\"value\":1.0},\"line_color\":{\"value\":\"black\"},\"line_dash\":[4,4],\"line_width\":{\"value\":2},\"plot\":null,\"render_mode\":\"css\",\"right_units\":\"screen\",\"top_units\":\"screen\"},\"id\":\"6674f3d0-f45c-49c6-b800-cc2fca0593bc\",\"type\":\"BoxAnnotation\"},{\"attributes\":{\"line_alpha\":0.1,\"line_color\":\"#1f77b4\",\"line_width\":2.5,\"x\":{\"field\":\"x\"},\"y\":{\"field\":\"y\"}},\"id\":\"b96b768f-ec28-4b31-a915-d07218a95828\",\"type\":\"Line\"},{\"attributes\":{\"line_alpha\":0.1,\"line_color\":\"#1f77b4\",\"line_width\":2.5,\"x\":{\"field\":\"x\"},\"y\":{\"field\":\"y\"}},\"id\":\"5810f04b-ff42-4e30-aa91-be4cccc7fec6\",\"type\":\"Line\"},{\"attributes\":{\"callback\":null,\"column_names\":[\"x\",\"y\"],\"data\":{\"x\":{\"__ndarray__\":\"AAAAAAAAAADwwQcffPCSQPDBBx988KJA6KKLLrporEDwwQcffPCyQGyyySabrLdA6KKLLrpovECyySabbJLAQPDBBx988MJALrroootOxUBssskmm6zHQKqqqqqqCspA6KKLLrpozEAmm2yyycbOQLLJJptsktBA0UUXXXTB0UDwwQcffPDSQA8++OCDH9RALrroootO1UBNNtlkk33WQGyyySabrNdAiy666KLb2ECqqqqqqgraQMkmm2yyOdtA6KKLLrpo3EAHH3zwwZfdQCabbLLJxt5ARRdddNH130CyySabbJLgQMIHH3zwKeFA0UUXXXTB4UDggw8++FjiQPDBBx988OJAAAAAAACI40APPvjggx/kQB588MEHt+RALrroootO5UA++OCDD+blQE022WSTfeZAXHTRRRcV50Bssskmm6znQHzwwQcfROhAiy666KLb6ECabLLJJnPpQKqqqqqqCupAuuiiiy6i6kDJJptssjnrQNhkk0020etA6KKLLrpo7ED44IMPPgDtQAcffPDBl+1AFl100UUv7kAmm2yyycbuQDbZZJNNXu9ARRdddNH170CqqqqqqkbwQLLJJptskvBAuuiiiy7e8EDCBx988CnxQMkmm2yydfFA0UUXXXTB8UDZZJNNNg3yQOCDDz74WPJA6KKLLrqk8kDwwQcffPDyQPjggw8+PPNAAAAAAACI80AHH3zwwdPzQA8++OCDH/RAF1100UVr9EAefPDBB7f0QCabbLLJAvVALrroootO9UA22WSTTZr1QD744IMP5vVARRdddNEx9kBNNtlkk332QFVVVVVVyfZAXHTRRRcV90Bkk0022WD3QGyyySabrPdAdNFFF13490B88MEHH0T4QIMPPvjgj/hAiy666KLb+ECTTTbZZCf5QJpssskmc/lAoosuuui++UCqqqqqqgr6QLLJJptsVvpAuuiiiy6i+kDBBx988O36QMkmm2yyOftA0UUXXXSF+0DYZJNNNtH7QOCDDz74HPxA6KKLLrpo/EDwwQcffLT8QPjggw8+AP1AAAAAAABM/UA=\",\"dtype\":\"float64\",\"shape\":[100]},\"y\":{\"__ndarray__\":\"uGZ9gJX15EDZzFxzlfXkQFUVXOqT9eRAjmWK3In15ECioiIiZvXkQCuibf4J9eRAvnuWs0b05ECsntgN3PLkQGNPb9N38ORAADCuBrbs5EBjd6rnIefkQF563KI33+RATCohmmbU5ECpLIM1FMbkQPwuMymfs+RApBoXHmOc5EDoy1eqvH/kQMTvVIcNXeRA6Ktm8sAz5EBdtNQlUAPkQDxyatdGy+NA+d4PqkeL40Ckt85/EEPjQKOrq5l+8uJATCq7cpKZ4kDfctlDczjiQEqKbR1yz+FAJ7qehAxf4UCCPGSB7ufgQKm31gr0auBAaFtWflPS30AaBn6pmcfeQOp+OWOUuN1AMFrCLXmo3EDE8dCa05rbQLzvVYJ9k9pAhGli8ZSW2UDA0g2sb6jYQCgOKR2MzddAcOSNjn8K10DQJtqE4WPWQNDEZRk03tVAkBxDLcl91UBgyxhQpEbVQHBGpDVZPNVAsIK0lOZh1UCQ8WtKjbnVQBAbmZyjRNZAUBr1dWQD10BwRhd3uvTXQJBJ7bYGFtlAMPOGDeNi2kDwBwXE39TbQLBWeoQ8Y91AcF2OZJwC30DYXthyWlLgQPhn1uL7G+FAWEo2vZvT4UDYKN0Zo2ziQLgN6J5H2OJAuEvCT1UF40C4HHJn9d/iQHgjgytyUeJAOHL2pPc/4UDwcz9ZohzfQHCNrnBHN9pAcNfQrEmG00DgDJASOW/FQAAyV+B7/IHAIEl3STNqzcBIn6WPqRPgwEj9uyaAsOrApNQs8Bu688CkwxDMJFT7wFLuLns5JwLBUuRD2ldqB8ESJ00uJosNwelptt+uURLBqbH1CWtnFsGp7RDR0RUbwaSK+uWNNiDBJPEOL2A/I8FUo+Zbw64mwRSP/7PLjirBdA42QUfqLsEKxPuWY+YxwVrd57dUoTTBCh69X5GsN8Ha19BvJA87weodu5mO0D7BdTCR6WV8QcFtGE55LMhDwZ3yG7scUEbBdfgjuv4YScFlUX/b4ydMwQWMuQEqgk/B08coY7+WUcETtcFk8ZdTweusUozWx1XBwzqxVccpWME=\",\"dtype\":\"float64\",\"shape\":[100]}}},\"id\":\"38116587-55e8-4096-91ea-f6eba10f43df\",\"type\":\"ColumnDataSource\"},{\"attributes\":{\"source\":{\"id\":\"991a4359-615b-4157-a7a2-28676e3c75ab\",\"type\":\"ColumnDataSource\"}},\"id\":\"355292cd-e494-4d93-8bc7-ae8ba172d960\",\"type\":\"CDSView\"},{\"attributes\":{\"data_source\":{\"id\":\"665d8049-f68e-4783-a496-bbb89413a524\",\"type\":\"ColumnDataSource\"},\"glyph\":{\"id\":\"fed7f2dc-4fd5-4105-a873-bab9ce014b2a\",\"type\":\"Line\"},\"hover_glyph\":null,\"muted_glyph\":null,\"nonselection_glyph\":{\"id\":\"7c5a34df-510b-4885-a584-f241c039755a\",\"type\":\"Line\"},\"selection_glyph\":null,\"view\":{\"id\":\"070474f3-d0ae-4047-adc9-cabd481c24d8\",\"type\":\"CDSView\"}},\"id\":\"f4b733de-c4cf-4ba5-b45f-13b682aa108d\",\"type\":\"GlyphRenderer\"},{\"attributes\":{\"line_alpha\":0.75,\"line_color\":\"#3288bd\",\"line_width\":2.5,\"x\":{\"field\":\"x\"},\"y\":{\"field\":\"y\"}},\"id\":\"56f9f949-2365-4d6a-a5c9-acc895f9eb4c\",\"type\":\"Line\"},{\"attributes\":{},\"id\":\"7defb6d5-74c4-4042-a81c-0b52bbefc941\",\"type\":\"SaveTool\"},{\"attributes\":{\"callback\":null,\"column_names\":[\"x\",\"y\"],\"data\":{\"x\":{\"__ndarray__\":\"AAAAAAAAAADwwQcffPCSQPDBBx988KJA6KKLLrporEDwwQcffPCyQGyyySabrLdA6KKLLrpovECyySabbJLAQPDBBx988MJALrroootOxUBssskmm6zHQKqqqqqqCspA6KKLLrpozEAmm2yyycbOQLLJJptsktBA0UUXXXTB0UDwwQcffPDSQA8++OCDH9RALrroootO1UBNNtlkk33WQGyyySabrNdAiy666KLb2ECqqqqqqgraQMkmm2yyOdtA6KKLLrpo3EAHH3zwwZfdQCabbLLJxt5ARRdddNH130CyySabbJLgQMIHH3zwKeFA0UUXXXTB4UDggw8++FjiQPDBBx988OJAAAAAAACI40APPvjggx/kQB588MEHt+RALrroootO5UA++OCDD+blQE022WSTfeZAXHTRRRcV50Bssskmm6znQHzwwQcfROhAiy666KLb6ECabLLJJnPpQKqqqqqqCupAuuiiiy6i6kDJJptssjnrQNhkk0020etA6KKLLrpo7ED44IMPPgDtQAcffPDBl+1AFl100UUv7kAmm2yyycbuQDbZZJNNXu9ARRdddNH170CqqqqqqkbwQLLJJptskvBAuuiiiy7e8EDCBx988CnxQMkmm2yydfFA0UUXXXTB8UDZZJNNNg3yQOCDDz74WPJA6KKLLrqk8kDwwQcffPDyQPjggw8+PPNAAAAAAACI80AHH3zwwdPzQA8++OCDH/RAF1100UVr9EAefPDBB7f0QCabbLLJAvVALrroootO9UA22WSTTZr1QD744IMP5vVARRdddNEx9kBNNtlkk332QFVVVVVVyfZAXHTRRRcV90Bkk0022WD3QGyyySabrPdAdNFFF13490B88MEHH0T4QIMPPvjgj/hAiy666KLb+ECTTTbZZCf5QJpssskmc/lAoosuuui++UCqqqqqqgr6QLLJJptsVvpAuuiiiy6i+kDBBx988O36QMkmm2yyOftA0UUXXXSF+0DYZJNNNtH7QOCDDz74HPxA6KKLLrpo/EDwwQcffLT8QPjggw8+AP1AAAAAAABM/UA=\",\"dtype\":\"float64\",\"shape\":[100]},\"y\":{\"__ndarray__\":\"elFUeOo26EBs5oeRw53nQL0MdwTtCudAhOeNwj5+5kDUmTi9kPflQMRG4+W6duVAaRH6LZX75EDYHOmG94XkQCeMHOK5FeRAaoIAMbSq40C5IgFlvkTjQCeQim+w4+JAyu0IQmKH4kC4XujNqy/iQAYGlQRl3OFAyQZ712WN4UAYhAY4hkLhQAWhoxee++BAqYC+Z4W44EAYRsMZFHngQGYUHh8iPeBAqw47aYcE4ED0rwzTN57fQNQm2CJvOd9AHsiwpGTa3kAB2m47yIDeQKOi6slJLN5AMmj8Mpnc3UDXcHxZZpHdQL0CQyBhSt1AEWQoajkH3UD62gQan8fcQKetsBJCi9xAPSIEN9JR3EDsftdp/xrcQN4JA4555ttAOglfhvCz20Aww8M1FIPbQOZ9CX+UU9tAjH8IRSEl20BGDplqavfaQEhwk9IfytpAtOvPX/Gc2kC2xib1jm/aQH5HcHWoQdpAMLSEw+0S2kACUzzCDuPZQA5qb1S7sdlAjj/2XKN+2UCiGam+dknZQIA+YFzlEdlASPTzGJ/X2EAkgTzXU5rYQEwrEnqzWdhA3DhN5G0V2EAM8MX4Ms3XQACXVJqygNdA3HPRq5wv10DQzBQQodnWQBTo9qlvftZAvAtQXLgd1kAEfvgJK7fVQBCFyJV3StVADGeY4k3X1EAgakDTXV3UQHTUmEpX3NNAQOx5K+pT00Cc97tYxsPSQMQ8N7WbK9JA5AHEIxqL0UAUjTqH8eHQQIwkc8LRL9BA2ByMcNXozkDYIReX2F7NQIjkN74MwctA+PCeq9EOykCI0/wkh0fIQNgYAvCMasZA6Exf0kJ3xEA4/MSRCG3CQPiy4/M9S8BAcPvXfIUivEBw0Rxu7Xy3QHAA90ZzpLJAoEKPJa0vq0DgmN+5raugQIDWhIad6YZAgNemMZuahsBg+X65/XmhwCBi3E4ewq3AsN/fusRAtcCQb7MLYN27wEjkQ8cQXMHA2Oj92yTpxMBIOVd+jJbIwAhJn+jnZMzABMaSqmsq0MDUuhx/fTPSwPQ8FY/5TdTADAak9y961sA=\",\"dtype\":\"float64\",\"shape\":[100]}}},\"id\":\"665d8049-f68e-4783-a496-bbb89413a524\",\"type\":\"ColumnDataSource\"},{\"attributes\":{\"line_alpha\":0.5,\"line_color\":\"#abdda4\",\"line_width\":2.5,\"x\":{\"field\":\"x\"},\"y\":{\"field\":\"y\"}},\"id\":\"fed7f2dc-4fd5-4105-a873-bab9ce014b2a\",\"type\":\"Line\"},{\"attributes\":{\"source\":{\"id\":\"23759371-5178-4a1f-b680-f033ff3b0451\",\"type\":\"ColumnDataSource\"}},\"id\":\"a99ee6f2-6a9c-4c45-8660-e6171ba3ef18\",\"type\":\"CDSView\"},{\"attributes\":{\"label\":{\"value\":\"2: 591\"},\"renderers\":[{\"id\":\"bbd8df27-9a90-49d6-979f-7b4355d962aa\",\"type\":\"GlyphRenderer\"}]},\"id\":\"112d2db1-d198-4520-bcd4-afec9b0ce9bf\",\"type\":\"LegendItem\"},{\"attributes\":{\"label\":{\"value\":\"7: 1498\"},\"renderers\":[{\"id\":\"9c27615e-dbfc-4f43-be08-593100aef958\",\"type\":\"GlyphRenderer\"}]},\"id\":\"4f15a610-3f51-478a-ada8-0d6cf4600e4c\",\"type\":\"LegendItem\"},{\"attributes\":{\"line_alpha\":0.1,\"line_color\":\"#1f77b4\",\"line_width\":2.5,\"x\":{\"field\":\"x\"},\"y\":{\"field\":\"y\"}},\"id\":\"c32f921d-b923-416d-bc73-a71fa78ecf05\",\"type\":\"Line\"},{\"attributes\":{\"data_source\":{\"id\":\"6c0d2e92-7136-4bd5-902c-08182c4e5124\",\"type\":\"ColumnDataSource\"},\"glyph\":{\"id\":\"67a44b8c-d14c-4820-b020-32d61d0b4fa7\",\"type\":\"Line\"},\"hover_glyph\":null,\"muted_glyph\":null,\"nonselection_glyph\":{\"id\":\"c32f921d-b923-416d-bc73-a71fa78ecf05\",\"type\":\"Line\"},\"selection_glyph\":null,\"view\":{\"id\":\"5315a131-c1a6-457f-b217-4b6f8d00f2ba\",\"type\":\"CDSView\"}},\"id\":\"bbd8df27-9a90-49d6-979f-7b4355d962aa\",\"type\":\"GlyphRenderer\"},{\"attributes\":{\"source\":{\"id\":\"6c0d2e92-7136-4bd5-902c-08182c4e5124\",\"type\":\"ColumnDataSource\"}},\"id\":\"5315a131-c1a6-457f-b217-4b6f8d00f2ba\",\"type\":\"CDSView\"},{\"attributes\":{\"source\":{\"id\":\"38116587-55e8-4096-91ea-f6eba10f43df\",\"type\":\"ColumnDataSource\"}},\"id\":\"0bacd86a-0db2-4868-870f-371dc3c62bd4\",\"type\":\"CDSView\"},{\"attributes\":{\"line_alpha\":0.5,\"line_color\":\"#f46d43\",\"line_width\":2.5,\"x\":{\"field\":\"x\"},\"y\":{\"field\":\"y\"}},\"id\":\"0911aa30-d374-477d-b8c1-822f0145bb8d\",\"type\":\"Line\"},{\"attributes\":{\"callback\":null,\"end\":55000},\"id\":\"bff24b11-7fdf-4bbf-b681-ef1caf28d70e\",\"type\":\"Range1d\"},{\"attributes\":{\"source\":{\"id\":\"665d8049-f68e-4783-a496-bbb89413a524\",\"type\":\"ColumnDataSource\"}},\"id\":\"070474f3-d0ae-4047-adc9-cabd481c24d8\",\"type\":\"CDSView\"},{\"attributes\":{\"callback\":null,\"column_names\":[\"x\",\"y\"],\"data\":{\"x\":{\"__ndarray__\":\"AAAAAAAAAADwwQcffPCSQPDBBx988KJA6KKLLrporEDwwQcffPCyQGyyySabrLdA6KKLLrpovECyySabbJLAQPDBBx988MJALrroootOxUBssskmm6zHQKqqqqqqCspA6KKLLrpozEAmm2yyycbOQLLJJptsktBA0UUXXXTB0UDwwQcffPDSQA8++OCDH9RALrroootO1UBNNtlkk33WQGyyySabrNdAiy666KLb2ECqqqqqqgraQMkmm2yyOdtA6KKLLrpo3EAHH3zwwZfdQCabbLLJxt5ARRdddNH130CyySabbJLgQMIHH3zwKeFA0UUXXXTB4UDggw8++FjiQPDBBx988OJAAAAAAACI40APPvjggx/kQB588MEHt+RALrroootO5UA++OCDD+blQE022WSTfeZAXHTRRRcV50Bssskmm6znQHzwwQcfROhAiy666KLb6ECabLLJJnPpQKqqqqqqCupAuuiiiy6i6kDJJptssjnrQNhkk0020etA6KKLLrpo7ED44IMPPgDtQAcffPDBl+1AFl100UUv7kAmm2yyycbuQDbZZJNNXu9ARRdddNH170CqqqqqqkbwQLLJJptskvBAuuiiiy7e8EDCBx988CnxQMkmm2yydfFA0UUXXXTB8UDZZJNNNg3yQOCDDz74WPJA6KKLLrqk8kDwwQcffPDyQPjggw8+PPNAAAAAAACI80AHH3zwwdPzQA8++OCDH/RAF1100UVr9EAefPDBB7f0QCabbLLJAvVALrroootO9UA22WSTTZr1QD744IMP5vVARRdddNEx9kBNNtlkk332QFVVVVVVyfZAXHTRRRcV90Bkk0022WD3QGyyySabrPdAdNFFF13490B88MEHH0T4QIMPPvjgj/hAiy666KLb+ECTTTbZZCf5QJpssskmc/lAoosuuui++UCqqqqqqgr6QLLJJptsVvpAuuiiiy6i+kDBBx988O36QMkmm2yyOftA0UUXXXSF+0DYZJNNNtH7QOCDDz74HPxA6KKLLrpo/EDwwQcffLT8QPjggw8+AP1AAAAAAABM/UA=\",\"dtype\":\"float64\",\"shape\":[100]},\"y\":{\"__ndarray__\":\"EvoCnHN85kBkc6CgvHXmQMqDPjlcYuZAEvN4/nFD5kBk5ZnpExrmQEXbmVRO5+VAlLEf+iOs5UCNoYD1jWnlQMVAwMJ7IOVALYGQPtPR5EASsVGmcH7kQBp7EpgmJ+RASuaPEr7M40D+VTV19m/jQO+JHICFEeNANJ4NVBey4kA5C39yTlLiQMullb3D8uFAD58keAaU4UCGhK1FnDbhQA5AYCoB2+BA3Bcbi6eB4ECErmot+CrgQOgFFG+krt9A6eDEYBYO30BVXRf/3XTeQC2jl9p/491AH5MuRW1a3UCdxiFSBNrcQMyPE9aPYtxAf/kCZ0f020BEx0tcT4/bQGZ1ps64M9tA2jgomIHh2kBa/0JUlJjaQE5vxV/IWNpAzufa2OEh2kCrgAufkfPZQIMKPFN1zdlAjw6uVxev2UDFzv/P7pfZQNRFLKFfh9lAJieLcbp82UDS3tCoPHfZQKyRDnAQdtlAOB2ysUx42UDGF4YZ9XzZQDTQsRT6gtlASE650TiJ2UBMUn1Ae47ZQGhVOxJ4kdlAZImNudKQ2UDI2GpqG4vZQMDmJhrPftlAUA9yf1dq2UAsZ1kSC0zZQJy7RgwtItlAzJIAaO3q2EBsK6rhaKTYQAx9w/aoTNhA7Dcp5qPh10DcxBSwPGHXQLRFHBZDydZAvJQym3MX1kD0RKeDd0nVQBSiJtXkXNRA3LC5Vj5P00BMLsaQ8x3SQGyQDs1gxtBAaAtkLZ6LzkDI61h06DLLQOgArYrlfMdASP3KDrRjw0DQBq5DmMK9QJBPXc/+3rNAoMCjG+QfokCAv5pyJbyFwGAQ/RlSCa/AsPyosAtlvcD4jiwbRTPGwNg40ZqnS87AzGYpkHSB08AsFwT5NTDYwDxkx2ncNd3AjqZywR9L4cDui7kRpSrkwK6olDR9O+fAPucx2LB/6sBO1RBKUvntwGdSgbs+1fDARxWV9avK8sDX7/1oCN70wC/wHntwEPfAj/YDYQVj+cDHtGEf7db7wG+ulYpSbf7AlBxTo7KTAME0PqHjLAMCwaA44ae0hQPBVHGT+egbBcE=\",\"dtype\":\"float64\",\"shape\":[100]}}},\"id\":\"991a4359-615b-4157-a7a2-28676e3c75ab\",\"type\":\"ColumnDataSource\"},{\"attributes\":{\"line_alpha\":0.1,\"line_color\":\"#1f77b4\",\"line_width\":2.5,\"x\":{\"field\":\"x\"},\"y\":{\"field\":\"y\"}},\"id\":\"d8876351-994f-4057-9449-c7965019394d\",\"type\":\"Line\"},{\"attributes\":{\"label\":{\"value\":\"5: 1228\"},\"renderers\":[{\"id\":\"f97cdf1b-c5af-405f-a8ce-5fe6767e0372\",\"type\":\"GlyphRenderer\"}]},\"id\":\"1d90f32c-b92e-4b6c-9d40-13bd5ca86c98\",\"type\":\"LegendItem\"},{\"attributes\":{\"label\":{\"value\":\"8: 1546\"},\"renderers\":[{\"id\":\"95b7b735-b2ca-4a5e-884b-2b67816b8118\",\"type\":\"GlyphRenderer\"}]},\"id\":\"4a04b35f-e76d-44d9-ba6b-018184677a4c\",\"type\":\"LegendItem\"},{\"attributes\":{\"data_source\":{\"id\":\"23759371-5178-4a1f-b680-f033ff3b0451\",\"type\":\"ColumnDataSource\"},\"glyph\":{\"id\":\"92537e32-58c7-401a-9b4d-7bec861cb293\",\"type\":\"Line\"},\"hover_glyph\":null,\"muted_glyph\":null,\"nonselection_glyph\":{\"id\":\"d8876351-994f-4057-9449-c7965019394d\",\"type\":\"Line\"},\"selection_glyph\":null,\"view\":{\"id\":\"a99ee6f2-6a9c-4c45-8660-e6171ba3ef18\",\"type\":\"CDSView\"}},\"id\":\"95b7b735-b2ca-4a5e-884b-2b67816b8118\",\"type\":\"GlyphRenderer\"},{\"attributes\":{\"line_alpha\":0.1,\"line_color\":\"#1f77b4\",\"line_width\":2.5,\"x\":{\"field\":\"x\"},\"y\":{\"field\":\"y\"}},\"id\":\"55ad1ff2-338f-4571-9ac5-272e0512ecb0\",\"type\":\"Line\"},{\"attributes\":{\"source\":{\"id\":\"e81511a0-9726-4beb-a92b-73afaa41ea00\",\"type\":\"ColumnDataSource\"}},\"id\":\"77f6d919-85c8-4965-aeb9-ac74ed20a05f\",\"type\":\"CDSView\"},{\"attributes\":{\"label\":{\"value\":\"4: 874\"},\"renderers\":[{\"id\":\"753549bb-3346-4733-a0bb-2fa257cd36d8\",\"type\":\"GlyphRenderer\"}]},\"id\":\"6aa33b60-3ef8-45c4-b134-b59da5011915\",\"type\":\"LegendItem\"},{\"attributes\":{\"data_source\":{\"id\":\"991a4359-615b-4157-a7a2-28676e3c75ab\",\"type\":\"ColumnDataSource\"},\"glyph\":{\"id\":\"971ecc6f-556a-4a5a-bef0-af42fd0224f2\",\"type\":\"Line\"},\"hover_glyph\":null,\"muted_glyph\":null,\"nonselection_glyph\":{\"id\":\"55ad1ff2-338f-4571-9ac5-272e0512ecb0\",\"type\":\"Line\"},\"selection_glyph\":null,\"view\":{\"id\":\"355292cd-e494-4d93-8bc7-ae8ba172d960\",\"type\":\"CDSView\"}},\"id\":\"753549bb-3346-4733-a0bb-2fa257cd36d8\",\"type\":\"GlyphRenderer\"},{\"attributes\":{\"callback\":null,\"column_names\":[\"x\",\"y\"],\"data\":{\"x\":{\"__ndarray__\":\"AAAAAAAAAADwwQcffPCSQPDBBx988KJA6KKLLrporEDwwQcffPCyQGyyySabrLdA6KKLLrpovECyySabbJLAQPDBBx988MJALrroootOxUBssskmm6zHQKqqqqqqCspA6KKLLrpozEAmm2yyycbOQLLJJptsktBA0UUXXXTB0UDwwQcffPDSQA8++OCDH9RALrroootO1UBNNtlkk33WQGyyySabrNdAiy666KLb2ECqqqqqqgraQMkmm2yyOdtA6KKLLrpo3EAHH3zwwZfdQCabbLLJxt5ARRdddNH130CyySabbJLgQMIHH3zwKeFA0UUXXXTB4UDggw8++FjiQPDBBx988OJAAAAAAACI40APPvjggx/kQB588MEHt+RALrroootO5UA++OCDD+blQE022WSTfeZAXHTRRRcV50Bssskmm6znQHzwwQcfROhAiy666KLb6ECabLLJJnPpQKqqqqqqCupAuuiiiy6i6kDJJptssjnrQNhkk0020etA6KKLLrpo7ED44IMPPgDtQAcffPDBl+1AFl100UUv7kAmm2yyycbuQDbZZJNNXu9ARRdddNH170CqqqqqqkbwQLLJJptskvBAuuiiiy7e8EDCBx988CnxQMkmm2yydfFA0UUXXXTB8UDZZJNNNg3yQOCDDz74WPJA6KKLLrqk8kDwwQcffPDyQPjggw8+PPNAAAAAAACI80AHH3zwwdPzQA8++OCDH/RAF1100UVr9EAefPDBB7f0QCabbLLJAvVALrroootO9UA22WSTTZr1QD744IMP5vVARRdddNEx9kBNNtlkk332QFVVVVVVyfZAXHTRRRcV90Bkk0022WD3QGyyySabrPdAdNFFF13490B88MEHH0T4QIMPPvjgj/hAiy666KLb+ECTTTbZZCf5QJpssskmc/lAoosuuui++UCqqqqqqgr6QLLJJptsVvpAuuiiiy6i+kDBBx988O36QMkmm2yyOftA0UUXXXSF+0DYZJNNNtH7QOCDDz74HPxA6KKLLrpo/EDwwQcffLT8QPjggw8+AP1AAAAAAABM/UA=\",\"dtype\":\"float64\",\"shape\":[100]},\"y\":{\"__ndarray__\":\"8qFrvyZA5kDRnD5NAwzmQLCXEdvf1+VAkJLkaLyj5UBvjbf2mG/lQE6IioR1O+VALYNdElIH5UAMfjCgLtPkQOt4Ay4Ln+RAy3PWu+dq5ECqbqlJxDbkQIlpfNegAuRAaGRPZX3O40BHXyLzWZrjQCZa9YA2ZuNABlXIDhMy40DlT5uc7/3iQMRKbirMyeJAo0VBuKiV4kCCQBRGhWHiQGI759NhLeJAQTa6YT754UAgMY3vGsXhQP8rYH33kOFA3iYzC9Rc4UC+IQaZsCjhQJ0c2SaN9OBAfBestGnA4EBbEn9CRozgQDoNUtAiWOBAGgglXv8j4EDyBfDXt9/fQLD7lfNwd99AbvE7DyoP30As5+Eq46beQOvch0acPt5AqdItYlXW3UBnyNN9Dm7dQCa+eZnHBd1A5LMftYCd3ECjqcXQOTXcQGGfa+zyzNtAH5URCKxk20DeircjZfzaQJyAXT8elNpAWnYDW9cr2kAZbKl2kMPZQNdhT5JJW9lAllf1rQLz2EBUTZvJu4rYQBJDQeV0IthA0TjnAC6610CPLo0c51HXQE0kMzig6dZADBrZU1mB1kDKD39vEhnWQIgFJYvLsNVARvvKpoRI1UAE8XDCPeDUQMTmFt72d9RAgty8+a8P1EBA0mIVaafTQP/HCDEiP9NAvb2uTNvW0kB7s1RolG7SQDmp+oNNBtJA956gnwae0UC3lEa7vzXRQHWK7NZ4zdBAM4CS8jFl0EDk63Ac1vnPQGDXvFNIKc9A3MIIi7pYzkBYrlTCLIjNQNSZoPmet8xAVIXsMBHny0DQcDhogxbLQExchJ/1RcpAykfQ1md1yUBIMxwO2qTIQMQeaEVM1MdAQAq0fL4Dx0C89f+zMDPGQDjhS+uiYsVAtMyXIhWSxEAwuONZh8HDQLCjL5H58MJALI97yGsgwkCoesf/3U/BQCRmEzdQf8BAQKO+3IRdv0BAelZLaby9QDhR7rlNG7xAMCiGKDJ6ukAo/x2XFtm4QCDWtQX7N7dAIK1NdN+WtUAYhOXiw/WzQBBbfVGoVLJACDIVwIyzsEA=\",\"dtype\":\"float64\",\"shape\":[100]}}},\"id\":\"aa615bfb-2b8d-4cdf-a907-d2f1f1908e8f\",\"type\":\"ColumnDataSource\"},{\"attributes\":{\"data_source\":{\"id\":\"e81511a0-9726-4beb-a92b-73afaa41ea00\",\"type\":\"ColumnDataSource\"},\"glyph\":{\"id\":\"dcb1f53c-dc0c-4349-9f38-870c67563772\",\"type\":\"Line\"},\"hover_glyph\":null,\"muted_glyph\":null,\"nonselection_glyph\":{\"id\":\"3e98e6d0-20b9-4b31-8eae-ec3ed8ba3304\",\"type\":\"Line\"},\"selection_glyph\":null,\"view\":{\"id\":\"77f6d919-85c8-4965-aeb9-ac74ed20a05f\",\"type\":\"CDSView\"}},\"id\":\"f97cdf1b-c5af-405f-a8ce-5fe6767e0372\",\"type\":\"GlyphRenderer\"},{\"attributes\":{\"callback\":null,\"column_names\":[\"x\",\"y\"],\"data\":{\"x\":{\"__ndarray__\":\"AAAAAAAAAADwwQcffPCSQPDBBx988KJA6KKLLrporEDwwQcffPCyQGyyySabrLdA6KKLLrpovECyySabbJLAQPDBBx988MJALrroootOxUBssskmm6zHQKqqqqqqCspA6KKLLrpozEAmm2yyycbOQLLJJptsktBA0UUXXXTB0UDwwQcffPDSQA8++OCDH9RALrroootO1UBNNtlkk33WQGyyySabrNdAiy666KLb2ECqqqqqqgraQMkmm2yyOdtA6KKLLrpo3EAHH3zwwZfdQCabbLLJxt5ARRdddNH130CyySabbJLgQMIHH3zwKeFA0UUXXXTB4UDggw8++FjiQPDBBx988OJAAAAAAACI40APPvjggx/kQB588MEHt+RALrroootO5UA++OCDD+blQE022WSTfeZAXHTRRRcV50Bssskmm6znQHzwwQcfROhAiy666KLb6ECabLLJJnPpQKqqqqqqCupAuuiiiy6i6kDJJptssjnrQNhkk0020etA6KKLLrpo7ED44IMPPgDtQAcffPDBl+1AFl100UUv7kAmm2yyycbuQDbZZJNNXu9ARRdddNH170CqqqqqqkbwQLLJJptskvBAuuiiiy7e8EDCBx988CnxQMkmm2yydfFA0UUXXXTB8UDZZJNNNg3yQOCDDz74WPJA6KKLLrqk8kDwwQcffPDyQPjggw8+PPNAAAAAAACI80AHH3zwwdPzQA8++OCDH/RAF1100UVr9EAefPDBB7f0QCabbLLJAvVALrroootO9UA22WSTTZr1QD744IMP5vVARRdddNEx9kBNNtlkk332QFVVVVVVyfZAXHTRRRcV90Bkk0022WD3QGyyySabrPdAdNFFF13490B88MEHH0T4QIMPPvjgj/hAiy666KLb+ECTTTbZZCf5QJpssskmc/lAoosuuui++UCqqqqqqgr6QLLJJptsVvpAuuiiiy6i+kDBBx988O36QMkmm2yyOftA0UUXXXSF+0DYZJNNNtH7QOCDDz74HPxA6KKLLrpo/EDwwQcffLT8QPjggw8+AP1AAAAAAABM/UA=\",\"dtype\":\"float64\",\"shape\":[100]},\"y\":{\"__ndarray__\":\"MLHIzqDb5ECjkF/OoNvkQAFiZbWg2+RAUy6bt5/b5EBCkGvlmtvkQDRHuxCL2+RAdjl0QWLb5EDnog7xCNvkQHr9hD9b2uRA/gBITybZ5ECZ5/DwJdfkQFb0mMIC1ORAOwnm4VDP5EBV6gRLj8jkQCab8vknv+RA7xOf3nCy5EA2XJyvraHkQBroNaISjORA0eX0Cchw5EDZ+L7c7k7kQE2w5ROmJeRA3NWl3RD040Dngr6NXbnjQDe58DbNdONA1Axh0rsl40CDvP3UqMviQGZmNA5AZuJASFZrpmL14UAgO9sOMHnhQEbhjq8O8uBABl93G7Rg4EDP4VcbWYzfQNMmK9zCR95AbW/eLT333ECQgVgfLJ/bQDSN/9nDRNpAZtrPAQju2EB02ZIBxqHXQCJxoIWJZ9ZAVAXmXYpH1UA4UkD2kkrUQMjWhoreedNAaCn5Me7e0kAQMxDUU4PSQNDqBg9ycNJAOM6/DjCv0kDw8P1IoEfTQFAgOgqZQNRAUDOutD2f1UBARoKJd2bXQIA6WcpcltlAYHbL94Qr3EBgf7DnSB7fQADYNLL2MOFAUO1Yftvx4kBwruPQ8sTkQHDeC1RLmeZAkMRy2kVZ6EAwb9mM6unpQLA9RgovKutA8I9RsSzy60CwJHlERhLsQLCnghY8UutAsJ8e5y1w6UAwzyWTiR/mQDDo87blB+FAYHYWuY6H00AAKA3VGldwwKB8/PpAUtrA0LTigXzq7cCo190qR4b5wLTzypXsUgPB9OutS6heC8E6As/yipASwfoHzV7DbRjB2rj2fDNrH8Ft3lx7c9gjwY25i5+FtSjBTRaU9h9lLsHWgZ/Y+oAywSalqvikVDbBVlFxUI+9OsE24xrUMs0/wWvRiSVNy0LBy52fsz4XRsErVaaUrtVJwbthMs7QEk7B3snkPO5tUcE+D9wEjh9UwX5eriT/JVfBBgIrD5SJWsFuHweIQ1NewfekzSZZRmHBX2O1lR6gY8GPHii8gTxmwS+emgF5IWnBP9ehOGdVbMGfAEWIId9vwf8chcj64nHBZ+2h59cIdME=\",\"dtype\":\"float64\",\"shape\":[100]}}},\"id\":\"23759371-5178-4a1f-b680-f033ff3b0451\",\"type\":\"ColumnDataSource\"},{\"attributes\":{},\"id\":\"98b9de96-14cc-4c3d-b019-5bf231affc57\",\"type\":\"BasicTickFormatter\"},{\"attributes\":{\"line_alpha\":0.5,\"line_color\":\"#fee08b\",\"line_width\":2.5,\"x\":{\"field\":\"x\"},\"y\":{\"field\":\"y\"}},\"id\":\"dcb1f53c-dc0c-4349-9f38-870c67563772\",\"type\":\"Line\"},{\"attributes\":{\"label\":{\"value\":\"1: 970\"},\"renderers\":[{\"id\":\"352c33d6-d719-4802-ad7d-a3eac4f6633a\",\"type\":\"GlyphRenderer\"}]},\"id\":\"c02385c3-4384-4fea-9d8e-b06b3ffe4c88\",\"type\":\"LegendItem\"},{\"attributes\":{\"callback\":null,\"column_names\":[\"x\",\"y\"],\"data\":{\"x\":{\"__ndarray__\":\"AAAAAAAAAADwwQcffPCSQPDBBx988KJA6KKLLrporEDwwQcffPCyQGyyySabrLdA6KKLLrpovECyySabbJLAQPDBBx988MJALrroootOxUBssskmm6zHQKqqqqqqCspA6KKLLrpozEAmm2yyycbOQLLJJptsktBA0UUXXXTB0UDwwQcffPDSQA8++OCDH9RALrroootO1UBNNtlkk33WQGyyySabrNdAiy666KLb2ECqqqqqqgraQMkmm2yyOdtA6KKLLrpo3EAHH3zwwZfdQCabbLLJxt5ARRdddNH130CyySabbJLgQMIHH3zwKeFA0UUXXXTB4UDggw8++FjiQPDBBx988OJAAAAAAACI40APPvjggx/kQB588MEHt+RALrroootO5UA++OCDD+blQE022WSTfeZAXHTRRRcV50Bssskmm6znQHzwwQcfROhAiy666KLb6ECabLLJJnPpQKqqqqqqCupAuuiiiy6i6kDJJptssjnrQNhkk0020etA6KKLLrpo7ED44IMPPgDtQAcffPDBl+1AFl100UUv7kAmm2yyycbuQDbZZJNNXu9ARRdddNH170CqqqqqqkbwQLLJJptskvBAuuiiiy7e8EDCBx988CnxQMkmm2yydfFA0UUXXXTB8UDZZJNNNg3yQOCDDz74WPJA6KKLLrqk8kDwwQcffPDyQPjggw8+PPNAAAAAAACI80AHH3zwwdPzQA8++OCDH/RAF1100UVr9EAefPDBB7f0QCabbLLJAvVALrroootO9UA22WSTTZr1QD744IMP5vVARRdddNEx9kBNNtlkk332QFVVVVVVyfZAXHTRRRcV90Bkk0022WD3QGyyySabrPdAdNFFF13490B88MEHH0T4QIMPPvjgj/hAiy666KLb+ECTTTbZZCf5QJpssskmc/lAoosuuui++UCqqqqqqgr6QLLJJptsVvpAuuiiiy6i+kDBBx988O36QMkmm2yyOftA0UUXXXSF+0DYZJNNNtH7QOCDDz74HPxA6KKLLrpo/EDwwQcffLT8QPjggw8+AP1AAAAAAABM/UA=\",\"dtype\":\"float64\",\"shape\":[100]},\"y\":{\"__ndarray__\":\"uBZmsjyT5UB1aAffBpPlQP7PuEebkeVAUmIbs+eN5UCeTVo1/4blQIfzYZIYfOVAagMXoIxs5UCnlI2o1FflQORAQMyIPeVAVT5HZF4d5UACeo9kJvfkQAuyEb7LyuRA8Y8JwVGY5EDYwix/0l/kQNMZ4i19IeRAI554iJTd40CDrV4ybZTjQGoUWRlsRuNAVii61wT04kAK4pgWuJ3iQNv3B/ARROJA9fdMUajn4UCgYhddGYnhQIHEt80JKeFA7NBWVyPI4EAefCwKE2fgQIwVt7SHBuBAP8Tki2BO30AQbR1fdJPeQO4iUJCf3d1A2mv6Wi0u3UD6ik1NXIbcQBy1nAxb59tAVEXLGUVS20B48bqVH8jaQMD+uQXWSdpANHbxFzfY2UBUWdNn8XPZQIzWiEKQHdlA3H1ga3jV2EBcdTzg5JvYQKytAJ7jcNhAoBYBZVJU2EC4029920XYQNhwy3vyRNhAeBZNBdFQ2ECovlaUc2jYQDBp4TyWithAWFDrcLG12EBwHebE9ufYQFgdJbRNH9lA4HRLZVBZ2UCYVbpuSJPZQEAy/5orytlAaPNBrZj62UCQK7Ml1CDaQJBM+gXFONpAENujlfE92kAQpI8mfCvaQMDwXtkf/NlAoLviYS2q2UBw5InLhy/ZQEBlzz2hhdhAoIaowHel10CAFPMAkofWQHCS4xT8I9VAMHBzQERy00CgPs+5d2nRQKDHids+AM5AIKBjiHlYyEAgY+LIjMbBQMCnKOeTaLRAAFbA+/6liEDAfaaDVp+wwCAM2f2Ac8PAoGzLdQD8z8AwO32TogLXwBDx2ahW1t7AGKkZHDjE48BooLFrdZTowNjpO5g25O3ATEhRDxPe8cA8wr2goxL1wOTAaNN7lPjAXHr2enho/MBSOEed0kkAwXLx36mejQLBWiGzOlYCBcE60kbFx6oHwfqZq8TaiQrBCtPuIJCiDcEpa0ZLAXwQwUGa8Y6zRhLBmXdRqQYzFME9WaHtr0IWwVmHOGhydxjBoVhDEh/TGsFxT3wFlVcdwQCb8tdgAyDByB3Ag1BxIcE=\",\"dtype\":\"float64\",\"shape\":[100]}}},\"id\":\"e81511a0-9726-4beb-a92b-73afaa41ea00\",\"type\":\"ColumnDataSource\"},{\"attributes\":{\"line_alpha\":0.1,\"line_color\":\"#1f77b4\",\"line_width\":2.5,\"x\":{\"field\":\"x\"},\"y\":{\"field\":\"y\"}},\"id\":\"97a50ef7-6b91-4840-b08b-5169ac4c4a75\",\"type\":\"Line\"},{\"attributes\":{},\"id\":\"30cea68c-56dd-4f69-b139-a88521b4f0b6\",\"type\":\"WheelZoomTool\"},{\"attributes\":{\"line_alpha\":0.5,\"line_color\":\"#e6f598\",\"line_width\":2.5,\"x\":{\"field\":\"x\"},\"y\":{\"field\":\"y\"}},\"id\":\"971ecc6f-556a-4a5a-bef0-af42fd0224f2\",\"type\":\"Line\"},{\"attributes\":{\"line_alpha\":0.1,\"line_color\":\"#1f77b4\",\"line_width\":2.5,\"x\":{\"field\":\"x\"},\"y\":{\"field\":\"y\"}},\"id\":\"3e98e6d0-20b9-4b31-8eae-ec3ed8ba3304\",\"type\":\"Line\"},{\"attributes\":{\"line_alpha\":0.5,\"line_color\":\"#fdae61\",\"line_width\":2.5,\"x\":{\"field\":\"x\"},\"y\":{\"field\":\"y\"}},\"id\":\"e507fa7c-38d8-4864-b039-2c6e110df982\",\"type\":\"Line\"},{\"attributes\":{\"label\":{\"value\":\"6: 1406\"},\"renderers\":[{\"id\":\"affb7c13-163c-40c9-bb0f-20174d2077aa\",\"type\":\"GlyphRenderer\"}]},\"id\":\"875b20b5-187f-45bd-81c7-7fa188d23b6a\",\"type\":\"LegendItem\"},{\"attributes\":{\"line_alpha\":0.5,\"line_color\":\"#d53e4f\",\"line_width\":2.5,\"x\":{\"field\":\"x\"},\"y\":{\"field\":\"y\"}},\"id\":\"92537e32-58c7-401a-9b4d-7bec861cb293\",\"type\":\"Line\"},{\"attributes\":{\"callback\":null,\"column_names\":[\"x\",\"y\"],\"data\":{\"x\":{\"__ndarray__\":\"AAAAAAAAAADwwQcffPCSQPDBBx988KJA6KKLLrporEDwwQcffPCyQGyyySabrLdA6KKLLrpovECyySabbJLAQPDBBx988MJALrroootOxUBssskmm6zHQKqqqqqqCspA6KKLLrpozEAmm2yyycbOQLLJJptsktBA0UUXXXTB0UDwwQcffPDSQA8++OCDH9RALrroootO1UBNNtlkk33WQGyyySabrNdAiy666KLb2ECqqqqqqgraQMkmm2yyOdtA6KKLLrpo3EAHH3zwwZfdQCabbLLJxt5ARRdddNH130CyySabbJLgQMIHH3zwKeFA0UUXXXTB4UDggw8++FjiQPDBBx988OJAAAAAAACI40APPvjggx/kQB588MEHt+RALrroootO5UA++OCDD+blQE022WSTfeZAXHTRRRcV50Bssskmm6znQHzwwQcfROhAiy666KLb6ECabLLJJnPpQKqqqqqqCupAuuiiiy6i6kDJJptssjnrQNhkk0020etA6KKLLrpo7ED44IMPPgDtQAcffPDBl+1AFl100UUv7kAmm2yyycbuQDbZZJNNXu9ARRdddNH170CqqqqqqkbwQLLJJptskvBAuuiiiy7e8EDCBx988CnxQMkmm2yydfFA0UUXXXTB8UDZZJNNNg3yQOCDDz74WPJA6KKLLrqk8kDwwQcffPDyQPjggw8+PPNAAAAAAACI80AHH3zwwdPzQA8++OCDH/RAF1100UVr9EAefPDBB7f0QCabbLLJAvVALrroootO9UA22WSTTZr1QD744IMP5vVARRdddNEx9kBNNtlkk332QFVVVVVVyfZAXHTRRRcV90Bkk0022WD3QGyyySabrPdAdNFFF13490B88MEHH0T4QIMPPvjgj/hAiy666KLb+ECTTTbZZCf5QJpssskmc/lAoosuuui++UCqqqqqqgr6QLLJJptsVvpAuuiiiy6i+kDBBx988O36QMkmm2yyOftA0UUXXXSF+0DYZJNNNtH7QOCDDz74HPxA6KKLLrpo/EDwwQcffLT8QPjggw8+AP1AAAAAAABM/UA=\",\"dtype\":\"float64\",\"shape\":[100]},\"y\":{\"__ndarray__\":\"zNPRJQIp5UCRH+F/ACnlQERIP5/oKOVA37o5IoUo5UBo5BsfhCflQIM239l8JeVAqKHuKPUh5UD0hP2IZhzlQJoT8t9CFOVA6y/j7vgI5UAGvClz+PnkQCBghfa15uRAacZUTq7O5ECSTOHJabHkQO8qvg9/juRANhE7qpVl5EDjOOpCaDbkQCvtOY3GAORAn4gh4JbE40Bd6OF+14HjQOpU2ZCfOONApOBqyB/p4kDUO/m4opPiQF7+9NuMOOJADGf+RFzY4UB7kBoFqHPhQKUb/DwfC+FABVBf3oef4EBesXkcvTHgQDoW+hZbhd9Au+Jb3rGm3kD4bhtxm8ndQLu4L2VM8NxAmdglvAod3EDIsOn4JlLbQFyHtZP0kdpArosozMHe2UD5RoTZzjrZQEr4EHlEqNhAc9uo2ikp2ECWW2rrWb/XQJcwkf53bNdA7Gd21OMx10CyWLf/rBDXQNiCg6iFCddA1FkRrrQc10A4+jkmB0rXQKDKOzvBkNdADgikZ47v10BKPV8QcWTYQFel8Hyx7NhA5HnQLcyE2UD7K/GQXyjaQGaIaxQZ0tpATcdRl6F720Bih6k4iR3cQMSzjIQyr9xAqFRx/7wm3UBsTZgP73jdQAIDo0Qfmd1Am+5P/Rx53UCZHV5rGAndQOyZl/WJN9xApr4C+Bjx2kDYdzrigSDZQJNv7bN7rtZAJyGE15yB00DOutu1fvzOQMhsKQ3JDMVAuF3hSV/msUBQtYE0dlmmwCTA2ypS28bAuOs5p2GW1cAGu8OrabjgwIAAQ8LElefAvot+ciB878AtQghAAkP0wJYt0JHZZ/nAZBxTNJ07/8CSvwZ3IecCwdExBSNcmAbBxf4T1nW6CsGTOunk6lYPwQA+zb7gOxLB2kQ4PMcTFcF6E3sevTgYwWQDod2isBvB6O69vKeBH8GWJmctJtkhwdFu2qayJCTBVvOq4w6nJsH3AWgi/WMpwe1D6aNtXyzB0bUIDYCdL8HQtLVmQpExwWuIrEV/eTPBiCdRytGJNcGz6kqqr8Q3wWIjguepLDrBQHIpkG3EPME=\",\"dtype\":\"float64\",\"shape\":[100]}}},\"id\":\"c69d24de-24a6-42d9-848c-8c001fba1616\",\"type\":\"ColumnDataSource\"},{\"attributes\":{\"callback\":null,\"column_names\":[\"x\",\"y\"],\"data\":{\"x\":[0,5000,10000,20000,40000,60000,80000],\"y\":[50000,45000,40000,35000,30000,25000,20000]}},\"id\":\"c72f4d93-34a1-46d6-87b4-17ba2a536372\",\"type\":\"ColumnDataSource\"},{\"attributes\":{\"background_fill_alpha\":{\"value\":0},\"below\":[{\"id\":\"6465acf4-54f2-41a6-8840-9d8316366718\",\"type\":\"LinearAxis\"}],\"border_fill_alpha\":{\"value\":0},\"left\":[{\"id\":\"46d9886d-fb67-4312-8979-aeb8790ff9ec\",\"type\":\"LinearAxis\"}],\"outline_line_color\":{\"value\":\"#333333\"},\"plot_height\":300,\"plot_width\":400,\"renderers\":[{\"id\":\"6465acf4-54f2-41a6-8840-9d8316366718\",\"type\":\"LinearAxis\"},{\"id\":\"c757bdad-d022-4509-9594-ba135284982f\",\"type\":\"Grid\"},{\"id\":\"46d9886d-fb67-4312-8979-aeb8790ff9ec\",\"type\":\"LinearAxis\"},{\"id\":\"2430e427-978d-4cff-8acd-b5399771d5fd\",\"type\":\"Grid\"},{\"id\":\"6674f3d0-f45c-49c6-b800-cc2fca0593bc\",\"type\":\"BoxAnnotation\"},{\"id\":\"d5991203-6fc0-401b-b929-870f0eb4f533\",\"type\":\"GlyphRenderer\"},{\"id\":\"f18dcfc5-8c52-43ae-8386-7fc278782be0\",\"type\":\"Legend\"},{\"id\":\"352c33d6-d719-4802-ad7d-a3eac4f6633a\",\"type\":\"GlyphRenderer\"},{\"id\":\"bbd8df27-9a90-49d6-979f-7b4355d962aa\",\"type\":\"GlyphRenderer\"},{\"id\":\"f4b733de-c4cf-4ba5-b45f-13b682aa108d\",\"type\":\"GlyphRenderer\"},{\"id\":\"753549bb-3346-4733-a0bb-2fa257cd36d8\",\"type\":\"GlyphRenderer\"},{\"id\":\"f97cdf1b-c5af-405f-a8ce-5fe6767e0372\",\"type\":\"GlyphRenderer\"},{\"id\":\"affb7c13-163c-40c9-bb0f-20174d2077aa\",\"type\":\"GlyphRenderer\"},{\"id\":\"9c27615e-dbfc-4f43-be08-593100aef958\",\"type\":\"GlyphRenderer\"},{\"id\":\"95b7b735-b2ca-4a5e-884b-2b67816b8118\",\"type\":\"GlyphRenderer\"}],\"title\":{\"id\":\"ef89d3fd-3eaa-4bae-98c1-9596047145c2\",\"type\":\"Title\"},\"toolbar\":{\"id\":\"a14bfd26-be6b-4661-89ed-20ecf7ee8897\",\"type\":\"Toolbar\"},\"toolbar_location\":null,\"x_range\":{\"id\":\"ef8d5754-034d-4472-acb4-2d881ef87ee9\",\"type\":\"DataRange1d\"},\"x_scale\":{\"id\":\"9fb2c14e-b040-4f13-80b4-a8372b459966\",\"type\":\"LinearScale\"},\"y_range\":{\"id\":\"bff24b11-7fdf-4bbf-b681-ef1caf28d70e\",\"type\":\"Range1d\"},\"y_scale\":{\"id\":\"7d177528-a175-4842-8895-c8c99cc00289\",\"type\":\"LinearScale\"}},\"id\":\"b4ec97d5-1827-49e3-8f78-18c1340419a6\",\"subtype\":\"Figure\",\"type\":\"Plot\"},{\"attributes\":{\"format\":\"0\"},\"id\":\"9a920673-21b0-4b09-b4f4-ab148ac049c3\",\"type\":\"NumeralTickFormatter\"}],\"root_ids\":[\"b4ec97d5-1827-49e3-8f78-18c1340419a6\"]},\"title\":\"Bokeh Application\",\"version\":\"0.12.13\"}};\n",
       "  var render_items = [{\"docid\":\"75035e39-df47-4d1e-b003-7d2a3dea6b3d\",\"elementid\":\"10494cd7-5857-482f-8085-5148ac2e4812\",\"modelid\":\"b4ec97d5-1827-49e3-8f78-18c1340419a6\"}];\n",
       "  root.Bokeh.embed.embed_items_notebook(docs_json, render_items);\n",
       "\n",
       "  }\n",
       "  if (root.Bokeh !== undefined) {\n",
       "    embed_document(root);\n",
       "  } else {\n",
       "    var attempts = 0;\n",
       "    var timer = setInterval(function(root) {\n",
       "      if (root.Bokeh !== undefined) {\n",
       "        embed_document(root);\n",
       "        clearInterval(timer);\n",
       "      }\n",
       "      attempts++;\n",
       "      if (attempts > 100) {\n",
       "        console.log(\"Bokeh: ERROR: Unable to run BokehJS code because BokehJS library is missing\")\n",
       "        clearInterval(timer);\n",
       "      }\n",
       "    }, 10, root)\n",
       "  }\n",
       "})(window);"
      ],
      "application/vnd.bokehjs_exec.v0+json": ""
     },
     "metadata": {
      "application/vnd.bokehjs_exec.v0+json": {
       "id": "b4ec97d5-1827-49e3-8f78-18c1340419a6"
      }
     },
     "output_type": "display_data"
    }
   ],
   "source": [
    "show(plot)"
   ]
  },
  {
   "cell_type": "markdown",
   "metadata": {
    "slideshow": {
     "slide_type": "slide"
    }
   },
   "source": [
    "# Ill-Posed Problem\n",
    "\n",
    "Learning is an **ill-posed problem**, data is never sufficient to find a unique solution.\n",
    "\n",
    "For binary classification, after seeing N example cases, there remain \\\\({2^{{2^d} - N}}\\\\) possible functions."
   ]
  },
  {
   "cell_type": "code",
   "execution_count": 23,
   "metadata": {
    "slideshow": {
     "slide_type": "skip"
    }
   },
   "outputs": [
    {
     "data": {
      "text/html": [
       "<div style=\"display: table;\"><div style=\"display: table-row;\"><div style=\"display: table-cell;\"><b title=\"bokeh.models.renderers.GlyphRenderer\">GlyphRenderer</b>(</div><div style=\"display: table-cell;\">id&nbsp;=&nbsp;'6519f08f-ab22-41d4-8e58-5660f1a3926f', <span id=\"a4962649-98fe-4d01-b98e-528974448a03\" style=\"cursor: pointer;\">&hellip;)</span></div></div><div class=\"1bdc2a13-57d4-401a-a5b1-5955f7dc64f8\" style=\"display: none;\"><div style=\"display: table-cell;\"></div><div style=\"display: table-cell;\">data_source&nbsp;=&nbsp;ColumnDataSource(id='02b1ef5b-533b-49c2-bb89-8155fc8bc62c', ...),</div></div><div class=\"1bdc2a13-57d4-401a-a5b1-5955f7dc64f8\" style=\"display: none;\"><div style=\"display: table-cell;\"></div><div style=\"display: table-cell;\">glyph&nbsp;=&nbsp;Rect(id='74d755fc-203b-4f38-8357-dc91c2caa131', ...),</div></div><div class=\"1bdc2a13-57d4-401a-a5b1-5955f7dc64f8\" style=\"display: none;\"><div style=\"display: table-cell;\"></div><div style=\"display: table-cell;\">hover_glyph&nbsp;=&nbsp;None,</div></div><div class=\"1bdc2a13-57d4-401a-a5b1-5955f7dc64f8\" style=\"display: none;\"><div style=\"display: table-cell;\"></div><div style=\"display: table-cell;\">js_event_callbacks&nbsp;=&nbsp;{},</div></div><div class=\"1bdc2a13-57d4-401a-a5b1-5955f7dc64f8\" style=\"display: none;\"><div style=\"display: table-cell;\"></div><div style=\"display: table-cell;\">js_property_callbacks&nbsp;=&nbsp;{},</div></div><div class=\"1bdc2a13-57d4-401a-a5b1-5955f7dc64f8\" style=\"display: none;\"><div style=\"display: table-cell;\"></div><div style=\"display: table-cell;\">level&nbsp;=&nbsp;'glyph',</div></div><div class=\"1bdc2a13-57d4-401a-a5b1-5955f7dc64f8\" style=\"display: none;\"><div style=\"display: table-cell;\"></div><div style=\"display: table-cell;\">muted&nbsp;=&nbsp;False,</div></div><div class=\"1bdc2a13-57d4-401a-a5b1-5955f7dc64f8\" style=\"display: none;\"><div style=\"display: table-cell;\"></div><div style=\"display: table-cell;\">muted_glyph&nbsp;=&nbsp;None,</div></div><div class=\"1bdc2a13-57d4-401a-a5b1-5955f7dc64f8\" style=\"display: none;\"><div style=\"display: table-cell;\"></div><div style=\"display: table-cell;\">name&nbsp;=&nbsp;None,</div></div><div class=\"1bdc2a13-57d4-401a-a5b1-5955f7dc64f8\" style=\"display: none;\"><div style=\"display: table-cell;\"></div><div style=\"display: table-cell;\">nonselection_glyph&nbsp;=&nbsp;Rect(id='0fcb6fee-3ffd-4258-845f-fe5373353613', ...),</div></div><div class=\"1bdc2a13-57d4-401a-a5b1-5955f7dc64f8\" style=\"display: none;\"><div style=\"display: table-cell;\"></div><div style=\"display: table-cell;\">selection_glyph&nbsp;=&nbsp;None,</div></div><div class=\"1bdc2a13-57d4-401a-a5b1-5955f7dc64f8\" style=\"display: none;\"><div style=\"display: table-cell;\"></div><div style=\"display: table-cell;\">subscribed_events&nbsp;=&nbsp;[],</div></div><div class=\"1bdc2a13-57d4-401a-a5b1-5955f7dc64f8\" style=\"display: none;\"><div style=\"display: table-cell;\"></div><div style=\"display: table-cell;\">tags&nbsp;=&nbsp;[],</div></div><div class=\"1bdc2a13-57d4-401a-a5b1-5955f7dc64f8\" style=\"display: none;\"><div style=\"display: table-cell;\"></div><div style=\"display: table-cell;\">view&nbsp;=&nbsp;CDSView(id='8ab61e0e-39a1-442c-877b-d39077470256', ...),</div></div><div class=\"1bdc2a13-57d4-401a-a5b1-5955f7dc64f8\" style=\"display: none;\"><div style=\"display: table-cell;\"></div><div style=\"display: table-cell;\">visible&nbsp;=&nbsp;True,</div></div><div class=\"1bdc2a13-57d4-401a-a5b1-5955f7dc64f8\" style=\"display: none;\"><div style=\"display: table-cell;\"></div><div style=\"display: table-cell;\">x_range_name&nbsp;=&nbsp;'default',</div></div><div class=\"1bdc2a13-57d4-401a-a5b1-5955f7dc64f8\" style=\"display: none;\"><div style=\"display: table-cell;\"></div><div style=\"display: table-cell;\">y_range_name&nbsp;=&nbsp;'default')</div></div></div>\n",
       "<script>\n",
       "(function() {\n",
       "  var expanded = false;\n",
       "  var ellipsis = document.getElementById(\"a4962649-98fe-4d01-b98e-528974448a03\");\n",
       "  ellipsis.addEventListener(\"click\", function() {\n",
       "    var rows = document.getElementsByClassName(\"1bdc2a13-57d4-401a-a5b1-5955f7dc64f8\");\n",
       "    for (var i = 0; i < rows.length; i++) {\n",
       "      var el = rows[i];\n",
       "      el.style.display = expanded ? \"none\" : \"table-row\";\n",
       "    }\n",
       "    ellipsis.innerHTML = expanded ? \"&hellip;)\" : \"&lsaquo;&lsaquo;&lsaquo;\";\n",
       "    expanded = !expanded;\n",
       "  });\n",
       "})();\n",
       "</script>\n"
      ],
      "text/plain": [
       "GlyphRenderer(id='6519f08f-ab22-41d4-8e58-5660f1a3926f', ...)"
      ]
     },
     "execution_count": 23,
     "metadata": {},
     "output_type": "execute_result"
    }
   ],
   "source": [
    "def rectangle_plot(title=None): \n",
    "    plot = basic_plot(width=200, height=200, title=title)\n",
    "    plot.rect(x=[0.5, 0.5, 0.5, 1.5, 1.5, 1.5, 2.5, 2.5, 2.5],\n",
    "              y=[0.5, 1.5, 2.5, 0.5, 1.5, 2.5, 0.5, 1.5, 2.5], \n",
    "              width=1, height=1, line_color='grey', color=None,)\n",
    "    plot.outline_line_color = None\n",
    "    plot.axis.visible = False\n",
    "    return(plot)\n",
    "\n",
    "p1 = rectangle_plot()\n",
    "p1.rect(x=[0.5,1.5,2.5], y=[1.5,1.5,0.5], width=1, height=1, color='grey')\n",
    "# p1.title. = 'r^t = 1'\n",
    "\n",
    "p2 = rectangle_plot()\n",
    "p2.rect(x=[2.5,1.5,0.5], y=[0.5,1.5,2.5], width=1, height=1, color='grey')\n",
    "\n",
    "p3 = rectangle_plot()\n",
    "p3.rect(x=[2.5,1.5,0.5,0.5], y=[0.5,1.5,2.5,0.5], width=1, height=1, color='grey')"
   ]
  },
  {
   "cell_type": "code",
   "execution_count": 24,
   "metadata": {
    "slideshow": {
     "slide_type": "-"
    }
   },
   "outputs": [
    {
     "data": {
      "text/html": [
       "\n",
       "<div class=\"bk-root\">\n",
       "    <div class=\"bk-plotdiv\" id=\"4ef8445d-cdbd-4c15-a272-114807be66b6\"></div>\n",
       "</div>"
      ]
     },
     "metadata": {},
     "output_type": "display_data"
    },
    {
     "data": {
      "application/javascript": [
       "(function(root) {\n",
       "  function embed_document(root) {\n",
       "    \n",
       "  var docs_json = {\"8201645c-7fde-4c04-be15-c7f9b6e1b36e\":{\"roots\":{\"references\":[{\"attributes\":{\"fill_alpha\":{\"value\":0.1},\"fill_color\":{\"value\":\"#1f77b4\"},\"height\":{\"units\":\"data\",\"value\":1},\"line_alpha\":{\"value\":0.1},\"line_color\":{\"value\":\"#1f77b4\"},\"width\":{\"units\":\"data\",\"value\":1},\"x\":{\"field\":\"x\"},\"y\":{\"field\":\"y\"}},\"id\":\"e68a6022-99a3-4457-9263-5a7450da434f\",\"type\":\"Rect\"},{\"attributes\":{\"callback\":null,\"column_names\":[\"x\",\"y\"],\"data\":{\"x\":[2.5,1.5,0.5],\"y\":[0.5,1.5,2.5]}},\"id\":\"00a35f9d-eaa5-453e-9b82-00fdf2b5ed9b\",\"type\":\"ColumnDataSource\"},{\"attributes\":{},\"id\":\"3660aded-424c-44f1-b4dc-e126cc418d60\",\"type\":\"HelpTool\"},{\"attributes\":{\"data_source\":{\"id\":\"40f45304-5bfb-4559-812d-4f853a48acac\",\"type\":\"ColumnDataSource\"},\"glyph\":{\"id\":\"c8bd7936-902a-46de-aa2d-5d132249f3df\",\"type\":\"Rect\"},\"hover_glyph\":null,\"muted_glyph\":null,\"nonselection_glyph\":{\"id\":\"e68a6022-99a3-4457-9263-5a7450da434f\",\"type\":\"Rect\"},\"selection_glyph\":null,\"view\":{\"id\":\"c8447780-a8ff-407f-8e49-38f9f6bc9d00\",\"type\":\"CDSView\"}},\"id\":\"417c4ea8-9d1d-4bd4-9e3d-0fea36dd992b\",\"type\":\"GlyphRenderer\"},{\"attributes\":{\"source\":{\"id\":\"95c9fb32-4b23-460e-8743-4cc83e77ab8a\",\"type\":\"ColumnDataSource\"}},\"id\":\"5cef0c54-b608-47b8-a920-40b194decc17\",\"type\":\"CDSView\"},{\"attributes\":{\"fill_color\":{\"value\":null},\"height\":{\"units\":\"data\",\"value\":1},\"line_color\":{\"value\":\"grey\"},\"width\":{\"units\":\"data\",\"value\":1},\"x\":{\"field\":\"x\"},\"y\":{\"field\":\"y\"}},\"id\":\"c8bd7936-902a-46de-aa2d-5d132249f3df\",\"type\":\"Rect\"},{\"attributes\":{},\"id\":\"f1a6eb07-06b2-4866-ba9a-1c4c7c80c754\",\"type\":\"BasicTickFormatter\"},{\"attributes\":{},\"id\":\"16b04efc-88fe-41c9-ae8c-054982ec0b94\",\"type\":\"BasicTickFormatter\"},{\"attributes\":{\"children\":[{\"id\":\"7d659293-33bd-4f9b-8281-8245cfd27819\",\"type\":\"Row\"}]},\"id\":\"a567da69-244c-48b2-8cf3-70a0d9fa7cfd\",\"type\":\"Column\"},{\"attributes\":{\"bottom_units\":\"screen\",\"fill_alpha\":{\"value\":0.5},\"fill_color\":{\"value\":\"lightgrey\"},\"left_units\":\"screen\",\"level\":\"overlay\",\"line_alpha\":{\"value\":1.0},\"line_color\":{\"value\":\"black\"},\"line_dash\":[4,4],\"line_width\":{\"value\":2},\"plot\":null,\"render_mode\":\"css\",\"right_units\":\"screen\",\"top_units\":\"screen\"},\"id\":\"f811bd18-57d0-4fa9-8111-1d56d07c7ab1\",\"type\":\"BoxAnnotation\"},{\"attributes\":{},\"id\":\"332459a8-d96e-4176-87a8-34e5c882d7de\",\"type\":\"LinearScale\"},{\"attributes\":{},\"id\":\"dfb59582-aa7e-489d-a9f4-789651f9dec2\",\"type\":\"PanTool\"},{\"attributes\":{},\"id\":\"d1ef3018-612d-4b5a-bf94-c80dad313db7\",\"type\":\"PanTool\"},{\"attributes\":{\"source\":{\"id\":\"40f45304-5bfb-4559-812d-4f853a48acac\",\"type\":\"ColumnDataSource\"}},\"id\":\"c8447780-a8ff-407f-8e49-38f9f6bc9d00\",\"type\":\"CDSView\"},{\"attributes\":{},\"id\":\"f755ffda-e9b5-4372-875d-43e9f1123753\",\"type\":\"WheelZoomTool\"},{\"attributes\":{\"overlay\":{\"id\":\"f811bd18-57d0-4fa9-8111-1d56d07c7ab1\",\"type\":\"BoxAnnotation\"}},\"id\":\"2d761bb6-320b-43eb-bee7-ae0fa18da24a\",\"type\":\"BoxZoomTool\"},{\"attributes\":{},\"id\":\"ca614bdd-9737-4688-9a87-729a342d1305\",\"type\":\"SaveTool\"},{\"attributes\":{},\"id\":\"4c0566b8-c40d-43a5-bad3-bc3de53bcf6d\",\"type\":\"BasicTicker\"},{\"attributes\":{},\"id\":\"d38e848b-9b5b-48f3-a7f4-f9470591751e\",\"type\":\"ResetTool\"},{\"attributes\":{},\"id\":\"5a46ba15-e535-4ece-992c-64470ac5f9c8\",\"type\":\"HelpTool\"},{\"attributes\":{\"callback\":null},\"id\":\"cc672300-9fd2-4fb4-a7f3-4c9772f9f35a\",\"type\":\"DataRange1d\"},{\"attributes\":{\"fill_alpha\":{\"value\":0.1},\"fill_color\":{\"value\":\"#1f77b4\"},\"height\":{\"units\":\"data\",\"value\":1},\"line_alpha\":{\"value\":0.1},\"line_color\":{\"value\":\"#1f77b4\"},\"width\":{\"units\":\"data\",\"value\":1},\"x\":{\"field\":\"x\"},\"y\":{\"field\":\"y\"}},\"id\":\"bd62f7cc-b8c4-4676-a421-a8195bb06306\",\"type\":\"Rect\"},{\"attributes\":{\"background_fill_alpha\":{\"value\":0},\"below\":[{\"id\":\"dc6f099b-3b5c-4ce2-87ac-bbf8e23860f5\",\"type\":\"LinearAxis\"}],\"border_fill_alpha\":{\"value\":0},\"left\":[{\"id\":\"f4820e50-8db8-4330-8ab6-aa1cd18f272d\",\"type\":\"LinearAxis\"}],\"outline_line_color\":{\"value\":null},\"plot_height\":200,\"plot_width\":200,\"renderers\":[{\"id\":\"dc6f099b-3b5c-4ce2-87ac-bbf8e23860f5\",\"type\":\"LinearAxis\"},{\"id\":\"6512927c-7a0e-4c1f-b885-cefe831efe7a\",\"type\":\"Grid\"},{\"id\":\"f4820e50-8db8-4330-8ab6-aa1cd18f272d\",\"type\":\"LinearAxis\"},{\"id\":\"40e875c2-1828-416a-a6b9-3ed2730d3350\",\"type\":\"Grid\"},{\"id\":\"409e0db0-f508-4e08-b708-cb74f6d11e29\",\"type\":\"BoxAnnotation\"},{\"id\":\"c71a93ab-baee-4e8b-b169-7ae36a6cc05c\",\"type\":\"GlyphRenderer\"},{\"id\":\"6519f08f-ab22-41d4-8e58-5660f1a3926f\",\"type\":\"GlyphRenderer\"}],\"title\":null,\"toolbar\":{\"id\":\"b966381e-5f69-4604-a38f-e032a8728015\",\"type\":\"Toolbar\"},\"toolbar_location\":null,\"x_range\":{\"id\":\"a850456a-e5bd-46de-b826-4d57a13d0509\",\"type\":\"DataRange1d\"},\"x_scale\":{\"id\":\"080db63c-7608-46b9-84d4-3c7b4b041e72\",\"type\":\"LinearScale\"},\"y_range\":{\"id\":\"a848c7ec-c075-4b43-b820-092bc11ebb27\",\"type\":\"DataRange1d\"},\"y_scale\":{\"id\":\"1fce21b3-6eaf-4f6d-b7f4-c5ac02b98ad1\",\"type\":\"LinearScale\"}},\"id\":\"fc95bbf9-9fa6-43ab-a4e5-b47ff1dc2608\",\"subtype\":\"Figure\",\"type\":\"Plot\"},{\"attributes\":{},\"id\":\"308b2adb-6221-44e1-90e6-e289b891c8c4\",\"type\":\"BasicTicker\"},{\"attributes\":{},\"id\":\"bae7fdf4-8cea-41b3-b0a1-d3db498789fa\",\"type\":\"BasicTickFormatter\"},{\"attributes\":{\"data_source\":{\"id\":\"00a35f9d-eaa5-453e-9b82-00fdf2b5ed9b\",\"type\":\"ColumnDataSource\"},\"glyph\":{\"id\":\"ee8a299e-e121-4c8d-b60a-cdf9df47d41a\",\"type\":\"Rect\"},\"hover_glyph\":null,\"muted_glyph\":null,\"nonselection_glyph\":{\"id\":\"bd62f7cc-b8c4-4676-a421-a8195bb06306\",\"type\":\"Rect\"},\"selection_glyph\":null,\"view\":{\"id\":\"cbd5586e-d453-4761-a0f9-aa91b60ec8c8\",\"type\":\"CDSView\"}},\"id\":\"602cd412-f8c4-4fa1-8f99-a96bd5e96674\",\"type\":\"GlyphRenderer\"},{\"attributes\":{\"source\":{\"id\":\"00a35f9d-eaa5-453e-9b82-00fdf2b5ed9b\",\"type\":\"ColumnDataSource\"}},\"id\":\"cbd5586e-d453-4761-a0f9-aa91b60ec8c8\",\"type\":\"CDSView\"},{\"attributes\":{\"data_source\":{\"id\":\"d915164f-2917-4116-8c3f-4a4c06bbc888\",\"type\":\"ColumnDataSource\"},\"glyph\":{\"id\":\"7926c3cc-7ce7-4592-8cbc-121058929627\",\"type\":\"Rect\"},\"hover_glyph\":null,\"muted_glyph\":null,\"nonselection_glyph\":{\"id\":\"7d9f8086-dd01-477e-a755-068d396e60c2\",\"type\":\"Rect\"},\"selection_glyph\":null,\"view\":{\"id\":\"8be8bcde-ef95-45e0-b6f5-29d12c6206c7\",\"type\":\"CDSView\"}},\"id\":\"d6871847-6109-4d14-8f12-b3188d5188a8\",\"type\":\"GlyphRenderer\"},{\"attributes\":{\"fill_color\":{\"value\":\"grey\"},\"height\":{\"units\":\"data\",\"value\":1},\"line_color\":{\"value\":\"grey\"},\"width\":{\"units\":\"data\",\"value\":1},\"x\":{\"field\":\"x\"},\"y\":{\"field\":\"y\"}},\"id\":\"ee8a299e-e121-4c8d-b60a-cdf9df47d41a\",\"type\":\"Rect\"},{\"attributes\":{\"source\":{\"id\":\"d915164f-2917-4116-8c3f-4a4c06bbc888\",\"type\":\"ColumnDataSource\"}},\"id\":\"8be8bcde-ef95-45e0-b6f5-29d12c6206c7\",\"type\":\"CDSView\"},{\"attributes\":{\"callback\":null,\"column_names\":[\"x\",\"y\"],\"data\":{\"x\":[0.5,1.5,2.5],\"y\":[1.5,1.5,0.5]}},\"id\":\"d915164f-2917-4116-8c3f-4a4c06bbc888\",\"type\":\"ColumnDataSource\"},{\"attributes\":{\"active_drag\":\"auto\",\"active_inspect\":\"auto\",\"active_scroll\":\"auto\",\"active_tap\":\"auto\",\"tools\":[{\"id\":\"894909a8-302d-4180-9454-14bd4555a9e6\",\"type\":\"PanTool\"},{\"id\":\"b47d054c-f2ac-4ca5-8740-415f6f4d4856\",\"type\":\"WheelZoomTool\"},{\"id\":\"5b8e4dec-89fb-4255-8781-112c844d94e9\",\"type\":\"BoxZoomTool\"},{\"id\":\"33973fd3-ac45-41cb-ad9f-d9beab092cd5\",\"type\":\"SaveTool\"},{\"id\":\"9c4c32d2-fbbb-48f4-a5f1-4dc25c1f64f5\",\"type\":\"ResetTool\"},{\"id\":\"0ce9e9de-aaa5-4fcf-a232-6fd2678421c4\",\"type\":\"HelpTool\"}]},\"id\":\"b966381e-5f69-4604-a38f-e032a8728015\",\"type\":\"Toolbar\"},{\"attributes\":{},\"id\":\"8571d3ea-e4d7-45c1-b67d-a840076bd7c9\",\"type\":\"LinearScale\"},{\"attributes\":{\"fill_color\":{\"value\":\"grey\"},\"height\":{\"units\":\"data\",\"value\":1},\"line_color\":{\"value\":\"grey\"},\"width\":{\"units\":\"data\",\"value\":1},\"x\":{\"field\":\"x\"},\"y\":{\"field\":\"y\"}},\"id\":\"7926c3cc-7ce7-4592-8cbc-121058929627\",\"type\":\"Rect\"},{\"attributes\":{\"callback\":null,\"column_names\":[\"x\",\"y\"],\"data\":{\"x\":[2.5,1.5,0.5,0.5],\"y\":[0.5,1.5,2.5,0.5]}},\"id\":\"02b1ef5b-533b-49c2-bb89-8155fc8bc62c\",\"type\":\"ColumnDataSource\"},{\"attributes\":{\"grid_line_alpha\":{\"value\":0},\"grid_line_color\":{\"value\":null},\"plot\":{\"id\":\"ffef7fe2-5cfd-4181-9f26-45f389242ced\",\"subtype\":\"Figure\",\"type\":\"Plot\"},\"ticker\":{\"id\":\"6e63cb05-dd7a-43aa-bbe9-8d57e629c3fb\",\"type\":\"BasicTicker\"}},\"id\":\"60fdd085-e173-4be2-903c-95647ce83bbe\",\"type\":\"Grid\"},{\"attributes\":{\"callback\":null},\"id\":\"a850456a-e5bd-46de-b826-4d57a13d0509\",\"type\":\"DataRange1d\"},{\"attributes\":{\"fill_color\":{\"value\":null},\"height\":{\"units\":\"data\",\"value\":1},\"line_color\":{\"value\":\"grey\"},\"width\":{\"units\":\"data\",\"value\":1},\"x\":{\"field\":\"x\"},\"y\":{\"field\":\"y\"}},\"id\":\"e54b2fee-4401-489e-8950-6e30ee94e61e\",\"type\":\"Rect\"},{\"attributes\":{\"data_source\":{\"id\":\"3efa6264-96a4-476e-a0e3-dd253d5d2c0f\",\"type\":\"ColumnDataSource\"},\"glyph\":{\"id\":\"09046128-3e25-4600-ac3d-1442bb0c2abe\",\"type\":\"Rect\"},\"hover_glyph\":null,\"muted_glyph\":null,\"nonselection_glyph\":{\"id\":\"c467f558-50ca-4a3b-af02-27f86de35890\",\"type\":\"Rect\"},\"selection_glyph\":null,\"view\":{\"id\":\"26c57e6d-8c31-4d63-9090-cb75e890a575\",\"type\":\"CDSView\"}},\"id\":\"c71a93ab-baee-4e8b-b169-7ae36a6cc05c\",\"type\":\"GlyphRenderer\"},{\"attributes\":{\"grid_line_alpha\":{\"value\":0},\"grid_line_color\":{\"value\":null},\"plot\":{\"id\":\"39436db8-d373-42f9-a081-100e09538da4\",\"subtype\":\"Figure\",\"type\":\"Plot\"},\"ticker\":{\"id\":\"4c0566b8-c40d-43a5-bad3-bc3de53bcf6d\",\"type\":\"BasicTicker\"}},\"id\":\"dd6a5ff8-2113-4813-b045-9c0692d22a55\",\"type\":\"Grid\"},{\"attributes\":{\"fill_color\":{\"value\":null},\"height\":{\"units\":\"data\",\"value\":1},\"line_color\":{\"value\":\"grey\"},\"width\":{\"units\":\"data\",\"value\":1},\"x\":{\"field\":\"x\"},\"y\":{\"field\":\"y\"}},\"id\":\"09046128-3e25-4600-ac3d-1442bb0c2abe\",\"type\":\"Rect\"},{\"attributes\":{\"background_fill_alpha\":{\"value\":0},\"below\":[{\"id\":\"0d1d7f66-9933-4ff2-a9c4-4342e4226fe1\",\"type\":\"LinearAxis\"}],\"border_fill_alpha\":{\"value\":0},\"left\":[{\"id\":\"4159e82a-2f63-4896-aa03-dadcc4c8a8ff\",\"type\":\"LinearAxis\"}],\"outline_line_color\":{\"value\":null},\"plot_height\":200,\"plot_width\":200,\"renderers\":[{\"id\":\"0d1d7f66-9933-4ff2-a9c4-4342e4226fe1\",\"type\":\"LinearAxis\"},{\"id\":\"dd6a5ff8-2113-4813-b045-9c0692d22a55\",\"type\":\"Grid\"},{\"id\":\"4159e82a-2f63-4896-aa03-dadcc4c8a8ff\",\"type\":\"LinearAxis\"},{\"id\":\"0749b00f-f4e1-4f24-aec4-d89fe3093810\",\"type\":\"Grid\"},{\"id\":\"f811bd18-57d0-4fa9-8111-1d56d07c7ab1\",\"type\":\"BoxAnnotation\"},{\"id\":\"417c4ea8-9d1d-4bd4-9e3d-0fea36dd992b\",\"type\":\"GlyphRenderer\"},{\"id\":\"602cd412-f8c4-4fa1-8f99-a96bd5e96674\",\"type\":\"GlyphRenderer\"}],\"title\":null,\"toolbar\":{\"id\":\"5f773920-8248-4213-bb49-2394078a98f8\",\"type\":\"Toolbar\"},\"toolbar_location\":null,\"x_range\":{\"id\":\"cb459980-d8e7-4075-a6e7-d915e38ae79a\",\"type\":\"DataRange1d\"},\"x_scale\":{\"id\":\"8d35e466-cb05-48b8-afa1-c2a6d7359e5a\",\"type\":\"LinearScale\"},\"y_range\":{\"id\":\"cc672300-9fd2-4fb4-a7f3-4c9772f9f35a\",\"type\":\"DataRange1d\"},\"y_scale\":{\"id\":\"332459a8-d96e-4176-87a8-34e5c882d7de\",\"type\":\"LinearScale\"}},\"id\":\"39436db8-d373-42f9-a081-100e09538da4\",\"subtype\":\"Figure\",\"type\":\"Plot\"},{\"attributes\":{},\"id\":\"1fce21b3-6eaf-4f6d-b7f4-c5ac02b98ad1\",\"type\":\"LinearScale\"},{\"attributes\":{\"callback\":null,\"column_names\":[\"x\",\"y\"],\"data\":{\"x\":[0.5,0.5,0.5,1.5,1.5,1.5,2.5,2.5,2.5],\"y\":[0.5,1.5,2.5,0.5,1.5,2.5,0.5,1.5,2.5]}},\"id\":\"40f45304-5bfb-4559-812d-4f853a48acac\",\"type\":\"ColumnDataSource\"},{\"attributes\":{\"grid_line_alpha\":{\"value\":0},\"grid_line_color\":{\"value\":null},\"plot\":{\"id\":\"fc95bbf9-9fa6-43ab-a4e5-b47ff1dc2608\",\"subtype\":\"Figure\",\"type\":\"Plot\"},\"ticker\":{\"id\":\"0593d329-03fd-440e-b195-3eb60296525d\",\"type\":\"BasicTicker\"}},\"id\":\"6512927c-7a0e-4c1f-b885-cefe831efe7a\",\"type\":\"Grid\"},{\"attributes\":{},\"id\":\"6e63cb05-dd7a-43aa-bbe9-8d57e629c3fb\",\"type\":\"BasicTicker\"},{\"attributes\":{},\"id\":\"080db63c-7608-46b9-84d4-3c7b4b041e72\",\"type\":\"LinearScale\"},{\"attributes\":{\"dimension\":1,\"grid_line_alpha\":{\"value\":0},\"grid_line_color\":{\"value\":null},\"plot\":{\"id\":\"39436db8-d373-42f9-a081-100e09538da4\",\"subtype\":\"Figure\",\"type\":\"Plot\"},\"ticker\":{\"id\":\"308b2adb-6221-44e1-90e6-e289b891c8c4\",\"type\":\"BasicTicker\"}},\"id\":\"0749b00f-f4e1-4f24-aec4-d89fe3093810\",\"type\":\"Grid\"},{\"attributes\":{\"callback\":null},\"id\":\"a848c7ec-c075-4b43-b820-092bc11ebb27\",\"type\":\"DataRange1d\"},{\"attributes\":{},\"id\":\"8d35e466-cb05-48b8-afa1-c2a6d7359e5a\",\"type\":\"LinearScale\"},{\"attributes\":{\"axis_label\":null,\"axis_label_text_color\":{\"value\":\"white\"},\"axis_line_color\":{\"value\":null},\"formatter\":{\"id\":\"d664037d-eec9-4c78-8af4-cced86780c78\",\"type\":\"BasicTickFormatter\"},\"major_label_text_color\":{\"value\":\"white\"},\"major_tick_line_color\":{\"value\":null},\"minor_tick_line_color\":{\"value\":null},\"plot\":{\"id\":\"fc95bbf9-9fa6-43ab-a4e5-b47ff1dc2608\",\"subtype\":\"Figure\",\"type\":\"Plot\"},\"ticker\":{\"id\":\"0593d329-03fd-440e-b195-3eb60296525d\",\"type\":\"BasicTicker\"},\"visible\":false},\"id\":\"dc6f099b-3b5c-4ce2-87ac-bbf8e23860f5\",\"type\":\"LinearAxis\"},{\"attributes\":{\"active_drag\":\"auto\",\"active_inspect\":\"auto\",\"active_scroll\":\"auto\",\"active_tap\":\"auto\",\"tools\":[{\"id\":\"dfb59582-aa7e-489d-a9f4-789651f9dec2\",\"type\":\"PanTool\"},{\"id\":\"f755ffda-e9b5-4372-875d-43e9f1123753\",\"type\":\"WheelZoomTool\"},{\"id\":\"2d761bb6-320b-43eb-bee7-ae0fa18da24a\",\"type\":\"BoxZoomTool\"},{\"id\":\"ca614bdd-9737-4688-9a87-729a342d1305\",\"type\":\"SaveTool\"},{\"id\":\"d38e848b-9b5b-48f3-a7f4-f9470591751e\",\"type\":\"ResetTool\"},{\"id\":\"5a46ba15-e535-4ece-992c-64470ac5f9c8\",\"type\":\"HelpTool\"}]},\"id\":\"5f773920-8248-4213-bb49-2394078a98f8\",\"type\":\"Toolbar\"},{\"attributes\":{},\"id\":\"0593d329-03fd-440e-b195-3eb60296525d\",\"type\":\"BasicTicker\"},{\"attributes\":{\"overlay\":{\"id\":\"4c5177ba-9932-4918-bcf1-bc0776c40f49\",\"type\":\"BoxAnnotation\"}},\"id\":\"2c8ac7f9-4f46-44dc-996d-4d0bbff37ffe\",\"type\":\"BoxZoomTool\"},{\"attributes\":{\"axis_label\":null,\"axis_label_text_color\":{\"value\":\"white\"},\"axis_line_color\":{\"value\":null},\"formatter\":{\"id\":\"e3789cd0-cb6e-4202-be95-c461c3ffebc0\",\"type\":\"BasicTickFormatter\"},\"major_label_text_color\":{\"value\":\"white\"},\"major_tick_line_color\":{\"value\":null},\"minor_tick_line_color\":{\"value\":null},\"plot\":{\"id\":\"fc95bbf9-9fa6-43ab-a4e5-b47ff1dc2608\",\"subtype\":\"Figure\",\"type\":\"Plot\"},\"ticker\":{\"id\":\"9c1177b7-693d-484b-890b-03de232534dc\",\"type\":\"BasicTicker\"},\"visible\":false},\"id\":\"f4820e50-8db8-4330-8ab6-aa1cd18f272d\",\"type\":\"LinearAxis\"},{\"attributes\":{},\"id\":\"9c1177b7-693d-484b-890b-03de232534dc\",\"type\":\"BasicTicker\"},{\"attributes\":{\"fill_alpha\":{\"value\":0.1},\"fill_color\":{\"value\":\"#1f77b4\"},\"height\":{\"units\":\"data\",\"value\":1},\"line_alpha\":{\"value\":0.1},\"line_color\":{\"value\":\"#1f77b4\"},\"width\":{\"units\":\"data\",\"value\":1},\"x\":{\"field\":\"x\"},\"y\":{\"field\":\"y\"}},\"id\":\"c7457194-9753-4371-819a-74dfed60996c\",\"type\":\"Rect\"},{\"attributes\":{\"dimension\":1,\"grid_line_alpha\":{\"value\":0},\"grid_line_color\":{\"value\":null},\"plot\":{\"id\":\"fc95bbf9-9fa6-43ab-a4e5-b47ff1dc2608\",\"subtype\":\"Figure\",\"type\":\"Plot\"},\"ticker\":{\"id\":\"9c1177b7-693d-484b-890b-03de232534dc\",\"type\":\"BasicTicker\"}},\"id\":\"40e875c2-1828-416a-a6b9-3ed2730d3350\",\"type\":\"Grid\"},{\"attributes\":{\"axis_label\":null,\"axis_label_text_color\":{\"value\":\"white\"},\"axis_line_color\":{\"value\":null},\"formatter\":{\"id\":\"ebf25c7f-5732-4946-9678-75153bad4936\",\"type\":\"BasicTickFormatter\"},\"major_label_text_color\":{\"value\":\"white\"},\"major_tick_line_color\":{\"value\":null},\"minor_tick_line_color\":{\"value\":null},\"plot\":{\"id\":\"ffef7fe2-5cfd-4181-9f26-45f389242ced\",\"subtype\":\"Figure\",\"type\":\"Plot\"},\"ticker\":{\"id\":\"9f5aa20e-5cd3-4806-9232-cde0f31a01a3\",\"type\":\"BasicTicker\"},\"visible\":false},\"id\":\"4b8b2caf-acce-4d04-b7ae-1b81085618e2\",\"type\":\"LinearAxis\"},{\"attributes\":{\"fill_alpha\":{\"value\":0.1},\"fill_color\":{\"value\":\"#1f77b4\"},\"height\":{\"units\":\"data\",\"value\":1},\"line_alpha\":{\"value\":0.1},\"line_color\":{\"value\":\"#1f77b4\"},\"width\":{\"units\":\"data\",\"value\":1},\"x\":{\"field\":\"x\"},\"y\":{\"field\":\"y\"}},\"id\":\"c467f558-50ca-4a3b-af02-27f86de35890\",\"type\":\"Rect\"},{\"attributes\":{\"axis_label\":null,\"axis_label_text_color\":{\"value\":\"white\"},\"axis_line_color\":{\"value\":null},\"formatter\":{\"id\":\"f1a6eb07-06b2-4866-ba9a-1c4c7c80c754\",\"type\":\"BasicTickFormatter\"},\"major_label_text_color\":{\"value\":\"white\"},\"major_tick_line_color\":{\"value\":null},\"minor_tick_line_color\":{\"value\":null},\"plot\":{\"id\":\"ffef7fe2-5cfd-4181-9f26-45f389242ced\",\"subtype\":\"Figure\",\"type\":\"Plot\"},\"ticker\":{\"id\":\"6e63cb05-dd7a-43aa-bbe9-8d57e629c3fb\",\"type\":\"BasicTicker\"},\"visible\":false},\"id\":\"b5d9238f-f4f7-4f5a-9136-97b1f3007c8b\",\"type\":\"LinearAxis\"},{\"attributes\":{},\"id\":\"e3789cd0-cb6e-4202-be95-c461c3ffebc0\",\"type\":\"BasicTickFormatter\"},{\"attributes\":{\"data_source\":{\"id\":\"95c9fb32-4b23-460e-8743-4cc83e77ab8a\",\"type\":\"ColumnDataSource\"},\"glyph\":{\"id\":\"e54b2fee-4401-489e-8950-6e30ee94e61e\",\"type\":\"Rect\"},\"hover_glyph\":null,\"muted_glyph\":null,\"nonselection_glyph\":{\"id\":\"c7457194-9753-4371-819a-74dfed60996c\",\"type\":\"Rect\"},\"selection_glyph\":null,\"view\":{\"id\":\"5cef0c54-b608-47b8-a920-40b194decc17\",\"type\":\"CDSView\"}},\"id\":\"2455bea5-a970-4850-9d56-70aa449b541f\",\"type\":\"GlyphRenderer\"},{\"attributes\":{\"callback\":null,\"column_names\":[\"x\",\"y\"],\"data\":{\"x\":[0.5,0.5,0.5,1.5,1.5,1.5,2.5,2.5,2.5],\"y\":[0.5,1.5,2.5,0.5,1.5,2.5,0.5,1.5,2.5]}},\"id\":\"3efa6264-96a4-476e-a0e3-dd253d5d2c0f\",\"type\":\"ColumnDataSource\"},{\"attributes\":{},\"id\":\"9f5aa20e-5cd3-4806-9232-cde0f31a01a3\",\"type\":\"BasicTicker\"},{\"attributes\":{\"bottom_units\":\"screen\",\"fill_alpha\":{\"value\":0.5},\"fill_color\":{\"value\":\"lightgrey\"},\"left_units\":\"screen\",\"level\":\"overlay\",\"line_alpha\":{\"value\":1.0},\"line_color\":{\"value\":\"black\"},\"line_dash\":[4,4],\"line_width\":{\"value\":2},\"plot\":null,\"render_mode\":\"css\",\"right_units\":\"screen\",\"top_units\":\"screen\"},\"id\":\"409e0db0-f508-4e08-b708-cb74f6d11e29\",\"type\":\"BoxAnnotation\"},{\"attributes\":{},\"id\":\"894909a8-302d-4180-9454-14bd4555a9e6\",\"type\":\"PanTool\"},{\"attributes\":{\"fill_alpha\":{\"value\":0.1},\"fill_color\":{\"value\":\"#1f77b4\"},\"height\":{\"units\":\"data\",\"value\":1},\"line_alpha\":{\"value\":0.1},\"line_color\":{\"value\":\"#1f77b4\"},\"width\":{\"units\":\"data\",\"value\":1},\"x\":{\"field\":\"x\"},\"y\":{\"field\":\"y\"}},\"id\":\"7d9f8086-dd01-477e-a755-068d396e60c2\",\"type\":\"Rect\"},{\"attributes\":{\"source\":{\"id\":\"3efa6264-96a4-476e-a0e3-dd253d5d2c0f\",\"type\":\"ColumnDataSource\"}},\"id\":\"26c57e6d-8c31-4d63-9090-cb75e890a575\",\"type\":\"CDSView\"},{\"attributes\":{},\"id\":\"f13fc363-a0e8-4218-b431-087f1e9fcf28\",\"type\":\"ResetTool\"},{\"attributes\":{},\"id\":\"b47d054c-f2ac-4ca5-8740-415f6f4d4856\",\"type\":\"WheelZoomTool\"},{\"attributes\":{\"callback\":null},\"id\":\"cb459980-d8e7-4075-a6e7-d915e38ae79a\",\"type\":\"DataRange1d\"},{\"attributes\":{\"overlay\":{\"id\":\"409e0db0-f508-4e08-b708-cb74f6d11e29\",\"type\":\"BoxAnnotation\"}},\"id\":\"5b8e4dec-89fb-4255-8781-112c844d94e9\",\"type\":\"BoxZoomTool\"},{\"attributes\":{},\"id\":\"ebf25c7f-5732-4946-9678-75153bad4936\",\"type\":\"BasicTickFormatter\"},{\"attributes\":{},\"id\":\"33973fd3-ac45-41cb-ad9f-d9beab092cd5\",\"type\":\"SaveTool\"},{\"attributes\":{},\"id\":\"6834455f-ebb8-4d4a-84ec-52fa9379a864\",\"type\":\"WheelZoomTool\"},{\"attributes\":{},\"id\":\"9c4c32d2-fbbb-48f4-a5f1-4dc25c1f64f5\",\"type\":\"ResetTool\"},{\"attributes\":{\"dimension\":1,\"grid_line_alpha\":{\"value\":0},\"grid_line_color\":{\"value\":null},\"plot\":{\"id\":\"ffef7fe2-5cfd-4181-9f26-45f389242ced\",\"subtype\":\"Figure\",\"type\":\"Plot\"},\"ticker\":{\"id\":\"9f5aa20e-5cd3-4806-9232-cde0f31a01a3\",\"type\":\"BasicTicker\"}},\"id\":\"46b93ccd-43dc-470d-a4ae-a020845c2a87\",\"type\":\"Grid\"},{\"attributes\":{},\"id\":\"0ce9e9de-aaa5-4fcf-a232-6fd2678421c4\",\"type\":\"HelpTool\"},{\"attributes\":{},\"id\":\"f32e478b-643e-4c2c-b764-8ea4988182bf\",\"type\":\"SaveTool\"},{\"attributes\":{\"fill_alpha\":{\"value\":0.1},\"fill_color\":{\"value\":\"#1f77b4\"},\"height\":{\"units\":\"data\",\"value\":1},\"line_alpha\":{\"value\":0.1},\"line_color\":{\"value\":\"#1f77b4\"},\"width\":{\"units\":\"data\",\"value\":1},\"x\":{\"field\":\"x\"},\"y\":{\"field\":\"y\"}},\"id\":\"0fcb6fee-3ffd-4258-845f-fe5373353613\",\"type\":\"Rect\"},{\"attributes\":{},\"id\":\"d664037d-eec9-4c78-8af4-cced86780c78\",\"type\":\"BasicTickFormatter\"},{\"attributes\":{\"data_source\":{\"id\":\"02b1ef5b-533b-49c2-bb89-8155fc8bc62c\",\"type\":\"ColumnDataSource\"},\"glyph\":{\"id\":\"74d755fc-203b-4f38-8357-dc91c2caa131\",\"type\":\"Rect\"},\"hover_glyph\":null,\"muted_glyph\":null,\"nonselection_glyph\":{\"id\":\"0fcb6fee-3ffd-4258-845f-fe5373353613\",\"type\":\"Rect\"},\"selection_glyph\":null,\"view\":{\"id\":\"8ab61e0e-39a1-442c-877b-d39077470256\",\"type\":\"CDSView\"}},\"id\":\"6519f08f-ab22-41d4-8e58-5660f1a3926f\",\"type\":\"GlyphRenderer\"},{\"attributes\":{\"bottom_units\":\"screen\",\"fill_alpha\":{\"value\":0.5},\"fill_color\":{\"value\":\"lightgrey\"},\"left_units\":\"screen\",\"level\":\"overlay\",\"line_alpha\":{\"value\":1.0},\"line_color\":{\"value\":\"black\"},\"line_dash\":[4,4],\"line_width\":{\"value\":2},\"plot\":null,\"render_mode\":\"css\",\"right_units\":\"screen\",\"top_units\":\"screen\"},\"id\":\"4c5177ba-9932-4918-bcf1-bc0776c40f49\",\"type\":\"BoxAnnotation\"},{\"attributes\":{\"source\":{\"id\":\"02b1ef5b-533b-49c2-bb89-8155fc8bc62c\",\"type\":\"ColumnDataSource\"}},\"id\":\"8ab61e0e-39a1-442c-877b-d39077470256\",\"type\":\"CDSView\"},{\"attributes\":{\"axis_label\":null,\"axis_label_text_color\":{\"value\":\"white\"},\"axis_line_color\":{\"value\":null},\"formatter\":{\"id\":\"16b04efc-88fe-41c9-ae8c-054982ec0b94\",\"type\":\"BasicTickFormatter\"},\"major_label_text_color\":{\"value\":\"white\"},\"major_tick_line_color\":{\"value\":null},\"minor_tick_line_color\":{\"value\":null},\"plot\":{\"id\":\"39436db8-d373-42f9-a081-100e09538da4\",\"subtype\":\"Figure\",\"type\":\"Plot\"},\"ticker\":{\"id\":\"308b2adb-6221-44e1-90e6-e289b891c8c4\",\"type\":\"BasicTicker\"},\"visible\":false},\"id\":\"4159e82a-2f63-4896-aa03-dadcc4c8a8ff\",\"type\":\"LinearAxis\"},{\"attributes\":{\"fill_color\":{\"value\":\"grey\"},\"height\":{\"units\":\"data\",\"value\":1},\"line_color\":{\"value\":\"grey\"},\"width\":{\"units\":\"data\",\"value\":1},\"x\":{\"field\":\"x\"},\"y\":{\"field\":\"y\"}},\"id\":\"74d755fc-203b-4f38-8357-dc91c2caa131\",\"type\":\"Rect\"},{\"attributes\":{\"axis_label\":null,\"axis_label_text_color\":{\"value\":\"white\"},\"axis_line_color\":{\"value\":null},\"formatter\":{\"id\":\"bae7fdf4-8cea-41b3-b0a1-d3db498789fa\",\"type\":\"BasicTickFormatter\"},\"major_label_text_color\":{\"value\":\"white\"},\"major_tick_line_color\":{\"value\":null},\"minor_tick_line_color\":{\"value\":null},\"plot\":{\"id\":\"39436db8-d373-42f9-a081-100e09538da4\",\"subtype\":\"Figure\",\"type\":\"Plot\"},\"ticker\":{\"id\":\"4c0566b8-c40d-43a5-bad3-bc3de53bcf6d\",\"type\":\"BasicTicker\"},\"visible\":false},\"id\":\"0d1d7f66-9933-4ff2-a9c4-4342e4226fe1\",\"type\":\"LinearAxis\"},{\"attributes\":{\"active_drag\":\"auto\",\"active_inspect\":\"auto\",\"active_scroll\":\"auto\",\"active_tap\":\"auto\",\"tools\":[{\"id\":\"d1ef3018-612d-4b5a-bf94-c80dad313db7\",\"type\":\"PanTool\"},{\"id\":\"6834455f-ebb8-4d4a-84ec-52fa9379a864\",\"type\":\"WheelZoomTool\"},{\"id\":\"2c8ac7f9-4f46-44dc-996d-4d0bbff37ffe\",\"type\":\"BoxZoomTool\"},{\"id\":\"f32e478b-643e-4c2c-b764-8ea4988182bf\",\"type\":\"SaveTool\"},{\"id\":\"f13fc363-a0e8-4218-b431-087f1e9fcf28\",\"type\":\"ResetTool\"},{\"id\":\"3660aded-424c-44f1-b4dc-e126cc418d60\",\"type\":\"HelpTool\"}]},\"id\":\"93aa14cb-0ea4-437d-989a-e478a4f1c111\",\"type\":\"Toolbar\"},{\"attributes\":{\"callback\":null},\"id\":\"46c991a3-00f2-479e-aa4a-9aeb2b8ebb88\",\"type\":\"DataRange1d\"},{\"attributes\":{\"callback\":null},\"id\":\"a006e90f-e652-4cd4-8227-c9d124b7417a\",\"type\":\"DataRange1d\"},{\"attributes\":{},\"id\":\"3177d1e1-9d37-490d-9c3a-bb7f3eada943\",\"type\":\"LinearScale\"},{\"attributes\":{\"callback\":null,\"column_names\":[\"x\",\"y\"],\"data\":{\"x\":[0.5,0.5,0.5,1.5,1.5,1.5,2.5,2.5,2.5],\"y\":[0.5,1.5,2.5,0.5,1.5,2.5,0.5,1.5,2.5]}},\"id\":\"95c9fb32-4b23-460e-8743-4cc83e77ab8a\",\"type\":\"ColumnDataSource\"},{\"attributes\":{\"background_fill_alpha\":{\"value\":0},\"below\":[{\"id\":\"b5d9238f-f4f7-4f5a-9136-97b1f3007c8b\",\"type\":\"LinearAxis\"}],\"border_fill_alpha\":{\"value\":0},\"left\":[{\"id\":\"4b8b2caf-acce-4d04-b7ae-1b81085618e2\",\"type\":\"LinearAxis\"}],\"outline_line_color\":{\"value\":null},\"plot_height\":200,\"plot_width\":200,\"renderers\":[{\"id\":\"b5d9238f-f4f7-4f5a-9136-97b1f3007c8b\",\"type\":\"LinearAxis\"},{\"id\":\"60fdd085-e173-4be2-903c-95647ce83bbe\",\"type\":\"Grid\"},{\"id\":\"4b8b2caf-acce-4d04-b7ae-1b81085618e2\",\"type\":\"LinearAxis\"},{\"id\":\"46b93ccd-43dc-470d-a4ae-a020845c2a87\",\"type\":\"Grid\"},{\"id\":\"4c5177ba-9932-4918-bcf1-bc0776c40f49\",\"type\":\"BoxAnnotation\"},{\"id\":\"2455bea5-a970-4850-9d56-70aa449b541f\",\"type\":\"GlyphRenderer\"},{\"id\":\"d6871847-6109-4d14-8f12-b3188d5188a8\",\"type\":\"GlyphRenderer\"}],\"title\":null,\"toolbar\":{\"id\":\"93aa14cb-0ea4-437d-989a-e478a4f1c111\",\"type\":\"Toolbar\"},\"toolbar_location\":null,\"x_range\":{\"id\":\"46c991a3-00f2-479e-aa4a-9aeb2b8ebb88\",\"type\":\"DataRange1d\"},\"x_scale\":{\"id\":\"8571d3ea-e4d7-45c1-b67d-a840076bd7c9\",\"type\":\"LinearScale\"},\"y_range\":{\"id\":\"a006e90f-e652-4cd4-8227-c9d124b7417a\",\"type\":\"DataRange1d\"},\"y_scale\":{\"id\":\"3177d1e1-9d37-490d-9c3a-bb7f3eada943\",\"type\":\"LinearScale\"}},\"id\":\"ffef7fe2-5cfd-4181-9f26-45f389242ced\",\"subtype\":\"Figure\",\"type\":\"Plot\"},{\"attributes\":{\"children\":[{\"id\":\"ffef7fe2-5cfd-4181-9f26-45f389242ced\",\"subtype\":\"Figure\",\"type\":\"Plot\"},{\"id\":\"39436db8-d373-42f9-a081-100e09538da4\",\"subtype\":\"Figure\",\"type\":\"Plot\"},{\"id\":\"fc95bbf9-9fa6-43ab-a4e5-b47ff1dc2608\",\"subtype\":\"Figure\",\"type\":\"Plot\"}]},\"id\":\"7d659293-33bd-4f9b-8281-8245cfd27819\",\"type\":\"Row\"}],\"root_ids\":[\"a567da69-244c-48b2-8cf3-70a0d9fa7cfd\"]},\"title\":\"Bokeh Application\",\"version\":\"0.12.13\"}};\n",
       "  var render_items = [{\"docid\":\"8201645c-7fde-4c04-be15-c7f9b6e1b36e\",\"elementid\":\"4ef8445d-cdbd-4c15-a272-114807be66b6\",\"modelid\":\"a567da69-244c-48b2-8cf3-70a0d9fa7cfd\"}];\n",
       "  root.Bokeh.embed.embed_items_notebook(docs_json, render_items);\n",
       "\n",
       "  }\n",
       "  if (root.Bokeh !== undefined) {\n",
       "    embed_document(root);\n",
       "  } else {\n",
       "    var attempts = 0;\n",
       "    var timer = setInterval(function(root) {\n",
       "      if (root.Bokeh !== undefined) {\n",
       "        embed_document(root);\n",
       "        clearInterval(timer);\n",
       "      }\n",
       "      attempts++;\n",
       "      if (attempts > 100) {\n",
       "        console.log(\"Bokeh: ERROR: Unable to run BokehJS code because BokehJS library is missing\")\n",
       "        clearInterval(timer);\n",
       "      }\n",
       "    }, 10, root)\n",
       "  }\n",
       "})(window);"
      ],
      "application/vnd.bokehjs_exec.v0+json": ""
     },
     "metadata": {
      "application/vnd.bokehjs_exec.v0+json": {
       "id": "a567da69-244c-48b2-8cf3-70a0d9fa7cfd"
      }
     },
     "output_type": "display_data"
    }
   ],
   "source": [
    "# Source: Learning from Data (Abu-Mostafa, et al 2012)\n",
    "show(gridplot([[p1,p2,p3]], toolbar_location=None))"
   ]
  },
  {
   "cell_type": "markdown",
   "metadata": {
    "slideshow": {
     "slide_type": "subslide"
    }
   },
   "source": [
    "## Inductive Bias \n",
    "\n",
    "The set of assumptions we make to have learning possible is called the **inductive bias** of the learning algorithm. \n",
    "    \n",
    "One way we introduce inductive bias is when we assume a hypothesis class. (IE Rectangles)\n",
    "\n",
    "This is called **model selection**, which is choosing between possible H."
   ]
  },
  {
   "cell_type": "markdown",
   "metadata": {
    "slideshow": {
     "slide_type": "subslide"
    }
   },
   "source": [
    "# Generalization\n",
    "\n",
    "How well a model trained on the training set predicts the correct output for new instances is called **generalization.** The goal of machine learning is to generalize well on new, unseen examples.\n",
    "\n",
    "**Triple tradeoff**: \n",
    "* the complexity of the hypothesis we fit to data\n",
    "* the amount of training data\n",
    "* the generalization error on new examples."
   ]
  },
  {
   "cell_type": "markdown",
   "metadata": {
    "slideshow": {
     "slide_type": "slide"
    }
   },
   "source": [
    "# Dimensions of a Supervised Machine Learning Algorithm\n",
    "\n",
    "* Model \n",
    "\n",
    "\\\\[g(x|\\theta)\\\\]\n",
    "\n",
    "* Loss\n",
    "\n",
    "\\\\[E(\\theta |\\mathcal{X}) = \\sum\\limits_t {L({r^t},g({x^t}|\\theta ))} \\\\]\n",
    "\n",
    "* Optimization\n",
    "\n",
    "\\\\[\\theta^* = \\arg \\mathop {\\min }\\limits_\\theta  E(\\theta |\\mathcal{X})\\\\]"
   ]
  }
 ],
 "metadata": {
  "celltoolbar": "Slideshow",
  "kernelspec": {
   "display_name": "Python 3",
   "language": "python",
   "name": "python3"
  },
  "language_info": {
   "codemirror_mode": {
    "name": "ipython",
    "version": 3
   },
   "file_extension": ".py",
   "mimetype": "text/x-python",
   "name": "python",
   "nbconvert_exporter": "python",
   "pygments_lexer": "ipython3",
   "version": "3.6.4"
  }
 },
 "nbformat": 4,
 "nbformat_minor": 2
}
